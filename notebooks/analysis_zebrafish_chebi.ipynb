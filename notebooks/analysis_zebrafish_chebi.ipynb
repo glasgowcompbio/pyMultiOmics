{
 "cells": [
  {
   "cell_type": "code",
   "execution_count": 1,
   "metadata": {},
   "outputs": [],
   "source": [
    "%load_ext autoreload\n",
    "%autoreload 2\n",
    "\n",
    "%matplotlib inline"
   ]
  },
  {
   "cell_type": "code",
   "execution_count": 2,
   "metadata": {},
   "outputs": [],
   "source": [
    "import os, sys"
   ]
  },
  {
   "cell_type": "code",
   "execution_count": 3,
   "metadata": {},
   "outputs": [],
   "source": [
    "import pandas as pd\n",
    "from loguru import logger"
   ]
  },
  {
   "cell_type": "code",
   "execution_count": 4,
   "metadata": {},
   "outputs": [
    {
     "name": "stderr",
     "output_type": "stream",
     "text": [
      "2021-08-16 14:52:58.821 | WARNING  | pyMultiOmics.reactome:get_neo4j_driver:14 - Using a default neo4j server: bolt://localhost:7687\n",
      "2021-08-16 14:52:58.824 | WARNING  | pyMultiOmics.reactome:get_neo4j_driver:19 - Using a default neo4j username or password: neo4j\n",
      "2021-08-16 14:53:00.941 | INFO     | pyMultiOmics.reactome:get_neo4j_driver:24 - Created graph database driver for bolt://localhost:7687 (neo4j)\n"
     ]
    }
   ],
   "source": [
    "sys.path.append('..')\n",
    "\n",
    "from pyMultiOmics.constants import *\n",
    "from pyMultiOmics.mapping import Mapper\n",
    "from pyMultiOmics.common import set_log_level_info\n",
    "from pyMultiOmics.analysis import *\n",
    "from pyMultiOmics.query import *\n",
    "from pyMultiOmics.pipelines import *"
   ]
  },
  {
   "cell_type": "markdown",
   "metadata": {},
   "source": [
    "# Demonstration of pyMultiOmics"
   ]
  },
  {
   "cell_type": "markdown",
   "metadata": {},
   "source": [
    "## Load the processed Zebrafish data from [1]\n",
    "\n",
    "[1] [Rabinowitz, Jeremy S., et al. \"Transcriptomic, proteomic, and metabolomic landscape of positional memory in the caudal fin of zebrafish.\" Proceedings of the National Academy of Sciences 114.5 (2017): E717-E726.](https://www.pnas.org/content/114/5/E717.short)"
   ]
  },
  {
   "cell_type": "code",
   "execution_count": 5,
   "metadata": {},
   "outputs": [
    {
     "data": {
      "text/plain": [
       "'C:\\\\Users\\\\joewa\\\\Work\\\\git\\\\pyMultiOmics\\\\notebooks\\\\test_data\\\\zebrafish_data'"
      ]
     },
     "execution_count": 5,
     "metadata": {},
     "output_type": "execute_result"
    }
   ],
   "source": [
    "DATA_FOLDER = os.path.abspath(os.path.join('test_data', 'zebrafish_data'))\n",
    "DATA_FOLDER"
   ]
  },
  {
   "cell_type": "markdown",
   "metadata": {},
   "source": [
    "Read transcriptomics data (identified by their gene ids)"
   ]
  },
  {
   "cell_type": "code",
   "execution_count": 6,
   "metadata": {},
   "outputs": [],
   "source": [
    "gene_data = pd.read_csv(os.path.join(DATA_FOLDER, 'gene_data_combined.csv'), index_col='Identifier')\n",
    "gene_design = pd.read_csv(os.path.join(DATA_FOLDER, 'gene_design.csv'), index_col='sample')"
   ]
  },
  {
   "cell_type": "markdown",
   "metadata": {},
   "source": [
    "Read proteomics data"
   ]
  },
  {
   "cell_type": "code",
   "execution_count": 7,
   "metadata": {},
   "outputs": [],
   "source": [
    "protein_data = pd.read_csv(os.path.join(DATA_FOLDER, 'protein_data.csv'), index_col='Uniprot')\n",
    "protein_design = pd.read_csv(os.path.join(DATA_FOLDER, 'protein_design.csv'), index_col='sample')"
   ]
  },
  {
   "cell_type": "markdown",
   "metadata": {},
   "source": [
    "Read metabolomics data"
   ]
  },
  {
   "cell_type": "code",
   "execution_count": 8,
   "metadata": {},
   "outputs": [],
   "source": [
    "compound_data = pd.read_csv(os.path.join(DATA_FOLDER, 'compound_data_chebi.csv'), index_col='Identifier')\n",
    "compound_design = pd.read_csv(os.path.join(DATA_FOLDER, 'compound_design.csv'), index_col='sample')"
   ]
  },
  {
   "cell_type": "code",
   "execution_count": 9,
   "metadata": {},
   "outputs": [
    {
     "data": {
      "text/plain": [
       "1"
      ]
     },
     "execution_count": 9,
     "metadata": {},
     "output_type": "execute_result"
    }
   ],
   "source": [
    "set_log_level_info()"
   ]
  },
  {
   "cell_type": "markdown",
   "metadata": {},
   "source": [
    "## Create a mapping object"
   ]
  },
  {
   "cell_type": "markdown",
   "metadata": {},
   "source": [
    "The mapping object uses Reactome to map the different biological entities in the data:\n",
    "- Transcripts (or genes) are connected to the proteins they encode\n",
    "- Proteins and compounds are connected to reactions they're involved in\n",
    "- Reactions are connected to pathways"
   ]
  },
  {
   "cell_type": "code",
   "execution_count": 10,
   "metadata": {},
   "outputs": [
    {
     "name": "stderr",
     "output_type": "stream",
     "text": [
      "2021-08-16 14:53:02.711 | INFO     | pyMultiOmics.functions:remove_dupes:385 - Removing 0 rows with duplicate identifiers\n",
      "2021-08-16 14:53:02.712 | INFO     | pyMultiOmics.functions:reactome_mapping:78 - There are 124 observed compound ids\n",
      "2021-08-16 14:53:02.712 | INFO     | pyMultiOmics.functions:reactome_mapping:81 - Mapping genes -> proteins\n",
      "2021-08-16 14:53:03.436 | INFO     | pyMultiOmics.functions:reactome_mapping:86 - Mapping proteins -> reactions\n",
      "2021-08-16 14:53:05.116 | INFO     | pyMultiOmics.functions:reactome_mapping:94 - Mapping compounds -> reactions\n",
      "2021-08-16 14:53:05.976 | INFO     | pyMultiOmics.functions:reactome_mapping:100 - Mapping reactions -> pathways\n",
      "2021-08-16 14:53:06.284 | INFO     | pyMultiOmics.functions:reactome_mapping:111 - Mapping reactions -> proteins\n",
      "2021-08-16 14:53:08.687 | INFO     | pyMultiOmics.functions:reactome_mapping:118 - Mapping reactions -> compounds\n",
      "2021-08-16 14:53:09.931 | INFO     | pyMultiOmics.functions:reactome_mapping:130 - Mapping proteins -> genes\n",
      "2021-08-16 14:53:25.866 | INFO     | pyMultiOmics.mapping:_add_nodes:183 - Processing nodes: genes\n",
      "2021-08-16 14:53:28.473 | INFO     | pyMultiOmics.mapping:_add_nodes:183 - Processing nodes: proteins\n",
      "2021-08-16 14:53:29.323 | INFO     | pyMultiOmics.mapping:_add_nodes:183 - Processing nodes: compounds\n",
      "2021-08-16 14:53:29.486 | INFO     | pyMultiOmics.mapping:_add_nodes:183 - Processing nodes: reactions\n",
      "2021-08-16 14:53:30.006 | INFO     | pyMultiOmics.mapping:_add_nodes:183 - Processing nodes: pathways\n",
      "2021-08-16 14:53:30.025 | INFO     | pyMultiOmics.mapping:_add_edges:231 - Processing edges: gene_proteins\n",
      "2021-08-16 14:53:30.581 | INFO     | pyMultiOmics.mapping:_add_edges:231 - Processing edges: protein_reactions\n",
      "2021-08-16 14:53:34.671 | INFO     | pyMultiOmics.mapping:_add_edges:231 - Processing edges: compound_reactions\n",
      "2021-08-16 14:53:35.809 | INFO     | pyMultiOmics.mapping:_add_edges:231 - Processing edges: reaction_pathways\n",
      "2021-08-16 14:53:36.379 | INFO     | pyMultiOmics.mapping:build:83 - Created a multi-omics network with 20276 nodes and 21452 edges\n",
      "2021-08-16 14:53:36.479 | INFO     | pyMultiOmics.mapping:build:84 - node_counts = {'genes': 8691, 'proteins': 8011, 'compounds': 1722, 'reactions': 1604, 'pathways': 248}\n"
     ]
    }
   ],
   "source": [
    "m = Mapper(DANIO_RERIO, metabolic_pathway_only=True) \\\n",
    "        .set_gene(gene_data, gene_design) \\\n",
    "        .set_protein(protein_data, protein_design) \\\n",
    "        .set_compound(compound_data, compound_design) \\\n",
    "        .build()"
   ]
  },
  {
   "cell_type": "markdown",
   "metadata": {},
   "source": [
    "## DE analysis"
   ]
  },
  {
   "cell_type": "code",
   "execution_count": 11,
   "metadata": {},
   "outputs": [],
   "source": [
    "ap = AnalysisPipeline(m)"
   ]
  },
  {
   "cell_type": "code",
   "execution_count": 12,
   "metadata": {},
   "outputs": [
    {
     "name": "stderr",
     "output_type": "stream",
     "text": [
      "2021-08-16 14:53:36.765 | INFO     | pyMultiOmics.pipelines:run_ttest:71 - t-test case is Distal, control is Proximal\n",
      "2021-08-16 14:53:50.901 | INFO     | pyMultiOmics.pipelines:run_ttest:71 - t-test case is Distal, control is Middle\n",
      "2021-08-16 14:54:06.181 | INFO     | pyMultiOmics.pipelines:run_ttest:71 - t-test case is Proximal, control is Middle\n"
     ]
    }
   ],
   "source": [
    "method = INFERENCE_T_TEST\n",
    "ap.run_de(method, GENES, 'Distal', 'Proximal')\n",
    "ap.run_de(method, GENES, 'Distal', 'Middle')\n",
    "ap.run_de(method, GENES, 'Proximal', 'Middle')"
   ]
  },
  {
   "cell_type": "code",
   "execution_count": 13,
   "metadata": {},
   "outputs": [
    {
     "name": "stderr",
     "output_type": "stream",
     "text": [
      "2021-08-16 14:54:20.977 | INFO     | pyMultiOmics.pipelines:run_ttest:71 - t-test case is Distal, control is Proximal\n",
      "2021-08-16 14:54:22.640 | INFO     | pyMultiOmics.pipelines:run_ttest:71 - t-test case is Distal, control is Middle\n",
      "2021-08-16 14:54:24.258 | INFO     | pyMultiOmics.pipelines:run_ttest:71 - t-test case is Proximal, control is Middle\n",
      "2021-08-16 14:54:25.827 | INFO     | pyMultiOmics.pipelines:run_ttest:71 - t-test case is Distal, control is Proximal\n",
      "2021-08-16 14:54:25.915 | INFO     | pyMultiOmics.pipelines:run_ttest:71 - t-test case is Distal, control is Middle\n",
      "2021-08-16 14:54:25.994 | INFO     | pyMultiOmics.pipelines:run_ttest:71 - t-test case is Proximal, control is Middle\n"
     ]
    }
   ],
   "source": [
    "method = INFERENCE_T_TEST\n",
    "ap.run_de(method, PROTEINS, 'Distal', 'Proximal')\n",
    "ap.run_de(method, PROTEINS, 'Distal', 'Middle')\n",
    "ap.run_de(method, PROTEINS, 'Proximal', 'Middle')\n",
    "\n",
    "ap.run_de(method, COMPOUNDS, 'Distal', 'Proximal')\n",
    "ap.run_de(method, COMPOUNDS, 'Distal', 'Middle')\n",
    "ap.run_de(method, COMPOUNDS, 'Proximal', 'Middle')"
   ]
  },
  {
   "cell_type": "markdown",
   "metadata": {},
   "source": [
    "## Query results"
   ]
  },
  {
   "cell_type": "markdown",
   "metadata": {},
   "source": [
    "Retrieve a single node"
   ]
  },
  {
   "cell_type": "code",
   "execution_count": 14,
   "metadata": {},
   "outputs": [
    {
     "data": {
      "text/html": [
       "<div>\n",
       "<style scoped>\n",
       "    .dataframe tbody tr th:only-of-type {\n",
       "        vertical-align: middle;\n",
       "    }\n",
       "\n",
       "    .dataframe tbody tr th {\n",
       "        vertical-align: top;\n",
       "    }\n",
       "\n",
       "    .dataframe thead th {\n",
       "        text-align: right;\n",
       "    }\n",
       "</style>\n",
       "<table border=\"1\" class=\"dataframe\">\n",
       "  <thead>\n",
       "    <tr style=\"text-align: right;\">\n",
       "      <th></th>\n",
       "      <th>display_name</th>\n",
       "      <th>data_type</th>\n",
       "      <th>observed</th>\n",
       "    </tr>\n",
       "    <tr>\n",
       "      <th>entity_id</th>\n",
       "      <th></th>\n",
       "      <th></th>\n",
       "      <th></th>\n",
       "    </tr>\n",
       "  </thead>\n",
       "  <tbody>\n",
       "    <tr>\n",
       "      <th>15366</th>\n",
       "      <td>Acetic acid</td>\n",
       "      <td>compounds</td>\n",
       "      <td>False</td>\n",
       "    </tr>\n",
       "  </tbody>\n",
       "</table>\n",
       "</div>"
      ],
      "text/plain": [
       "          display_name  data_type  observed\n",
       "entity_id                                  \n",
       "15366      Acetic acid  compounds     False"
      ]
     },
     "execution_count": 14,
     "metadata": {},
     "output_type": "execute_result"
    }
   ],
   "source": [
    "node_id = '15366'\n",
    "res = QueryBuilder(ap) \\\n",
    "        .add(Entity(node_id)) \\\n",
    "        .run()\n",
    "res"
   ]
  },
  {
   "cell_type": "markdown",
   "metadata": {},
   "source": [
    "Retrieve multiple nodes"
   ]
  },
  {
   "cell_type": "code",
   "execution_count": 15,
   "metadata": {},
   "outputs": [
    {
     "data": {
      "text/html": [
       "<div>\n",
       "<style scoped>\n",
       "    .dataframe tbody tr th:only-of-type {\n",
       "        vertical-align: middle;\n",
       "    }\n",
       "\n",
       "    .dataframe tbody tr th {\n",
       "        vertical-align: top;\n",
       "    }\n",
       "\n",
       "    .dataframe thead th {\n",
       "        text-align: right;\n",
       "    }\n",
       "</style>\n",
       "<table border=\"1\" class=\"dataframe\">\n",
       "  <thead>\n",
       "    <tr style=\"text-align: right;\">\n",
       "      <th></th>\n",
       "      <th>display_name</th>\n",
       "      <th>data_type</th>\n",
       "      <th>observed</th>\n",
       "    </tr>\n",
       "    <tr>\n",
       "      <th>entity_id</th>\n",
       "      <th></th>\n",
       "      <th></th>\n",
       "      <th></th>\n",
       "    </tr>\n",
       "  </thead>\n",
       "  <tbody>\n",
       "    <tr>\n",
       "      <th>15366</th>\n",
       "      <td>Acetic acid</td>\n",
       "      <td>compounds</td>\n",
       "      <td>False</td>\n",
       "    </tr>\n",
       "    <tr>\n",
       "      <th>ENSDARG00000037781</th>\n",
       "      <td>Acss2</td>\n",
       "      <td>genes</td>\n",
       "      <td>True</td>\n",
       "    </tr>\n",
       "    <tr>\n",
       "      <th>F1QAA7</th>\n",
       "      <td>F1QAA7</td>\n",
       "      <td>proteins</td>\n",
       "      <td>True</td>\n",
       "    </tr>\n",
       "  </tbody>\n",
       "</table>\n",
       "</div>"
      ],
      "text/plain": [
       "                   display_name  data_type  observed\n",
       "entity_id                                           \n",
       "15366               Acetic acid  compounds     False\n",
       "ENSDARG00000037781        Acss2      genes      True\n",
       "F1QAA7                   F1QAA7   proteins      True"
      ]
     },
     "execution_count": 15,
     "metadata": {},
     "output_type": "execute_result"
    }
   ],
   "source": [
    "node_id = ['15366', 'ENSDARG00000037781', 'F1QAA7']\n",
    "res = QueryBuilder(ap) \\\n",
    "        .add(Entity(node_id)) \\\n",
    "        .run()\n",
    "res"
   ]
  },
  {
   "cell_type": "markdown",
   "metadata": {},
   "source": [
    "Retrieve nodes connected to a single node"
   ]
  },
  {
   "cell_type": "code",
   "execution_count": 16,
   "metadata": {},
   "outputs": [
    {
     "data": {
      "text/html": [
       "<div>\n",
       "<style scoped>\n",
       "    .dataframe tbody tr th:only-of-type {\n",
       "        vertical-align: middle;\n",
       "    }\n",
       "\n",
       "    .dataframe tbody tr th {\n",
       "        vertical-align: top;\n",
       "    }\n",
       "\n",
       "    .dataframe thead th {\n",
       "        text-align: right;\n",
       "    }\n",
       "</style>\n",
       "<table border=\"1\" class=\"dataframe\">\n",
       "  <thead>\n",
       "    <tr style=\"text-align: right;\">\n",
       "      <th></th>\n",
       "      <th>display_name</th>\n",
       "      <th>data_type</th>\n",
       "      <th>observed</th>\n",
       "      <th>source_id</th>\n",
       "    </tr>\n",
       "    <tr>\n",
       "      <th>entity_id</th>\n",
       "      <th></th>\n",
       "      <th></th>\n",
       "      <th></th>\n",
       "      <th></th>\n",
       "    </tr>\n",
       "  </thead>\n",
       "  <tbody>\n",
       "    <tr>\n",
       "      <th>ENSDARG00000037781</th>\n",
       "      <td>Acss2</td>\n",
       "      <td>genes</td>\n",
       "      <td>True</td>\n",
       "      <td>F1QAA7</td>\n",
       "    </tr>\n",
       "    <tr>\n",
       "      <th>15351</th>\n",
       "      <td>Acetyl-coa</td>\n",
       "      <td>compounds</td>\n",
       "      <td>False</td>\n",
       "      <td>F1QAA7</td>\n",
       "    </tr>\n",
       "    <tr>\n",
       "      <th>15366</th>\n",
       "      <td>Acetic acid</td>\n",
       "      <td>compounds</td>\n",
       "      <td>False</td>\n",
       "      <td>F1QAA7</td>\n",
       "    </tr>\n",
       "    <tr>\n",
       "      <th>16027</th>\n",
       "      <td>Adenosine 5-monophosphate</td>\n",
       "      <td>compounds</td>\n",
       "      <td>True</td>\n",
       "      <td>F1QAA7</td>\n",
       "    </tr>\n",
       "    <tr>\n",
       "      <th>30616</th>\n",
       "      <td>Atp(4-)</td>\n",
       "      <td>compounds</td>\n",
       "      <td>False</td>\n",
       "      <td>F1QAA7</td>\n",
       "    </tr>\n",
       "    <tr>\n",
       "      <th>29888</th>\n",
       "      <td>Diphosphoric acid</td>\n",
       "      <td>compounds</td>\n",
       "      <td>False</td>\n",
       "      <td>F1QAA7</td>\n",
       "    </tr>\n",
       "    <tr>\n",
       "      <th>15346</th>\n",
       "      <td>Coenzyme a</td>\n",
       "      <td>compounds</td>\n",
       "      <td>False</td>\n",
       "      <td>F1QAA7</td>\n",
       "    </tr>\n",
       "    <tr>\n",
       "      <th>R-DRE-71735</th>\n",
       "      <td>Acetate + coa + atp =&gt; acetyl-coa + amp + pyro...</td>\n",
       "      <td>reactions</td>\n",
       "      <td>None</td>\n",
       "      <td>F1QAA7</td>\n",
       "    </tr>\n",
       "    <tr>\n",
       "      <th>R-DRE-71384</th>\n",
       "      <td>Ethanol oxidation</td>\n",
       "      <td>pathways</td>\n",
       "      <td>None</td>\n",
       "      <td>F1QAA7</td>\n",
       "    </tr>\n",
       "  </tbody>\n",
       "</table>\n",
       "</div>"
      ],
      "text/plain": [
       "                                                         display_name  \\\n",
       "entity_id                                                               \n",
       "ENSDARG00000037781                                              Acss2   \n",
       "15351                                                      Acetyl-coa   \n",
       "15366                                                     Acetic acid   \n",
       "16027                                       Adenosine 5-monophosphate   \n",
       "30616                                                         Atp(4-)   \n",
       "29888                                               Diphosphoric acid   \n",
       "15346                                                      Coenzyme a   \n",
       "R-DRE-71735         Acetate + coa + atp => acetyl-coa + amp + pyro...   \n",
       "R-DRE-71384                                         Ethanol oxidation   \n",
       "\n",
       "                    data_type observed source_id  \n",
       "entity_id                                         \n",
       "ENSDARG00000037781      genes     True    F1QAA7  \n",
       "15351               compounds    False    F1QAA7  \n",
       "15366               compounds    False    F1QAA7  \n",
       "16027               compounds     True    F1QAA7  \n",
       "30616               compounds    False    F1QAA7  \n",
       "29888               compounds    False    F1QAA7  \n",
       "15346               compounds    False    F1QAA7  \n",
       "R-DRE-71735         reactions     None    F1QAA7  \n",
       "R-DRE-71384          pathways     None    F1QAA7  "
      ]
     },
     "execution_count": 16,
     "metadata": {},
     "output_type": "execute_result"
    }
   ],
   "source": [
    "query_id = 'F1QAA7'\n",
    "res = QueryBuilder(ap) \\\n",
    "        .add(Entity(query_id)) \\\n",
    "        .add(Connected()) \\\n",
    "        .run()\n",
    "res"
   ]
  },
  {
   "cell_type": "markdown",
   "metadata": {},
   "source": [
    "Retrieve top-10 significantly changing genes"
   ]
  },
  {
   "cell_type": "code",
   "execution_count": 17,
   "metadata": {},
   "outputs": [],
   "source": [
    "case = 'Distal'\n",
    "control = 'Proximal'\n",
    "pval = 0.05\n",
    "fc_lte = -2\n",
    "fc_gte = 2\n",
    "N = 20"
   ]
  },
  {
   "cell_type": "code",
   "execution_count": 18,
   "metadata": {},
   "outputs": [
    {
     "data": {
      "text/html": [
       "<div>\n",
       "<style scoped>\n",
       "    .dataframe tbody tr th:only-of-type {\n",
       "        vertical-align: middle;\n",
       "    }\n",
       "\n",
       "    .dataframe tbody tr th {\n",
       "        vertical-align: top;\n",
       "    }\n",
       "\n",
       "    .dataframe thead th {\n",
       "        text-align: right;\n",
       "    }\n",
       "</style>\n",
       "<table border=\"1\" class=\"dataframe\">\n",
       "  <thead>\n",
       "    <tr style=\"text-align: right;\">\n",
       "      <th></th>\n",
       "      <th>display_name</th>\n",
       "      <th>data_type</th>\n",
       "      <th>observed</th>\n",
       "      <th>padj_Distal_vs_Proximal</th>\n",
       "      <th>FC_Distal_vs_Proximal</th>\n",
       "    </tr>\n",
       "  </thead>\n",
       "  <tbody>\n",
       "    <tr>\n",
       "      <th>ENSDARG00000045854</th>\n",
       "      <td>Fgf23</td>\n",
       "      <td>genes</td>\n",
       "      <td>True</td>\n",
       "      <td>3.569550e-10</td>\n",
       "      <td>24.000289</td>\n",
       "    </tr>\n",
       "    <tr>\n",
       "      <th>ENSDARG00000071091</th>\n",
       "      <td>Chrm3a</td>\n",
       "      <td>genes</td>\n",
       "      <td>True</td>\n",
       "      <td>3.307603e-11</td>\n",
       "      <td>22.486196</td>\n",
       "    </tr>\n",
       "    <tr>\n",
       "      <th>ENSDARG00000059090</th>\n",
       "      <td>Sstr2a</td>\n",
       "      <td>genes</td>\n",
       "      <td>True</td>\n",
       "      <td>2.760891e-09</td>\n",
       "      <td>21.559724</td>\n",
       "    </tr>\n",
       "    <tr>\n",
       "      <th>ENSDARG00000104259</th>\n",
       "      <td>Cabz01072885.1</td>\n",
       "      <td>genes</td>\n",
       "      <td>True</td>\n",
       "      <td>2.782933e-10</td>\n",
       "      <td>20.545646</td>\n",
       "    </tr>\n",
       "    <tr>\n",
       "      <th>ENSDARG00000005522</th>\n",
       "      <td>Galr1a</td>\n",
       "      <td>genes</td>\n",
       "      <td>True</td>\n",
       "      <td>2.091894e-09</td>\n",
       "      <td>20.531569</td>\n",
       "    </tr>\n",
       "    <tr>\n",
       "      <th>ENSDARG00000062758</th>\n",
       "      <td>Cr352265.1</td>\n",
       "      <td>genes</td>\n",
       "      <td>True</td>\n",
       "      <td>5.800455e-10</td>\n",
       "      <td>20.055404</td>\n",
       "    </tr>\n",
       "    <tr>\n",
       "      <th>ENSDARG00000093491</th>\n",
       "      <td>Si:dkey-78l4.8</td>\n",
       "      <td>genes</td>\n",
       "      <td>True</td>\n",
       "      <td>5.800455e-10</td>\n",
       "      <td>20.055404</td>\n",
       "    </tr>\n",
       "    <tr>\n",
       "      <th>ENSDARG00000076345</th>\n",
       "      <td>Taar19p</td>\n",
       "      <td>genes</td>\n",
       "      <td>True</td>\n",
       "      <td>6.804488e-11</td>\n",
       "      <td>20.002797</td>\n",
       "    </tr>\n",
       "    <tr>\n",
       "      <th>ENSDARG00000008541</th>\n",
       "      <td>Chia.4</td>\n",
       "      <td>genes</td>\n",
       "      <td>True</td>\n",
       "      <td>3.736906e-10</td>\n",
       "      <td>19.689389</td>\n",
       "    </tr>\n",
       "    <tr>\n",
       "      <th>ENSDARG00000037946</th>\n",
       "      <td>Prl</td>\n",
       "      <td>genes</td>\n",
       "      <td>True</td>\n",
       "      <td>3.736906e-10</td>\n",
       "      <td>19.689389</td>\n",
       "    </tr>\n",
       "    <tr>\n",
       "      <th>ENSDARG00000100032</th>\n",
       "      <td>Gabrb2 (1 of many)</td>\n",
       "      <td>genes</td>\n",
       "      <td>True</td>\n",
       "      <td>9.452340e-12</td>\n",
       "      <td>-22.157425</td>\n",
       "    </tr>\n",
       "    <tr>\n",
       "      <th>ENSDARG00000067859</th>\n",
       "      <td>Scospondin</td>\n",
       "      <td>genes</td>\n",
       "      <td>True</td>\n",
       "      <td>1.625297e-10</td>\n",
       "      <td>-22.444017</td>\n",
       "    </tr>\n",
       "    <tr>\n",
       "      <th>ENSDARG00000008306</th>\n",
       "      <td>Rdh5</td>\n",
       "      <td>genes</td>\n",
       "      <td>True</td>\n",
       "      <td>7.680307e-11</td>\n",
       "      <td>-22.449311</td>\n",
       "    </tr>\n",
       "    <tr>\n",
       "      <th>ENSDARG00000100258</th>\n",
       "      <td>Si:dkeyp-104b3.2</td>\n",
       "      <td>genes</td>\n",
       "      <td>True</td>\n",
       "      <td>2.760891e-09</td>\n",
       "      <td>-22.482546</td>\n",
       "    </tr>\n",
       "    <tr>\n",
       "      <th>ENSDARG00000093089</th>\n",
       "      <td>Tac3a</td>\n",
       "      <td>genes</td>\n",
       "      <td>True</td>\n",
       "      <td>3.569550e-10</td>\n",
       "      <td>-22.875241</td>\n",
       "    </tr>\n",
       "    <tr>\n",
       "      <th>ENSDARG00000038894</th>\n",
       "      <td>Tmx3a</td>\n",
       "      <td>genes</td>\n",
       "      <td>True</td>\n",
       "      <td>4.745826e-10</td>\n",
       "      <td>-23.095898</td>\n",
       "    </tr>\n",
       "    <tr>\n",
       "      <th>ENSDARG00000039067</th>\n",
       "      <td>Srd5a2b</td>\n",
       "      <td>genes</td>\n",
       "      <td>True</td>\n",
       "      <td>6.493330e-11</td>\n",
       "      <td>-23.483296</td>\n",
       "    </tr>\n",
       "    <tr>\n",
       "      <th>ENSDARG00000076270</th>\n",
       "      <td>Adamts13</td>\n",
       "      <td>genes</td>\n",
       "      <td>True</td>\n",
       "      <td>6.923704e-11</td>\n",
       "      <td>-23.815791</td>\n",
       "    </tr>\n",
       "    <tr>\n",
       "      <th>ENSDARG00000103514</th>\n",
       "      <td>Ensdarg00000103514</td>\n",
       "      <td>genes</td>\n",
       "      <td>True</td>\n",
       "      <td>7.036903e-10</td>\n",
       "      <td>-23.989517</td>\n",
       "    </tr>\n",
       "    <tr>\n",
       "      <th>ENSDARG00000025783</th>\n",
       "      <td>Si:ch211-125e6.11</td>\n",
       "      <td>genes</td>\n",
       "      <td>True</td>\n",
       "      <td>6.804488e-11</td>\n",
       "      <td>-26.987938</td>\n",
       "    </tr>\n",
       "  </tbody>\n",
       "</table>\n",
       "</div>"
      ],
      "text/plain": [
       "                          display_name data_type  observed  \\\n",
       "ENSDARG00000045854               Fgf23     genes      True   \n",
       "ENSDARG00000071091              Chrm3a     genes      True   \n",
       "ENSDARG00000059090              Sstr2a     genes      True   \n",
       "ENSDARG00000104259      Cabz01072885.1     genes      True   \n",
       "ENSDARG00000005522              Galr1a     genes      True   \n",
       "ENSDARG00000062758          Cr352265.1     genes      True   \n",
       "ENSDARG00000093491      Si:dkey-78l4.8     genes      True   \n",
       "ENSDARG00000076345             Taar19p     genes      True   \n",
       "ENSDARG00000008541              Chia.4     genes      True   \n",
       "ENSDARG00000037946                 Prl     genes      True   \n",
       "ENSDARG00000100032  Gabrb2 (1 of many)     genes      True   \n",
       "ENSDARG00000067859          Scospondin     genes      True   \n",
       "ENSDARG00000008306                Rdh5     genes      True   \n",
       "ENSDARG00000100258    Si:dkeyp-104b3.2     genes      True   \n",
       "ENSDARG00000093089               Tac3a     genes      True   \n",
       "ENSDARG00000038894               Tmx3a     genes      True   \n",
       "ENSDARG00000039067             Srd5a2b     genes      True   \n",
       "ENSDARG00000076270            Adamts13     genes      True   \n",
       "ENSDARG00000103514  Ensdarg00000103514     genes      True   \n",
       "ENSDARG00000025783   Si:ch211-125e6.11     genes      True   \n",
       "\n",
       "                    padj_Distal_vs_Proximal  FC_Distal_vs_Proximal  \n",
       "ENSDARG00000045854             3.569550e-10              24.000289  \n",
       "ENSDARG00000071091             3.307603e-11              22.486196  \n",
       "ENSDARG00000059090             2.760891e-09              21.559724  \n",
       "ENSDARG00000104259             2.782933e-10              20.545646  \n",
       "ENSDARG00000005522             2.091894e-09              20.531569  \n",
       "ENSDARG00000062758             5.800455e-10              20.055404  \n",
       "ENSDARG00000093491             5.800455e-10              20.055404  \n",
       "ENSDARG00000076345             6.804488e-11              20.002797  \n",
       "ENSDARG00000008541             3.736906e-10              19.689389  \n",
       "ENSDARG00000037946             3.736906e-10              19.689389  \n",
       "ENSDARG00000100032             9.452340e-12             -22.157425  \n",
       "ENSDARG00000067859             1.625297e-10             -22.444017  \n",
       "ENSDARG00000008306             7.680307e-11             -22.449311  \n",
       "ENSDARG00000100258             2.760891e-09             -22.482546  \n",
       "ENSDARG00000093089             3.569550e-10             -22.875241  \n",
       "ENSDARG00000038894             4.745826e-10             -23.095898  \n",
       "ENSDARG00000039067             6.493330e-11             -23.483296  \n",
       "ENSDARG00000076270             6.923704e-11             -23.815791  \n",
       "ENSDARG00000103514             7.036903e-10             -23.989517  \n",
       "ENSDARG00000025783             6.804488e-11             -26.987938  "
      ]
     },
     "execution_count": 18,
     "metadata": {},
     "output_type": "execute_result"
    }
   ],
   "source": [
    "res = QueryBuilder(ap) \\\n",
    "        .add(Select(GENES)) \\\n",
    "        .add(SignificantDE(case, control, pval, fc_lte=fc_lte, fc_gte=fc_gte, N=N)) \\\n",
    "        .run()\n",
    "res"
   ]
  },
  {
   "cell_type": "markdown",
   "metadata": {},
   "source": [
    "Find the compounds that are connected to the DE genes above"
   ]
  },
  {
   "cell_type": "code",
   "execution_count": 19,
   "metadata": {},
   "outputs": [
    {
     "data": {
      "text/html": [
       "<div>\n",
       "<style scoped>\n",
       "    .dataframe tbody tr th:only-of-type {\n",
       "        vertical-align: middle;\n",
       "    }\n",
       "\n",
       "    .dataframe tbody tr th {\n",
       "        vertical-align: top;\n",
       "    }\n",
       "\n",
       "    .dataframe thead th {\n",
       "        text-align: right;\n",
       "    }\n",
       "</style>\n",
       "<table border=\"1\" class=\"dataframe\">\n",
       "  <thead>\n",
       "    <tr style=\"text-align: right;\">\n",
       "      <th></th>\n",
       "      <th>display_name</th>\n",
       "      <th>data_type</th>\n",
       "      <th>observed</th>\n",
       "      <th>source_id</th>\n",
       "    </tr>\n",
       "    <tr>\n",
       "      <th>entity_id</th>\n",
       "      <th></th>\n",
       "      <th></th>\n",
       "      <th></th>\n",
       "      <th></th>\n",
       "    </tr>\n",
       "  </thead>\n",
       "  <tbody>\n",
       "    <tr>\n",
       "      <th>16474</th>\n",
       "      <td>Nadph</td>\n",
       "      <td>compounds</td>\n",
       "      <td>False</td>\n",
       "      <td>ENSDARG00000039067</td>\n",
       "    </tr>\n",
       "    <tr>\n",
       "      <th>18009</th>\n",
       "      <td>Nadp(+)</td>\n",
       "      <td>compounds</td>\n",
       "      <td>False</td>\n",
       "      <td>ENSDARG00000039067</td>\n",
       "    </tr>\n",
       "    <tr>\n",
       "      <th>17347</th>\n",
       "      <td>Testosterone</td>\n",
       "      <td>compounds</td>\n",
       "      <td>False</td>\n",
       "      <td>ENSDARG00000039067</td>\n",
       "    </tr>\n",
       "    <tr>\n",
       "      <th>15378</th>\n",
       "      <td>Hydron</td>\n",
       "      <td>compounds</td>\n",
       "      <td>False</td>\n",
       "      <td>ENSDARG00000039067</td>\n",
       "    </tr>\n",
       "    <tr>\n",
       "      <th>16330</th>\n",
       "      <td>17beta-hydroxy-5alpha-androstan-3-one</td>\n",
       "      <td>compounds</td>\n",
       "      <td>False</td>\n",
       "      <td>ENSDARG00000039067</td>\n",
       "    </tr>\n",
       "    <tr>\n",
       "      <th>16990</th>\n",
       "      <td>Bilirubin ixalpha</td>\n",
       "      <td>compounds</td>\n",
       "      <td>False</td>\n",
       "      <td>ENSDARG00000103514</td>\n",
       "    </tr>\n",
       "  </tbody>\n",
       "</table>\n",
       "</div>"
      ],
      "text/plain": [
       "                                    display_name  data_type  observed  \\\n",
       "entity_id                                                               \n",
       "16474                                      Nadph  compounds     False   \n",
       "18009                                    Nadp(+)  compounds     False   \n",
       "17347                               Testosterone  compounds     False   \n",
       "15378                                     Hydron  compounds     False   \n",
       "16330      17beta-hydroxy-5alpha-androstan-3-one  compounds     False   \n",
       "16990                          Bilirubin ixalpha  compounds     False   \n",
       "\n",
       "                    source_id  \n",
       "entity_id                      \n",
       "16474      ENSDARG00000039067  \n",
       "18009      ENSDARG00000039067  \n",
       "17347      ENSDARG00000039067  \n",
       "15378      ENSDARG00000039067  \n",
       "16330      ENSDARG00000039067  \n",
       "16990      ENSDARG00000103514  "
      ]
     },
     "execution_count": 19,
     "metadata": {},
     "output_type": "execute_result"
    }
   ],
   "source": [
    "res = QueryBuilder(ap) \\\n",
    "        .add(Select(GENES)) \\\n",
    "        .add(SignificantDE(case, control, pval, fc_lte=fc_lte, fc_gte=fc_gte, N=N)) \\\n",
    "        .add(Connected(data_type=COMPOUNDS)) \\\n",
    "        .run()\n",
    "res"
   ]
  },
  {
   "cell_type": "markdown",
   "metadata": {},
   "source": [
    "### Retrieve entity info"
   ]
  },
  {
   "cell_type": "code",
   "execution_count": 20,
   "metadata": {},
   "outputs": [
    {
     "data": {
      "text/html": [
       "<div>\n",
       "<style scoped>\n",
       "    .dataframe tbody tr th:only-of-type {\n",
       "        vertical-align: middle;\n",
       "    }\n",
       "\n",
       "    .dataframe tbody tr th {\n",
       "        vertical-align: top;\n",
       "    }\n",
       "\n",
       "    .dataframe thead th {\n",
       "        text-align: right;\n",
       "    }\n",
       "</style>\n",
       "<table border=\"1\" class=\"dataframe\">\n",
       "  <thead>\n",
       "    <tr style=\"text-align: right;\">\n",
       "      <th></th>\n",
       "      <th>display_name</th>\n",
       "      <th>data_type</th>\n",
       "      <th>observed</th>\n",
       "      <th>source_id</th>\n",
       "      <th>infos</th>\n",
       "      <th>images</th>\n",
       "      <th>links</th>\n",
       "    </tr>\n",
       "    <tr>\n",
       "      <th>entity_id</th>\n",
       "      <th></th>\n",
       "      <th></th>\n",
       "      <th></th>\n",
       "      <th></th>\n",
       "      <th></th>\n",
       "      <th></th>\n",
       "      <th></th>\n",
       "    </tr>\n",
       "  </thead>\n",
       "  <tbody>\n",
       "    <tr>\n",
       "      <th>Q1L8M3</th>\n",
       "      <td>Q1L8M3</td>\n",
       "      <td>proteins</td>\n",
       "      <td>False</td>\n",
       "      <td>ENSDARG00000045854</td>\n",
       "      <td>[{'key': 'Name', 'value': 'Q1L8M3'}, {'key': '...</td>\n",
       "      <td>[https://swissmodel.expasy.org/repository/unip...</td>\n",
       "      <td>[{'text': 'Link to UniProt', 'href': 'http://w...</td>\n",
       "    </tr>\n",
       "    <tr>\n",
       "      <th>X1WHZ7</th>\n",
       "      <td>X1WHZ7</td>\n",
       "      <td>proteins</td>\n",
       "      <td>False</td>\n",
       "      <td>ENSDARG00000071091</td>\n",
       "      <td>[{'key': 'Name', 'value': 'Muscarinic acetylch...</td>\n",
       "      <td>[https://swissmodel.expasy.org/repository/unip...</td>\n",
       "      <td>[{'text': 'Link to UniProt', 'href': 'http://w...</td>\n",
       "    </tr>\n",
       "    <tr>\n",
       "      <th>E7FDL0</th>\n",
       "      <td>E7FDL0</td>\n",
       "      <td>proteins</td>\n",
       "      <td>False</td>\n",
       "      <td>ENSDARG00000059090</td>\n",
       "      <td>[{'key': 'Name', 'value': 'Somatostatin recept...</td>\n",
       "      <td>[https://swissmodel.expasy.org/repository/unip...</td>\n",
       "      <td>[{'text': 'Link to UniProt', 'href': 'http://w...</td>\n",
       "    </tr>\n",
       "    <tr>\n",
       "      <th>A0A0G2L3I9</th>\n",
       "      <td>A0A0G2L3I9</td>\n",
       "      <td>proteins</td>\n",
       "      <td>False</td>\n",
       "      <td>ENSDARG00000104259</td>\n",
       "      <td>[{'key': 'Name', 'value': 'A0A0G2L3I9'}, {'key...</td>\n",
       "      <td>[https://swissmodel.expasy.org/repository/unip...</td>\n",
       "      <td>[{'text': 'Link to UniProt', 'href': 'http://w...</td>\n",
       "    </tr>\n",
       "    <tr>\n",
       "      <th>F1QSA8</th>\n",
       "      <td>F1QSA8</td>\n",
       "      <td>proteins</td>\n",
       "      <td>False</td>\n",
       "      <td>ENSDARG00000005522</td>\n",
       "      <td>[{'key': 'Name', 'value': 'F1QSA8'}, {'key': '...</td>\n",
       "      <td>[https://swissmodel.expasy.org/repository/unip...</td>\n",
       "      <td>[{'text': 'Link to UniProt', 'href': 'http://w...</td>\n",
       "    </tr>\n",
       "    <tr>\n",
       "      <th>F1QV82</th>\n",
       "      <td>F1QV82</td>\n",
       "      <td>proteins</td>\n",
       "      <td>False</td>\n",
       "      <td>ENSDARG00000062758</td>\n",
       "      <td>[{'key': 'Name', 'value': 'Peptidase S1 domain...</td>\n",
       "      <td>[https://swissmodel.expasy.org/repository/unip...</td>\n",
       "      <td>[{'text': 'Link to UniProt', 'href': 'http://w...</td>\n",
       "    </tr>\n",
       "    <tr>\n",
       "      <th>F1Q925</th>\n",
       "      <td>F1Q925</td>\n",
       "      <td>proteins</td>\n",
       "      <td>False</td>\n",
       "      <td>ENSDARG00000093491</td>\n",
       "      <td>[{'key': 'Name', 'value': 'F1Q925'}, {'key': '...</td>\n",
       "      <td>[]</td>\n",
       "      <td>[{'text': 'Link to UniProt', 'href': 'http://w...</td>\n",
       "    </tr>\n",
       "    <tr>\n",
       "      <th>F1QJL9</th>\n",
       "      <td>F1QJL9</td>\n",
       "      <td>proteins</td>\n",
       "      <td>False</td>\n",
       "      <td>ENSDARG00000076345</td>\n",
       "      <td>[{'key': 'Name', 'value': 'F1QJL9'}, {'key': '...</td>\n",
       "      <td>[https://swissmodel.expasy.org/repository/unip...</td>\n",
       "      <td>[{'text': 'Link to UniProt', 'href': 'http://w...</td>\n",
       "    </tr>\n",
       "    <tr>\n",
       "      <th>F1RA25</th>\n",
       "      <td>F1RA25</td>\n",
       "      <td>proteins</td>\n",
       "      <td>False</td>\n",
       "      <td>ENSDARG00000008541</td>\n",
       "      <td>[{'key': 'Name', 'value': 'Chitinase'}, {'key'...</td>\n",
       "      <td>[https://swissmodel.expasy.org/repository/unip...</td>\n",
       "      <td>[{'text': 'Link to UniProt', 'href': 'http://w...</td>\n",
       "    </tr>\n",
       "    <tr>\n",
       "      <th>F1R0Y2</th>\n",
       "      <td>F1R0Y2</td>\n",
       "      <td>proteins</td>\n",
       "      <td>False</td>\n",
       "      <td>ENSDARG00000037946</td>\n",
       "      <td>[{'key': 'Name', 'value': 'F1R0Y2'}, {'key': '...</td>\n",
       "      <td>[https://swissmodel.expasy.org/repository/unip...</td>\n",
       "      <td>[{'text': 'Link to UniProt', 'href': 'http://w...</td>\n",
       "    </tr>\n",
       "    <tr>\n",
       "      <th>A0A0G2L8J7</th>\n",
       "      <td>A0A0G2L8J7</td>\n",
       "      <td>proteins</td>\n",
       "      <td>False</td>\n",
       "      <td>ENSDARG00000100032</td>\n",
       "      <td>[{'key': 'Name', 'value': 'A0A0G2L8J7'}, {'key...</td>\n",
       "      <td>[https://swissmodel.expasy.org/repository/unip...</td>\n",
       "      <td>[{'text': 'Link to UniProt', 'href': 'http://w...</td>\n",
       "    </tr>\n",
       "    <tr>\n",
       "      <th>F1QSL8</th>\n",
       "      <td>F1QSL8</td>\n",
       "      <td>proteins</td>\n",
       "      <td>False</td>\n",
       "      <td>ENSDARG00000067859</td>\n",
       "      <td>[{'key': 'Name', 'value': 'SCO-spondin'}, {'ke...</td>\n",
       "      <td>[https://swissmodel.expasy.org/repository/unip...</td>\n",
       "      <td>[{'text': 'Link to UniProt', 'href': 'http://w...</td>\n",
       "    </tr>\n",
       "    <tr>\n",
       "      <th>Q1LXG1</th>\n",
       "      <td>Q1LXG1</td>\n",
       "      <td>proteins</td>\n",
       "      <td>False</td>\n",
       "      <td>ENSDARG00000008306</td>\n",
       "      <td>[{'key': 'Name', 'value': 'Q1LXG1'}, {'key': '...</td>\n",
       "      <td>[]</td>\n",
       "      <td>[{'text': 'Link to UniProt', 'href': 'http://w...</td>\n",
       "    </tr>\n",
       "    <tr>\n",
       "      <th>A0A0R4IZN3</th>\n",
       "      <td>A0A0R4IZN3</td>\n",
       "      <td>proteins</td>\n",
       "      <td>False</td>\n",
       "      <td>ENSDARG00000100258</td>\n",
       "      <td>[{'key': 'Name', 'value': 'A0A0R4IZN3'}, {'key...</td>\n",
       "      <td>[https://swissmodel.expasy.org/repository/unip...</td>\n",
       "      <td>[{'text': 'Link to UniProt', 'href': 'http://w...</td>\n",
       "    </tr>\n",
       "    <tr>\n",
       "      <th>E9QE01</th>\n",
       "      <td>E9QE01</td>\n",
       "      <td>proteins</td>\n",
       "      <td>False</td>\n",
       "      <td>ENSDARG00000093089</td>\n",
       "      <td>[{'key': 'Name', 'value': 'Neurokinin-B'}, {'k...</td>\n",
       "      <td>[]</td>\n",
       "      <td>[{'text': 'Link to UniProt', 'href': 'http://w...</td>\n",
       "    </tr>\n",
       "    <tr>\n",
       "      <th>B8A5U6</th>\n",
       "      <td>B8A5U6</td>\n",
       "      <td>proteins</td>\n",
       "      <td>False</td>\n",
       "      <td>ENSDARG00000038894</td>\n",
       "      <td>[{'key': 'Name', 'value': 'B8A5U6'}, {'key': '...</td>\n",
       "      <td>[]</td>\n",
       "      <td>[{'text': 'Link to UniProt', 'href': 'http://w...</td>\n",
       "    </tr>\n",
       "    <tr>\n",
       "      <th>A0A0R4IUU8</th>\n",
       "      <td>A0A0R4IUU8</td>\n",
       "      <td>proteins</td>\n",
       "      <td>False</td>\n",
       "      <td>ENSDARG00000039067</td>\n",
       "      <td>[{'key': 'Name', 'value': 'A0A0R4IUU8'}, {'key...</td>\n",
       "      <td>[]</td>\n",
       "      <td>[{'text': 'Link to UniProt', 'href': 'http://w...</td>\n",
       "    </tr>\n",
       "    <tr>\n",
       "      <th>16474</th>\n",
       "      <td>Nadph</td>\n",
       "      <td>compounds</td>\n",
       "      <td>False</td>\n",
       "      <td>ENSDARG00000039067</td>\n",
       "      <td>[{'key': 'PiMP Peak ID', 'value': 'None'}, {'k...</td>\n",
       "      <td>[http://www.ebi.ac.uk/chebi/displayImage.do?de...</td>\n",
       "      <td>[{'text': 'Link to ChEBI database', 'href': 'h...</td>\n",
       "    </tr>\n",
       "    <tr>\n",
       "      <th>18009</th>\n",
       "      <td>Nadp(+)</td>\n",
       "      <td>compounds</td>\n",
       "      <td>False</td>\n",
       "      <td>ENSDARG00000039067</td>\n",
       "      <td>[{'key': 'PiMP Peak ID', 'value': 'None'}, {'k...</td>\n",
       "      <td>[http://www.ebi.ac.uk/chebi/displayImage.do?de...</td>\n",
       "      <td>[{'text': 'Link to ChEBI database', 'href': 'h...</td>\n",
       "    </tr>\n",
       "    <tr>\n",
       "      <th>17347</th>\n",
       "      <td>Testosterone</td>\n",
       "      <td>compounds</td>\n",
       "      <td>False</td>\n",
       "      <td>ENSDARG00000039067</td>\n",
       "      <td>[{'key': 'PiMP Peak ID', 'value': 'None'}, {'k...</td>\n",
       "      <td>[http://www.ebi.ac.uk/chebi/displayImage.do?de...</td>\n",
       "      <td>[{'text': 'Link to ChEBI database', 'href': 'h...</td>\n",
       "    </tr>\n",
       "    <tr>\n",
       "      <th>15378</th>\n",
       "      <td>Hydron</td>\n",
       "      <td>compounds</td>\n",
       "      <td>False</td>\n",
       "      <td>ENSDARG00000039067</td>\n",
       "      <td>[{'key': 'PiMP Peak ID', 'value': 'None'}, {'k...</td>\n",
       "      <td>[http://www.ebi.ac.uk/chebi/displayImage.do?de...</td>\n",
       "      <td>[{'text': 'Link to ChEBI database', 'href': 'h...</td>\n",
       "    </tr>\n",
       "    <tr>\n",
       "      <th>16330</th>\n",
       "      <td>17beta-hydroxy-5alpha-androstan-3-one</td>\n",
       "      <td>compounds</td>\n",
       "      <td>False</td>\n",
       "      <td>ENSDARG00000039067</td>\n",
       "      <td>[{'key': 'PiMP Peak ID', 'value': 'None'}, {'k...</td>\n",
       "      <td>[http://www.ebi.ac.uk/chebi/displayImage.do?de...</td>\n",
       "      <td>[{'text': 'Link to ChEBI database', 'href': 'h...</td>\n",
       "    </tr>\n",
       "    <tr>\n",
       "      <th>R-DRE-469659</th>\n",
       "      <td>Testosterone is converted to 5-alpha-dihydroxy...</td>\n",
       "      <td>reactions</td>\n",
       "      <td>None</td>\n",
       "      <td>ENSDARG00000039067</td>\n",
       "      <td>[{'key': 'Summary', 'value': 'The conversion o...</td>\n",
       "      <td>[https://reactome.org/ContentService/exporter/...</td>\n",
       "      <td>[{'text': 'Link to Reactome database', 'href':...</td>\n",
       "    </tr>\n",
       "    <tr>\n",
       "      <th>R-DRE-193048</th>\n",
       "      <td>Androgen biosynthesis</td>\n",
       "      <td>pathways</td>\n",
       "      <td>None</td>\n",
       "      <td>ENSDARG00000039067</td>\n",
       "      <td>[{'key': 'Summary', 'value': 'Androgens are th...</td>\n",
       "      <td>[https://reactome.org/ContentService/exporter/...</td>\n",
       "      <td>[{'text': 'Link to Reactome database', 'href':...</td>\n",
       "    </tr>\n",
       "    <tr>\n",
       "      <th>A0A286Y999</th>\n",
       "      <td>A0A286Y999</td>\n",
       "      <td>proteins</td>\n",
       "      <td>False</td>\n",
       "      <td>ENSDARG00000076270</td>\n",
       "      <td>[{'key': 'Name', 'value': 'A0A286Y999'}, {'key...</td>\n",
       "      <td>[]</td>\n",
       "      <td>[{'text': 'Link to UniProt', 'href': 'http://w...</td>\n",
       "    </tr>\n",
       "    <tr>\n",
       "      <th>A0A0G2KTW5</th>\n",
       "      <td>A0A0G2KTW5</td>\n",
       "      <td>proteins</td>\n",
       "      <td>False</td>\n",
       "      <td>ENSDARG00000103514</td>\n",
       "      <td>[{'key': 'Name', 'value': 'Solute carrier orga...</td>\n",
       "      <td>[]</td>\n",
       "      <td>[{'text': 'Link to UniProt', 'href': 'http://w...</td>\n",
       "    </tr>\n",
       "    <tr>\n",
       "      <th>16990</th>\n",
       "      <td>Bilirubin ixalpha</td>\n",
       "      <td>compounds</td>\n",
       "      <td>False</td>\n",
       "      <td>ENSDARG00000103514</td>\n",
       "      <td>[{'key': 'PiMP Peak ID', 'value': 'None'}, {'k...</td>\n",
       "      <td>[http://www.ebi.ac.uk/chebi/displayImage.do?de...</td>\n",
       "      <td>[{'text': 'Link to ChEBI database', 'href': 'h...</td>\n",
       "    </tr>\n",
       "    <tr>\n",
       "      <th>R-DRE-9661799</th>\n",
       "      <td>Slco1b3 transports bil from extracellular regi...</td>\n",
       "      <td>reactions</td>\n",
       "      <td>None</td>\n",
       "      <td>ENSDARG00000103514</td>\n",
       "      <td>[{'key': 'Summary', 'value': 'Bilirubin (BIL),...</td>\n",
       "      <td>[https://reactome.org/ContentService/exporter/...</td>\n",
       "      <td>[{'text': 'Link to Reactome database', 'href':...</td>\n",
       "    </tr>\n",
       "    <tr>\n",
       "      <th>R-DRE-9661397</th>\n",
       "      <td>Slco1b1 transports bil from extracellular regi...</td>\n",
       "      <td>reactions</td>\n",
       "      <td>None</td>\n",
       "      <td>ENSDARG00000103514</td>\n",
       "      <td>[{'key': 'Summary', 'value': 'Bilirubin (BIL),...</td>\n",
       "      <td>[https://reactome.org/ContentService/exporter/...</td>\n",
       "      <td>[{'text': 'Link to Reactome database', 'href':...</td>\n",
       "    </tr>\n",
       "    <tr>\n",
       "      <th>R-DRE-189483</th>\n",
       "      <td>Heme degradation</td>\n",
       "      <td>pathways</td>\n",
       "      <td>None</td>\n",
       "      <td>ENSDARG00000103514</td>\n",
       "      <td>[{'key': 'Summary', 'value': 'Most of the heme...</td>\n",
       "      <td>[https://reactome.org/ContentService/exporter/...</td>\n",
       "      <td>[{'text': 'Link to Reactome database', 'href':...</td>\n",
       "    </tr>\n",
       "    <tr>\n",
       "      <th>B3DIG2</th>\n",
       "      <td>B3DIG2</td>\n",
       "      <td>proteins</td>\n",
       "      <td>False</td>\n",
       "      <td>ENSDARG00000025783</td>\n",
       "      <td>[{'key': 'Name', 'value': 'B3DIG2'}, {'key': '...</td>\n",
       "      <td>[]</td>\n",
       "      <td>[{'text': 'Link to UniProt', 'href': 'http://w...</td>\n",
       "    </tr>\n",
       "  </tbody>\n",
       "</table>\n",
       "</div>"
      ],
      "text/plain": [
       "                                                    display_name  data_type  \\\n",
       "entity_id                                                                     \n",
       "Q1L8M3                                                    Q1L8M3   proteins   \n",
       "X1WHZ7                                                    X1WHZ7   proteins   \n",
       "E7FDL0                                                    E7FDL0   proteins   \n",
       "A0A0G2L3I9                                            A0A0G2L3I9   proteins   \n",
       "F1QSA8                                                    F1QSA8   proteins   \n",
       "F1QV82                                                    F1QV82   proteins   \n",
       "F1Q925                                                    F1Q925   proteins   \n",
       "F1QJL9                                                    F1QJL9   proteins   \n",
       "F1RA25                                                    F1RA25   proteins   \n",
       "F1R0Y2                                                    F1R0Y2   proteins   \n",
       "A0A0G2L8J7                                            A0A0G2L8J7   proteins   \n",
       "F1QSL8                                                    F1QSL8   proteins   \n",
       "Q1LXG1                                                    Q1LXG1   proteins   \n",
       "A0A0R4IZN3                                            A0A0R4IZN3   proteins   \n",
       "E9QE01                                                    E9QE01   proteins   \n",
       "B8A5U6                                                    B8A5U6   proteins   \n",
       "A0A0R4IUU8                                            A0A0R4IUU8   proteins   \n",
       "16474                                                      Nadph  compounds   \n",
       "18009                                                    Nadp(+)  compounds   \n",
       "17347                                               Testosterone  compounds   \n",
       "15378                                                     Hydron  compounds   \n",
       "16330                      17beta-hydroxy-5alpha-androstan-3-one  compounds   \n",
       "R-DRE-469659   Testosterone is converted to 5-alpha-dihydroxy...  reactions   \n",
       "R-DRE-193048                               Androgen biosynthesis   pathways   \n",
       "A0A286Y999                                            A0A286Y999   proteins   \n",
       "A0A0G2KTW5                                            A0A0G2KTW5   proteins   \n",
       "16990                                          Bilirubin ixalpha  compounds   \n",
       "R-DRE-9661799  Slco1b3 transports bil from extracellular regi...  reactions   \n",
       "R-DRE-9661397  Slco1b1 transports bil from extracellular regi...  reactions   \n",
       "R-DRE-189483                                    Heme degradation   pathways   \n",
       "B3DIG2                                                    B3DIG2   proteins   \n",
       "\n",
       "              observed           source_id  \\\n",
       "entity_id                                    \n",
       "Q1L8M3           False  ENSDARG00000045854   \n",
       "X1WHZ7           False  ENSDARG00000071091   \n",
       "E7FDL0           False  ENSDARG00000059090   \n",
       "A0A0G2L3I9       False  ENSDARG00000104259   \n",
       "F1QSA8           False  ENSDARG00000005522   \n",
       "F1QV82           False  ENSDARG00000062758   \n",
       "F1Q925           False  ENSDARG00000093491   \n",
       "F1QJL9           False  ENSDARG00000076345   \n",
       "F1RA25           False  ENSDARG00000008541   \n",
       "F1R0Y2           False  ENSDARG00000037946   \n",
       "A0A0G2L8J7       False  ENSDARG00000100032   \n",
       "F1QSL8           False  ENSDARG00000067859   \n",
       "Q1LXG1           False  ENSDARG00000008306   \n",
       "A0A0R4IZN3       False  ENSDARG00000100258   \n",
       "E9QE01           False  ENSDARG00000093089   \n",
       "B8A5U6           False  ENSDARG00000038894   \n",
       "A0A0R4IUU8       False  ENSDARG00000039067   \n",
       "16474            False  ENSDARG00000039067   \n",
       "18009            False  ENSDARG00000039067   \n",
       "17347            False  ENSDARG00000039067   \n",
       "15378            False  ENSDARG00000039067   \n",
       "16330            False  ENSDARG00000039067   \n",
       "R-DRE-469659      None  ENSDARG00000039067   \n",
       "R-DRE-193048      None  ENSDARG00000039067   \n",
       "A0A286Y999       False  ENSDARG00000076270   \n",
       "A0A0G2KTW5       False  ENSDARG00000103514   \n",
       "16990            False  ENSDARG00000103514   \n",
       "R-DRE-9661799     None  ENSDARG00000103514   \n",
       "R-DRE-9661397     None  ENSDARG00000103514   \n",
       "R-DRE-189483      None  ENSDARG00000103514   \n",
       "B3DIG2           False  ENSDARG00000025783   \n",
       "\n",
       "                                                           infos  \\\n",
       "entity_id                                                          \n",
       "Q1L8M3         [{'key': 'Name', 'value': 'Q1L8M3'}, {'key': '...   \n",
       "X1WHZ7         [{'key': 'Name', 'value': 'Muscarinic acetylch...   \n",
       "E7FDL0         [{'key': 'Name', 'value': 'Somatostatin recept...   \n",
       "A0A0G2L3I9     [{'key': 'Name', 'value': 'A0A0G2L3I9'}, {'key...   \n",
       "F1QSA8         [{'key': 'Name', 'value': 'F1QSA8'}, {'key': '...   \n",
       "F1QV82         [{'key': 'Name', 'value': 'Peptidase S1 domain...   \n",
       "F1Q925         [{'key': 'Name', 'value': 'F1Q925'}, {'key': '...   \n",
       "F1QJL9         [{'key': 'Name', 'value': 'F1QJL9'}, {'key': '...   \n",
       "F1RA25         [{'key': 'Name', 'value': 'Chitinase'}, {'key'...   \n",
       "F1R0Y2         [{'key': 'Name', 'value': 'F1R0Y2'}, {'key': '...   \n",
       "A0A0G2L8J7     [{'key': 'Name', 'value': 'A0A0G2L8J7'}, {'key...   \n",
       "F1QSL8         [{'key': 'Name', 'value': 'SCO-spondin'}, {'ke...   \n",
       "Q1LXG1         [{'key': 'Name', 'value': 'Q1LXG1'}, {'key': '...   \n",
       "A0A0R4IZN3     [{'key': 'Name', 'value': 'A0A0R4IZN3'}, {'key...   \n",
       "E9QE01         [{'key': 'Name', 'value': 'Neurokinin-B'}, {'k...   \n",
       "B8A5U6         [{'key': 'Name', 'value': 'B8A5U6'}, {'key': '...   \n",
       "A0A0R4IUU8     [{'key': 'Name', 'value': 'A0A0R4IUU8'}, {'key...   \n",
       "16474          [{'key': 'PiMP Peak ID', 'value': 'None'}, {'k...   \n",
       "18009          [{'key': 'PiMP Peak ID', 'value': 'None'}, {'k...   \n",
       "17347          [{'key': 'PiMP Peak ID', 'value': 'None'}, {'k...   \n",
       "15378          [{'key': 'PiMP Peak ID', 'value': 'None'}, {'k...   \n",
       "16330          [{'key': 'PiMP Peak ID', 'value': 'None'}, {'k...   \n",
       "R-DRE-469659   [{'key': 'Summary', 'value': 'The conversion o...   \n",
       "R-DRE-193048   [{'key': 'Summary', 'value': 'Androgens are th...   \n",
       "A0A286Y999     [{'key': 'Name', 'value': 'A0A286Y999'}, {'key...   \n",
       "A0A0G2KTW5     [{'key': 'Name', 'value': 'Solute carrier orga...   \n",
       "16990          [{'key': 'PiMP Peak ID', 'value': 'None'}, {'k...   \n",
       "R-DRE-9661799  [{'key': 'Summary', 'value': 'Bilirubin (BIL),...   \n",
       "R-DRE-9661397  [{'key': 'Summary', 'value': 'Bilirubin (BIL),...   \n",
       "R-DRE-189483   [{'key': 'Summary', 'value': 'Most of the heme...   \n",
       "B3DIG2         [{'key': 'Name', 'value': 'B3DIG2'}, {'key': '...   \n",
       "\n",
       "                                                          images  \\\n",
       "entity_id                                                          \n",
       "Q1L8M3         [https://swissmodel.expasy.org/repository/unip...   \n",
       "X1WHZ7         [https://swissmodel.expasy.org/repository/unip...   \n",
       "E7FDL0         [https://swissmodel.expasy.org/repository/unip...   \n",
       "A0A0G2L3I9     [https://swissmodel.expasy.org/repository/unip...   \n",
       "F1QSA8         [https://swissmodel.expasy.org/repository/unip...   \n",
       "F1QV82         [https://swissmodel.expasy.org/repository/unip...   \n",
       "F1Q925                                                        []   \n",
       "F1QJL9         [https://swissmodel.expasy.org/repository/unip...   \n",
       "F1RA25         [https://swissmodel.expasy.org/repository/unip...   \n",
       "F1R0Y2         [https://swissmodel.expasy.org/repository/unip...   \n",
       "A0A0G2L8J7     [https://swissmodel.expasy.org/repository/unip...   \n",
       "F1QSL8         [https://swissmodel.expasy.org/repository/unip...   \n",
       "Q1LXG1                                                        []   \n",
       "A0A0R4IZN3     [https://swissmodel.expasy.org/repository/unip...   \n",
       "E9QE01                                                        []   \n",
       "B8A5U6                                                        []   \n",
       "A0A0R4IUU8                                                    []   \n",
       "16474          [http://www.ebi.ac.uk/chebi/displayImage.do?de...   \n",
       "18009          [http://www.ebi.ac.uk/chebi/displayImage.do?de...   \n",
       "17347          [http://www.ebi.ac.uk/chebi/displayImage.do?de...   \n",
       "15378          [http://www.ebi.ac.uk/chebi/displayImage.do?de...   \n",
       "16330          [http://www.ebi.ac.uk/chebi/displayImage.do?de...   \n",
       "R-DRE-469659   [https://reactome.org/ContentService/exporter/...   \n",
       "R-DRE-193048   [https://reactome.org/ContentService/exporter/...   \n",
       "A0A286Y999                                                    []   \n",
       "A0A0G2KTW5                                                    []   \n",
       "16990          [http://www.ebi.ac.uk/chebi/displayImage.do?de...   \n",
       "R-DRE-9661799  [https://reactome.org/ContentService/exporter/...   \n",
       "R-DRE-9661397  [https://reactome.org/ContentService/exporter/...   \n",
       "R-DRE-189483   [https://reactome.org/ContentService/exporter/...   \n",
       "B3DIG2                                                        []   \n",
       "\n",
       "                                                           links  \n",
       "entity_id                                                         \n",
       "Q1L8M3         [{'text': 'Link to UniProt', 'href': 'http://w...  \n",
       "X1WHZ7         [{'text': 'Link to UniProt', 'href': 'http://w...  \n",
       "E7FDL0         [{'text': 'Link to UniProt', 'href': 'http://w...  \n",
       "A0A0G2L3I9     [{'text': 'Link to UniProt', 'href': 'http://w...  \n",
       "F1QSA8         [{'text': 'Link to UniProt', 'href': 'http://w...  \n",
       "F1QV82         [{'text': 'Link to UniProt', 'href': 'http://w...  \n",
       "F1Q925         [{'text': 'Link to UniProt', 'href': 'http://w...  \n",
       "F1QJL9         [{'text': 'Link to UniProt', 'href': 'http://w...  \n",
       "F1RA25         [{'text': 'Link to UniProt', 'href': 'http://w...  \n",
       "F1R0Y2         [{'text': 'Link to UniProt', 'href': 'http://w...  \n",
       "A0A0G2L8J7     [{'text': 'Link to UniProt', 'href': 'http://w...  \n",
       "F1QSL8         [{'text': 'Link to UniProt', 'href': 'http://w...  \n",
       "Q1LXG1         [{'text': 'Link to UniProt', 'href': 'http://w...  \n",
       "A0A0R4IZN3     [{'text': 'Link to UniProt', 'href': 'http://w...  \n",
       "E9QE01         [{'text': 'Link to UniProt', 'href': 'http://w...  \n",
       "B8A5U6         [{'text': 'Link to UniProt', 'href': 'http://w...  \n",
       "A0A0R4IUU8     [{'text': 'Link to UniProt', 'href': 'http://w...  \n",
       "16474          [{'text': 'Link to ChEBI database', 'href': 'h...  \n",
       "18009          [{'text': 'Link to ChEBI database', 'href': 'h...  \n",
       "17347          [{'text': 'Link to ChEBI database', 'href': 'h...  \n",
       "15378          [{'text': 'Link to ChEBI database', 'href': 'h...  \n",
       "16330          [{'text': 'Link to ChEBI database', 'href': 'h...  \n",
       "R-DRE-469659   [{'text': 'Link to Reactome database', 'href':...  \n",
       "R-DRE-193048   [{'text': 'Link to Reactome database', 'href':...  \n",
       "A0A286Y999     [{'text': 'Link to UniProt', 'href': 'http://w...  \n",
       "A0A0G2KTW5     [{'text': 'Link to UniProt', 'href': 'http://w...  \n",
       "16990          [{'text': 'Link to ChEBI database', 'href': 'h...  \n",
       "R-DRE-9661799  [{'text': 'Link to Reactome database', 'href':...  \n",
       "R-DRE-9661397  [{'text': 'Link to Reactome database', 'href':...  \n",
       "R-DRE-189483   [{'text': 'Link to Reactome database', 'href':...  \n",
       "B3DIG2         [{'text': 'Link to UniProt', 'href': 'http://w...  "
      ]
     },
     "execution_count": 20,
     "metadata": {},
     "output_type": "execute_result"
    }
   ],
   "source": [
    "res = QueryBuilder(ap) \\\n",
    "        .add(Select(GENES)) \\\n",
    "        .add(SignificantDE(case, control, pval, fc_lte=fc_lte, fc_gte=fc_gte, N=N)) \\\n",
    "        .add(Connected()) \\\n",
    "        .add(Info()) \\\n",
    "        .run()\n",
    "res"
   ]
  },
  {
   "cell_type": "code",
   "execution_count": 21,
   "metadata": {},
   "outputs": [],
   "source": [
    "from pyMultiOmics.info import get_info"
   ]
  },
  {
   "cell_type": "code",
   "execution_count": 22,
   "metadata": {},
   "outputs": [
    {
     "name": "stdout",
     "output_type": "stream",
     "text": [
      "ENSDARG00000091254 genes\n",
      "{'infos': [{'key': 'Description', 'value': 'si:ch73-59p9.2 '}, {'key': 'Species', 'value': 'danio_rerio'}], 'links': [{'text': 'Link to Ensembl', 'href': 'https://www.ensembl.org/id/ENSDARG00000091254'}, {'text': 'Link to GeneCard', 'href': 'https://www.genecards.org/cgi-bin/carddisp.pl?gene=si:ch73-59p9.2'}, {'text': 'Transcript: si:ch73-59p9.2-201', 'href': 'https://www.ensembl.org/id/ENSDART00000111526'}], 'images': []}\n",
      "\n",
      "F1QAA7 proteins\n",
      "{'infos': [{'key': 'Name', 'value': 'Propionate--CoA ligase'}, {'key': 'EC Number', 'value': 'EC6.2.1.17'}, {'key': 'Catalytic Activity', 'value': '\\n\\nATP + CoA + propanoate = AMP + diphosphate + propanoyl-CoA\\n\\n\\n\\n\\n\\n\\n\\n\\n\\n\\n\\n\\n'}, {'key': 'Catalytic Activity', 'value': '\\n\\nacetate + ATP + CoA = acetyl-CoA + AMP + diphosphate\\n\\n\\n\\n\\n\\n\\n\\n\\n\\n\\n\\n\\n'}, {'key': 'Gene_ontologies', 'value': 'acetate-CoA ligase activity; propionate-CoA ligase activity'}], 'links': [{'text': 'Link to UniProt', 'href': 'http://www.uniprot.org/uniprot/F1QAA7'}, {'text': 'Link to SWISS-MODEL', 'href': 'https://swissmodel.expasy.org/repository/uniprot/F1QAA7'}], 'images': []}\n",
      "\n",
      "15378 compounds\n",
      "{'infos': [{'key': 'PiMP Peak ID', 'value': 'None'}, {'key': 'KEGG ID', 'value': C00080}, {'key': 'FORMULA', 'value': H}, {'key': 'ChEBI ID', 'value': CHEBI:15378}, {'key': 'Definition', 'value': The general name for the hydrogen nucleus, to be used without regard to the hydrogen nuclear mass (either for hydrogen in its natural abundance or where it is not desired to distinguish between the isotopes).}, {'key': 'Monoisotopic Mass', 'value': 1.008}, {'key': 'SMILES', 'value': [H+]}, {'key': 'Inchi', 'value': InChI=1S/p+1}, {'key': 'InchiKey', 'value': ''}], 'images': ['http://www.ebi.ac.uk/chebi/displayImage.do?defaultImage=true&imageIndex=0&chebiId=15378'], 'links': [{'text': 'Link to ChEBI database', 'href': 'https://www.ebi.ac.uk/chebi/searchId.do?chebiId=CHEBI:15378'}, {'text': 'Link to KEGG COMPOUND database', 'href': 'http://www.genome.jp/dbget-bin/www_bget?cpd:C00080'}]}\n",
      "\n",
      "R-DRE-469659 reactions\n",
      "{'infos': [{'key': 'Summary', 'value': 'The conversion of testosterone to the most potent androgen, 5-alpha-dihydrotestosterone (DHT), is catalyzed by the microsomal 5alpha-steroid reductase enzymes, of which there are three reported types in humans to date (SRD5A1-3) (Andersson S and Russell DW, 1990, Andersson S et al, 1991, Uemura M et al, 2008 respectively). These enzymes are expressed in the prostate and other androgen target sites. Defects in SRD5A2 are the cause of pseudovaginal perineoscrotal hypospadias, also known as male pseudohermaphroditism (Anwar R et al, 1997). Corticotropin (Adrenocorticotropic hormone, ACTH) acts through the ACTH receptor called melanocortin receptor type 2 (MC2R) to stimulate steroidogenesis, increasing the production of androgens (McKenna et al, 1997).'}, {'key': 'Species', 'value': 'Danio rerio'}, {'key': 'Inferred', 'value': 'Inferred from Homo sapiens'}, {'key': 'Catalystactivity', 'value': '3-oxo-5-alpha-steroid 4-dehydrogenase activity of SRD5A1-3 [endoplasmic reticulum membrane]', 'url': ''}, {'key': 'Input', 'value': 'TEST [cytosol];NADPH [cytosol];H+ [cytosol]', 'url': 'https://reactome.org/content/detail/R-ALL-193057;https://reactome.org/content/detail/R-ALL-29364;https://reactome.org/content/detail/R-ALL-70106'}, {'key': 'Output', 'value': 'NADP+ [cytosol];DHTEST [cytosol]', 'url': 'https://reactome.org/content/detail/R-ALL-29366;https://reactome.org/content/detail/R-ALL-469662'}, {'key': 'Regulatedby', 'value': \"Positive regulation by 'POMC(138-176) [cytosol]'\", 'url': ''}], 'images': ['https://reactome.org/ContentService/exporter/diagram/R-DRE-469659.jpg?sel=R-DRE-469659&quality=7'], 'links': [{'text': 'Link to Reactome database', 'href': 'https://reactome.org/content/detail/R-DRE-469659'}]}\n",
      "\n",
      "R-DRE-174403 pathways\n",
      "{'infos': [{'key': 'Summary', 'value': 'The combination of glutamate, cysteine and ATP is required to form glutathione. The steps involved in the synthesis and recycling of glutathione are outlined (Meister, 1988).'}, {'key': 'Species', 'value': 'Danio rerio'}, {'key': 'Inferred', 'value': 'Inferred from Homo sapiens'}, {'key': 'Reactions', 'value': 'CHAC1,2 cleaves GSH to OPRO and CysGly;CNDP2:2Mn2+ dimer hydrolyses CysGly;GCL ligates L-Glu to L-Cys;GGCT transforms gGluCys to OPRO;GGT dimers hydrolyse GSH;GSS:Mg2+ dimer synthesizes GSH;OPLAH hydrolyses OPRO to L-Glu', 'url': 'https://reactome.org/content/detail/R-DRE-1247910;https://reactome.org/content/detail/R-DRE-1247922;https://reactome.org/content/detail/R-DRE-1247935;https://reactome.org/content/detail/R-DRE-174367;https://reactome.org/content/detail/R-DRE-174394;https://reactome.org/content/detail/R-DRE-6785928;https://reactome.org/content/detail/R-DRE-8943279'}], 'images': ['https://reactome.org/ContentService/exporter/diagram/R-DRE-174403.jpg?sel=R-DRE-174403'], 'links': [{'text': 'Link to Reactome database', 'href': 'https://reactome.org/content/detail/R-DRE-174403'}, {'text': 'SBML Export', 'href': 'https://reactome.org/ContentService/exporter/sbml/R-DRE-174403.xml'}]}\n",
      "\n"
     ]
    }
   ],
   "source": [
    "entity_ids = ['ENSDARG00000091254', 'F1QAA7', '15378', 'R-DRE-469659', 'R-DRE-174403']\n",
    "data_types = ['genes', 'proteins', 'compounds', 'reactions', 'pathways']\n",
    "for entity_id, data_type in zip(entity_ids, data_types):\n",
    "    print(entity_id, data_type)\n",
    "    print(get_info(entity_id, data_type))\n",
    "    print()"
   ]
  },
  {
   "cell_type": "markdown",
   "metadata": {},
   "source": [
    "### Plot some heatmap using Plotly"
   ]
  },
  {
   "cell_type": "code",
   "execution_count": 23,
   "metadata": {},
   "outputs": [
    {
     "data": {
      "text/html": [
       "<div>\n",
       "<style scoped>\n",
       "    .dataframe tbody tr th:only-of-type {\n",
       "        vertical-align: middle;\n",
       "    }\n",
       "\n",
       "    .dataframe tbody tr th {\n",
       "        vertical-align: top;\n",
       "    }\n",
       "\n",
       "    .dataframe thead th {\n",
       "        text-align: right;\n",
       "    }\n",
       "</style>\n",
       "<table border=\"1\" class=\"dataframe\">\n",
       "  <thead>\n",
       "    <tr style=\"text-align: right;\">\n",
       "      <th></th>\n",
       "      <th>display_name</th>\n",
       "      <th>data_type</th>\n",
       "      <th>observed</th>\n",
       "      <th>padj_Distal_vs_Proximal</th>\n",
       "      <th>FC_Distal_vs_Proximal</th>\n",
       "    </tr>\n",
       "  </thead>\n",
       "  <tbody>\n",
       "    <tr>\n",
       "      <th>ENSDARG00000045854</th>\n",
       "      <td>Fgf23</td>\n",
       "      <td>genes</td>\n",
       "      <td>True</td>\n",
       "      <td>3.569550e-10</td>\n",
       "      <td>24.000289</td>\n",
       "    </tr>\n",
       "    <tr>\n",
       "      <th>ENSDARG00000071091</th>\n",
       "      <td>Chrm3a</td>\n",
       "      <td>genes</td>\n",
       "      <td>True</td>\n",
       "      <td>3.307603e-11</td>\n",
       "      <td>22.486196</td>\n",
       "    </tr>\n",
       "    <tr>\n",
       "      <th>ENSDARG00000059090</th>\n",
       "      <td>Sstr2a</td>\n",
       "      <td>genes</td>\n",
       "      <td>True</td>\n",
       "      <td>2.760891e-09</td>\n",
       "      <td>21.559724</td>\n",
       "    </tr>\n",
       "    <tr>\n",
       "      <th>ENSDARG00000104259</th>\n",
       "      <td>Cabz01072885.1</td>\n",
       "      <td>genes</td>\n",
       "      <td>True</td>\n",
       "      <td>2.782933e-10</td>\n",
       "      <td>20.545646</td>\n",
       "    </tr>\n",
       "    <tr>\n",
       "      <th>ENSDARG00000005522</th>\n",
       "      <td>Galr1a</td>\n",
       "      <td>genes</td>\n",
       "      <td>True</td>\n",
       "      <td>2.091894e-09</td>\n",
       "      <td>20.531569</td>\n",
       "    </tr>\n",
       "    <tr>\n",
       "      <th>ENSDARG00000062758</th>\n",
       "      <td>Cr352265.1</td>\n",
       "      <td>genes</td>\n",
       "      <td>True</td>\n",
       "      <td>5.800455e-10</td>\n",
       "      <td>20.055404</td>\n",
       "    </tr>\n",
       "    <tr>\n",
       "      <th>ENSDARG00000093491</th>\n",
       "      <td>Si:dkey-78l4.8</td>\n",
       "      <td>genes</td>\n",
       "      <td>True</td>\n",
       "      <td>5.800455e-10</td>\n",
       "      <td>20.055404</td>\n",
       "    </tr>\n",
       "    <tr>\n",
       "      <th>ENSDARG00000076345</th>\n",
       "      <td>Taar19p</td>\n",
       "      <td>genes</td>\n",
       "      <td>True</td>\n",
       "      <td>6.804488e-11</td>\n",
       "      <td>20.002797</td>\n",
       "    </tr>\n",
       "    <tr>\n",
       "      <th>ENSDARG00000008541</th>\n",
       "      <td>Chia.4</td>\n",
       "      <td>genes</td>\n",
       "      <td>True</td>\n",
       "      <td>3.736906e-10</td>\n",
       "      <td>19.689389</td>\n",
       "    </tr>\n",
       "    <tr>\n",
       "      <th>ENSDARG00000037946</th>\n",
       "      <td>Prl</td>\n",
       "      <td>genes</td>\n",
       "      <td>True</td>\n",
       "      <td>3.736906e-10</td>\n",
       "      <td>19.689389</td>\n",
       "    </tr>\n",
       "    <tr>\n",
       "      <th>ENSDARG00000100032</th>\n",
       "      <td>Gabrb2 (1 of many)</td>\n",
       "      <td>genes</td>\n",
       "      <td>True</td>\n",
       "      <td>9.452340e-12</td>\n",
       "      <td>-22.157425</td>\n",
       "    </tr>\n",
       "    <tr>\n",
       "      <th>ENSDARG00000067859</th>\n",
       "      <td>Scospondin</td>\n",
       "      <td>genes</td>\n",
       "      <td>True</td>\n",
       "      <td>1.625297e-10</td>\n",
       "      <td>-22.444017</td>\n",
       "    </tr>\n",
       "    <tr>\n",
       "      <th>ENSDARG00000008306</th>\n",
       "      <td>Rdh5</td>\n",
       "      <td>genes</td>\n",
       "      <td>True</td>\n",
       "      <td>7.680307e-11</td>\n",
       "      <td>-22.449311</td>\n",
       "    </tr>\n",
       "    <tr>\n",
       "      <th>ENSDARG00000100258</th>\n",
       "      <td>Si:dkeyp-104b3.2</td>\n",
       "      <td>genes</td>\n",
       "      <td>True</td>\n",
       "      <td>2.760891e-09</td>\n",
       "      <td>-22.482546</td>\n",
       "    </tr>\n",
       "    <tr>\n",
       "      <th>ENSDARG00000093089</th>\n",
       "      <td>Tac3a</td>\n",
       "      <td>genes</td>\n",
       "      <td>True</td>\n",
       "      <td>3.569550e-10</td>\n",
       "      <td>-22.875241</td>\n",
       "    </tr>\n",
       "    <tr>\n",
       "      <th>ENSDARG00000038894</th>\n",
       "      <td>Tmx3a</td>\n",
       "      <td>genes</td>\n",
       "      <td>True</td>\n",
       "      <td>4.745826e-10</td>\n",
       "      <td>-23.095898</td>\n",
       "    </tr>\n",
       "    <tr>\n",
       "      <th>ENSDARG00000039067</th>\n",
       "      <td>Srd5a2b</td>\n",
       "      <td>genes</td>\n",
       "      <td>True</td>\n",
       "      <td>6.493330e-11</td>\n",
       "      <td>-23.483296</td>\n",
       "    </tr>\n",
       "    <tr>\n",
       "      <th>ENSDARG00000076270</th>\n",
       "      <td>Adamts13</td>\n",
       "      <td>genes</td>\n",
       "      <td>True</td>\n",
       "      <td>6.923704e-11</td>\n",
       "      <td>-23.815791</td>\n",
       "    </tr>\n",
       "    <tr>\n",
       "      <th>ENSDARG00000103514</th>\n",
       "      <td>Ensdarg00000103514</td>\n",
       "      <td>genes</td>\n",
       "      <td>True</td>\n",
       "      <td>7.036903e-10</td>\n",
       "      <td>-23.989517</td>\n",
       "    </tr>\n",
       "    <tr>\n",
       "      <th>ENSDARG00000025783</th>\n",
       "      <td>Si:ch211-125e6.11</td>\n",
       "      <td>genes</td>\n",
       "      <td>True</td>\n",
       "      <td>6.804488e-11</td>\n",
       "      <td>-26.987938</td>\n",
       "    </tr>\n",
       "  </tbody>\n",
       "</table>\n",
       "</div>"
      ],
      "text/plain": [
       "                          display_name data_type  observed  \\\n",
       "ENSDARG00000045854               Fgf23     genes      True   \n",
       "ENSDARG00000071091              Chrm3a     genes      True   \n",
       "ENSDARG00000059090              Sstr2a     genes      True   \n",
       "ENSDARG00000104259      Cabz01072885.1     genes      True   \n",
       "ENSDARG00000005522              Galr1a     genes      True   \n",
       "ENSDARG00000062758          Cr352265.1     genes      True   \n",
       "ENSDARG00000093491      Si:dkey-78l4.8     genes      True   \n",
       "ENSDARG00000076345             Taar19p     genes      True   \n",
       "ENSDARG00000008541              Chia.4     genes      True   \n",
       "ENSDARG00000037946                 Prl     genes      True   \n",
       "ENSDARG00000100032  Gabrb2 (1 of many)     genes      True   \n",
       "ENSDARG00000067859          Scospondin     genes      True   \n",
       "ENSDARG00000008306                Rdh5     genes      True   \n",
       "ENSDARG00000100258    Si:dkeyp-104b3.2     genes      True   \n",
       "ENSDARG00000093089               Tac3a     genes      True   \n",
       "ENSDARG00000038894               Tmx3a     genes      True   \n",
       "ENSDARG00000039067             Srd5a2b     genes      True   \n",
       "ENSDARG00000076270            Adamts13     genes      True   \n",
       "ENSDARG00000103514  Ensdarg00000103514     genes      True   \n",
       "ENSDARG00000025783   Si:ch211-125e6.11     genes      True   \n",
       "\n",
       "                    padj_Distal_vs_Proximal  FC_Distal_vs_Proximal  \n",
       "ENSDARG00000045854             3.569550e-10              24.000289  \n",
       "ENSDARG00000071091             3.307603e-11              22.486196  \n",
       "ENSDARG00000059090             2.760891e-09              21.559724  \n",
       "ENSDARG00000104259             2.782933e-10              20.545646  \n",
       "ENSDARG00000005522             2.091894e-09              20.531569  \n",
       "ENSDARG00000062758             5.800455e-10              20.055404  \n",
       "ENSDARG00000093491             5.800455e-10              20.055404  \n",
       "ENSDARG00000076345             6.804488e-11              20.002797  \n",
       "ENSDARG00000008541             3.736906e-10              19.689389  \n",
       "ENSDARG00000037946             3.736906e-10              19.689389  \n",
       "ENSDARG00000100032             9.452340e-12             -22.157425  \n",
       "ENSDARG00000067859             1.625297e-10             -22.444017  \n",
       "ENSDARG00000008306             7.680307e-11             -22.449311  \n",
       "ENSDARG00000100258             2.760891e-09             -22.482546  \n",
       "ENSDARG00000093089             3.569550e-10             -22.875241  \n",
       "ENSDARG00000038894             4.745826e-10             -23.095898  \n",
       "ENSDARG00000039067             6.493330e-11             -23.483296  \n",
       "ENSDARG00000076270             6.923704e-11             -23.815791  \n",
       "ENSDARG00000103514             7.036903e-10             -23.989517  \n",
       "ENSDARG00000025783             6.804488e-11             -26.987938  "
      ]
     },
     "execution_count": 23,
     "metadata": {},
     "output_type": "execute_result"
    }
   ],
   "source": [
    "res = QueryBuilder(ap) \\\n",
    "        .add(Select(GENES)) \\\n",
    "        .add(SignificantDE(case, control, pval, fc_lte=fc_lte, fc_gte=fc_gte, N=N)) \\\n",
    "        .run()\n",
    "res"
   ]
  },
  {
   "cell_type": "code",
   "execution_count": 24,
   "metadata": {},
   "outputs": [
    {
     "data": {
      "text/html": [
       "<div>\n",
       "<style scoped>\n",
       "    .dataframe tbody tr th:only-of-type {\n",
       "        vertical-align: middle;\n",
       "    }\n",
       "\n",
       "    .dataframe tbody tr th {\n",
       "        vertical-align: top;\n",
       "    }\n",
       "\n",
       "    .dataframe thead th {\n",
       "        text-align: right;\n",
       "    }\n",
       "</style>\n",
       "<table border=\"1\" class=\"dataframe\">\n",
       "  <thead>\n",
       "    <tr style=\"text-align: right;\">\n",
       "      <th></th>\n",
       "      <th>US-1584693</th>\n",
       "      <th>US-1584700</th>\n",
       "      <th>US-1584706</th>\n",
       "      <th>US-1584712</th>\n",
       "      <th>US-1584722</th>\n",
       "      <th>US-1584724</th>\n",
       "      <th>US-1584725</th>\n",
       "      <th>US-1584732</th>\n",
       "      <th>US-1584738</th>\n",
       "      <th>US-1584744</th>\n",
       "      <th>US-1584752</th>\n",
       "      <th>US-1584753</th>\n",
       "      <th>US-1584754</th>\n",
       "      <th>US-1584758</th>\n",
       "      <th>US-1584765</th>\n",
       "    </tr>\n",
       "    <tr>\n",
       "      <th>Identifier</th>\n",
       "      <th></th>\n",
       "      <th></th>\n",
       "      <th></th>\n",
       "      <th></th>\n",
       "      <th></th>\n",
       "      <th></th>\n",
       "      <th></th>\n",
       "      <th></th>\n",
       "      <th></th>\n",
       "      <th></th>\n",
       "      <th></th>\n",
       "      <th></th>\n",
       "      <th></th>\n",
       "      <th></th>\n",
       "      <th></th>\n",
       "    </tr>\n",
       "  </thead>\n",
       "  <tbody>\n",
       "    <tr>\n",
       "      <th>ENSDARG00000000001</th>\n",
       "      <td>51.0</td>\n",
       "      <td>40.0</td>\n",
       "      <td>69.0</td>\n",
       "      <td>78.0</td>\n",
       "      <td>89.0</td>\n",
       "      <td>47.0</td>\n",
       "      <td>88.0</td>\n",
       "      <td>86.0</td>\n",
       "      <td>110.0</td>\n",
       "      <td>55.0</td>\n",
       "      <td>54.0</td>\n",
       "      <td>58.0</td>\n",
       "      <td>104.0</td>\n",
       "      <td>43.0</td>\n",
       "      <td>72.0</td>\n",
       "    </tr>\n",
       "    <tr>\n",
       "      <th>ENSDARG00000000002</th>\n",
       "      <td>283.0</td>\n",
       "      <td>129.0</td>\n",
       "      <td>164.0</td>\n",
       "      <td>269.0</td>\n",
       "      <td>211.0</td>\n",
       "      <td>171.0</td>\n",
       "      <td>146.0</td>\n",
       "      <td>256.0</td>\n",
       "      <td>283.0</td>\n",
       "      <td>150.0</td>\n",
       "      <td>223.0</td>\n",
       "      <td>142.0</td>\n",
       "      <td>272.0</td>\n",
       "      <td>260.0</td>\n",
       "      <td>256.0</td>\n",
       "    </tr>\n",
       "    <tr>\n",
       "      <th>ENSDARG00000000018</th>\n",
       "      <td>545.0</td>\n",
       "      <td>503.0</td>\n",
       "      <td>547.0</td>\n",
       "      <td>387.0</td>\n",
       "      <td>332.0</td>\n",
       "      <td>559.0</td>\n",
       "      <td>623.0</td>\n",
       "      <td>499.0</td>\n",
       "      <td>436.0</td>\n",
       "      <td>488.0</td>\n",
       "      <td>549.0</td>\n",
       "      <td>462.0</td>\n",
       "      <td>287.0</td>\n",
       "      <td>495.0</td>\n",
       "      <td>299.0</td>\n",
       "    </tr>\n",
       "    <tr>\n",
       "      <th>ENSDARG00000000019</th>\n",
       "      <td>437.0</td>\n",
       "      <td>469.0</td>\n",
       "      <td>538.0</td>\n",
       "      <td>557.0</td>\n",
       "      <td>550.0</td>\n",
       "      <td>404.0</td>\n",
       "      <td>544.0</td>\n",
       "      <td>443.0</td>\n",
       "      <td>623.0</td>\n",
       "      <td>502.0</td>\n",
       "      <td>487.0</td>\n",
       "      <td>470.0</td>\n",
       "      <td>460.0</td>\n",
       "      <td>329.0</td>\n",
       "      <td>480.0</td>\n",
       "    </tr>\n",
       "    <tr>\n",
       "      <th>ENSDARG00000000068</th>\n",
       "      <td>266.0</td>\n",
       "      <td>249.0</td>\n",
       "      <td>247.0</td>\n",
       "      <td>236.0</td>\n",
       "      <td>195.0</td>\n",
       "      <td>247.0</td>\n",
       "      <td>283.0</td>\n",
       "      <td>259.0</td>\n",
       "      <td>299.0</td>\n",
       "      <td>232.0</td>\n",
       "      <td>249.0</td>\n",
       "      <td>231.0</td>\n",
       "      <td>236.0</td>\n",
       "      <td>274.0</td>\n",
       "      <td>241.0</td>\n",
       "    </tr>\n",
       "    <tr>\n",
       "      <th>...</th>\n",
       "      <td>...</td>\n",
       "      <td>...</td>\n",
       "      <td>...</td>\n",
       "      <td>...</td>\n",
       "      <td>...</td>\n",
       "      <td>...</td>\n",
       "      <td>...</td>\n",
       "      <td>...</td>\n",
       "      <td>...</td>\n",
       "      <td>...</td>\n",
       "      <td>...</td>\n",
       "      <td>...</td>\n",
       "      <td>...</td>\n",
       "      <td>...</td>\n",
       "      <td>...</td>\n",
       "    </tr>\n",
       "    <tr>\n",
       "      <th>ENSDARG00000105304</th>\n",
       "      <td>1.0</td>\n",
       "      <td>0.6</td>\n",
       "      <td>2.0</td>\n",
       "      <td>1.0</td>\n",
       "      <td>0.4</td>\n",
       "      <td>0.4</td>\n",
       "      <td>1.0</td>\n",
       "      <td>0.4</td>\n",
       "      <td>1.0</td>\n",
       "      <td>0.6</td>\n",
       "      <td>1.0</td>\n",
       "      <td>0.6</td>\n",
       "      <td>0.4</td>\n",
       "      <td>0.4</td>\n",
       "      <td>0.4</td>\n",
       "    </tr>\n",
       "    <tr>\n",
       "      <th>ENSDARG00000105305</th>\n",
       "      <td>14.0</td>\n",
       "      <td>20.0</td>\n",
       "      <td>15.0</td>\n",
       "      <td>21.0</td>\n",
       "      <td>21.0</td>\n",
       "      <td>20.0</td>\n",
       "      <td>30.0</td>\n",
       "      <td>25.0</td>\n",
       "      <td>34.0</td>\n",
       "      <td>27.0</td>\n",
       "      <td>16.0</td>\n",
       "      <td>20.0</td>\n",
       "      <td>24.0</td>\n",
       "      <td>24.0</td>\n",
       "      <td>18.0</td>\n",
       "    </tr>\n",
       "    <tr>\n",
       "      <th>ENSDARG00000105306</th>\n",
       "      <td>6.0</td>\n",
       "      <td>1.0</td>\n",
       "      <td>1.0</td>\n",
       "      <td>2.0</td>\n",
       "      <td>2.0</td>\n",
       "      <td>3.0</td>\n",
       "      <td>1.0</td>\n",
       "      <td>3.0</td>\n",
       "      <td>1.0</td>\n",
       "      <td>6.0</td>\n",
       "      <td>3.0</td>\n",
       "      <td>1.0</td>\n",
       "      <td>4.0</td>\n",
       "      <td>1.0</td>\n",
       "      <td>3.0</td>\n",
       "    </tr>\n",
       "    <tr>\n",
       "      <th>ENSDARG00000105307</th>\n",
       "      <td>7.0</td>\n",
       "      <td>8.0</td>\n",
       "      <td>4.0</td>\n",
       "      <td>6.0</td>\n",
       "      <td>2.2</td>\n",
       "      <td>3.0</td>\n",
       "      <td>4.0</td>\n",
       "      <td>3.0</td>\n",
       "      <td>1.0</td>\n",
       "      <td>2.0</td>\n",
       "      <td>5.0</td>\n",
       "      <td>4.0</td>\n",
       "      <td>1.0</td>\n",
       "      <td>4.0</td>\n",
       "      <td>3.0</td>\n",
       "    </tr>\n",
       "    <tr>\n",
       "      <th>ENSDARG00000105308</th>\n",
       "      <td>39.0</td>\n",
       "      <td>47.0</td>\n",
       "      <td>28.0</td>\n",
       "      <td>67.0</td>\n",
       "      <td>54.0</td>\n",
       "      <td>43.0</td>\n",
       "      <td>49.0</td>\n",
       "      <td>31.0</td>\n",
       "      <td>46.0</td>\n",
       "      <td>37.0</td>\n",
       "      <td>30.0</td>\n",
       "      <td>33.0</td>\n",
       "      <td>54.0</td>\n",
       "      <td>39.0</td>\n",
       "      <td>49.0</td>\n",
       "    </tr>\n",
       "  </tbody>\n",
       "</table>\n",
       "<p>28024 rows × 15 columns</p>\n",
       "</div>"
      ],
      "text/plain": [
       "                    US-1584693  US-1584700  US-1584706  US-1584712  \\\n",
       "Identifier                                                           \n",
       "ENSDARG00000000001        51.0        40.0        69.0        78.0   \n",
       "ENSDARG00000000002       283.0       129.0       164.0       269.0   \n",
       "ENSDARG00000000018       545.0       503.0       547.0       387.0   \n",
       "ENSDARG00000000019       437.0       469.0       538.0       557.0   \n",
       "ENSDARG00000000068       266.0       249.0       247.0       236.0   \n",
       "...                        ...         ...         ...         ...   \n",
       "ENSDARG00000105304         1.0         0.6         2.0         1.0   \n",
       "ENSDARG00000105305        14.0        20.0        15.0        21.0   \n",
       "ENSDARG00000105306         6.0         1.0         1.0         2.0   \n",
       "ENSDARG00000105307         7.0         8.0         4.0         6.0   \n",
       "ENSDARG00000105308        39.0        47.0        28.0        67.0   \n",
       "\n",
       "                    US-1584722  US-1584724  US-1584725  US-1584732  \\\n",
       "Identifier                                                           \n",
       "ENSDARG00000000001        89.0        47.0        88.0        86.0   \n",
       "ENSDARG00000000002       211.0       171.0       146.0       256.0   \n",
       "ENSDARG00000000018       332.0       559.0       623.0       499.0   \n",
       "ENSDARG00000000019       550.0       404.0       544.0       443.0   \n",
       "ENSDARG00000000068       195.0       247.0       283.0       259.0   \n",
       "...                        ...         ...         ...         ...   \n",
       "ENSDARG00000105304         0.4         0.4         1.0         0.4   \n",
       "ENSDARG00000105305        21.0        20.0        30.0        25.0   \n",
       "ENSDARG00000105306         2.0         3.0         1.0         3.0   \n",
       "ENSDARG00000105307         2.2         3.0         4.0         3.0   \n",
       "ENSDARG00000105308        54.0        43.0        49.0        31.0   \n",
       "\n",
       "                    US-1584738  US-1584744  US-1584752  US-1584753  \\\n",
       "Identifier                                                           \n",
       "ENSDARG00000000001       110.0        55.0        54.0        58.0   \n",
       "ENSDARG00000000002       283.0       150.0       223.0       142.0   \n",
       "ENSDARG00000000018       436.0       488.0       549.0       462.0   \n",
       "ENSDARG00000000019       623.0       502.0       487.0       470.0   \n",
       "ENSDARG00000000068       299.0       232.0       249.0       231.0   \n",
       "...                        ...         ...         ...         ...   \n",
       "ENSDARG00000105304         1.0         0.6         1.0         0.6   \n",
       "ENSDARG00000105305        34.0        27.0        16.0        20.0   \n",
       "ENSDARG00000105306         1.0         6.0         3.0         1.0   \n",
       "ENSDARG00000105307         1.0         2.0         5.0         4.0   \n",
       "ENSDARG00000105308        46.0        37.0        30.0        33.0   \n",
       "\n",
       "                    US-1584754  US-1584758  US-1584765  \n",
       "Identifier                                              \n",
       "ENSDARG00000000001       104.0        43.0        72.0  \n",
       "ENSDARG00000000002       272.0       260.0       256.0  \n",
       "ENSDARG00000000018       287.0       495.0       299.0  \n",
       "ENSDARG00000000019       460.0       329.0       480.0  \n",
       "ENSDARG00000000068       236.0       274.0       241.0  \n",
       "...                        ...         ...         ...  \n",
       "ENSDARG00000105304         0.4         0.4         0.4  \n",
       "ENSDARG00000105305        24.0        24.0        18.0  \n",
       "ENSDARG00000105306         4.0         1.0         3.0  \n",
       "ENSDARG00000105307         1.0         4.0         3.0  \n",
       "ENSDARG00000105308        54.0        39.0        49.0  \n",
       "\n",
       "[28024 rows x 15 columns]"
      ]
     },
     "execution_count": 24,
     "metadata": {},
     "output_type": "execute_result"
    }
   ],
   "source": [
    "data_type = GENES\n",
    "analysis = ap.get_de_analysis(data_type, case, control)\n",
    "wi = analysis.wi\n",
    "data_df, design_df = wi.data_df, wi.design_df\n",
    "data_df"
   ]
  },
  {
   "cell_type": "code",
   "execution_count": 25,
   "metadata": {},
   "outputs": [
    {
     "data": {
      "text/plain": [
       "['US-1584738',\n",
       " 'US-1584722',\n",
       " 'US-1584712',\n",
       " 'US-1584754',\n",
       " 'US-1584765',\n",
       " 'US-1584752',\n",
       " 'US-1584732',\n",
       " 'US-1584724',\n",
       " 'US-1584693',\n",
       " 'US-1584758']"
      ]
     },
     "execution_count": 25,
     "metadata": {},
     "output_type": "execute_result"
    }
   ],
   "source": [
    "case_group = design_df[design_df['group'] == case].index.values.tolist()\n",
    "control_group = design_df[design_df['group'] == control].index.values.tolist()\n",
    "selection = case_group + control_group\n",
    "selection"
   ]
  },
  {
   "cell_type": "code",
   "execution_count": 26,
   "metadata": {},
   "outputs": [
    {
     "data": {
      "text/html": [
       "<div>\n",
       "<style scoped>\n",
       "    .dataframe tbody tr th:only-of-type {\n",
       "        vertical-align: middle;\n",
       "    }\n",
       "\n",
       "    .dataframe tbody tr th {\n",
       "        vertical-align: top;\n",
       "    }\n",
       "\n",
       "    .dataframe thead th {\n",
       "        text-align: right;\n",
       "    }\n",
       "</style>\n",
       "<table border=\"1\" class=\"dataframe\">\n",
       "  <thead>\n",
       "    <tr style=\"text-align: right;\">\n",
       "      <th></th>\n",
       "      <th>US-1584738</th>\n",
       "      <th>US-1584722</th>\n",
       "      <th>US-1584712</th>\n",
       "      <th>US-1584754</th>\n",
       "      <th>US-1584765</th>\n",
       "      <th>US-1584752</th>\n",
       "      <th>US-1584732</th>\n",
       "      <th>US-1584724</th>\n",
       "      <th>US-1584693</th>\n",
       "      <th>US-1584758</th>\n",
       "    </tr>\n",
       "    <tr>\n",
       "      <th>Identifier</th>\n",
       "      <th></th>\n",
       "      <th></th>\n",
       "      <th></th>\n",
       "      <th></th>\n",
       "      <th></th>\n",
       "      <th></th>\n",
       "      <th></th>\n",
       "      <th></th>\n",
       "      <th></th>\n",
       "      <th></th>\n",
       "    </tr>\n",
       "  </thead>\n",
       "  <tbody>\n",
       "    <tr>\n",
       "      <th>ENSDARG00000045854</th>\n",
       "      <td>28.000000</td>\n",
       "      <td>22.000000</td>\n",
       "      <td>27.000000</td>\n",
       "      <td>8.000000</td>\n",
       "      <td>10.000000</td>\n",
       "      <td>0.000001</td>\n",
       "      <td>0.000001</td>\n",
       "      <td>0.000001</td>\n",
       "      <td>0.000001</td>\n",
       "      <td>0.000001</td>\n",
       "    </tr>\n",
       "    <tr>\n",
       "      <th>ENSDARG00000071091</th>\n",
       "      <td>5.000000</td>\n",
       "      <td>4.000000</td>\n",
       "      <td>7.000000</td>\n",
       "      <td>5.000000</td>\n",
       "      <td>10.000000</td>\n",
       "      <td>0.000001</td>\n",
       "      <td>0.000001</td>\n",
       "      <td>0.000001</td>\n",
       "      <td>0.000001</td>\n",
       "      <td>0.000001</td>\n",
       "    </tr>\n",
       "    <tr>\n",
       "      <th>ENSDARG00000059090</th>\n",
       "      <td>2.800000</td>\n",
       "      <td>9.000000</td>\n",
       "      <td>4.000000</td>\n",
       "      <td>2.800000</td>\n",
       "      <td>1.000000</td>\n",
       "      <td>0.000001</td>\n",
       "      <td>0.000001</td>\n",
       "      <td>0.000001</td>\n",
       "      <td>0.000001</td>\n",
       "      <td>0.000001</td>\n",
       "    </tr>\n",
       "    <tr>\n",
       "      <th>ENSDARG00000104259</th>\n",
       "      <td>3.000000</td>\n",
       "      <td>1.400000</td>\n",
       "      <td>1.000000</td>\n",
       "      <td>2.000000</td>\n",
       "      <td>1.000000</td>\n",
       "      <td>0.000001</td>\n",
       "      <td>0.000001</td>\n",
       "      <td>0.000001</td>\n",
       "      <td>0.000001</td>\n",
       "      <td>0.000001</td>\n",
       "    </tr>\n",
       "    <tr>\n",
       "      <th>ENSDARG00000005522</th>\n",
       "      <td>5.000000</td>\n",
       "      <td>1.000000</td>\n",
       "      <td>1.000000</td>\n",
       "      <td>1.600000</td>\n",
       "      <td>1.000000</td>\n",
       "      <td>0.000001</td>\n",
       "      <td>0.000001</td>\n",
       "      <td>0.000001</td>\n",
       "      <td>0.000001</td>\n",
       "      <td>0.000001</td>\n",
       "    </tr>\n",
       "    <tr>\n",
       "      <th>ENSDARG00000062758</th>\n",
       "      <td>3.000000</td>\n",
       "      <td>1.000000</td>\n",
       "      <td>0.800000</td>\n",
       "      <td>0.800000</td>\n",
       "      <td>0.800000</td>\n",
       "      <td>0.000001</td>\n",
       "      <td>0.000001</td>\n",
       "      <td>0.000001</td>\n",
       "      <td>0.000001</td>\n",
       "      <td>0.000001</td>\n",
       "    </tr>\n",
       "    <tr>\n",
       "      <th>ENSDARG00000093491</th>\n",
       "      <td>0.800000</td>\n",
       "      <td>0.800000</td>\n",
       "      <td>0.800000</td>\n",
       "      <td>3.000000</td>\n",
       "      <td>1.000000</td>\n",
       "      <td>0.000001</td>\n",
       "      <td>0.000001</td>\n",
       "      <td>0.000001</td>\n",
       "      <td>0.000001</td>\n",
       "      <td>0.000001</td>\n",
       "    </tr>\n",
       "    <tr>\n",
       "      <th>ENSDARG00000076345</th>\n",
       "      <td>1.000000</td>\n",
       "      <td>1.000000</td>\n",
       "      <td>2.000000</td>\n",
       "      <td>0.800000</td>\n",
       "      <td>0.800000</td>\n",
       "      <td>0.000001</td>\n",
       "      <td>0.000001</td>\n",
       "      <td>0.000001</td>\n",
       "      <td>0.000001</td>\n",
       "      <td>0.000001</td>\n",
       "    </tr>\n",
       "    <tr>\n",
       "      <th>ENSDARG00000008541</th>\n",
       "      <td>0.600000</td>\n",
       "      <td>1.000000</td>\n",
       "      <td>0.600000</td>\n",
       "      <td>2.000000</td>\n",
       "      <td>0.600000</td>\n",
       "      <td>0.000001</td>\n",
       "      <td>0.000001</td>\n",
       "      <td>0.000001</td>\n",
       "      <td>0.000001</td>\n",
       "      <td>0.000001</td>\n",
       "    </tr>\n",
       "    <tr>\n",
       "      <th>ENSDARG00000037946</th>\n",
       "      <td>0.600000</td>\n",
       "      <td>1.000000</td>\n",
       "      <td>2.000000</td>\n",
       "      <td>0.600000</td>\n",
       "      <td>0.600000</td>\n",
       "      <td>0.000001</td>\n",
       "      <td>0.000001</td>\n",
       "      <td>0.000001</td>\n",
       "      <td>0.000001</td>\n",
       "      <td>0.000001</td>\n",
       "    </tr>\n",
       "    <tr>\n",
       "      <th>ENSDARG00000100032</th>\n",
       "      <td>0.000001</td>\n",
       "      <td>0.000001</td>\n",
       "      <td>0.000001</td>\n",
       "      <td>0.000001</td>\n",
       "      <td>0.000001</td>\n",
       "      <td>4.000000</td>\n",
       "      <td>4.000000</td>\n",
       "      <td>7.000000</td>\n",
       "      <td>5.000000</td>\n",
       "      <td>4.000000</td>\n",
       "    </tr>\n",
       "    <tr>\n",
       "      <th>ENSDARG00000067859</th>\n",
       "      <td>0.000001</td>\n",
       "      <td>0.000001</td>\n",
       "      <td>0.000001</td>\n",
       "      <td>0.000001</td>\n",
       "      <td>0.000001</td>\n",
       "      <td>7.000000</td>\n",
       "      <td>9.000000</td>\n",
       "      <td>4.000000</td>\n",
       "      <td>8.000000</td>\n",
       "      <td>3.000000</td>\n",
       "    </tr>\n",
       "    <tr>\n",
       "      <th>ENSDARG00000008306</th>\n",
       "      <td>0.000001</td>\n",
       "      <td>0.000001</td>\n",
       "      <td>0.000001</td>\n",
       "      <td>0.000001</td>\n",
       "      <td>0.000001</td>\n",
       "      <td>4.000000</td>\n",
       "      <td>7.000000</td>\n",
       "      <td>4.000000</td>\n",
       "      <td>5.000000</td>\n",
       "      <td>11.000000</td>\n",
       "    </tr>\n",
       "    <tr>\n",
       "      <th>ENSDARG00000100258</th>\n",
       "      <td>0.000001</td>\n",
       "      <td>0.000001</td>\n",
       "      <td>0.000001</td>\n",
       "      <td>0.000001</td>\n",
       "      <td>0.000001</td>\n",
       "      <td>6.000000</td>\n",
       "      <td>18.000000</td>\n",
       "      <td>4.000000</td>\n",
       "      <td>2.000000</td>\n",
       "      <td>8.000000</td>\n",
       "    </tr>\n",
       "    <tr>\n",
       "      <th>ENSDARG00000093089</th>\n",
       "      <td>0.000001</td>\n",
       "      <td>0.000001</td>\n",
       "      <td>0.000001</td>\n",
       "      <td>0.000001</td>\n",
       "      <td>0.000001</td>\n",
       "      <td>7.200000</td>\n",
       "      <td>8.000000</td>\n",
       "      <td>3.000000</td>\n",
       "      <td>12.000000</td>\n",
       "      <td>13.000000</td>\n",
       "    </tr>\n",
       "    <tr>\n",
       "      <th>ENSDARG00000038894</th>\n",
       "      <td>0.000001</td>\n",
       "      <td>0.000001</td>\n",
       "      <td>0.000001</td>\n",
       "      <td>0.000001</td>\n",
       "      <td>0.000001</td>\n",
       "      <td>11.000000</td>\n",
       "      <td>9.000000</td>\n",
       "      <td>13.000000</td>\n",
       "      <td>15.000000</td>\n",
       "      <td>3.000000</td>\n",
       "    </tr>\n",
       "    <tr>\n",
       "      <th>ENSDARG00000039067</th>\n",
       "      <td>0.000001</td>\n",
       "      <td>0.000001</td>\n",
       "      <td>0.000001</td>\n",
       "      <td>0.000001</td>\n",
       "      <td>0.000001</td>\n",
       "      <td>7.000000</td>\n",
       "      <td>22.000000</td>\n",
       "      <td>12.000000</td>\n",
       "      <td>12.000000</td>\n",
       "      <td>10.000000</td>\n",
       "    </tr>\n",
       "    <tr>\n",
       "      <th>ENSDARG00000076270</th>\n",
       "      <td>0.000001</td>\n",
       "      <td>0.000001</td>\n",
       "      <td>0.000001</td>\n",
       "      <td>0.000001</td>\n",
       "      <td>0.000001</td>\n",
       "      <td>26.000000</td>\n",
       "      <td>15.000000</td>\n",
       "      <td>20.000000</td>\n",
       "      <td>10.000000</td>\n",
       "      <td>9.000000</td>\n",
       "    </tr>\n",
       "    <tr>\n",
       "      <th>ENSDARG00000103514</th>\n",
       "      <td>0.000001</td>\n",
       "      <td>0.000001</td>\n",
       "      <td>0.000001</td>\n",
       "      <td>0.000001</td>\n",
       "      <td>0.000001</td>\n",
       "      <td>17.000000</td>\n",
       "      <td>26.000000</td>\n",
       "      <td>5.000000</td>\n",
       "      <td>20.000000</td>\n",
       "      <td>29.000000</td>\n",
       "    </tr>\n",
       "    <tr>\n",
       "      <th>ENSDARG00000025783</th>\n",
       "      <td>0.000001</td>\n",
       "      <td>0.000001</td>\n",
       "      <td>0.000001</td>\n",
       "      <td>0.000001</td>\n",
       "      <td>0.000001</td>\n",
       "      <td>99.000000</td>\n",
       "      <td>69.000000</td>\n",
       "      <td>208.000000</td>\n",
       "      <td>210.000000</td>\n",
       "      <td>140.000000</td>\n",
       "    </tr>\n",
       "  </tbody>\n",
       "</table>\n",
       "</div>"
      ],
      "text/plain": [
       "                    US-1584738  US-1584722  US-1584712  US-1584754  \\\n",
       "Identifier                                                           \n",
       "ENSDARG00000045854   28.000000   22.000000   27.000000    8.000000   \n",
       "ENSDARG00000071091    5.000000    4.000000    7.000000    5.000000   \n",
       "ENSDARG00000059090    2.800000    9.000000    4.000000    2.800000   \n",
       "ENSDARG00000104259    3.000000    1.400000    1.000000    2.000000   \n",
       "ENSDARG00000005522    5.000000    1.000000    1.000000    1.600000   \n",
       "ENSDARG00000062758    3.000000    1.000000    0.800000    0.800000   \n",
       "ENSDARG00000093491    0.800000    0.800000    0.800000    3.000000   \n",
       "ENSDARG00000076345    1.000000    1.000000    2.000000    0.800000   \n",
       "ENSDARG00000008541    0.600000    1.000000    0.600000    2.000000   \n",
       "ENSDARG00000037946    0.600000    1.000000    2.000000    0.600000   \n",
       "ENSDARG00000100032    0.000001    0.000001    0.000001    0.000001   \n",
       "ENSDARG00000067859    0.000001    0.000001    0.000001    0.000001   \n",
       "ENSDARG00000008306    0.000001    0.000001    0.000001    0.000001   \n",
       "ENSDARG00000100258    0.000001    0.000001    0.000001    0.000001   \n",
       "ENSDARG00000093089    0.000001    0.000001    0.000001    0.000001   \n",
       "ENSDARG00000038894    0.000001    0.000001    0.000001    0.000001   \n",
       "ENSDARG00000039067    0.000001    0.000001    0.000001    0.000001   \n",
       "ENSDARG00000076270    0.000001    0.000001    0.000001    0.000001   \n",
       "ENSDARG00000103514    0.000001    0.000001    0.000001    0.000001   \n",
       "ENSDARG00000025783    0.000001    0.000001    0.000001    0.000001   \n",
       "\n",
       "                    US-1584765  US-1584752  US-1584732  US-1584724  \\\n",
       "Identifier                                                           \n",
       "ENSDARG00000045854   10.000000    0.000001    0.000001    0.000001   \n",
       "ENSDARG00000071091   10.000000    0.000001    0.000001    0.000001   \n",
       "ENSDARG00000059090    1.000000    0.000001    0.000001    0.000001   \n",
       "ENSDARG00000104259    1.000000    0.000001    0.000001    0.000001   \n",
       "ENSDARG00000005522    1.000000    0.000001    0.000001    0.000001   \n",
       "ENSDARG00000062758    0.800000    0.000001    0.000001    0.000001   \n",
       "ENSDARG00000093491    1.000000    0.000001    0.000001    0.000001   \n",
       "ENSDARG00000076345    0.800000    0.000001    0.000001    0.000001   \n",
       "ENSDARG00000008541    0.600000    0.000001    0.000001    0.000001   \n",
       "ENSDARG00000037946    0.600000    0.000001    0.000001    0.000001   \n",
       "ENSDARG00000100032    0.000001    4.000000    4.000000    7.000000   \n",
       "ENSDARG00000067859    0.000001    7.000000    9.000000    4.000000   \n",
       "ENSDARG00000008306    0.000001    4.000000    7.000000    4.000000   \n",
       "ENSDARG00000100258    0.000001    6.000000   18.000000    4.000000   \n",
       "ENSDARG00000093089    0.000001    7.200000    8.000000    3.000000   \n",
       "ENSDARG00000038894    0.000001   11.000000    9.000000   13.000000   \n",
       "ENSDARG00000039067    0.000001    7.000000   22.000000   12.000000   \n",
       "ENSDARG00000076270    0.000001   26.000000   15.000000   20.000000   \n",
       "ENSDARG00000103514    0.000001   17.000000   26.000000    5.000000   \n",
       "ENSDARG00000025783    0.000001   99.000000   69.000000  208.000000   \n",
       "\n",
       "                    US-1584693  US-1584758  \n",
       "Identifier                                  \n",
       "ENSDARG00000045854    0.000001    0.000001  \n",
       "ENSDARG00000071091    0.000001    0.000001  \n",
       "ENSDARG00000059090    0.000001    0.000001  \n",
       "ENSDARG00000104259    0.000001    0.000001  \n",
       "ENSDARG00000005522    0.000001    0.000001  \n",
       "ENSDARG00000062758    0.000001    0.000001  \n",
       "ENSDARG00000093491    0.000001    0.000001  \n",
       "ENSDARG00000076345    0.000001    0.000001  \n",
       "ENSDARG00000008541    0.000001    0.000001  \n",
       "ENSDARG00000037946    0.000001    0.000001  \n",
       "ENSDARG00000100032    5.000000    4.000000  \n",
       "ENSDARG00000067859    8.000000    3.000000  \n",
       "ENSDARG00000008306    5.000000   11.000000  \n",
       "ENSDARG00000100258    2.000000    8.000000  \n",
       "ENSDARG00000093089   12.000000   13.000000  \n",
       "ENSDARG00000038894   15.000000    3.000000  \n",
       "ENSDARG00000039067   12.000000   10.000000  \n",
       "ENSDARG00000076270   10.000000    9.000000  \n",
       "ENSDARG00000103514   20.000000   29.000000  \n",
       "ENSDARG00000025783  210.000000  140.000000  "
      ]
     },
     "execution_count": 26,
     "metadata": {},
     "output_type": "execute_result"
    }
   ],
   "source": [
    "heatmap_df = wi.data_df.loc[res.index.values]\n",
    "heatmap_df = heatmap_df[selection]\n",
    "heatmap_df"
   ]
  },
  {
   "cell_type": "code",
   "execution_count": 28,
   "metadata": {},
   "outputs": [
    {
     "data": {
      "application/vnd.plotly.v1+json": {
       "config": {
        "plotlyServerURL": "https://plot.ly"
       },
       "data": [
        {
         "coloraxis": "coloraxis",
         "hovertemplate": "x: %{x}<br>Identifier: %{y}<br>color: %{z}<extra></extra>",
         "name": "0",
         "type": "heatmap",
         "x": [
          "US-1584738",
          "US-1584722",
          "US-1584712",
          "US-1584754",
          "US-1584765",
          "US-1584752",
          "US-1584732",
          "US-1584724",
          "US-1584693",
          "US-1584758"
         ],
         "xaxis": "x",
         "y": [
          "ENSDARG00000045854",
          "ENSDARG00000071091",
          "ENSDARG00000059090",
          "ENSDARG00000104259",
          "ENSDARG00000005522",
          "ENSDARG00000062758",
          "ENSDARG00000093491",
          "ENSDARG00000076345",
          "ENSDARG00000008541",
          "ENSDARG00000037946",
          "ENSDARG00000100032",
          "ENSDARG00000067859",
          "ENSDARG00000008306",
          "ENSDARG00000100258",
          "ENSDARG00000093089",
          "ENSDARG00000038894",
          "ENSDARG00000039067",
          "ENSDARG00000076270",
          "ENSDARG00000103514",
          "ENSDARG00000025783"
         ],
         "yaxis": "y",
         "z": [
          [
           1.3299403538946992,
           1.3253944102553905,
           1.3485026784912202,
           1.1908333487873521,
           1.2750004767080165,
           -0.9966735476820014,
           -0.9978037632317776,
           -0.994484241363907,
           -0.9949561766498153,
           -0.9954511909262206
          ],
          [
           1.0964637410062625,
           1.0914810370478747,
           1.1637062613928495,
           1.1261389455357669,
           1.2750004767080165,
           -0.9966735476820014,
           -0.9978037632317776,
           -0.994484241363907,
           -0.9949561766498153,
           -0.9954511909262206
          ],
          [
           1.0178842871561415,
           1.2027510969322017,
           1.0870984046375753,
           1.046328898952044,
           0.9507276571092439,
           -0.9966735476820014,
           -0.9978037632317776,
           -0.994484241363907,
           -0.9949561766498153,
           -0.9954511909262206
          ],
          [
           1.0272344927901154,
           0.947431933530813,
           0.8973234874053043,
           1.0000146383709745,
           0.9507276571092439,
           -0.9966735476820014,
           -0.9978037632317776,
           -0.994484241363907,
           -0.9949561766498153,
           -0.9954511909262206
          ],
          [
           1.0964637410062625,
           0.9012636132862654,
           0.8973234874053043,
           0.9692996864143706,
           0.9507276571092439,
           -0.9966735476820014,
           -0.9978037632317776,
           -0.994484241363907,
           -0.9949561766498153,
           -0.9954511909262206
          ],
          [
           1.0272344927901154,
           0.9012636132862654,
           0.8667765486243084,
           0.8738903312061818,
           0.9193023739437678,
           -0.9966735476820014,
           -0.9978037632317776,
           -0.994484241363907,
           -0.9949561766498153,
           -0.9954511909262206
          ],
          [
           0.8481045531980553,
           0.8706454468632869,
           0.8667765486243084,
           1.0558255333857496,
           0.9507276571092439,
           -0.9966735476820014,
           -0.9978037632317776,
           -0.994484241363907,
           -0.9949561766498153,
           -0.9954511909262206
          ],
          [
           0.8783459106849318,
           0.9012636132862654,
           0.9922109460214398,
           0.8738903312061818,
           0.9193023739437678,
           -0.9966735476820014,
           -0.9978037632317776,
           -0.994484241363907,
           -0.9949561766498153,
           -0.9954511909262206
          ],
          [
           0.8091166624687846,
           0.9012636132862654,
           0.8273946950873428,
           1.0000146383709745,
           0.8787881375466859,
           -0.9966735476820014,
           -0.9978037632317776,
           -0.994484241363907,
           -0.9949561766498153,
           -0.9954511909262206
          ],
          [
           0.8091166624687846,
           0.9012636132862654,
           0.9922109460214398,
           0.8342918710127681,
           0.8787881375466859,
           -0.9966735476820014,
           -0.9978037632317776,
           -0.994484241363907,
           -0.9949561766498153,
           -0.9954511909262206
          ],
          [
           -0.993990489746415,
           -0.9944021991060895,
           -0.9939324003711095,
           -0.9970528223242362,
           -0.9949092604833917,
           0.8776713301550549,
           0.8503932761782189,
           0.9605365750679912,
           0.8942739728052984,
           0.8775219858011037
          ],
          [
           -0.993990489746415,
           -0.9944021991060895,
           -0.9939324003711095,
           -0.9970528223242362,
           -0.9949092604833917,
           0.9466705701306131,
           0.9489841233017472,
           0.8911227490586116,
           0.9518394828897178,
           0.8420774574707156
          ],
          [
           -0.993990489746415,
           -0.9944021991060895,
           -0.9939324003711095,
           -0.9970528223242362,
           -0.9949092604833917,
           0.8776713301550549,
           0.9184299499794277,
           0.8911227490586116,
           0.8942739728052984,
           1.0021585919943667
          ],
          [
           -0.993990489746415,
           -0.9944021991060895,
           -0.9939324003711095,
           -0.9970528223242362,
           -0.9949092604833917,
           0.9276641732792364,
           1.0332552064925353,
           0.8911227490586116,
           0.7820477258492697,
           0.9629227710120195
          ],
          [
           -0.993990489746415,
           -0.9944021991060895,
           -0.9939324003711095,
           -0.9970528223242362,
           -0.9949092604833917,
           0.950143969455743,
           0.9346643593690073,
           0.8554391358480958,
           1.0015003882898277,
           1.0227408729341811
          ],
          [
           -0.993990489746415,
           -0.9944021991060895,
           -0.9939324003711095,
           -0.9970528223242362,
           -0.9949092604833917,
           1.0023992159102213,
           0.9489841233017472,
           1.0373211848514667,
           1.0288307567256323,
           0.8420774574707156
          ],
          [
           -0.993990489746415,
           -0.9944021991060895,
           -0.9939324003711095,
           -0.9970528223242362,
           -0.9949092604833917,
           0.9466705701306131,
           1.057652242714458,
           1.0273928184551784,
           1.0015003882898277,
           0.9904156830968543
          ],
          [
           -0.993990489746415,
           -0.9944021991060895,
           -0.9939324003711095,
           -0.9970528223242362,
           -0.9949092604833917,
           1.1084599004119553,
           1.0110890121964764,
           1.0907547923909764,
           0.9791698513255225,
           0.977434499562159
          ],
          [
           -0.993990489746415,
           -0.9944021991060895,
           -0.9939324003711095,
           -0.9970528223242362,
           -0.9949092604833917,
           1.0560728554178387,
           1.0779622563173958,
           0.9188011097838937,
           1.0640657298457465,
           1.1215958069028729
          ],
          [
           -0.993990489746415,
           -0.9944021991060895,
           -0.9939324003711095,
           -0.9970528223242362,
           -0.9949092604833917,
           1.2733115617736852,
           1.1966230824667603,
           1.381228550065632,
           1.3520594976720117,
           1.3155667830172186
          ]
         ]
        }
       ],
       "layout": {
        "coloraxis": {
         "colorscale": [
          [
           0,
           "#0d0887"
          ],
          [
           0.1111111111111111,
           "#46039f"
          ],
          [
           0.2222222222222222,
           "#7201a8"
          ],
          [
           0.3333333333333333,
           "#9c179e"
          ],
          [
           0.4444444444444444,
           "#bd3786"
          ],
          [
           0.5555555555555556,
           "#d8576b"
          ],
          [
           0.6666666666666666,
           "#ed7953"
          ],
          [
           0.7777777777777778,
           "#fb9f3a"
          ],
          [
           0.8888888888888888,
           "#fdca26"
          ],
          [
           1,
           "#f0f921"
          ]
         ]
        },
        "margin": {
         "t": 60
        },
        "template": {
         "data": {
          "bar": [
           {
            "error_x": {
             "color": "#2a3f5f"
            },
            "error_y": {
             "color": "#2a3f5f"
            },
            "marker": {
             "line": {
              "color": "#E5ECF6",
              "width": 0.5
             }
            },
            "type": "bar"
           }
          ],
          "barpolar": [
           {
            "marker": {
             "line": {
              "color": "#E5ECF6",
              "width": 0.5
             }
            },
            "type": "barpolar"
           }
          ],
          "carpet": [
           {
            "aaxis": {
             "endlinecolor": "#2a3f5f",
             "gridcolor": "white",
             "linecolor": "white",
             "minorgridcolor": "white",
             "startlinecolor": "#2a3f5f"
            },
            "baxis": {
             "endlinecolor": "#2a3f5f",
             "gridcolor": "white",
             "linecolor": "white",
             "minorgridcolor": "white",
             "startlinecolor": "#2a3f5f"
            },
            "type": "carpet"
           }
          ],
          "choropleth": [
           {
            "colorbar": {
             "outlinewidth": 0,
             "ticks": ""
            },
            "type": "choropleth"
           }
          ],
          "contour": [
           {
            "colorbar": {
             "outlinewidth": 0,
             "ticks": ""
            },
            "colorscale": [
             [
              0,
              "#0d0887"
             ],
             [
              0.1111111111111111,
              "#46039f"
             ],
             [
              0.2222222222222222,
              "#7201a8"
             ],
             [
              0.3333333333333333,
              "#9c179e"
             ],
             [
              0.4444444444444444,
              "#bd3786"
             ],
             [
              0.5555555555555556,
              "#d8576b"
             ],
             [
              0.6666666666666666,
              "#ed7953"
             ],
             [
              0.7777777777777778,
              "#fb9f3a"
             ],
             [
              0.8888888888888888,
              "#fdca26"
             ],
             [
              1,
              "#f0f921"
             ]
            ],
            "type": "contour"
           }
          ],
          "contourcarpet": [
           {
            "colorbar": {
             "outlinewidth": 0,
             "ticks": ""
            },
            "type": "contourcarpet"
           }
          ],
          "heatmap": [
           {
            "colorbar": {
             "outlinewidth": 0,
             "ticks": ""
            },
            "colorscale": [
             [
              0,
              "#0d0887"
             ],
             [
              0.1111111111111111,
              "#46039f"
             ],
             [
              0.2222222222222222,
              "#7201a8"
             ],
             [
              0.3333333333333333,
              "#9c179e"
             ],
             [
              0.4444444444444444,
              "#bd3786"
             ],
             [
              0.5555555555555556,
              "#d8576b"
             ],
             [
              0.6666666666666666,
              "#ed7953"
             ],
             [
              0.7777777777777778,
              "#fb9f3a"
             ],
             [
              0.8888888888888888,
              "#fdca26"
             ],
             [
              1,
              "#f0f921"
             ]
            ],
            "type": "heatmap"
           }
          ],
          "heatmapgl": [
           {
            "colorbar": {
             "outlinewidth": 0,
             "ticks": ""
            },
            "colorscale": [
             [
              0,
              "#0d0887"
             ],
             [
              0.1111111111111111,
              "#46039f"
             ],
             [
              0.2222222222222222,
              "#7201a8"
             ],
             [
              0.3333333333333333,
              "#9c179e"
             ],
             [
              0.4444444444444444,
              "#bd3786"
             ],
             [
              0.5555555555555556,
              "#d8576b"
             ],
             [
              0.6666666666666666,
              "#ed7953"
             ],
             [
              0.7777777777777778,
              "#fb9f3a"
             ],
             [
              0.8888888888888888,
              "#fdca26"
             ],
             [
              1,
              "#f0f921"
             ]
            ],
            "type": "heatmapgl"
           }
          ],
          "histogram": [
           {
            "marker": {
             "colorbar": {
              "outlinewidth": 0,
              "ticks": ""
             }
            },
            "type": "histogram"
           }
          ],
          "histogram2d": [
           {
            "colorbar": {
             "outlinewidth": 0,
             "ticks": ""
            },
            "colorscale": [
             [
              0,
              "#0d0887"
             ],
             [
              0.1111111111111111,
              "#46039f"
             ],
             [
              0.2222222222222222,
              "#7201a8"
             ],
             [
              0.3333333333333333,
              "#9c179e"
             ],
             [
              0.4444444444444444,
              "#bd3786"
             ],
             [
              0.5555555555555556,
              "#d8576b"
             ],
             [
              0.6666666666666666,
              "#ed7953"
             ],
             [
              0.7777777777777778,
              "#fb9f3a"
             ],
             [
              0.8888888888888888,
              "#fdca26"
             ],
             [
              1,
              "#f0f921"
             ]
            ],
            "type": "histogram2d"
           }
          ],
          "histogram2dcontour": [
           {
            "colorbar": {
             "outlinewidth": 0,
             "ticks": ""
            },
            "colorscale": [
             [
              0,
              "#0d0887"
             ],
             [
              0.1111111111111111,
              "#46039f"
             ],
             [
              0.2222222222222222,
              "#7201a8"
             ],
             [
              0.3333333333333333,
              "#9c179e"
             ],
             [
              0.4444444444444444,
              "#bd3786"
             ],
             [
              0.5555555555555556,
              "#d8576b"
             ],
             [
              0.6666666666666666,
              "#ed7953"
             ],
             [
              0.7777777777777778,
              "#fb9f3a"
             ],
             [
              0.8888888888888888,
              "#fdca26"
             ],
             [
              1,
              "#f0f921"
             ]
            ],
            "type": "histogram2dcontour"
           }
          ],
          "mesh3d": [
           {
            "colorbar": {
             "outlinewidth": 0,
             "ticks": ""
            },
            "type": "mesh3d"
           }
          ],
          "parcoords": [
           {
            "line": {
             "colorbar": {
              "outlinewidth": 0,
              "ticks": ""
             }
            },
            "type": "parcoords"
           }
          ],
          "pie": [
           {
            "automargin": true,
            "type": "pie"
           }
          ],
          "scatter": [
           {
            "marker": {
             "colorbar": {
              "outlinewidth": 0,
              "ticks": ""
             }
            },
            "type": "scatter"
           }
          ],
          "scatter3d": [
           {
            "line": {
             "colorbar": {
              "outlinewidth": 0,
              "ticks": ""
             }
            },
            "marker": {
             "colorbar": {
              "outlinewidth": 0,
              "ticks": ""
             }
            },
            "type": "scatter3d"
           }
          ],
          "scattercarpet": [
           {
            "marker": {
             "colorbar": {
              "outlinewidth": 0,
              "ticks": ""
             }
            },
            "type": "scattercarpet"
           }
          ],
          "scattergeo": [
           {
            "marker": {
             "colorbar": {
              "outlinewidth": 0,
              "ticks": ""
             }
            },
            "type": "scattergeo"
           }
          ],
          "scattergl": [
           {
            "marker": {
             "colorbar": {
              "outlinewidth": 0,
              "ticks": ""
             }
            },
            "type": "scattergl"
           }
          ],
          "scattermapbox": [
           {
            "marker": {
             "colorbar": {
              "outlinewidth": 0,
              "ticks": ""
             }
            },
            "type": "scattermapbox"
           }
          ],
          "scatterpolar": [
           {
            "marker": {
             "colorbar": {
              "outlinewidth": 0,
              "ticks": ""
             }
            },
            "type": "scatterpolar"
           }
          ],
          "scatterpolargl": [
           {
            "marker": {
             "colorbar": {
              "outlinewidth": 0,
              "ticks": ""
             }
            },
            "type": "scatterpolargl"
           }
          ],
          "scatterternary": [
           {
            "marker": {
             "colorbar": {
              "outlinewidth": 0,
              "ticks": ""
             }
            },
            "type": "scatterternary"
           }
          ],
          "surface": [
           {
            "colorbar": {
             "outlinewidth": 0,
             "ticks": ""
            },
            "colorscale": [
             [
              0,
              "#0d0887"
             ],
             [
              0.1111111111111111,
              "#46039f"
             ],
             [
              0.2222222222222222,
              "#7201a8"
             ],
             [
              0.3333333333333333,
              "#9c179e"
             ],
             [
              0.4444444444444444,
              "#bd3786"
             ],
             [
              0.5555555555555556,
              "#d8576b"
             ],
             [
              0.6666666666666666,
              "#ed7953"
             ],
             [
              0.7777777777777778,
              "#fb9f3a"
             ],
             [
              0.8888888888888888,
              "#fdca26"
             ],
             [
              1,
              "#f0f921"
             ]
            ],
            "type": "surface"
           }
          ],
          "table": [
           {
            "cells": {
             "fill": {
              "color": "#EBF0F8"
             },
             "line": {
              "color": "white"
             }
            },
            "header": {
             "fill": {
              "color": "#C8D4E3"
             },
             "line": {
              "color": "white"
             }
            },
            "type": "table"
           }
          ]
         },
         "layout": {
          "annotationdefaults": {
           "arrowcolor": "#2a3f5f",
           "arrowhead": 0,
           "arrowwidth": 1
          },
          "autotypenumbers": "strict",
          "coloraxis": {
           "colorbar": {
            "outlinewidth": 0,
            "ticks": ""
           }
          },
          "colorscale": {
           "diverging": [
            [
             0,
             "#8e0152"
            ],
            [
             0.1,
             "#c51b7d"
            ],
            [
             0.2,
             "#de77ae"
            ],
            [
             0.3,
             "#f1b6da"
            ],
            [
             0.4,
             "#fde0ef"
            ],
            [
             0.5,
             "#f7f7f7"
            ],
            [
             0.6,
             "#e6f5d0"
            ],
            [
             0.7,
             "#b8e186"
            ],
            [
             0.8,
             "#7fbc41"
            ],
            [
             0.9,
             "#4d9221"
            ],
            [
             1,
             "#276419"
            ]
           ],
           "sequential": [
            [
             0,
             "#0d0887"
            ],
            [
             0.1111111111111111,
             "#46039f"
            ],
            [
             0.2222222222222222,
             "#7201a8"
            ],
            [
             0.3333333333333333,
             "#9c179e"
            ],
            [
             0.4444444444444444,
             "#bd3786"
            ],
            [
             0.5555555555555556,
             "#d8576b"
            ],
            [
             0.6666666666666666,
             "#ed7953"
            ],
            [
             0.7777777777777778,
             "#fb9f3a"
            ],
            [
             0.8888888888888888,
             "#fdca26"
            ],
            [
             1,
             "#f0f921"
            ]
           ],
           "sequentialminus": [
            [
             0,
             "#0d0887"
            ],
            [
             0.1111111111111111,
             "#46039f"
            ],
            [
             0.2222222222222222,
             "#7201a8"
            ],
            [
             0.3333333333333333,
             "#9c179e"
            ],
            [
             0.4444444444444444,
             "#bd3786"
            ],
            [
             0.5555555555555556,
             "#d8576b"
            ],
            [
             0.6666666666666666,
             "#ed7953"
            ],
            [
             0.7777777777777778,
             "#fb9f3a"
            ],
            [
             0.8888888888888888,
             "#fdca26"
            ],
            [
             1,
             "#f0f921"
            ]
           ]
          },
          "colorway": [
           "#636efa",
           "#EF553B",
           "#00cc96",
           "#ab63fa",
           "#FFA15A",
           "#19d3f3",
           "#FF6692",
           "#B6E880",
           "#FF97FF",
           "#FECB52"
          ],
          "font": {
           "color": "#2a3f5f"
          },
          "geo": {
           "bgcolor": "white",
           "lakecolor": "white",
           "landcolor": "#E5ECF6",
           "showlakes": true,
           "showland": true,
           "subunitcolor": "white"
          },
          "hoverlabel": {
           "align": "left"
          },
          "hovermode": "closest",
          "mapbox": {
           "style": "light"
          },
          "paper_bgcolor": "white",
          "plot_bgcolor": "#E5ECF6",
          "polar": {
           "angularaxis": {
            "gridcolor": "white",
            "linecolor": "white",
            "ticks": ""
           },
           "bgcolor": "#E5ECF6",
           "radialaxis": {
            "gridcolor": "white",
            "linecolor": "white",
            "ticks": ""
           }
          },
          "scene": {
           "xaxis": {
            "backgroundcolor": "#E5ECF6",
            "gridcolor": "white",
            "gridwidth": 2,
            "linecolor": "white",
            "showbackground": true,
            "ticks": "",
            "zerolinecolor": "white"
           },
           "yaxis": {
            "backgroundcolor": "#E5ECF6",
            "gridcolor": "white",
            "gridwidth": 2,
            "linecolor": "white",
            "showbackground": true,
            "ticks": "",
            "zerolinecolor": "white"
           },
           "zaxis": {
            "backgroundcolor": "#E5ECF6",
            "gridcolor": "white",
            "gridwidth": 2,
            "linecolor": "white",
            "showbackground": true,
            "ticks": "",
            "zerolinecolor": "white"
           }
          },
          "shapedefaults": {
           "line": {
            "color": "#2a3f5f"
           }
          },
          "ternary": {
           "aaxis": {
            "gridcolor": "white",
            "linecolor": "white",
            "ticks": ""
           },
           "baxis": {
            "gridcolor": "white",
            "linecolor": "white",
            "ticks": ""
           },
           "bgcolor": "#E5ECF6",
           "caxis": {
            "gridcolor": "white",
            "linecolor": "white",
            "ticks": ""
           }
          },
          "title": {
           "x": 0.05
          },
          "xaxis": {
           "automargin": true,
           "gridcolor": "white",
           "linecolor": "white",
           "ticks": "",
           "title": {
            "standoff": 15
           },
           "zerolinecolor": "white",
           "zerolinewidth": 2
          },
          "yaxis": {
           "automargin": true,
           "gridcolor": "white",
           "linecolor": "white",
           "ticks": "",
           "title": {
            "standoff": 15
           },
           "zerolinecolor": "white",
           "zerolinewidth": 2
          }
         }
        },
        "xaxis": {
         "anchor": "y",
         "constrain": "domain",
         "domain": [
          0,
          1
         ],
         "scaleanchor": "y"
        },
        "yaxis": {
         "anchor": "x",
         "autorange": "reversed",
         "constrain": "domain",
         "domain": [
          0,
          1
         ],
         "title": {
          "text": "Identifier"
         }
        }
       }
      },
      "text/html": [
       "<div>                            <div id=\"5080c12b-d968-41b7-8d96-b97912ce6a01\" class=\"plotly-graph-div\" style=\"height:525px; width:100%;\"></div>            <script type=\"text/javascript\">                require([\"plotly\"], function(Plotly) {                    window.PLOTLYENV=window.PLOTLYENV || {};                                    if (document.getElementById(\"5080c12b-d968-41b7-8d96-b97912ce6a01\")) {                    Plotly.newPlot(                        \"5080c12b-d968-41b7-8d96-b97912ce6a01\",                        [{\"coloraxis\": \"coloraxis\", \"hovertemplate\": \"x: %{x}<br>Identifier: %{y}<br>color: %{z}<extra></extra>\", \"name\": \"0\", \"type\": \"heatmap\", \"x\": [\"US-1584738\", \"US-1584722\", \"US-1584712\", \"US-1584754\", \"US-1584765\", \"US-1584752\", \"US-1584732\", \"US-1584724\", \"US-1584693\", \"US-1584758\"], \"xaxis\": \"x\", \"y\": [\"ENSDARG00000045854\", \"ENSDARG00000071091\", \"ENSDARG00000059090\", \"ENSDARG00000104259\", \"ENSDARG00000005522\", \"ENSDARG00000062758\", \"ENSDARG00000093491\", \"ENSDARG00000076345\", \"ENSDARG00000008541\", \"ENSDARG00000037946\", \"ENSDARG00000100032\", \"ENSDARG00000067859\", \"ENSDARG00000008306\", \"ENSDARG00000100258\", \"ENSDARG00000093089\", \"ENSDARG00000038894\", \"ENSDARG00000039067\", \"ENSDARG00000076270\", \"ENSDARG00000103514\", \"ENSDARG00000025783\"], \"yaxis\": \"y\", \"z\": [[1.3299403538946992, 1.3253944102553905, 1.3485026784912202, 1.1908333487873521, 1.2750004767080165, -0.9966735476820014, -0.9978037632317776, -0.994484241363907, -0.9949561766498153, -0.9954511909262206], [1.0964637410062625, 1.0914810370478747, 1.1637062613928495, 1.1261389455357669, 1.2750004767080165, -0.9966735476820014, -0.9978037632317776, -0.994484241363907, -0.9949561766498153, -0.9954511909262206], [1.0178842871561415, 1.2027510969322017, 1.0870984046375753, 1.046328898952044, 0.9507276571092439, -0.9966735476820014, -0.9978037632317776, -0.994484241363907, -0.9949561766498153, -0.9954511909262206], [1.0272344927901154, 0.947431933530813, 0.8973234874053043, 1.0000146383709745, 0.9507276571092439, -0.9966735476820014, -0.9978037632317776, -0.994484241363907, -0.9949561766498153, -0.9954511909262206], [1.0964637410062625, 0.9012636132862654, 0.8973234874053043, 0.9692996864143706, 0.9507276571092439, -0.9966735476820014, -0.9978037632317776, -0.994484241363907, -0.9949561766498153, -0.9954511909262206], [1.0272344927901154, 0.9012636132862654, 0.8667765486243084, 0.8738903312061818, 0.9193023739437678, -0.9966735476820014, -0.9978037632317776, -0.994484241363907, -0.9949561766498153, -0.9954511909262206], [0.8481045531980553, 0.8706454468632869, 0.8667765486243084, 1.0558255333857496, 0.9507276571092439, -0.9966735476820014, -0.9978037632317776, -0.994484241363907, -0.9949561766498153, -0.9954511909262206], [0.8783459106849318, 0.9012636132862654, 0.9922109460214398, 0.8738903312061818, 0.9193023739437678, -0.9966735476820014, -0.9978037632317776, -0.994484241363907, -0.9949561766498153, -0.9954511909262206], [0.8091166624687846, 0.9012636132862654, 0.8273946950873428, 1.0000146383709745, 0.8787881375466859, -0.9966735476820014, -0.9978037632317776, -0.994484241363907, -0.9949561766498153, -0.9954511909262206], [0.8091166624687846, 0.9012636132862654, 0.9922109460214398, 0.8342918710127681, 0.8787881375466859, -0.9966735476820014, -0.9978037632317776, -0.994484241363907, -0.9949561766498153, -0.9954511909262206], [-0.993990489746415, -0.9944021991060895, -0.9939324003711095, -0.9970528223242362, -0.9949092604833917, 0.8776713301550549, 0.8503932761782189, 0.9605365750679912, 0.8942739728052984, 0.8775219858011037], [-0.993990489746415, -0.9944021991060895, -0.9939324003711095, -0.9970528223242362, -0.9949092604833917, 0.9466705701306131, 0.9489841233017472, 0.8911227490586116, 0.9518394828897178, 0.8420774574707156], [-0.993990489746415, -0.9944021991060895, -0.9939324003711095, -0.9970528223242362, -0.9949092604833917, 0.8776713301550549, 0.9184299499794277, 0.8911227490586116, 0.8942739728052984, 1.0021585919943667], [-0.993990489746415, -0.9944021991060895, -0.9939324003711095, -0.9970528223242362, -0.9949092604833917, 0.9276641732792364, 1.0332552064925353, 0.8911227490586116, 0.7820477258492697, 0.9629227710120195], [-0.993990489746415, -0.9944021991060895, -0.9939324003711095, -0.9970528223242362, -0.9949092604833917, 0.950143969455743, 0.9346643593690073, 0.8554391358480958, 1.0015003882898277, 1.0227408729341811], [-0.993990489746415, -0.9944021991060895, -0.9939324003711095, -0.9970528223242362, -0.9949092604833917, 1.0023992159102213, 0.9489841233017472, 1.0373211848514667, 1.0288307567256323, 0.8420774574707156], [-0.993990489746415, -0.9944021991060895, -0.9939324003711095, -0.9970528223242362, -0.9949092604833917, 0.9466705701306131, 1.057652242714458, 1.0273928184551784, 1.0015003882898277, 0.9904156830968543], [-0.993990489746415, -0.9944021991060895, -0.9939324003711095, -0.9970528223242362, -0.9949092604833917, 1.1084599004119553, 1.0110890121964764, 1.0907547923909764, 0.9791698513255225, 0.977434499562159], [-0.993990489746415, -0.9944021991060895, -0.9939324003711095, -0.9970528223242362, -0.9949092604833917, 1.0560728554178387, 1.0779622563173958, 0.9188011097838937, 1.0640657298457465, 1.1215958069028729], [-0.993990489746415, -0.9944021991060895, -0.9939324003711095, -0.9970528223242362, -0.9949092604833917, 1.2733115617736852, 1.1966230824667603, 1.381228550065632, 1.3520594976720117, 1.3155667830172186]]}],                        {\"coloraxis\": {\"colorscale\": [[0.0, \"#0d0887\"], [0.1111111111111111, \"#46039f\"], [0.2222222222222222, \"#7201a8\"], [0.3333333333333333, \"#9c179e\"], [0.4444444444444444, \"#bd3786\"], [0.5555555555555556, \"#d8576b\"], [0.6666666666666666, \"#ed7953\"], [0.7777777777777778, \"#fb9f3a\"], [0.8888888888888888, \"#fdca26\"], [1.0, \"#f0f921\"]]}, \"margin\": {\"t\": 60}, \"template\": {\"data\": {\"bar\": [{\"error_x\": {\"color\": \"#2a3f5f\"}, \"error_y\": {\"color\": \"#2a3f5f\"}, \"marker\": {\"line\": {\"color\": \"#E5ECF6\", \"width\": 0.5}}, \"type\": \"bar\"}], \"barpolar\": [{\"marker\": {\"line\": {\"color\": \"#E5ECF6\", \"width\": 0.5}}, \"type\": \"barpolar\"}], \"carpet\": [{\"aaxis\": {\"endlinecolor\": \"#2a3f5f\", \"gridcolor\": \"white\", \"linecolor\": \"white\", \"minorgridcolor\": \"white\", \"startlinecolor\": \"#2a3f5f\"}, \"baxis\": {\"endlinecolor\": \"#2a3f5f\", \"gridcolor\": \"white\", \"linecolor\": \"white\", \"minorgridcolor\": \"white\", \"startlinecolor\": \"#2a3f5f\"}, \"type\": \"carpet\"}], \"choropleth\": [{\"colorbar\": {\"outlinewidth\": 0, \"ticks\": \"\"}, \"type\": \"choropleth\"}], \"contour\": [{\"colorbar\": {\"outlinewidth\": 0, \"ticks\": \"\"}, \"colorscale\": [[0.0, \"#0d0887\"], [0.1111111111111111, \"#46039f\"], [0.2222222222222222, \"#7201a8\"], [0.3333333333333333, \"#9c179e\"], [0.4444444444444444, \"#bd3786\"], [0.5555555555555556, \"#d8576b\"], [0.6666666666666666, \"#ed7953\"], [0.7777777777777778, \"#fb9f3a\"], [0.8888888888888888, \"#fdca26\"], [1.0, \"#f0f921\"]], \"type\": \"contour\"}], \"contourcarpet\": [{\"colorbar\": {\"outlinewidth\": 0, \"ticks\": \"\"}, \"type\": \"contourcarpet\"}], \"heatmap\": [{\"colorbar\": {\"outlinewidth\": 0, \"ticks\": \"\"}, \"colorscale\": [[0.0, \"#0d0887\"], [0.1111111111111111, \"#46039f\"], [0.2222222222222222, \"#7201a8\"], [0.3333333333333333, \"#9c179e\"], [0.4444444444444444, \"#bd3786\"], [0.5555555555555556, \"#d8576b\"], [0.6666666666666666, \"#ed7953\"], [0.7777777777777778, \"#fb9f3a\"], [0.8888888888888888, \"#fdca26\"], [1.0, \"#f0f921\"]], \"type\": \"heatmap\"}], \"heatmapgl\": [{\"colorbar\": {\"outlinewidth\": 0, \"ticks\": \"\"}, \"colorscale\": [[0.0, \"#0d0887\"], [0.1111111111111111, \"#46039f\"], [0.2222222222222222, \"#7201a8\"], [0.3333333333333333, \"#9c179e\"], [0.4444444444444444, \"#bd3786\"], [0.5555555555555556, \"#d8576b\"], [0.6666666666666666, \"#ed7953\"], [0.7777777777777778, \"#fb9f3a\"], [0.8888888888888888, \"#fdca26\"], [1.0, \"#f0f921\"]], \"type\": \"heatmapgl\"}], \"histogram\": [{\"marker\": {\"colorbar\": {\"outlinewidth\": 0, \"ticks\": \"\"}}, \"type\": \"histogram\"}], \"histogram2d\": [{\"colorbar\": {\"outlinewidth\": 0, \"ticks\": \"\"}, \"colorscale\": [[0.0, \"#0d0887\"], [0.1111111111111111, \"#46039f\"], [0.2222222222222222, \"#7201a8\"], [0.3333333333333333, \"#9c179e\"], [0.4444444444444444, \"#bd3786\"], [0.5555555555555556, \"#d8576b\"], [0.6666666666666666, \"#ed7953\"], [0.7777777777777778, \"#fb9f3a\"], [0.8888888888888888, \"#fdca26\"], [1.0, \"#f0f921\"]], \"type\": \"histogram2d\"}], \"histogram2dcontour\": [{\"colorbar\": {\"outlinewidth\": 0, \"ticks\": \"\"}, \"colorscale\": [[0.0, \"#0d0887\"], [0.1111111111111111, \"#46039f\"], [0.2222222222222222, \"#7201a8\"], [0.3333333333333333, \"#9c179e\"], [0.4444444444444444, \"#bd3786\"], [0.5555555555555556, \"#d8576b\"], [0.6666666666666666, \"#ed7953\"], [0.7777777777777778, \"#fb9f3a\"], [0.8888888888888888, \"#fdca26\"], [1.0, \"#f0f921\"]], \"type\": \"histogram2dcontour\"}], \"mesh3d\": [{\"colorbar\": {\"outlinewidth\": 0, \"ticks\": \"\"}, \"type\": \"mesh3d\"}], \"parcoords\": [{\"line\": {\"colorbar\": {\"outlinewidth\": 0, \"ticks\": \"\"}}, \"type\": \"parcoords\"}], \"pie\": [{\"automargin\": true, \"type\": \"pie\"}], \"scatter\": [{\"marker\": {\"colorbar\": {\"outlinewidth\": 0, \"ticks\": \"\"}}, \"type\": \"scatter\"}], \"scatter3d\": [{\"line\": {\"colorbar\": {\"outlinewidth\": 0, \"ticks\": \"\"}}, \"marker\": {\"colorbar\": {\"outlinewidth\": 0, \"ticks\": \"\"}}, \"type\": \"scatter3d\"}], \"scattercarpet\": [{\"marker\": {\"colorbar\": {\"outlinewidth\": 0, \"ticks\": \"\"}}, \"type\": \"scattercarpet\"}], \"scattergeo\": [{\"marker\": {\"colorbar\": {\"outlinewidth\": 0, \"ticks\": \"\"}}, \"type\": \"scattergeo\"}], \"scattergl\": [{\"marker\": {\"colorbar\": {\"outlinewidth\": 0, \"ticks\": \"\"}}, \"type\": \"scattergl\"}], \"scattermapbox\": [{\"marker\": {\"colorbar\": {\"outlinewidth\": 0, \"ticks\": \"\"}}, \"type\": \"scattermapbox\"}], \"scatterpolar\": [{\"marker\": {\"colorbar\": {\"outlinewidth\": 0, \"ticks\": \"\"}}, \"type\": \"scatterpolar\"}], \"scatterpolargl\": [{\"marker\": {\"colorbar\": {\"outlinewidth\": 0, \"ticks\": \"\"}}, \"type\": \"scatterpolargl\"}], \"scatterternary\": [{\"marker\": {\"colorbar\": {\"outlinewidth\": 0, \"ticks\": \"\"}}, \"type\": \"scatterternary\"}], \"surface\": [{\"colorbar\": {\"outlinewidth\": 0, \"ticks\": \"\"}, \"colorscale\": [[0.0, \"#0d0887\"], [0.1111111111111111, \"#46039f\"], [0.2222222222222222, \"#7201a8\"], [0.3333333333333333, \"#9c179e\"], [0.4444444444444444, \"#bd3786\"], [0.5555555555555556, \"#d8576b\"], [0.6666666666666666, \"#ed7953\"], [0.7777777777777778, \"#fb9f3a\"], [0.8888888888888888, \"#fdca26\"], [1.0, \"#f0f921\"]], \"type\": \"surface\"}], \"table\": [{\"cells\": {\"fill\": {\"color\": \"#EBF0F8\"}, \"line\": {\"color\": \"white\"}}, \"header\": {\"fill\": {\"color\": \"#C8D4E3\"}, \"line\": {\"color\": \"white\"}}, \"type\": \"table\"}]}, \"layout\": {\"annotationdefaults\": {\"arrowcolor\": \"#2a3f5f\", \"arrowhead\": 0, \"arrowwidth\": 1}, \"autotypenumbers\": \"strict\", \"coloraxis\": {\"colorbar\": {\"outlinewidth\": 0, \"ticks\": \"\"}}, \"colorscale\": {\"diverging\": [[0, \"#8e0152\"], [0.1, \"#c51b7d\"], [0.2, \"#de77ae\"], [0.3, \"#f1b6da\"], [0.4, \"#fde0ef\"], [0.5, \"#f7f7f7\"], [0.6, \"#e6f5d0\"], [0.7, \"#b8e186\"], [0.8, \"#7fbc41\"], [0.9, \"#4d9221\"], [1, \"#276419\"]], \"sequential\": [[0.0, \"#0d0887\"], [0.1111111111111111, \"#46039f\"], [0.2222222222222222, \"#7201a8\"], [0.3333333333333333, \"#9c179e\"], [0.4444444444444444, \"#bd3786\"], [0.5555555555555556, \"#d8576b\"], [0.6666666666666666, \"#ed7953\"], [0.7777777777777778, \"#fb9f3a\"], [0.8888888888888888, \"#fdca26\"], [1.0, \"#f0f921\"]], \"sequentialminus\": [[0.0, \"#0d0887\"], [0.1111111111111111, \"#46039f\"], [0.2222222222222222, \"#7201a8\"], [0.3333333333333333, \"#9c179e\"], [0.4444444444444444, \"#bd3786\"], [0.5555555555555556, \"#d8576b\"], [0.6666666666666666, \"#ed7953\"], [0.7777777777777778, \"#fb9f3a\"], [0.8888888888888888, \"#fdca26\"], [1.0, \"#f0f921\"]]}, \"colorway\": [\"#636efa\", \"#EF553B\", \"#00cc96\", \"#ab63fa\", \"#FFA15A\", \"#19d3f3\", \"#FF6692\", \"#B6E880\", \"#FF97FF\", \"#FECB52\"], \"font\": {\"color\": \"#2a3f5f\"}, \"geo\": {\"bgcolor\": \"white\", \"lakecolor\": \"white\", \"landcolor\": \"#E5ECF6\", \"showlakes\": true, \"showland\": true, \"subunitcolor\": \"white\"}, \"hoverlabel\": {\"align\": \"left\"}, \"hovermode\": \"closest\", \"mapbox\": {\"style\": \"light\"}, \"paper_bgcolor\": \"white\", \"plot_bgcolor\": \"#E5ECF6\", \"polar\": {\"angularaxis\": {\"gridcolor\": \"white\", \"linecolor\": \"white\", \"ticks\": \"\"}, \"bgcolor\": \"#E5ECF6\", \"radialaxis\": {\"gridcolor\": \"white\", \"linecolor\": \"white\", \"ticks\": \"\"}}, \"scene\": {\"xaxis\": {\"backgroundcolor\": \"#E5ECF6\", \"gridcolor\": \"white\", \"gridwidth\": 2, \"linecolor\": \"white\", \"showbackground\": true, \"ticks\": \"\", \"zerolinecolor\": \"white\"}, \"yaxis\": {\"backgroundcolor\": \"#E5ECF6\", \"gridcolor\": \"white\", \"gridwidth\": 2, \"linecolor\": \"white\", \"showbackground\": true, \"ticks\": \"\", \"zerolinecolor\": \"white\"}, \"zaxis\": {\"backgroundcolor\": \"#E5ECF6\", \"gridcolor\": \"white\", \"gridwidth\": 2, \"linecolor\": \"white\", \"showbackground\": true, \"ticks\": \"\", \"zerolinecolor\": \"white\"}}, \"shapedefaults\": {\"line\": {\"color\": \"#2a3f5f\"}}, \"ternary\": {\"aaxis\": {\"gridcolor\": \"white\", \"linecolor\": \"white\", \"ticks\": \"\"}, \"baxis\": {\"gridcolor\": \"white\", \"linecolor\": \"white\", \"ticks\": \"\"}, \"bgcolor\": \"#E5ECF6\", \"caxis\": {\"gridcolor\": \"white\", \"linecolor\": \"white\", \"ticks\": \"\"}}, \"title\": {\"x\": 0.05}, \"xaxis\": {\"automargin\": true, \"gridcolor\": \"white\", \"linecolor\": \"white\", \"ticks\": \"\", \"title\": {\"standoff\": 15}, \"zerolinecolor\": \"white\", \"zerolinewidth\": 2}, \"yaxis\": {\"automargin\": true, \"gridcolor\": \"white\", \"linecolor\": \"white\", \"ticks\": \"\", \"title\": {\"standoff\": 15}, \"zerolinecolor\": \"white\", \"zerolinewidth\": 2}}}, \"xaxis\": {\"anchor\": \"y\", \"constrain\": \"domain\", \"domain\": [0.0, 1.0], \"scaleanchor\": \"y\"}, \"yaxis\": {\"anchor\": \"x\", \"autorange\": \"reversed\", \"constrain\": \"domain\", \"domain\": [0.0, 1.0], \"title\": {\"text\": \"Identifier\"}}},                        {\"responsive\": true}                    ).then(function(){\n",
       "                            \n",
       "var gd = document.getElementById('5080c12b-d968-41b7-8d96-b97912ce6a01');\n",
       "var x = new MutationObserver(function (mutations, observer) {{\n",
       "        var display = window.getComputedStyle(gd).display;\n",
       "        if (!display || display === 'none') {{\n",
       "            console.log([gd, 'removed!']);\n",
       "            Plotly.purge(gd);\n",
       "            observer.disconnect();\n",
       "        }}\n",
       "}});\n",
       "\n",
       "// Listen for the removal of the full notebook cells\n",
       "var notebookContainer = gd.closest('#notebook-container');\n",
       "if (notebookContainer) {{\n",
       "    x.observe(notebookContainer, {childList: true});\n",
       "}}\n",
       "\n",
       "// Listen for the clearing of the current output cell\n",
       "var outputEl = gd.closest('.output');\n",
       "if (outputEl) {{\n",
       "    x.observe(outputEl, {childList: true});\n",
       "}}\n",
       "\n",
       "                        })                };                });            </script>        </div>"
      ]
     },
     "metadata": {},
     "output_type": "display_data"
    }
   ],
   "source": [
    "from plotly import express as px\n",
    "px.imshow(wi.standardize_df(heatmap_df, log=True, axis=0))"
   ]
  },
  {
   "cell_type": "code",
   "execution_count": null,
   "metadata": {},
   "outputs": [],
   "source": []
  }
 ],
 "metadata": {
  "kernelspec": {
   "display_name": "Python 3",
   "language": "python",
   "name": "python3"
  },
  "language_info": {
   "codemirror_mode": {
    "name": "ipython",
    "version": 3
   },
   "file_extension": ".py",
   "mimetype": "text/x-python",
   "name": "python",
   "nbconvert_exporter": "python",
   "pygments_lexer": "ipython3",
   "version": "3.7.8"
  }
 },
 "nbformat": 4,
 "nbformat_minor": 4
}
