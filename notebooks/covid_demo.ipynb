{
 "cells": [
  {
   "cell_type": "code",
   "execution_count": 1,
   "metadata": {},
   "outputs": [],
   "source": [
    "%load_ext autoreload\n",
    "%autoreload 2\n",
    "\n",
    "%matplotlib inline"
   ]
  },
  {
   "cell_type": "code",
   "execution_count": 2,
   "metadata": {},
   "outputs": [],
   "source": [
    "import os, sys"
   ]
  },
  {
   "cell_type": "code",
   "execution_count": 3,
   "metadata": {},
   "outputs": [],
   "source": [
    "import pylab as plt\n",
    "import matplotlib\n",
    "\n",
    "import numpy as np\n",
    "import pandas as pd"
   ]
  },
  {
   "cell_type": "code",
   "execution_count": 4,
   "metadata": {},
   "outputs": [
    {
     "name": "stderr",
     "output_type": "stream",
     "text": [
      "2021-01-21 17:52:57.365 | INFO     | pyWebOmics.reactome:get_neo4j_driver:24 - Created graph database driver for bolt://localhost:7687 (neo4j)\n"
     ]
    }
   ],
   "source": [
    "sys.path.append('..')\n",
    "\n",
    "from pyWebOmics.constants import HOMO_SAPIENS, REACTIONS, PROTEOMICS, METABOLOMICS, GENOMICS, TRANSCRIPTOMICS, PATHWAYS\n",
    "from pyWebOmics.mapping import Mapper\n",
    "from pyWebOmics.common import set_log_level_info, set_log_level_debug"
   ]
  },
  {
   "cell_type": "markdown",
   "metadata": {},
   "source": [
    "# Demonstration of pyWebOmics"
   ]
  },
  {
   "cell_type": "markdown",
   "metadata": {},
   "source": [
    "## Load the processed Covid data from [1]\n",
    "\n",
    "[1] [Shen, Bo, et al. \"Proteomic and metabolomic characterization of COVID-19 patient sera.\" Cell 182.1 (2020): 59-72.](https://www.sciencedirect.com/science/article/pii/S0092867420306279?casa_token=wKwWn9P4MK0AAAAA:v8z5MVnQ1ONrcatncCsigSDoxeOq2ZOcN4da9SofGDcpeDqrC76QK8yNKrKtVUrMWBBAntI8)"
   ]
  },
  {
   "cell_type": "code",
   "execution_count": 5,
   "metadata": {},
   "outputs": [
    {
     "data": {
      "text/plain": [
       "'C:\\\\Users\\\\joewa\\\\Work\\\\git\\\\pyWebOmics\\\\notebooks\\\\test_data\\\\covid19_data'"
      ]
     },
     "execution_count": 5,
     "metadata": {},
     "output_type": "execute_result"
    }
   ],
   "source": [
    "DATA_FOLDER = os.path.abspath(os.path.join('test_data', 'covid19_data'))\n",
    "DATA_FOLDER"
   ]
  },
  {
   "cell_type": "markdown",
   "metadata": {},
   "source": [
    "Read proteomics data"
   ]
  },
  {
   "cell_type": "code",
   "execution_count": 6,
   "metadata": {},
   "outputs": [],
   "source": [
    "protein_data = pd.read_csv(os.path.join(DATA_FOLDER, 'protein_data.csv'), index_col='Identifier')\n",
    "protein_design = pd.read_csv(os.path.join(DATA_FOLDER, 'protein_design.csv'), index_col='sample')"
   ]
  },
  {
   "cell_type": "code",
   "execution_count": 7,
   "metadata": {},
   "outputs": [
    {
     "data": {
      "text/html": [
       "<div>\n",
       "<style scoped>\n",
       "    .dataframe tbody tr th:only-of-type {\n",
       "        vertical-align: middle;\n",
       "    }\n",
       "\n",
       "    .dataframe tbody tr th {\n",
       "        vertical-align: top;\n",
       "    }\n",
       "\n",
       "    .dataframe thead th {\n",
       "        text-align: right;\n",
       "    }\n",
       "</style>\n",
       "<table border=\"1\" class=\"dataframe\">\n",
       "  <thead>\n",
       "    <tr style=\"text-align: right;\">\n",
       "      <th></th>\n",
       "      <th>h_F1_131N</th>\n",
       "      <th>h_F1_131C</th>\n",
       "      <th>h_F1_132C</th>\n",
       "      <th>h_F2_131N</th>\n",
       "      <th>h_F2_131C</th>\n",
       "      <th>h_F2_132C</th>\n",
       "      <th>h_F3_131N</th>\n",
       "      <th>h_F3_131C</th>\n",
       "      <th>h_F3_132C</th>\n",
       "      <th>h_F4_131N</th>\n",
       "      <th>...</th>\n",
       "      <th>s_F3_128N</th>\n",
       "      <th>s_F3_128C</th>\n",
       "      <th>s_F3_129C</th>\n",
       "      <th>s_F4_128N</th>\n",
       "      <th>s_F4_128C</th>\n",
       "      <th>s_F5_128N</th>\n",
       "      <th>s_F5_128C</th>\n",
       "      <th>s_F6_128N</th>\n",
       "      <th>s_F6_128C</th>\n",
       "      <th>s_F6_133N</th>\n",
       "    </tr>\n",
       "    <tr>\n",
       "      <th>Identifier</th>\n",
       "      <th></th>\n",
       "      <th></th>\n",
       "      <th></th>\n",
       "      <th></th>\n",
       "      <th></th>\n",
       "      <th></th>\n",
       "      <th></th>\n",
       "      <th></th>\n",
       "      <th></th>\n",
       "      <th></th>\n",
       "      <th></th>\n",
       "      <th></th>\n",
       "      <th></th>\n",
       "      <th></th>\n",
       "      <th></th>\n",
       "      <th></th>\n",
       "      <th></th>\n",
       "      <th></th>\n",
       "      <th></th>\n",
       "      <th></th>\n",
       "      <th></th>\n",
       "    </tr>\n",
       "  </thead>\n",
       "  <tbody>\n",
       "    <tr>\n",
       "      <th>P04114</th>\n",
       "      <td>0.750</td>\n",
       "      <td>0.853</td>\n",
       "      <td>0.822</td>\n",
       "      <td>1.191</td>\n",
       "      <td>1.175</td>\n",
       "      <td>1.078</td>\n",
       "      <td>0.693</td>\n",
       "      <td>0.947</td>\n",
       "      <td>0.931</td>\n",
       "      <td>1.057</td>\n",
       "      <td>...</td>\n",
       "      <td>1.044</td>\n",
       "      <td>1.305</td>\n",
       "      <td>1.657</td>\n",
       "      <td>1.323</td>\n",
       "      <td>1.624</td>\n",
       "      <td>1.170</td>\n",
       "      <td>0.981</td>\n",
       "      <td>0.791</td>\n",
       "      <td>1.029</td>\n",
       "      <td>1.195</td>\n",
       "    </tr>\n",
       "    <tr>\n",
       "      <th>P01024</th>\n",
       "      <td>0.782</td>\n",
       "      <td>1.057</td>\n",
       "      <td>0.994</td>\n",
       "      <td>0.864</td>\n",
       "      <td>0.917</td>\n",
       "      <td>0.790</td>\n",
       "      <td>0.823</td>\n",
       "      <td>1.152</td>\n",
       "      <td>0.816</td>\n",
       "      <td>0.920</td>\n",
       "      <td>...</td>\n",
       "      <td>1.100</td>\n",
       "      <td>0.986</td>\n",
       "      <td>1.114</td>\n",
       "      <td>1.210</td>\n",
       "      <td>1.289</td>\n",
       "      <td>1.104</td>\n",
       "      <td>1.111</td>\n",
       "      <td>1.007</td>\n",
       "      <td>1.159</td>\n",
       "      <td>0.979</td>\n",
       "    </tr>\n",
       "    <tr>\n",
       "      <th>P02768</th>\n",
       "      <td>1.183</td>\n",
       "      <td>1.101</td>\n",
       "      <td>1.045</td>\n",
       "      <td>1.086</td>\n",
       "      <td>1.041</td>\n",
       "      <td>1.187</td>\n",
       "      <td>1.234</td>\n",
       "      <td>1.079</td>\n",
       "      <td>1.011</td>\n",
       "      <td>1.099</td>\n",
       "      <td>...</td>\n",
       "      <td>0.786</td>\n",
       "      <td>0.706</td>\n",
       "      <td>0.947</td>\n",
       "      <td>0.831</td>\n",
       "      <td>0.717</td>\n",
       "      <td>0.795</td>\n",
       "      <td>0.776</td>\n",
       "      <td>0.938</td>\n",
       "      <td>0.903</td>\n",
       "      <td>0.743</td>\n",
       "    </tr>\n",
       "    <tr>\n",
       "      <th>P01023</th>\n",
       "      <td>1.066</td>\n",
       "      <td>1.278</td>\n",
       "      <td>0.959</td>\n",
       "      <td>0.811</td>\n",
       "      <td>0.789</td>\n",
       "      <td>0.931</td>\n",
       "      <td>0.971</td>\n",
       "      <td>0.769</td>\n",
       "      <td>1.011</td>\n",
       "      <td>0.866</td>\n",
       "      <td>...</td>\n",
       "      <td>0.817</td>\n",
       "      <td>0.728</td>\n",
       "      <td>0.861</td>\n",
       "      <td>0.798</td>\n",
       "      <td>0.751</td>\n",
       "      <td>0.917</td>\n",
       "      <td>0.809</td>\n",
       "      <td>0.780</td>\n",
       "      <td>1.195</td>\n",
       "      <td>0.706</td>\n",
       "    </tr>\n",
       "    <tr>\n",
       "      <th>P02751</th>\n",
       "      <td>1.085</td>\n",
       "      <td>0.947</td>\n",
       "      <td>0.993</td>\n",
       "      <td>1.343</td>\n",
       "      <td>1.130</td>\n",
       "      <td>0.778</td>\n",
       "      <td>0.731</td>\n",
       "      <td>1.084</td>\n",
       "      <td>1.107</td>\n",
       "      <td>0.909</td>\n",
       "      <td>...</td>\n",
       "      <td>0.566</td>\n",
       "      <td>0.854</td>\n",
       "      <td>1.109</td>\n",
       "      <td>0.630</td>\n",
       "      <td>0.850</td>\n",
       "      <td>0.661</td>\n",
       "      <td>0.848</td>\n",
       "      <td>0.829</td>\n",
       "      <td>0.760</td>\n",
       "      <td>0.811</td>\n",
       "    </tr>\n",
       "  </tbody>\n",
       "</table>\n",
       "<p>5 rows × 70 columns</p>\n",
       "</div>"
      ],
      "text/plain": [
       "            h_F1_131N  h_F1_131C  h_F1_132C  h_F2_131N  h_F2_131C  h_F2_132C  \\\n",
       "Identifier                                                                     \n",
       "P04114          0.750      0.853      0.822      1.191      1.175      1.078   \n",
       "P01024          0.782      1.057      0.994      0.864      0.917      0.790   \n",
       "P02768          1.183      1.101      1.045      1.086      1.041      1.187   \n",
       "P01023          1.066      1.278      0.959      0.811      0.789      0.931   \n",
       "P02751          1.085      0.947      0.993      1.343      1.130      0.778   \n",
       "\n",
       "            h_F3_131N  h_F3_131C  h_F3_132C  h_F4_131N  ...  s_F3_128N  \\\n",
       "Identifier                                              ...              \n",
       "P04114          0.693      0.947      0.931      1.057  ...      1.044   \n",
       "P01024          0.823      1.152      0.816      0.920  ...      1.100   \n",
       "P02768          1.234      1.079      1.011      1.099  ...      0.786   \n",
       "P01023          0.971      0.769      1.011      0.866  ...      0.817   \n",
       "P02751          0.731      1.084      1.107      0.909  ...      0.566   \n",
       "\n",
       "            s_F3_128C  s_F3_129C  s_F4_128N  s_F4_128C  s_F5_128N  s_F5_128C  \\\n",
       "Identifier                                                                     \n",
       "P04114          1.305      1.657      1.323      1.624      1.170      0.981   \n",
       "P01024          0.986      1.114      1.210      1.289      1.104      1.111   \n",
       "P02768          0.706      0.947      0.831      0.717      0.795      0.776   \n",
       "P01023          0.728      0.861      0.798      0.751      0.917      0.809   \n",
       "P02751          0.854      1.109      0.630      0.850      0.661      0.848   \n",
       "\n",
       "            s_F6_128N  s_F6_128C  s_F6_133N  \n",
       "Identifier                                   \n",
       "P04114          0.791      1.029      1.195  \n",
       "P01024          1.007      1.159      0.979  \n",
       "P02768          0.938      0.903      0.743  \n",
       "P01023          0.780      1.195      0.706  \n",
       "P02751          0.829      0.760      0.811  \n",
       "\n",
       "[5 rows x 70 columns]"
      ]
     },
     "execution_count": 7,
     "metadata": {},
     "output_type": "execute_result"
    }
   ],
   "source": [
    "protein_data.head()"
   ]
  },
  {
   "cell_type": "code",
   "execution_count": 8,
   "metadata": {},
   "outputs": [
    {
     "data": {
      "text/html": [
       "<div>\n",
       "<style scoped>\n",
       "    .dataframe tbody tr th:only-of-type {\n",
       "        vertical-align: middle;\n",
       "    }\n",
       "\n",
       "    .dataframe tbody tr th {\n",
       "        vertical-align: top;\n",
       "    }\n",
       "\n",
       "    .dataframe thead th {\n",
       "        text-align: right;\n",
       "    }\n",
       "</style>\n",
       "<table border=\"1\" class=\"dataframe\">\n",
       "  <thead>\n",
       "    <tr style=\"text-align: right;\">\n",
       "      <th></th>\n",
       "      <th>group</th>\n",
       "    </tr>\n",
       "    <tr>\n",
       "      <th>sample</th>\n",
       "      <th></th>\n",
       "    </tr>\n",
       "  </thead>\n",
       "  <tbody>\n",
       "    <tr>\n",
       "      <th>h_F1_131N</th>\n",
       "      <td>healthy</td>\n",
       "    </tr>\n",
       "    <tr>\n",
       "      <th>h_F1_131C</th>\n",
       "      <td>healthy</td>\n",
       "    </tr>\n",
       "    <tr>\n",
       "      <th>h_F1_132C</th>\n",
       "      <td>healthy</td>\n",
       "    </tr>\n",
       "    <tr>\n",
       "      <th>h_F2_131N</th>\n",
       "      <td>healthy</td>\n",
       "    </tr>\n",
       "    <tr>\n",
       "      <th>h_F2_131C</th>\n",
       "      <td>healthy</td>\n",
       "    </tr>\n",
       "    <tr>\n",
       "      <th>...</th>\n",
       "      <td>...</td>\n",
       "    </tr>\n",
       "    <tr>\n",
       "      <th>s_F5_128N</th>\n",
       "      <td>severe</td>\n",
       "    </tr>\n",
       "    <tr>\n",
       "      <th>s_F5_128C</th>\n",
       "      <td>severe</td>\n",
       "    </tr>\n",
       "    <tr>\n",
       "      <th>s_F6_128N</th>\n",
       "      <td>severe</td>\n",
       "    </tr>\n",
       "    <tr>\n",
       "      <th>s_F6_128C</th>\n",
       "      <td>severe</td>\n",
       "    </tr>\n",
       "    <tr>\n",
       "      <th>s_F6_133N</th>\n",
       "      <td>severe</td>\n",
       "    </tr>\n",
       "  </tbody>\n",
       "</table>\n",
       "<p>70 rows × 1 columns</p>\n",
       "</div>"
      ],
      "text/plain": [
       "             group\n",
       "sample            \n",
       "h_F1_131N  healthy\n",
       "h_F1_131C  healthy\n",
       "h_F1_132C  healthy\n",
       "h_F2_131N  healthy\n",
       "h_F2_131C  healthy\n",
       "...            ...\n",
       "s_F5_128N   severe\n",
       "s_F5_128C   severe\n",
       "s_F6_128N   severe\n",
       "s_F6_128C   severe\n",
       "s_F6_133N   severe\n",
       "\n",
       "[70 rows x 1 columns]"
      ]
     },
     "execution_count": 8,
     "metadata": {},
     "output_type": "execute_result"
    }
   ],
   "source": [
    "protein_design"
   ]
  },
  {
   "cell_type": "markdown",
   "metadata": {},
   "source": [
    "Read metabolomics data"
   ]
  },
  {
   "cell_type": "code",
   "execution_count": 9,
   "metadata": {},
   "outputs": [],
   "source": [
    "compound_data = pd.read_csv(os.path.join(DATA_FOLDER, 'compound_data.csv'), index_col='Identifier')\n",
    "compound_design = pd.read_csv(os.path.join(DATA_FOLDER, 'compound_design.csv'), index_col='sample')"
   ]
  },
  {
   "cell_type": "code",
   "execution_count": 10,
   "metadata": {},
   "outputs": [
    {
     "data": {
      "text/html": [
       "<div>\n",
       "<style scoped>\n",
       "    .dataframe tbody tr th:only-of-type {\n",
       "        vertical-align: middle;\n",
       "    }\n",
       "\n",
       "    .dataframe tbody tr th {\n",
       "        vertical-align: top;\n",
       "    }\n",
       "\n",
       "    .dataframe thead th {\n",
       "        text-align: right;\n",
       "    }\n",
       "</style>\n",
       "<table border=\"1\" class=\"dataframe\">\n",
       "  <thead>\n",
       "    <tr style=\"text-align: right;\">\n",
       "      <th></th>\n",
       "      <th>h_jkdz1</th>\n",
       "      <th>h_jkdz2</th>\n",
       "      <th>h_jkdz3</th>\n",
       "      <th>h_jkdz4</th>\n",
       "      <th>h_jkdz5</th>\n",
       "      <th>h_jkdz6</th>\n",
       "      <th>h_jkdz7</th>\n",
       "      <th>h_jkdz8</th>\n",
       "      <th>h_jkdz9</th>\n",
       "      <th>h_jkdz10</th>\n",
       "      <th>...</th>\n",
       "      <th>s_ZX12</th>\n",
       "      <th>s_ZX13</th>\n",
       "      <th>s_ZX14</th>\n",
       "      <th>s_ZX15</th>\n",
       "      <th>s_ZX16</th>\n",
       "      <th>s_ZX17</th>\n",
       "      <th>s_ZX18</th>\n",
       "      <th>s_ZX19</th>\n",
       "      <th>s_ZX20</th>\n",
       "      <th>s_ZX21</th>\n",
       "    </tr>\n",
       "    <tr>\n",
       "      <th>Identifier</th>\n",
       "      <th></th>\n",
       "      <th></th>\n",
       "      <th></th>\n",
       "      <th></th>\n",
       "      <th></th>\n",
       "      <th></th>\n",
       "      <th></th>\n",
       "      <th></th>\n",
       "      <th></th>\n",
       "      <th></th>\n",
       "      <th></th>\n",
       "      <th></th>\n",
       "      <th></th>\n",
       "      <th></th>\n",
       "      <th></th>\n",
       "      <th></th>\n",
       "      <th></th>\n",
       "      <th></th>\n",
       "      <th></th>\n",
       "      <th></th>\n",
       "      <th></th>\n",
       "    </tr>\n",
       "  </thead>\n",
       "  <tbody>\n",
       "    <tr>\n",
       "      <th>C21482</th>\n",
       "      <td>19413052.00</td>\n",
       "      <td>6.381812e+06</td>\n",
       "      <td>9.748316e+06</td>\n",
       "      <td>5.326872e+06</td>\n",
       "      <td>1.998072e+07</td>\n",
       "      <td>3.580375e+06</td>\n",
       "      <td>8.256121e+06</td>\n",
       "      <td>8.079382e+06</td>\n",
       "      <td>1.559659e+07</td>\n",
       "      <td>1.520363e+07</td>\n",
       "      <td>...</td>\n",
       "      <td>1.904349e+06</td>\n",
       "      <td>3.226016e+06</td>\n",
       "      <td>7.378147e+05</td>\n",
       "      <td>2.817698e+06</td>\n",
       "      <td>3.329101e+06</td>\n",
       "      <td>3206752.75</td>\n",
       "      <td>1.466174e+06</td>\n",
       "      <td>2.779301e+06</td>\n",
       "      <td>2.117668e+06</td>\n",
       "      <td>2.184310e+06</td>\n",
       "    </tr>\n",
       "    <tr>\n",
       "      <th>C18218</th>\n",
       "      <td>2711915.25</td>\n",
       "      <td>2.056393e+06</td>\n",
       "      <td>1.445594e+06</td>\n",
       "      <td>2.038765e+06</td>\n",
       "      <td>2.536996e+06</td>\n",
       "      <td>2.638198e+06</td>\n",
       "      <td>2.285757e+06</td>\n",
       "      <td>1.973140e+06</td>\n",
       "      <td>2.015425e+06</td>\n",
       "      <td>2.290842e+06</td>\n",
       "      <td>...</td>\n",
       "      <td>1.409720e+06</td>\n",
       "      <td>1.413307e+06</td>\n",
       "      <td>3.218834e+06</td>\n",
       "      <td>1.602131e+06</td>\n",
       "      <td>1.317878e+06</td>\n",
       "      <td>2930312.75</td>\n",
       "      <td>1.168094e+06</td>\n",
       "      <td>2.946776e+06</td>\n",
       "      <td>1.417311e+06</td>\n",
       "      <td>1.474166e+06</td>\n",
       "    </tr>\n",
       "    <tr>\n",
       "      <th>C05127</th>\n",
       "      <td>87727.25</td>\n",
       "      <td>NaN</td>\n",
       "      <td>9.238706e+04</td>\n",
       "      <td>NaN</td>\n",
       "      <td>1.597879e+05</td>\n",
       "      <td>NaN</td>\n",
       "      <td>NaN</td>\n",
       "      <td>NaN</td>\n",
       "      <td>9.055130e+04</td>\n",
       "      <td>1.214114e+05</td>\n",
       "      <td>...</td>\n",
       "      <td>NaN</td>\n",
       "      <td>NaN</td>\n",
       "      <td>NaN</td>\n",
       "      <td>NaN</td>\n",
       "      <td>NaN</td>\n",
       "      <td>NaN</td>\n",
       "      <td>NaN</td>\n",
       "      <td>1.382788e+05</td>\n",
       "      <td>NaN</td>\n",
       "      <td>NaN</td>\n",
       "    </tr>\n",
       "    <tr>\n",
       "      <th>C01152</th>\n",
       "      <td>58832828.00</td>\n",
       "      <td>5.843934e+07</td>\n",
       "      <td>5.552133e+07</td>\n",
       "      <td>4.516214e+07</td>\n",
       "      <td>5.478952e+07</td>\n",
       "      <td>3.941259e+07</td>\n",
       "      <td>2.987876e+07</td>\n",
       "      <td>6.751726e+07</td>\n",
       "      <td>4.666031e+07</td>\n",
       "      <td>9.118524e+07</td>\n",
       "      <td>...</td>\n",
       "      <td>2.881314e+07</td>\n",
       "      <td>3.164358e+07</td>\n",
       "      <td>2.538767e+07</td>\n",
       "      <td>3.307604e+07</td>\n",
       "      <td>3.915698e+07</td>\n",
       "      <td>24400592.00</td>\n",
       "      <td>2.593375e+07</td>\n",
       "      <td>6.413868e+07</td>\n",
       "      <td>4.020588e+07</td>\n",
       "      <td>4.904488e+07</td>\n",
       "    </tr>\n",
       "    <tr>\n",
       "      <th>C02918</th>\n",
       "      <td>NaN</td>\n",
       "      <td>1.815549e+05</td>\n",
       "      <td>2.240392e+05</td>\n",
       "      <td>1.609397e+05</td>\n",
       "      <td>3.206194e+05</td>\n",
       "      <td>7.176557e+05</td>\n",
       "      <td>3.268182e+05</td>\n",
       "      <td>5.135810e+05</td>\n",
       "      <td>2.734582e+05</td>\n",
       "      <td>NaN</td>\n",
       "      <td>...</td>\n",
       "      <td>3.337245e+05</td>\n",
       "      <td>NaN</td>\n",
       "      <td>4.347152e+05</td>\n",
       "      <td>3.532118e+04</td>\n",
       "      <td>NaN</td>\n",
       "      <td>655827.25</td>\n",
       "      <td>8.359706e+05</td>\n",
       "      <td>4.034381e+06</td>\n",
       "      <td>2.839358e+05</td>\n",
       "      <td>8.062160e+04</td>\n",
       "    </tr>\n",
       "  </tbody>\n",
       "</table>\n",
       "<p>5 rows × 96 columns</p>\n",
       "</div>"
      ],
      "text/plain": [
       "                h_jkdz1       h_jkdz2       h_jkdz3       h_jkdz4  \\\n",
       "Identifier                                                          \n",
       "C21482      19413052.00  6.381812e+06  9.748316e+06  5.326872e+06   \n",
       "C18218       2711915.25  2.056393e+06  1.445594e+06  2.038765e+06   \n",
       "C05127         87727.25           NaN  9.238706e+04           NaN   \n",
       "C01152      58832828.00  5.843934e+07  5.552133e+07  4.516214e+07   \n",
       "C02918              NaN  1.815549e+05  2.240392e+05  1.609397e+05   \n",
       "\n",
       "                 h_jkdz5       h_jkdz6       h_jkdz7       h_jkdz8  \\\n",
       "Identifier                                                           \n",
       "C21482      1.998072e+07  3.580375e+06  8.256121e+06  8.079382e+06   \n",
       "C18218      2.536996e+06  2.638198e+06  2.285757e+06  1.973140e+06   \n",
       "C05127      1.597879e+05           NaN           NaN           NaN   \n",
       "C01152      5.478952e+07  3.941259e+07  2.987876e+07  6.751726e+07   \n",
       "C02918      3.206194e+05  7.176557e+05  3.268182e+05  5.135810e+05   \n",
       "\n",
       "                 h_jkdz9      h_jkdz10  ...        s_ZX12        s_ZX13  \\\n",
       "Identifier                              ...                               \n",
       "C21482      1.559659e+07  1.520363e+07  ...  1.904349e+06  3.226016e+06   \n",
       "C18218      2.015425e+06  2.290842e+06  ...  1.409720e+06  1.413307e+06   \n",
       "C05127      9.055130e+04  1.214114e+05  ...           NaN           NaN   \n",
       "C01152      4.666031e+07  9.118524e+07  ...  2.881314e+07  3.164358e+07   \n",
       "C02918      2.734582e+05           NaN  ...  3.337245e+05           NaN   \n",
       "\n",
       "                  s_ZX14        s_ZX15        s_ZX16       s_ZX17  \\\n",
       "Identifier                                                          \n",
       "C21482      7.378147e+05  2.817698e+06  3.329101e+06   3206752.75   \n",
       "C18218      3.218834e+06  1.602131e+06  1.317878e+06   2930312.75   \n",
       "C05127               NaN           NaN           NaN          NaN   \n",
       "C01152      2.538767e+07  3.307604e+07  3.915698e+07  24400592.00   \n",
       "C02918      4.347152e+05  3.532118e+04           NaN    655827.25   \n",
       "\n",
       "                  s_ZX18        s_ZX19        s_ZX20        s_ZX21  \n",
       "Identifier                                                          \n",
       "C21482      1.466174e+06  2.779301e+06  2.117668e+06  2.184310e+06  \n",
       "C18218      1.168094e+06  2.946776e+06  1.417311e+06  1.474166e+06  \n",
       "C05127               NaN  1.382788e+05           NaN           NaN  \n",
       "C01152      2.593375e+07  6.413868e+07  4.020588e+07  4.904488e+07  \n",
       "C02918      8.359706e+05  4.034381e+06  2.839358e+05  8.062160e+04  \n",
       "\n",
       "[5 rows x 96 columns]"
      ]
     },
     "execution_count": 10,
     "metadata": {},
     "output_type": "execute_result"
    }
   ],
   "source": [
    "compound_data.head()"
   ]
  },
  {
   "cell_type": "code",
   "execution_count": 11,
   "metadata": {},
   "outputs": [
    {
     "data": {
      "text/html": [
       "<div>\n",
       "<style scoped>\n",
       "    .dataframe tbody tr th:only-of-type {\n",
       "        vertical-align: middle;\n",
       "    }\n",
       "\n",
       "    .dataframe tbody tr th {\n",
       "        vertical-align: top;\n",
       "    }\n",
       "\n",
       "    .dataframe thead th {\n",
       "        text-align: right;\n",
       "    }\n",
       "</style>\n",
       "<table border=\"1\" class=\"dataframe\">\n",
       "  <thead>\n",
       "    <tr style=\"text-align: right;\">\n",
       "      <th></th>\n",
       "      <th>group</th>\n",
       "    </tr>\n",
       "    <tr>\n",
       "      <th>sample</th>\n",
       "      <th></th>\n",
       "    </tr>\n",
       "  </thead>\n",
       "  <tbody>\n",
       "    <tr>\n",
       "      <th>h_jkdz1</th>\n",
       "      <td>healthy</td>\n",
       "    </tr>\n",
       "    <tr>\n",
       "      <th>h_jkdz2</th>\n",
       "      <td>healthy</td>\n",
       "    </tr>\n",
       "    <tr>\n",
       "      <th>h_jkdz3</th>\n",
       "      <td>healthy</td>\n",
       "    </tr>\n",
       "    <tr>\n",
       "      <th>h_jkdz4</th>\n",
       "      <td>healthy</td>\n",
       "    </tr>\n",
       "    <tr>\n",
       "      <th>h_jkdz5</th>\n",
       "      <td>healthy</td>\n",
       "    </tr>\n",
       "    <tr>\n",
       "      <th>...</th>\n",
       "      <td>...</td>\n",
       "    </tr>\n",
       "    <tr>\n",
       "      <th>s_ZX17</th>\n",
       "      <td>severe</td>\n",
       "    </tr>\n",
       "    <tr>\n",
       "      <th>s_ZX18</th>\n",
       "      <td>severe</td>\n",
       "    </tr>\n",
       "    <tr>\n",
       "      <th>s_ZX19</th>\n",
       "      <td>severe</td>\n",
       "    </tr>\n",
       "    <tr>\n",
       "      <th>s_ZX20</th>\n",
       "      <td>severe</td>\n",
       "    </tr>\n",
       "    <tr>\n",
       "      <th>s_ZX21</th>\n",
       "      <td>severe</td>\n",
       "    </tr>\n",
       "  </tbody>\n",
       "</table>\n",
       "<p>96 rows × 1 columns</p>\n",
       "</div>"
      ],
      "text/plain": [
       "           group\n",
       "sample          \n",
       "h_jkdz1  healthy\n",
       "h_jkdz2  healthy\n",
       "h_jkdz3  healthy\n",
       "h_jkdz4  healthy\n",
       "h_jkdz5  healthy\n",
       "...          ...\n",
       "s_ZX17    severe\n",
       "s_ZX18    severe\n",
       "s_ZX19    severe\n",
       "s_ZX20    severe\n",
       "s_ZX21    severe\n",
       "\n",
       "[96 rows x 1 columns]"
      ]
     },
     "execution_count": 11,
     "metadata": {},
     "output_type": "execute_result"
    }
   ],
   "source": [
    "compound_design"
   ]
  },
  {
   "cell_type": "code",
   "execution_count": 12,
   "metadata": {},
   "outputs": [
    {
     "data": {
      "text/plain": [
       "1"
      ]
     },
     "execution_count": 12,
     "metadata": {},
     "output_type": "execute_result"
    }
   ],
   "source": [
    "set_log_level_info()"
   ]
  },
  {
   "cell_type": "markdown",
   "metadata": {},
   "source": [
    "## Create a mapping object"
   ]
  },
  {
   "cell_type": "markdown",
   "metadata": {},
   "source": [
    "The mapping object uses Reactome to map the different biological entities in the data:\n",
    "- Transcripts (or genes) are connected to the proteins they encode\n",
    "- Proteins and compounds are connected to reactions they're involved in\n",
    "- Reactions are connected to pathways"
   ]
  },
  {
   "cell_type": "code",
   "execution_count": 13,
   "metadata": {},
   "outputs": [
    {
     "name": "stderr",
     "output_type": "stream",
     "text": [
      "2021-01-21 17:53:00.414 | INFO     | pyWebOmics.mapping:build:78 - Created a multi-omics network with 6445 nodes and 13840 edges\n",
      "2021-01-21 17:53:00.424 | INFO     | pyWebOmics.mapping:build:79 - node_counts = {'Genomics': 0, 'Transcriptomics': 0, 'Proteomics': 594, 'Metabolomics': 81, 'Reactions': 5770, 'Pathways': 0}\n"
     ]
    }
   ],
   "source": [
    "m = Mapper(HOMO_SAPIENS) \\\n",
    "        .set_protein(protein_data, protein_design) \\\n",
    "        .set_compound(compound_data, compound_design) \\\n",
    "        .build()"
   ]
  },
  {
   "cell_type": "code",
   "execution_count": 14,
   "metadata": {},
   "outputs": [
    {
     "data": {
      "text/plain": [
       "<pyWebOmics.mapping.Mapper at 0x1c801de72b0>"
      ]
     },
     "execution_count": 14,
     "metadata": {},
     "output_type": "execute_result"
    }
   ],
   "source": [
    "m"
   ]
  },
  {
   "cell_type": "markdown",
   "metadata": {},
   "source": [
    "## Query mapping object"
   ]
  },
  {
   "cell_type": "markdown",
   "metadata": {},
   "source": [
    "Below shows some example queries we can perform with the mapping object"
   ]
  },
  {
   "cell_type": "markdown",
   "metadata": {},
   "source": [
    "##### Find out the number of entities mapped to each reaction"
   ]
  },
  {
   "cell_type": "code",
   "execution_count": 15,
   "metadata": {},
   "outputs": [
    {
     "name": "stdout",
     "output_type": "stream",
     "text": [
      "R-HSA-8952289\tFAM20C phosphorylates FAM20C substrates (num_proteins=50 num_compounds=1)\n",
      "R-HSA-749448\tLiganded Gq-activating GPCRs bind inactive heterotrimeric Gq (num_proteins=6 num_compounds=9)\n",
      "R-HSA-749452\tThe Ligand:GPCR:Gq complex dissociates (num_proteins=6 num_compounds=8)\n",
      "R-HSA-379048\tLiganded Gq/11-activating GPCRs act as GEFs for Gq/11 (num_proteins=6 num_compounds=9)\n",
      "R-HSA-749454\tThe Ligand:GPCR:Gi complex dissociates (num_proteins=10 num_compounds=5)\n",
      "R-HSA-749456\tLiganded Gi-activating GPCRs bind inactive heterotrimeric G-protein Gi (num_proteins=10 num_compounds=6)\n",
      "R-HSA-380073\tLiganded Gi-activating GPCR acts as a GEF for Gi (num_proteins=10 num_compounds=6)\n",
      "R-HSA-9606162\tPhosphorylated BTK phosphorylates PLCG2 (num_proteins=45 num_compounds=1)\n",
      "R-HSA-9606159\tBTK autophosphorylates (num_proteins=45 num_compounds=1)\n",
      "R-HSA-9606163\tp-SYK and LYN phosphorylate BTK (num_proteins=45 num_compounds=1)\n"
     ]
    }
   ],
   "source": [
    "reactions = m.get_nodes(types=REACTIONS)\n",
    "count = 0\n",
    "for reaction_id, reaction_data in reactions:\n",
    "    reaction_name = reaction_data['name']\n",
    "    proteins = m.get_connected(reaction_id, REACTIONS, PROTEOMICS)\n",
    "    compounds = m.get_connected(reaction_id, REACTIONS, METABOLOMICS)\n",
    "    \n",
    "    if len(proteins) > 0 and len(compounds) > 0:\n",
    "        print('%s\\t%s (num_proteins=%d num_compounds=%d)' % (reaction_id, reaction_name, len(proteins), len(compounds)))\n",
    "        count += 1\n",
    "        if count >= 10:\n",
    "            break"
   ]
  },
  {
   "cell_type": "markdown",
   "metadata": {},
   "source": [
    "##### List all entities connected to reaction R-HSA-749448"
   ]
  },
  {
   "cell_type": "code",
   "execution_count": 16,
   "metadata": {},
   "outputs": [
    {
     "data": {
      "text/plain": [
       "['P01042',\n",
       " 'P0DJI8',\n",
       " 'P00734',\n",
       " 'P01019',\n",
       " 'Q9HAV0',\n",
       " 'P05067',\n",
       " 'C00002',\n",
       " 'C00035',\n",
       " 'C00025',\n",
       " 'C00015',\n",
       " 'C02165',\n",
       " 'C00780',\n",
       " 'C00047',\n",
       " 'C00062',\n",
       " 'C00077']"
      ]
     },
     "execution_count": 16,
     "metadata": {},
     "output_type": "execute_result"
    }
   ],
   "source": [
    "query_id = 'R-HSA-749448'\n",
    "m.get_neighbours(query_id)"
   ]
  },
  {
   "cell_type": "markdown",
   "metadata": {},
   "source": [
    "##### Query the connections between proteins and compounds (through their shared reactions)"
   ]
  },
  {
   "cell_type": "code",
   "execution_count": 17,
   "metadata": {},
   "outputs": [
    {
     "data": {
      "text/plain": [
       "['C00035',\n",
       " 'C00015',\n",
       " 'C00042',\n",
       " 'C00002',\n",
       " 'C00025',\n",
       " 'C02165',\n",
       " 'C00186',\n",
       " 'C00047',\n",
       " 'C00062',\n",
       " 'C00077',\n",
       " 'C00029',\n",
       " 'C00780']"
      ]
     },
     "execution_count": 17,
     "metadata": {},
     "output_type": "execute_result"
    }
   ],
   "source": [
    "query_id = 'P01042'\n",
    "m.get_connected(query_id, PROTEOMICS, METABOLOMICS)"
   ]
  },
  {
   "cell_type": "code",
   "execution_count": 18,
   "metadata": {},
   "outputs": [
    {
     "data": {
      "text/plain": [
       "['P01019', 'P0DJI8', 'P01042', 'Q9HAV0', 'P00734', 'P05067']"
      ]
     },
     "execution_count": 18,
     "metadata": {},
     "output_type": "execute_result"
    }
   ],
   "source": [
    "query_id = 'C00077'\n",
    "m.get_connected(query_id, METABOLOMICS, PROTEOMICS)"
   ]
  }
 ],
 "metadata": {
  "kernelspec": {
   "display_name": "Python 3",
   "language": "python",
   "name": "python3"
  },
  "language_info": {
   "codemirror_mode": {
    "name": "ipython",
    "version": 3
   },
   "file_extension": ".py",
   "mimetype": "text/x-python",
   "name": "python",
   "nbconvert_exporter": "python",
   "pygments_lexer": "ipython3",
   "version": "3.7.3"
  }
 },
 "nbformat": 4,
 "nbformat_minor": 4
}
