{
 "cells": [
  {
   "cell_type": "code",
   "execution_count": 1,
   "metadata": {},
   "outputs": [],
   "source": [
    "%load_ext autoreload\n",
    "%autoreload 2\n",
    "\n",
    "%matplotlib inline"
   ]
  },
  {
   "cell_type": "code",
   "execution_count": 2,
   "metadata": {},
   "outputs": [],
   "source": [
    "import os, sys"
   ]
  },
  {
   "cell_type": "code",
   "execution_count": 3,
   "metadata": {},
   "outputs": [],
   "source": [
    "import pandas as pd"
   ]
  },
  {
   "cell_type": "code",
   "execution_count": 4,
   "metadata": {},
   "outputs": [
    {
     "name": "stderr",
     "output_type": "stream",
     "text": [
      "2021-01-28 20:02:26.220 | INFO     | pyWebOmics.reactome:get_neo4j_driver:24 - Created graph database driver for bolt://localhost:7687 (neo4j)\n"
     ]
    }
   ],
   "source": [
    "sys.path.append('..')\n",
    "\n",
    "from pyWebOmics.constants import *\n",
    "from pyWebOmics.mapping import Mapper\n",
    "from pyWebOmics.common import set_log_level_info"
   ]
  },
  {
   "cell_type": "markdown",
   "metadata": {},
   "source": [
    "# Demonstration of pyMultiOmics"
   ]
  },
  {
   "cell_type": "markdown",
   "metadata": {},
   "source": [
    "## Load the processed Zebrafish data from [1]\n",
    "\n",
    "[1] [Rabinowitz, Jeremy S., et al. \"Transcriptomic, proteomic, and metabolomic landscape of positional memory in the caudal fin of zebrafish.\" Proceedings of the National Academy of Sciences 114.5 (2017): E717-E726.](https://www.pnas.org/content/114/5/E717.short)"
   ]
  },
  {
   "cell_type": "code",
   "execution_count": 5,
   "metadata": {},
   "outputs": [
    {
     "data": {
      "text/plain": [
       "'C:\\\\Users\\\\joewa\\\\Work\\\\git\\\\pyWebOmics\\\\notebooks\\\\test_data\\\\zebrafish_data'"
      ]
     },
     "execution_count": 5,
     "metadata": {},
     "output_type": "execute_result"
    }
   ],
   "source": [
    "DATA_FOLDER = os.path.abspath(os.path.join('test_data', 'zebrafish_data'))\n",
    "DATA_FOLDER"
   ]
  },
  {
   "cell_type": "markdown",
   "metadata": {},
   "source": [
    "Read transcriptomics data (identified by their gene ids)"
   ]
  },
  {
   "cell_type": "code",
   "execution_count": 6,
   "metadata": {},
   "outputs": [],
   "source": [
    "gene_data = pd.read_csv(os.path.join(DATA_FOLDER, 'gene_data_combined.csv'), index_col='Identifier')\n",
    "gene_design = pd.read_csv(os.path.join(DATA_FOLDER, 'gene_design.csv'), index_col='sample')"
   ]
  },
  {
   "cell_type": "code",
   "execution_count": 7,
   "metadata": {},
   "outputs": [
    {
     "data": {
      "text/html": [
       "<div>\n",
       "<style scoped>\n",
       "    .dataframe tbody tr th:only-of-type {\n",
       "        vertical-align: middle;\n",
       "    }\n",
       "\n",
       "    .dataframe tbody tr th {\n",
       "        vertical-align: top;\n",
       "    }\n",
       "\n",
       "    .dataframe thead th {\n",
       "        text-align: right;\n",
       "    }\n",
       "</style>\n",
       "<table border=\"1\" class=\"dataframe\">\n",
       "  <thead>\n",
       "    <tr style=\"text-align: right;\">\n",
       "      <th></th>\n",
       "      <th>US-1584693</th>\n",
       "      <th>US-1584700</th>\n",
       "      <th>US-1584706</th>\n",
       "      <th>US-1584712</th>\n",
       "      <th>US-1584722</th>\n",
       "      <th>US-1584724</th>\n",
       "      <th>US-1584725</th>\n",
       "      <th>US-1584732</th>\n",
       "      <th>US-1584738</th>\n",
       "      <th>US-1584744</th>\n",
       "      <th>...</th>\n",
       "      <th>US-1584753</th>\n",
       "      <th>US-1584754</th>\n",
       "      <th>US-1584758</th>\n",
       "      <th>US-1584765</th>\n",
       "      <th>FC_distal_vs_proximal</th>\n",
       "      <th>padj_distal_vs_proximal</th>\n",
       "      <th>FC_distal_vs_middle</th>\n",
       "      <th>padj_distal_vs_middle</th>\n",
       "      <th>FC_middle_vs_proximal</th>\n",
       "      <th>padj_middle_vs_proximal</th>\n",
       "    </tr>\n",
       "    <tr>\n",
       "      <th>Identifier</th>\n",
       "      <th></th>\n",
       "      <th></th>\n",
       "      <th></th>\n",
       "      <th></th>\n",
       "      <th></th>\n",
       "      <th></th>\n",
       "      <th></th>\n",
       "      <th></th>\n",
       "      <th></th>\n",
       "      <th></th>\n",
       "      <th></th>\n",
       "      <th></th>\n",
       "      <th></th>\n",
       "      <th></th>\n",
       "      <th></th>\n",
       "      <th></th>\n",
       "      <th></th>\n",
       "      <th></th>\n",
       "      <th></th>\n",
       "      <th></th>\n",
       "      <th></th>\n",
       "    </tr>\n",
       "  </thead>\n",
       "  <tbody>\n",
       "    <tr>\n",
       "      <th>ENSDARG00000000001</th>\n",
       "      <td>51</td>\n",
       "      <td>40</td>\n",
       "      <td>69</td>\n",
       "      <td>78</td>\n",
       "      <td>89</td>\n",
       "      <td>47</td>\n",
       "      <td>88</td>\n",
       "      <td>86</td>\n",
       "      <td>110</td>\n",
       "      <td>55</td>\n",
       "      <td>...</td>\n",
       "      <td>58</td>\n",
       "      <td>104</td>\n",
       "      <td>43</td>\n",
       "      <td>72</td>\n",
       "      <td>0.869331</td>\n",
       "      <td>0.000008</td>\n",
       "      <td>0.748943</td>\n",
       "      <td>4.380000e-05</td>\n",
       "      <td>0.114026</td>\n",
       "      <td>0.630834</td>\n",
       "    </tr>\n",
       "    <tr>\n",
       "      <th>ENSDARG00000000002</th>\n",
       "      <td>283</td>\n",
       "      <td>129</td>\n",
       "      <td>164</td>\n",
       "      <td>269</td>\n",
       "      <td>211</td>\n",
       "      <td>171</td>\n",
       "      <td>146</td>\n",
       "      <td>256</td>\n",
       "      <td>283</td>\n",
       "      <td>150</td>\n",
       "      <td>...</td>\n",
       "      <td>142</td>\n",
       "      <td>272</td>\n",
       "      <td>260</td>\n",
       "      <td>256</td>\n",
       "      <td>0.287823</td>\n",
       "      <td>0.031298</td>\n",
       "      <td>1.005337</td>\n",
       "      <td>1.310000e-13</td>\n",
       "      <td>-0.724987</td>\n",
       "      <td>0.000001</td>\n",
       "    </tr>\n",
       "    <tr>\n",
       "      <th>ENSDARG00000000018</th>\n",
       "      <td>545</td>\n",
       "      <td>503</td>\n",
       "      <td>547</td>\n",
       "      <td>387</td>\n",
       "      <td>332</td>\n",
       "      <td>559</td>\n",
       "      <td>623</td>\n",
       "      <td>499</td>\n",
       "      <td>436</td>\n",
       "      <td>488</td>\n",
       "      <td>...</td>\n",
       "      <td>462</td>\n",
       "      <td>287</td>\n",
       "      <td>495</td>\n",
       "      <td>299</td>\n",
       "      <td>-0.437271</td>\n",
       "      <td>0.000389</td>\n",
       "      <td>-0.404770</td>\n",
       "      <td>6.868400e-04</td>\n",
       "      <td>-0.040193</td>\n",
       "      <td>0.760679</td>\n",
       "    </tr>\n",
       "    <tr>\n",
       "      <th>ENSDARG00000000019</th>\n",
       "      <td>437</td>\n",
       "      <td>469</td>\n",
       "      <td>538</td>\n",
       "      <td>557</td>\n",
       "      <td>550</td>\n",
       "      <td>404</td>\n",
       "      <td>544</td>\n",
       "      <td>443</td>\n",
       "      <td>623</td>\n",
       "      <td>502</td>\n",
       "      <td>...</td>\n",
       "      <td>470</td>\n",
       "      <td>460</td>\n",
       "      <td>329</td>\n",
       "      <td>480</td>\n",
       "      <td>0.521291</td>\n",
       "      <td>0.000015</td>\n",
       "      <td>0.271082</td>\n",
       "      <td>1.936266e-02</td>\n",
       "      <td>0.242435</td>\n",
       "      <td>0.041606</td>\n",
       "    </tr>\n",
       "    <tr>\n",
       "      <th>ENSDARG00000000068</th>\n",
       "      <td>266</td>\n",
       "      <td>249</td>\n",
       "      <td>247</td>\n",
       "      <td>236</td>\n",
       "      <td>195</td>\n",
       "      <td>247</td>\n",
       "      <td>283</td>\n",
       "      <td>259</td>\n",
       "      <td>299</td>\n",
       "      <td>232</td>\n",
       "      <td>...</td>\n",
       "      <td>231</td>\n",
       "      <td>236</td>\n",
       "      <td>274</td>\n",
       "      <td>241</td>\n",
       "      <td>0.064820</td>\n",
       "      <td>0.595522</td>\n",
       "      <td>0.142243</td>\n",
       "      <td>2.579239e-01</td>\n",
       "      <td>-0.084764</td>\n",
       "      <td>0.528336</td>\n",
       "    </tr>\n",
       "  </tbody>\n",
       "</table>\n",
       "<p>5 rows × 21 columns</p>\n",
       "</div>"
      ],
      "text/plain": [
       "                    US-1584693  US-1584700  US-1584706  US-1584712  \\\n",
       "Identifier                                                           \n",
       "ENSDARG00000000001          51          40          69          78   \n",
       "ENSDARG00000000002         283         129         164         269   \n",
       "ENSDARG00000000018         545         503         547         387   \n",
       "ENSDARG00000000019         437         469         538         557   \n",
       "ENSDARG00000000068         266         249         247         236   \n",
       "\n",
       "                    US-1584722  US-1584724  US-1584725  US-1584732  \\\n",
       "Identifier                                                           \n",
       "ENSDARG00000000001          89          47          88          86   \n",
       "ENSDARG00000000002         211         171         146         256   \n",
       "ENSDARG00000000018         332         559         623         499   \n",
       "ENSDARG00000000019         550         404         544         443   \n",
       "ENSDARG00000000068         195         247         283         259   \n",
       "\n",
       "                    US-1584738  US-1584744  ...  US-1584753  US-1584754  \\\n",
       "Identifier                                  ...                           \n",
       "ENSDARG00000000001         110          55  ...          58         104   \n",
       "ENSDARG00000000002         283         150  ...         142         272   \n",
       "ENSDARG00000000018         436         488  ...         462         287   \n",
       "ENSDARG00000000019         623         502  ...         470         460   \n",
       "ENSDARG00000000068         299         232  ...         231         236   \n",
       "\n",
       "                    US-1584758  US-1584765  FC_distal_vs_proximal  \\\n",
       "Identifier                                                          \n",
       "ENSDARG00000000001          43          72               0.869331   \n",
       "ENSDARG00000000002         260         256               0.287823   \n",
       "ENSDARG00000000018         495         299              -0.437271   \n",
       "ENSDARG00000000019         329         480               0.521291   \n",
       "ENSDARG00000000068         274         241               0.064820   \n",
       "\n",
       "                    padj_distal_vs_proximal  FC_distal_vs_middle  \\\n",
       "Identifier                                                         \n",
       "ENSDARG00000000001                 0.000008             0.748943   \n",
       "ENSDARG00000000002                 0.031298             1.005337   \n",
       "ENSDARG00000000018                 0.000389            -0.404770   \n",
       "ENSDARG00000000019                 0.000015             0.271082   \n",
       "ENSDARG00000000068                 0.595522             0.142243   \n",
       "\n",
       "                    padj_distal_vs_middle  FC_middle_vs_proximal  \\\n",
       "Identifier                                                         \n",
       "ENSDARG00000000001           4.380000e-05               0.114026   \n",
       "ENSDARG00000000002           1.310000e-13              -0.724987   \n",
       "ENSDARG00000000018           6.868400e-04              -0.040193   \n",
       "ENSDARG00000000019           1.936266e-02               0.242435   \n",
       "ENSDARG00000000068           2.579239e-01              -0.084764   \n",
       "\n",
       "                    padj_middle_vs_proximal  \n",
       "Identifier                                   \n",
       "ENSDARG00000000001                 0.630834  \n",
       "ENSDARG00000000002                 0.000001  \n",
       "ENSDARG00000000018                 0.760679  \n",
       "ENSDARG00000000019                 0.041606  \n",
       "ENSDARG00000000068                 0.528336  \n",
       "\n",
       "[5 rows x 21 columns]"
      ]
     },
     "execution_count": 7,
     "metadata": {},
     "output_type": "execute_result"
    }
   ],
   "source": [
    "gene_data.head()"
   ]
  },
  {
   "cell_type": "code",
   "execution_count": 8,
   "metadata": {},
   "outputs": [
    {
     "data": {
      "text/html": [
       "<div>\n",
       "<style scoped>\n",
       "    .dataframe tbody tr th:only-of-type {\n",
       "        vertical-align: middle;\n",
       "    }\n",
       "\n",
       "    .dataframe tbody tr th {\n",
       "        vertical-align: top;\n",
       "    }\n",
       "\n",
       "    .dataframe thead th {\n",
       "        text-align: right;\n",
       "    }\n",
       "</style>\n",
       "<table border=\"1\" class=\"dataframe\">\n",
       "  <thead>\n",
       "    <tr style=\"text-align: right;\">\n",
       "      <th></th>\n",
       "      <th>group</th>\n",
       "    </tr>\n",
       "    <tr>\n",
       "      <th>sample</th>\n",
       "      <th></th>\n",
       "    </tr>\n",
       "  </thead>\n",
       "  <tbody>\n",
       "    <tr>\n",
       "      <th>US-1584752</th>\n",
       "      <td>Proximal</td>\n",
       "    </tr>\n",
       "    <tr>\n",
       "      <th>US-1584732</th>\n",
       "      <td>Proximal</td>\n",
       "    </tr>\n",
       "    <tr>\n",
       "      <th>US-1584724</th>\n",
       "      <td>Proximal</td>\n",
       "    </tr>\n",
       "    <tr>\n",
       "      <th>US-1584693</th>\n",
       "      <td>Proximal</td>\n",
       "    </tr>\n",
       "    <tr>\n",
       "      <th>US-1584758</th>\n",
       "      <td>Proximal</td>\n",
       "    </tr>\n",
       "    <tr>\n",
       "      <th>US-1584725</th>\n",
       "      <td>Middle</td>\n",
       "    </tr>\n",
       "    <tr>\n",
       "      <th>US-1584706</th>\n",
       "      <td>Middle</td>\n",
       "    </tr>\n",
       "    <tr>\n",
       "      <th>US-1584700</th>\n",
       "      <td>Middle</td>\n",
       "    </tr>\n",
       "    <tr>\n",
       "      <th>US-1584744</th>\n",
       "      <td>Middle</td>\n",
       "    </tr>\n",
       "    <tr>\n",
       "      <th>US-1584753</th>\n",
       "      <td>Middle</td>\n",
       "    </tr>\n",
       "    <tr>\n",
       "      <th>US-1584738</th>\n",
       "      <td>Distal</td>\n",
       "    </tr>\n",
       "    <tr>\n",
       "      <th>US-1584722</th>\n",
       "      <td>Distal</td>\n",
       "    </tr>\n",
       "    <tr>\n",
       "      <th>US-1584712</th>\n",
       "      <td>Distal</td>\n",
       "    </tr>\n",
       "    <tr>\n",
       "      <th>US-1584754</th>\n",
       "      <td>Distal</td>\n",
       "    </tr>\n",
       "    <tr>\n",
       "      <th>US-1584765</th>\n",
       "      <td>Distal</td>\n",
       "    </tr>\n",
       "  </tbody>\n",
       "</table>\n",
       "</div>"
      ],
      "text/plain": [
       "               group\n",
       "sample              \n",
       "US-1584752  Proximal\n",
       "US-1584732  Proximal\n",
       "US-1584724  Proximal\n",
       "US-1584693  Proximal\n",
       "US-1584758  Proximal\n",
       "US-1584725    Middle\n",
       "US-1584706    Middle\n",
       "US-1584700    Middle\n",
       "US-1584744    Middle\n",
       "US-1584753    Middle\n",
       "US-1584738    Distal\n",
       "US-1584722    Distal\n",
       "US-1584712    Distal\n",
       "US-1584754    Distal\n",
       "US-1584765    Distal"
      ]
     },
     "execution_count": 8,
     "metadata": {},
     "output_type": "execute_result"
    }
   ],
   "source": [
    "gene_design"
   ]
  },
  {
   "cell_type": "markdown",
   "metadata": {},
   "source": [
    "Read proteomics data"
   ]
  },
  {
   "cell_type": "code",
   "execution_count": 9,
   "metadata": {},
   "outputs": [],
   "source": [
    "protein_data = pd.read_csv(os.path.join(DATA_FOLDER, 'protein_data.csv'), index_col='Uniprot')\n",
    "protein_design = pd.read_csv(os.path.join(DATA_FOLDER, 'protein_design.csv'), index_col='sample')"
   ]
  },
  {
   "cell_type": "code",
   "execution_count": 10,
   "metadata": {},
   "outputs": [
    {
     "data": {
      "text/html": [
       "<div>\n",
       "<style scoped>\n",
       "    .dataframe tbody tr th:only-of-type {\n",
       "        vertical-align: middle;\n",
       "    }\n",
       "\n",
       "    .dataframe tbody tr th {\n",
       "        vertical-align: top;\n",
       "    }\n",
       "\n",
       "    .dataframe thead th {\n",
       "        text-align: right;\n",
       "    }\n",
       "</style>\n",
       "<table border=\"1\" class=\"dataframe\">\n",
       "  <thead>\n",
       "    <tr style=\"text-align: right;\">\n",
       "      <th></th>\n",
       "      <th>Distal#3_01</th>\n",
       "      <th>Distal#3_02</th>\n",
       "      <th>Distal#3_03</th>\n",
       "      <th>Distal#3_04</th>\n",
       "      <th>Middle#3_01</th>\n",
       "      <th>Middle#3_02</th>\n",
       "      <th>Middle#3_03</th>\n",
       "      <th>Middle#3_04</th>\n",
       "      <th>Proximal#3_01</th>\n",
       "      <th>Proximal#3_02</th>\n",
       "      <th>Proximal#3_03</th>\n",
       "      <th>Proximal#3_04</th>\n",
       "    </tr>\n",
       "    <tr>\n",
       "      <th>Uniprot</th>\n",
       "      <th></th>\n",
       "      <th></th>\n",
       "      <th></th>\n",
       "      <th></th>\n",
       "      <th></th>\n",
       "      <th></th>\n",
       "      <th></th>\n",
       "      <th></th>\n",
       "      <th></th>\n",
       "      <th></th>\n",
       "      <th></th>\n",
       "      <th></th>\n",
       "    </tr>\n",
       "  </thead>\n",
       "  <tbody>\n",
       "    <tr>\n",
       "      <th>A0A0A0MPL4</th>\n",
       "      <td>9.955264e+05</td>\n",
       "      <td>4.946580e+06</td>\n",
       "      <td>1.377194e+06</td>\n",
       "      <td>2.208140e+06</td>\n",
       "      <td>2.907807e+06</td>\n",
       "      <td>4.231976e+06</td>\n",
       "      <td>1.560849e+06</td>\n",
       "      <td>2.852904e+06</td>\n",
       "      <td>1781795.086</td>\n",
       "      <td>2.668135e+06</td>\n",
       "      <td>3.079148e+06</td>\n",
       "      <td>2.840473e+06</td>\n",
       "    </tr>\n",
       "    <tr>\n",
       "      <th>A0A0B4J1A5</th>\n",
       "      <td>2.982519e+06</td>\n",
       "      <td>8.816655e+06</td>\n",
       "      <td>7.668431e+06</td>\n",
       "      <td>4.632309e+06</td>\n",
       "      <td>7.672153e+06</td>\n",
       "      <td>7.776017e+06</td>\n",
       "      <td>6.633781e+06</td>\n",
       "      <td>8.242783e+06</td>\n",
       "      <td>5475654.544</td>\n",
       "      <td>5.703832e+06</td>\n",
       "      <td>8.294364e+06</td>\n",
       "      <td>1.334874e+07</td>\n",
       "    </tr>\n",
       "    <tr>\n",
       "      <th>A0A0B4J1A7</th>\n",
       "      <td>1.553049e+07</td>\n",
       "      <td>1.037155e+06</td>\n",
       "      <td>1.856137e+07</td>\n",
       "      <td>1.767859e+07</td>\n",
       "      <td>1.375736e+07</td>\n",
       "      <td>1.747998e+07</td>\n",
       "      <td>1.517507e+07</td>\n",
       "      <td>2.394465e+07</td>\n",
       "      <td>3157387.719</td>\n",
       "      <td>1.794775e+07</td>\n",
       "      <td>2.300430e+07</td>\n",
       "      <td>2.063800e+07</td>\n",
       "    </tr>\n",
       "    <tr>\n",
       "      <th>A0AUQ3</th>\n",
       "      <td>2.012699e+06</td>\n",
       "      <td>3.088982e+06</td>\n",
       "      <td>2.455865e+06</td>\n",
       "      <td>9.448331e+05</td>\n",
       "      <td>2.866780e+06</td>\n",
       "      <td>2.661669e+06</td>\n",
       "      <td>2.100352e+06</td>\n",
       "      <td>2.133662e+06</td>\n",
       "      <td>1738244.989</td>\n",
       "      <td>2.629396e+06</td>\n",
       "      <td>2.900560e+06</td>\n",
       "      <td>2.416018e+06</td>\n",
       "    </tr>\n",
       "    <tr>\n",
       "      <th>A0AUR9</th>\n",
       "      <td>3.640487e+06</td>\n",
       "      <td>2.588477e+07</td>\n",
       "      <td>3.415989e+07</td>\n",
       "      <td>2.868569e+06</td>\n",
       "      <td>1.971142e+06</td>\n",
       "      <td>2.472776e+06</td>\n",
       "      <td>5.615177e+06</td>\n",
       "      <td>1.303356e+06</td>\n",
       "      <td>3263299.566</td>\n",
       "      <td>6.866769e+06</td>\n",
       "      <td>2.465929e+06</td>\n",
       "      <td>4.515643e+06</td>\n",
       "    </tr>\n",
       "  </tbody>\n",
       "</table>\n",
       "</div>"
      ],
      "text/plain": [
       "             Distal#3_01   Distal#3_02   Distal#3_03   Distal#3_04  \\\n",
       "Uniprot                                                              \n",
       "A0A0A0MPL4  9.955264e+05  4.946580e+06  1.377194e+06  2.208140e+06   \n",
       "A0A0B4J1A5  2.982519e+06  8.816655e+06  7.668431e+06  4.632309e+06   \n",
       "A0A0B4J1A7  1.553049e+07  1.037155e+06  1.856137e+07  1.767859e+07   \n",
       "A0AUQ3      2.012699e+06  3.088982e+06  2.455865e+06  9.448331e+05   \n",
       "A0AUR9      3.640487e+06  2.588477e+07  3.415989e+07  2.868569e+06   \n",
       "\n",
       "             Middle#3_01   Middle#3_02   Middle#3_03   Middle#3_04  \\\n",
       "Uniprot                                                              \n",
       "A0A0A0MPL4  2.907807e+06  4.231976e+06  1.560849e+06  2.852904e+06   \n",
       "A0A0B4J1A5  7.672153e+06  7.776017e+06  6.633781e+06  8.242783e+06   \n",
       "A0A0B4J1A7  1.375736e+07  1.747998e+07  1.517507e+07  2.394465e+07   \n",
       "A0AUQ3      2.866780e+06  2.661669e+06  2.100352e+06  2.133662e+06   \n",
       "A0AUR9      1.971142e+06  2.472776e+06  5.615177e+06  1.303356e+06   \n",
       "\n",
       "            Proximal#3_01  Proximal#3_02  Proximal#3_03  Proximal#3_04  \n",
       "Uniprot                                                                 \n",
       "A0A0A0MPL4    1781795.086   2.668135e+06   3.079148e+06   2.840473e+06  \n",
       "A0A0B4J1A5    5475654.544   5.703832e+06   8.294364e+06   1.334874e+07  \n",
       "A0A0B4J1A7    3157387.719   1.794775e+07   2.300430e+07   2.063800e+07  \n",
       "A0AUQ3        1738244.989   2.629396e+06   2.900560e+06   2.416018e+06  \n",
       "A0AUR9        3263299.566   6.866769e+06   2.465929e+06   4.515643e+06  "
      ]
     },
     "execution_count": 10,
     "metadata": {},
     "output_type": "execute_result"
    }
   ],
   "source": [
    "protein_data.head()"
   ]
  },
  {
   "cell_type": "code",
   "execution_count": 11,
   "metadata": {},
   "outputs": [
    {
     "data": {
      "text/html": [
       "<div>\n",
       "<style scoped>\n",
       "    .dataframe tbody tr th:only-of-type {\n",
       "        vertical-align: middle;\n",
       "    }\n",
       "\n",
       "    .dataframe tbody tr th {\n",
       "        vertical-align: top;\n",
       "    }\n",
       "\n",
       "    .dataframe thead th {\n",
       "        text-align: right;\n",
       "    }\n",
       "</style>\n",
       "<table border=\"1\" class=\"dataframe\">\n",
       "  <thead>\n",
       "    <tr style=\"text-align: right;\">\n",
       "      <th></th>\n",
       "      <th>group</th>\n",
       "    </tr>\n",
       "    <tr>\n",
       "      <th>sample</th>\n",
       "      <th></th>\n",
       "    </tr>\n",
       "  </thead>\n",
       "  <tbody>\n",
       "    <tr>\n",
       "      <th>Distal#3_01</th>\n",
       "      <td>Distal</td>\n",
       "    </tr>\n",
       "    <tr>\n",
       "      <th>Distal#3_02</th>\n",
       "      <td>Distal</td>\n",
       "    </tr>\n",
       "    <tr>\n",
       "      <th>Distal#3_03</th>\n",
       "      <td>Distal</td>\n",
       "    </tr>\n",
       "    <tr>\n",
       "      <th>Distal#3_04</th>\n",
       "      <td>Distal</td>\n",
       "    </tr>\n",
       "    <tr>\n",
       "      <th>Middle#3_01</th>\n",
       "      <td>Middle</td>\n",
       "    </tr>\n",
       "    <tr>\n",
       "      <th>Middle#3_02</th>\n",
       "      <td>Middle</td>\n",
       "    </tr>\n",
       "    <tr>\n",
       "      <th>Middle#3_03</th>\n",
       "      <td>Middle</td>\n",
       "    </tr>\n",
       "    <tr>\n",
       "      <th>Middle#3_04</th>\n",
       "      <td>Middle</td>\n",
       "    </tr>\n",
       "    <tr>\n",
       "      <th>Proximal#3_01</th>\n",
       "      <td>Proximal</td>\n",
       "    </tr>\n",
       "    <tr>\n",
       "      <th>Proximal#3_02</th>\n",
       "      <td>Proximal</td>\n",
       "    </tr>\n",
       "    <tr>\n",
       "      <th>Proximal#3_03</th>\n",
       "      <td>Proximal</td>\n",
       "    </tr>\n",
       "    <tr>\n",
       "      <th>Proximal#3_04</th>\n",
       "      <td>Proximal</td>\n",
       "    </tr>\n",
       "  </tbody>\n",
       "</table>\n",
       "</div>"
      ],
      "text/plain": [
       "                  group\n",
       "sample                 \n",
       "Distal#3_01      Distal\n",
       "Distal#3_02      Distal\n",
       "Distal#3_03      Distal\n",
       "Distal#3_04      Distal\n",
       "Middle#3_01      Middle\n",
       "Middle#3_02      Middle\n",
       "Middle#3_03      Middle\n",
       "Middle#3_04      Middle\n",
       "Proximal#3_01  Proximal\n",
       "Proximal#3_02  Proximal\n",
       "Proximal#3_03  Proximal\n",
       "Proximal#3_04  Proximal"
      ]
     },
     "execution_count": 11,
     "metadata": {},
     "output_type": "execute_result"
    }
   ],
   "source": [
    "protein_design"
   ]
  },
  {
   "cell_type": "markdown",
   "metadata": {},
   "source": [
    "Read metabolomics data"
   ]
  },
  {
   "cell_type": "code",
   "execution_count": 12,
   "metadata": {},
   "outputs": [],
   "source": [
    "compound_data = pd.read_csv(os.path.join(DATA_FOLDER, 'compound_data_kegg.csv'), index_col='Identifier')\n",
    "compound_design = pd.read_csv(os.path.join(DATA_FOLDER, 'compound_design.csv'), index_col='sample')"
   ]
  },
  {
   "cell_type": "code",
   "execution_count": 13,
   "metadata": {},
   "outputs": [
    {
     "data": {
      "text/html": [
       "<div>\n",
       "<style scoped>\n",
       "    .dataframe tbody tr th:only-of-type {\n",
       "        vertical-align: middle;\n",
       "    }\n",
       "\n",
       "    .dataframe tbody tr th {\n",
       "        vertical-align: top;\n",
       "    }\n",
       "\n",
       "    .dataframe thead th {\n",
       "        text-align: right;\n",
       "    }\n",
       "</style>\n",
       "<table border=\"1\" class=\"dataframe\">\n",
       "  <thead>\n",
       "    <tr style=\"text-align: right;\">\n",
       "      <th></th>\n",
       "      <th>distal_M1</th>\n",
       "      <th>distal_M2</th>\n",
       "      <th>distal_M3</th>\n",
       "      <th>distal_F1</th>\n",
       "      <th>distal_F2</th>\n",
       "      <th>distal_F3</th>\n",
       "      <th>middle_M1</th>\n",
       "      <th>middle_M2</th>\n",
       "      <th>middle_M3</th>\n",
       "      <th>middle_F1</th>\n",
       "      <th>middle_F2</th>\n",
       "      <th>middle_F3</th>\n",
       "      <th>proximal_M1</th>\n",
       "      <th>proximal_M2</th>\n",
       "      <th>proximal_M3</th>\n",
       "      <th>proximal_F1</th>\n",
       "      <th>proximal_F2</th>\n",
       "      <th>proximal_F3</th>\n",
       "    </tr>\n",
       "    <tr>\n",
       "      <th>Identifier</th>\n",
       "      <th></th>\n",
       "      <th></th>\n",
       "      <th></th>\n",
       "      <th></th>\n",
       "      <th></th>\n",
       "      <th></th>\n",
       "      <th></th>\n",
       "      <th></th>\n",
       "      <th></th>\n",
       "      <th></th>\n",
       "      <th></th>\n",
       "      <th></th>\n",
       "      <th></th>\n",
       "      <th></th>\n",
       "      <th></th>\n",
       "      <th></th>\n",
       "      <th></th>\n",
       "      <th></th>\n",
       "    </tr>\n",
       "  </thead>\n",
       "  <tbody>\n",
       "    <tr>\n",
       "      <th>C00565</th>\n",
       "      <td>75170.0</td>\n",
       "      <td>57052</td>\n",
       "      <td>39170.0</td>\n",
       "      <td>84057</td>\n",
       "      <td>38608.0</td>\n",
       "      <td>64126.0</td>\n",
       "      <td>50214.0</td>\n",
       "      <td>75680</td>\n",
       "      <td>165178</td>\n",
       "      <td>121856</td>\n",
       "      <td>77061</td>\n",
       "      <td>98015.0</td>\n",
       "      <td>113765</td>\n",
       "      <td>96098</td>\n",
       "      <td>84198</td>\n",
       "      <td>117644</td>\n",
       "      <td>169459</td>\n",
       "      <td>169669</td>\n",
       "    </tr>\n",
       "    <tr>\n",
       "      <th>C00037</th>\n",
       "      <td>64511.0</td>\n",
       "      <td>33658</td>\n",
       "      <td>23565.0</td>\n",
       "      <td>52102</td>\n",
       "      <td>49508.0</td>\n",
       "      <td>37498.0</td>\n",
       "      <td>30417.0</td>\n",
       "      <td>55728</td>\n",
       "      <td>88519</td>\n",
       "      <td>103871</td>\n",
       "      <td>45974</td>\n",
       "      <td>73101.0</td>\n",
       "      <td>72725</td>\n",
       "      <td>66008</td>\n",
       "      <td>54220</td>\n",
       "      <td>95341</td>\n",
       "      <td>110192</td>\n",
       "      <td>291598</td>\n",
       "    </tr>\n",
       "    <tr>\n",
       "      <th>C01104</th>\n",
       "      <td>5787534.0</td>\n",
       "      <td>4351239</td>\n",
       "      <td>4401036.0</td>\n",
       "      <td>8187282</td>\n",
       "      <td>8431125.0</td>\n",
       "      <td>5082056.0</td>\n",
       "      <td>5138937.0</td>\n",
       "      <td>7341351</td>\n",
       "      <td>7837293</td>\n",
       "      <td>9256269</td>\n",
       "      <td>9934066</td>\n",
       "      <td>10243285.0</td>\n",
       "      <td>7344406</td>\n",
       "      <td>5524811</td>\n",
       "      <td>4809250</td>\n",
       "      <td>9279874</td>\n",
       "      <td>9047339</td>\n",
       "      <td>9211255</td>\n",
       "    </tr>\n",
       "    <tr>\n",
       "      <th>C00134</th>\n",
       "      <td>3430897.0</td>\n",
       "      <td>1877785</td>\n",
       "      <td>1225710.0</td>\n",
       "      <td>2326620</td>\n",
       "      <td>2421267.0</td>\n",
       "      <td>2595529.0</td>\n",
       "      <td>2003627.0</td>\n",
       "      <td>2120053</td>\n",
       "      <td>2269318</td>\n",
       "      <td>3220850</td>\n",
       "      <td>4596854</td>\n",
       "      <td>3155377.0</td>\n",
       "      <td>3760854</td>\n",
       "      <td>2658833</td>\n",
       "      <td>2488025</td>\n",
       "      <td>2506550</td>\n",
       "      <td>4000703</td>\n",
       "      <td>3292566</td>\n",
       "    </tr>\n",
       "    <tr>\n",
       "      <th>C00213</th>\n",
       "      <td>112845.0</td>\n",
       "      <td>129977</td>\n",
       "      <td>122292.0</td>\n",
       "      <td>63219</td>\n",
       "      <td>50113.0</td>\n",
       "      <td>100343.0</td>\n",
       "      <td>156651.0</td>\n",
       "      <td>176682</td>\n",
       "      <td>379322</td>\n",
       "      <td>160906</td>\n",
       "      <td>56802</td>\n",
       "      <td>107161.0</td>\n",
       "      <td>235982</td>\n",
       "      <td>181200</td>\n",
       "      <td>142994</td>\n",
       "      <td>116132</td>\n",
       "      <td>94589</td>\n",
       "      <td>167280</td>\n",
       "    </tr>\n",
       "  </tbody>\n",
       "</table>\n",
       "</div>"
      ],
      "text/plain": [
       "            distal_M1  distal_M2  distal_M3  distal_F1  distal_F2  distal_F3  \\\n",
       "Identifier                                                                     \n",
       "C00565        75170.0      57052    39170.0      84057    38608.0    64126.0   \n",
       "C00037        64511.0      33658    23565.0      52102    49508.0    37498.0   \n",
       "C01104      5787534.0    4351239  4401036.0    8187282  8431125.0  5082056.0   \n",
       "C00134      3430897.0    1877785  1225710.0    2326620  2421267.0  2595529.0   \n",
       "C00213       112845.0     129977   122292.0      63219    50113.0   100343.0   \n",
       "\n",
       "            middle_M1  middle_M2  middle_M3  middle_F1  middle_F2   middle_F3  \\\n",
       "Identifier                                                                      \n",
       "C00565        50214.0      75680     165178     121856      77061     98015.0   \n",
       "C00037        30417.0      55728      88519     103871      45974     73101.0   \n",
       "C01104      5138937.0    7341351    7837293    9256269    9934066  10243285.0   \n",
       "C00134      2003627.0    2120053    2269318    3220850    4596854   3155377.0   \n",
       "C00213       156651.0     176682     379322     160906      56802    107161.0   \n",
       "\n",
       "            proximal_M1  proximal_M2  proximal_M3  proximal_F1  proximal_F2  \\\n",
       "Identifier                                                                    \n",
       "C00565           113765        96098        84198       117644       169459   \n",
       "C00037            72725        66008        54220        95341       110192   \n",
       "C01104          7344406      5524811      4809250      9279874      9047339   \n",
       "C00134          3760854      2658833      2488025      2506550      4000703   \n",
       "C00213           235982       181200       142994       116132        94589   \n",
       "\n",
       "            proximal_F3  \n",
       "Identifier               \n",
       "C00565           169669  \n",
       "C00037           291598  \n",
       "C01104          9211255  \n",
       "C00134          3292566  \n",
       "C00213           167280  "
      ]
     },
     "execution_count": 13,
     "metadata": {},
     "output_type": "execute_result"
    }
   ],
   "source": [
    "compound_data.head()"
   ]
  },
  {
   "cell_type": "code",
   "execution_count": 14,
   "metadata": {},
   "outputs": [
    {
     "data": {
      "text/html": [
       "<div>\n",
       "<style scoped>\n",
       "    .dataframe tbody tr th:only-of-type {\n",
       "        vertical-align: middle;\n",
       "    }\n",
       "\n",
       "    .dataframe tbody tr th {\n",
       "        vertical-align: top;\n",
       "    }\n",
       "\n",
       "    .dataframe thead th {\n",
       "        text-align: right;\n",
       "    }\n",
       "</style>\n",
       "<table border=\"1\" class=\"dataframe\">\n",
       "  <thead>\n",
       "    <tr style=\"text-align: right;\">\n",
       "      <th></th>\n",
       "      <th>group</th>\n",
       "    </tr>\n",
       "    <tr>\n",
       "      <th>sample</th>\n",
       "      <th></th>\n",
       "    </tr>\n",
       "  </thead>\n",
       "  <tbody>\n",
       "    <tr>\n",
       "      <th>distal_M1</th>\n",
       "      <td>Distal</td>\n",
       "    </tr>\n",
       "    <tr>\n",
       "      <th>distal_M2</th>\n",
       "      <td>Distal</td>\n",
       "    </tr>\n",
       "    <tr>\n",
       "      <th>distal_M3</th>\n",
       "      <td>Distal</td>\n",
       "    </tr>\n",
       "    <tr>\n",
       "      <th>distal_F1</th>\n",
       "      <td>Distal</td>\n",
       "    </tr>\n",
       "    <tr>\n",
       "      <th>distal_F2</th>\n",
       "      <td>Distal</td>\n",
       "    </tr>\n",
       "    <tr>\n",
       "      <th>distal_F3</th>\n",
       "      <td>Distal</td>\n",
       "    </tr>\n",
       "    <tr>\n",
       "      <th>middle_M1</th>\n",
       "      <td>Middle</td>\n",
       "    </tr>\n",
       "    <tr>\n",
       "      <th>middle_M2</th>\n",
       "      <td>Middle</td>\n",
       "    </tr>\n",
       "    <tr>\n",
       "      <th>middle_M3</th>\n",
       "      <td>Middle</td>\n",
       "    </tr>\n",
       "    <tr>\n",
       "      <th>middle_F1</th>\n",
       "      <td>Middle</td>\n",
       "    </tr>\n",
       "    <tr>\n",
       "      <th>middle_F2</th>\n",
       "      <td>Middle</td>\n",
       "    </tr>\n",
       "    <tr>\n",
       "      <th>middle_F3</th>\n",
       "      <td>Middle</td>\n",
       "    </tr>\n",
       "    <tr>\n",
       "      <th>proximal_M1</th>\n",
       "      <td>Proximal</td>\n",
       "    </tr>\n",
       "    <tr>\n",
       "      <th>proximal_M2</th>\n",
       "      <td>Proximal</td>\n",
       "    </tr>\n",
       "    <tr>\n",
       "      <th>proximal_M3</th>\n",
       "      <td>Proximal</td>\n",
       "    </tr>\n",
       "    <tr>\n",
       "      <th>proximal_F1</th>\n",
       "      <td>Proximal</td>\n",
       "    </tr>\n",
       "    <tr>\n",
       "      <th>proximal_F2</th>\n",
       "      <td>Proximal</td>\n",
       "    </tr>\n",
       "    <tr>\n",
       "      <th>proximal_F3</th>\n",
       "      <td>Proximal</td>\n",
       "    </tr>\n",
       "  </tbody>\n",
       "</table>\n",
       "</div>"
      ],
      "text/plain": [
       "                group\n",
       "sample               \n",
       "distal_M1      Distal\n",
       "distal_M2      Distal\n",
       "distal_M3      Distal\n",
       "distal_F1      Distal\n",
       "distal_F2      Distal\n",
       "distal_F3      Distal\n",
       "middle_M1      Middle\n",
       "middle_M2      Middle\n",
       "middle_M3      Middle\n",
       "middle_F1      Middle\n",
       "middle_F2      Middle\n",
       "middle_F3      Middle\n",
       "proximal_M1  Proximal\n",
       "proximal_M2  Proximal\n",
       "proximal_M3  Proximal\n",
       "proximal_F1  Proximal\n",
       "proximal_F2  Proximal\n",
       "proximal_F3  Proximal"
      ]
     },
     "execution_count": 14,
     "metadata": {},
     "output_type": "execute_result"
    }
   ],
   "source": [
    "compound_design"
   ]
  },
  {
   "cell_type": "code",
   "execution_count": 15,
   "metadata": {},
   "outputs": [
    {
     "data": {
      "text/plain": [
       "1"
      ]
     },
     "execution_count": 15,
     "metadata": {},
     "output_type": "execute_result"
    }
   ],
   "source": [
    "set_log_level_info()"
   ]
  },
  {
   "cell_type": "markdown",
   "metadata": {},
   "source": [
    "## Create a mapping object"
   ]
  },
  {
   "cell_type": "markdown",
   "metadata": {},
   "source": [
    "The mapping object uses Reactome to map the different biological entities in the data:\n",
    "- Transcripts (or genes) are connected to the proteins they encode\n",
    "- Proteins and compounds are connected to reactions they're involved in\n",
    "- Reactions are connected to pathways"
   ]
  },
  {
   "cell_type": "code",
   "execution_count": 16,
   "metadata": {},
   "outputs": [
    {
     "name": "stderr",
     "output_type": "stream",
     "text": [
      "2021-01-28 20:02:27.425 | INFO     | pyWebOmics.functions:reactome_mapping:72 - Mapping genes -> proteins\n",
      "2021-01-28 20:02:28.319 | INFO     | pyWebOmics.functions:reactome_mapping:77 - Mapping proteins -> reactions\n",
      "2021-01-28 20:02:30.422 | INFO     | pyWebOmics.functions:reactome_mapping:85 - Mapping compounds -> reactions\n",
      "2021-01-28 20:02:31.325 | INFO     | pyWebOmics.functions:reactome_mapping:91 - Mapping reactions -> pathways\n",
      "2021-01-28 20:02:31.644 | INFO     | pyWebOmics.functions:reactome_mapping:102 - Mapping reactions -> proteins\n",
      "2021-01-28 20:02:34.018 | INFO     | pyWebOmics.functions:reactome_mapping:109 - Mapping reactions -> compounds\n",
      "2021-01-28 20:02:35.294 | INFO     | pyWebOmics.functions:reactome_mapping:121 - Mapping proteins -> genes\n",
      "2021-01-28 20:02:49.355 | INFO     | pyWebOmics.mapping:_add_nodes:177 - Processing nodes: genes\n",
      "2021-01-28 20:02:52.063 | INFO     | pyWebOmics.mapping:_add_nodes:177 - Processing nodes: proteins\n",
      "2021-01-28 20:02:54.367 | INFO     | pyWebOmics.mapping:_add_nodes:177 - Processing nodes: compounds\n",
      "2021-01-28 20:02:54.838 | INFO     | pyWebOmics.mapping:_add_nodes:177 - Processing nodes: reactions\n",
      "2021-01-28 20:02:55.326 | INFO     | pyWebOmics.mapping:_add_nodes:177 - Processing nodes: pathways\n",
      "2021-01-28 20:02:55.346 | INFO     | pyWebOmics.mapping:_add_edges:232 - Processing edges: gene_proteins\n",
      "2021-01-28 20:02:55.945 | INFO     | pyWebOmics.mapping:_add_edges:232 - Processing edges: protein_reactions\n",
      "2021-01-28 20:02:59.631 | INFO     | pyWebOmics.mapping:_add_edges:232 - Processing edges: compound_reactions\n",
      "2021-01-28 20:03:00.691 | INFO     | pyWebOmics.mapping:_add_edges:232 - Processing edges: reaction_pathways\n",
      "2021-01-28 20:03:01.549 | INFO     | pyWebOmics.mapping:build:72 - Created a multi-omics network with 3950 nodes and 3907 edges\n",
      "2021-01-28 20:03:01.554 | INFO     | pyWebOmics.mapping:build:73 - node_counts = {'Genomics': 1037, 'Transcriptomics': 0, 'Proteomics': 1027, 'Metabolomics': 53, 'Reactions': 1585, 'Pathways': 248}\n"
     ]
    }
   ],
   "source": [
    "m = Mapper(DANIO_RERIO, metabolic_pathway_only=True) \\\n",
    "        .set_gene(gene_data, gene_design) \\\n",
    "        .set_protein(protein_data, protein_design) \\\n",
    "        .set_compound(compound_data, compound_design) \\\n",
    "        .build()"
   ]
  },
  {
   "cell_type": "code",
   "execution_count": 17,
   "metadata": {},
   "outputs": [
    {
     "data": {
      "text/plain": [
       "<pyWebOmics.mapping.Mapper at 0x19c02676780>"
      ]
     },
     "execution_count": 17,
     "metadata": {},
     "output_type": "execute_result"
    }
   ],
   "source": [
    "m"
   ]
  },
  {
   "cell_type": "markdown",
   "metadata": {},
   "source": [
    "## Querying mapping object"
   ]
  },
  {
   "cell_type": "markdown",
   "metadata": {},
   "source": [
    "Below shows some example queries we can perform with the mapping object"
   ]
  },
  {
   "cell_type": "markdown",
   "metadata": {},
   "source": [
    "##### Find out the number of entities mapped to each reaction"
   ]
  },
  {
   "cell_type": "code",
   "execution_count": 18,
   "metadata": {},
   "outputs": [
    {
     "name": "stdout",
     "output_type": "stream",
     "text": [
      "R-DRE-109278\tNt5e:zn2+ hydrolyses amp,damp,gmp, imp (genes=1 proteins=1 compounds=6)\n",
      "R-DRE-109291\tCmp or tmp or ump + h2o => cytidine, thymidine, or uridine + orthophosphate [nt5e] (genes=1 proteins=1 compounds=4)\n",
      "R-DRE-109624\t(2-deoxy)adenosine + atp => (d)amp + adp (adk) (genes=1 proteins=1 compounds=2)\n",
      "R-DRE-110141\t(d)adp + adp <=> (d)amp + atp (ak1) (genes=1 proteins=1 compounds=1)\n",
      "R-DRE-110144\tAdp + adp <=> amp + atp [ak2] (genes=1 proteins=1 compounds=1)\n",
      "R-DRE-110145\tAmp + atp <=> adp + adp [ak2] (genes=1 proteins=1 compounds=1)\n",
      "R-DRE-111524\tImp + l-aspartate + gtp => adenylosuccinate + gdp + pi [adss] (genes=1 proteins=1 compounds=4)\n",
      "R-DRE-1237160\tMta is cleaved and phosphorylated (genes=1 proteins=1 compounds=1)\n",
      "R-DRE-1247910\tCndp2:2mn2+ dimer hydrolyses cysgly (genes=1 proteins=1 compounds=1)\n",
      "R-DRE-1482976\tCdp-dag is converted to pi by cdipt (genes=1 proteins=1 compounds=2)\n"
     ]
    }
   ],
   "source": [
    "complete = False\n",
    "\n",
    "reactions = m.get_nodes(types=REACTIONS, complete=complete)\n",
    "count = 0\n",
    "for reaction_id, reaction_data in reactions:\n",
    "    reaction_name = reaction_data['display_name']\n",
    "    genes = m.get_connected(reaction_id, GENOMICS, complete=complete)\n",
    "    proteins = m.get_connected(reaction_id, PROTEOMICS, complete=complete)\n",
    "    compounds = m.get_connected(reaction_id, METABOLOMICS, complete=complete)\n",
    "    \n",
    "    if len(genes) > 0 and len(proteins) > 0 and len(compounds) > 0:\n",
    "        print('%s\\t%s (genes=%d proteins=%d compounds=%d)' % (reaction_id, reaction_name, len(genes), len(proteins), len(compounds)))\n",
    "        count += 1\n",
    "        if count >= 10:\n",
    "            break"
   ]
  },
  {
   "cell_type": "markdown",
   "metadata": {},
   "source": [
    "##### What are the nodes directly connected to reaction 'R-DRE-71735' in the graph?"
   ]
  },
  {
   "cell_type": "code",
   "execution_count": 19,
   "metadata": {},
   "outputs": [
    {
     "data": {
      "text/plain": [
       "['F1QAA7', '16027', 'R-DRE-71384']"
      ]
     },
     "execution_count": 19,
     "metadata": {},
     "output_type": "execute_result"
    }
   ],
   "source": [
    "query_id = 'R-DRE-71735'\n",
    "m.get_neighbours(query_id)"
   ]
  },
  {
   "cell_type": "markdown",
   "metadata": {},
   "source": [
    "##### Find genes connected to protein 'F1QAA7'"
   ]
  },
  {
   "cell_type": "code",
   "execution_count": 20,
   "metadata": {},
   "outputs": [
    {
     "data": {
      "text/plain": [
       "['ENSDARG00000037781']"
      ]
     },
     "execution_count": 20,
     "metadata": {},
     "output_type": "execute_result"
    }
   ],
   "source": [
    "query_id = 'F1QAA7'\n",
    "m.get_connected(query_id, GENOMICS)"
   ]
  },
  {
   "cell_type": "markdown",
   "metadata": {},
   "source": [
    "##### Find compounds connected to protein 'F1QAA7'"
   ]
  },
  {
   "cell_type": "code",
   "execution_count": 21,
   "metadata": {},
   "outputs": [
    {
     "data": {
      "text/plain": [
       "['16027']"
      ]
     },
     "execution_count": 21,
     "metadata": {},
     "output_type": "execute_result"
    }
   ],
   "source": [
    "query_id = 'F1QAA7'\n",
    "m.get_connected(query_id, METABOLOMICS)"
   ]
  },
  {
   "cell_type": "markdown",
   "metadata": {},
   "source": [
    "##### Find genes connected to compound '16027'"
   ]
  },
  {
   "cell_type": "code",
   "execution_count": 22,
   "metadata": {},
   "outputs": [
    {
     "data": {
      "text/plain": [
       "['ENSDARG00000014674',\n",
       " 'ENSDARG00000100731',\n",
       " 'ENSDARG00000078073',\n",
       " 'ENSDARG00000053481',\n",
       " 'ENSDARG00000006546',\n",
       " 'ENSDARG00000079848',\n",
       " 'ENSDARG00000019924',\n",
       " 'ENSDARG00000015524',\n",
       " 'ENSDARG00000071017',\n",
       " 'ENSDARG00000087927',\n",
       " 'ENSDARG00000039429',\n",
       " 'ENSDARG00000061889',\n",
       " 'ENSDARG00000005926',\n",
       " 'ENSDARG00000063525',\n",
       " 'ENSDARG00000009250',\n",
       " 'ENSDARG00000101631',\n",
       " 'ENSDARG00000037781',\n",
       " 'ENSDARG00000016375',\n",
       " 'ENSDARG00000044142']"
      ]
     },
     "execution_count": 22,
     "metadata": {},
     "output_type": "execute_result"
    }
   ],
   "source": [
    "query_id = '16027'\n",
    "m.get_connected(query_id, GENOMICS)"
   ]
  },
  {
   "cell_type": "markdown",
   "metadata": {},
   "source": [
    "##### Find pathways connected to genes 'ENSDARG00000087927'"
   ]
  },
  {
   "cell_type": "code",
   "execution_count": 23,
   "metadata": {},
   "outputs": [
    {
     "data": {
      "text/plain": [
       "['R-DRE-2393930']"
      ]
     },
     "execution_count": 23,
     "metadata": {},
     "output_type": "execute_result"
    }
   ],
   "source": [
    "query_id = 'ENSDARG00000087927'\n",
    "m.get_connected(query_id, PATHWAYS)"
   ]
  }
 ],
 "metadata": {
  "kernelspec": {
   "display_name": "Python 3",
   "language": "python",
   "name": "python3"
  },
  "language_info": {
   "codemirror_mode": {
    "name": "ipython",
    "version": 3
   },
   "file_extension": ".py",
   "mimetype": "text/x-python",
   "name": "python",
   "nbconvert_exporter": "python",
   "pygments_lexer": "ipython3",
   "version": "3.7.3"
  }
 },
 "nbformat": 4,
 "nbformat_minor": 4
}
