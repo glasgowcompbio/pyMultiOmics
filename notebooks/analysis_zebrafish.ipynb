{
 "cells": [
  {
   "cell_type": "code",
   "execution_count": 1,
   "metadata": {},
   "outputs": [],
   "source": [
    "%load_ext autoreload\n",
    "%autoreload 2\n",
    "\n",
    "%matplotlib inline"
   ]
  },
  {
   "cell_type": "code",
   "execution_count": 2,
   "metadata": {},
   "outputs": [],
   "source": [
    "import os, sys"
   ]
  },
  {
   "cell_type": "code",
   "execution_count": 3,
   "metadata": {},
   "outputs": [],
   "source": [
    "import pandas as pd\n",
    "from loguru import logger"
   ]
  },
  {
   "cell_type": "code",
   "execution_count": 4,
   "metadata": {},
   "outputs": [
    {
     "name": "stderr",
     "output_type": "stream",
     "text": [
      "2021-02-17 10:36:56.891 | INFO     | pyMultiOmics.reactome:get_neo4j_driver:24 - Created graph database driver for bolt://localhost:7687 (neo4j)\n"
     ]
    }
   ],
   "source": [
    "sys.path.append('..')\n",
    "\n",
    "from pyMultiOmics.constants import *\n",
    "from pyMultiOmics.mapping import Mapper\n",
    "from pyMultiOmics.common import set_log_level_info\n",
    "from pyMultiOmics.analysis import *\n",
    "from pyMultiOmics.query import *\n",
    "from pyMultiOmics.pipelines import *"
   ]
  },
  {
   "cell_type": "markdown",
   "metadata": {},
   "source": [
    "# Demonstration of pyMultiOmics"
   ]
  },
  {
   "cell_type": "markdown",
   "metadata": {},
   "source": [
    "## Load the processed Zebrafish data from [1]\n",
    "\n",
    "[1] [Rabinowitz, Jeremy S., et al. \"Transcriptomic, proteomic, and metabolomic landscape of positional memory in the caudal fin of zebrafish.\" Proceedings of the National Academy of Sciences 114.5 (2017): E717-E726.](https://www.pnas.org/content/114/5/E717.short)"
   ]
  },
  {
   "cell_type": "code",
   "execution_count": 5,
   "metadata": {},
   "outputs": [
    {
     "data": {
      "text/plain": [
       "'C:\\\\Users\\\\joewa\\\\Work\\\\git\\\\pyMultiOmics\\\\notebooks\\\\test_data\\\\zebrafish_data'"
      ]
     },
     "execution_count": 5,
     "metadata": {},
     "output_type": "execute_result"
    }
   ],
   "source": [
    "DATA_FOLDER = os.path.abspath(os.path.join('test_data', 'zebrafish_data'))\n",
    "DATA_FOLDER"
   ]
  },
  {
   "cell_type": "markdown",
   "metadata": {},
   "source": [
    "Read transcriptomics data (identified by their gene ids)"
   ]
  },
  {
   "cell_type": "code",
   "execution_count": 6,
   "metadata": {},
   "outputs": [],
   "source": [
    "gene_data = pd.read_csv(os.path.join(DATA_FOLDER, 'gene_data_combined.csv'), index_col='Identifier')\n",
    "gene_design = pd.read_csv(os.path.join(DATA_FOLDER, 'gene_design.csv'), index_col='sample')"
   ]
  },
  {
   "cell_type": "markdown",
   "metadata": {},
   "source": [
    "Read proteomics data"
   ]
  },
  {
   "cell_type": "code",
   "execution_count": 7,
   "metadata": {},
   "outputs": [],
   "source": [
    "protein_data = pd.read_csv(os.path.join(DATA_FOLDER, 'protein_data.csv'), index_col='Uniprot')\n",
    "protein_design = pd.read_csv(os.path.join(DATA_FOLDER, 'protein_design.csv'), index_col='sample')"
   ]
  },
  {
   "cell_type": "markdown",
   "metadata": {},
   "source": [
    "Read metabolomics data"
   ]
  },
  {
   "cell_type": "code",
   "execution_count": 8,
   "metadata": {},
   "outputs": [],
   "source": [
    "compound_data = pd.read_csv(os.path.join(DATA_FOLDER, 'compound_data_kegg.csv'), index_col='Identifier')\n",
    "compound_design = pd.read_csv(os.path.join(DATA_FOLDER, 'compound_design.csv'), index_col='sample')"
   ]
  },
  {
   "cell_type": "code",
   "execution_count": 9,
   "metadata": {},
   "outputs": [
    {
     "data": {
      "text/plain": [
       "1"
      ]
     },
     "execution_count": 9,
     "metadata": {},
     "output_type": "execute_result"
    }
   ],
   "source": [
    "set_log_level_info()"
   ]
  },
  {
   "cell_type": "markdown",
   "metadata": {},
   "source": [
    "## Create a mapping object"
   ]
  },
  {
   "cell_type": "markdown",
   "metadata": {},
   "source": [
    "The mapping object uses Reactome to map the different biological entities in the data:\n",
    "- Transcripts (or genes) are connected to the proteins they encode\n",
    "- Proteins and compounds are connected to reactions they're involved in\n",
    "- Reactions are connected to pathways"
   ]
  },
  {
   "cell_type": "code",
   "execution_count": 10,
   "metadata": {},
   "outputs": [
    {
     "name": "stderr",
     "output_type": "stream",
     "text": [
      "2021-02-17 10:36:58.013 | INFO     | pyMultiOmics.functions:reactome_mapping:72 - Mapping genes -> proteins\n",
      "2021-02-17 10:36:58.903 | INFO     | pyMultiOmics.functions:reactome_mapping:77 - Mapping proteins -> reactions\n",
      "2021-02-17 10:37:01.309 | INFO     | pyMultiOmics.functions:reactome_mapping:85 - Mapping compounds -> reactions\n",
      "2021-02-17 10:37:02.260 | INFO     | pyMultiOmics.functions:reactome_mapping:91 - Mapping reactions -> pathways\n",
      "2021-02-17 10:37:02.618 | INFO     | pyMultiOmics.functions:reactome_mapping:102 - Mapping reactions -> proteins\n",
      "2021-02-17 10:37:05.158 | INFO     | pyMultiOmics.functions:reactome_mapping:109 - Mapping reactions -> compounds\n",
      "2021-02-17 10:37:06.545 | INFO     | pyMultiOmics.functions:reactome_mapping:121 - Mapping proteins -> genes\n",
      "2021-02-17 10:37:21.783 | INFO     | pyMultiOmics.mapping:_add_nodes:181 - Processing nodes: genes\n",
      "2021-02-17 10:37:24.180 | INFO     | pyMultiOmics.mapping:_add_nodes:181 - Processing nodes: proteins\n",
      "2021-02-17 10:37:25.034 | INFO     | pyMultiOmics.mapping:_add_nodes:181 - Processing nodes: compounds\n",
      "2021-02-17 10:37:25.168 | INFO     | pyMultiOmics.mapping:_add_nodes:181 - Processing nodes: reactions\n",
      "2021-02-17 10:37:25.695 | INFO     | pyMultiOmics.mapping:_add_nodes:181 - Processing nodes: pathways\n",
      "2021-02-17 10:37:25.717 | INFO     | pyMultiOmics.mapping:_add_edges:229 - Processing edges: gene_proteins\n",
      "2021-02-17 10:37:26.292 | INFO     | pyMultiOmics.mapping:_add_edges:229 - Processing edges: protein_reactions\n",
      "2021-02-17 10:37:30.290 | INFO     | pyMultiOmics.mapping:_add_edges:229 - Processing edges: compound_reactions\n",
      "2021-02-17 10:37:31.408 | INFO     | pyMultiOmics.mapping:_add_edges:229 - Processing edges: reaction_pathways\n",
      "2021-02-17 10:37:31.955 | INFO     | pyMultiOmics.mapping:build:81 - Created a multi-omics network with 20412 nodes and 21551 edges\n",
      "2021-02-17 10:37:32.107 | INFO     | pyMultiOmics.mapping:build:82 - node_counts = {'Genomics': 8955, 'Transcriptomics': 0, 'Proteomics': 7931, 'Metabolomics': 1693, 'Reactions': 1585, 'Pathways': 248}\n"
     ]
    }
   ],
   "source": [
    "m = Mapper(DANIO_RERIO, metabolic_pathway_only=True) \\\n",
    "        .set_gene(gene_data, gene_design) \\\n",
    "        .set_protein(protein_data, protein_design) \\\n",
    "        .set_compound(compound_data, compound_design) \\\n",
    "        .build()"
   ]
  },
  {
   "cell_type": "markdown",
   "metadata": {},
   "source": [
    "## DE analysis"
   ]
  },
  {
   "cell_type": "code",
   "execution_count": 11,
   "metadata": {},
   "outputs": [
    {
     "name": "stderr",
     "output_type": "stream",
     "text": [
      "2021-02-17 10:37:32.269 | INFO     | pyMultiOmics.pipelines:run_ttest:120 - t-test case is Distal, control is Proximal\n",
      "2021-02-17 10:37:48.241 | INFO     | pyMultiOmics.pipelines:run_ttest:120 - t-test case is Distal, control is Middle\n",
      "2021-02-17 10:38:05.960 | INFO     | pyMultiOmics.pipelines:run_ttest:120 - t-test case is Proximal, control is Middle\n",
      "2021-02-17 10:38:20.308 | INFO     | pyMultiOmics.pipelines:run_ttest:120 - t-test case is Distal, control is Proximal\n",
      "2021-02-17 10:38:21.978 | INFO     | pyMultiOmics.pipelines:run_ttest:120 - t-test case is Distal, control is Middle\n",
      "2021-02-17 10:38:23.640 | INFO     | pyMultiOmics.pipelines:run_ttest:120 - t-test case is Proximal, control is Middle\n",
      "2021-02-17 10:38:25.305 | INFO     | pyMultiOmics.pipelines:run_ttest:120 - t-test case is Distal, control is Proximal\n",
      "2021-02-17 10:38:25.390 | INFO     | pyMultiOmics.pipelines:run_ttest:120 - t-test case is Distal, control is Middle\n",
      "2021-02-17 10:38:25.478 | INFO     | pyMultiOmics.pipelines:run_ttest:120 - t-test case is Proximal, control is Middle\n"
     ]
    }
   ],
   "source": [
    "method = INFERENCE_T_TEST\n",
    "ap = AnalysisPipeline(m)\n",
    "\n",
    "ap.run_de(method, GENES, 'Distal', 'Proximal')\n",
    "ap.run_de(method, GENES, 'Distal', 'Middle')\n",
    "ap.run_de(method, GENES, 'Proximal', 'Middle')\n",
    "\n",
    "ap.run_de(method, PROTEINS, 'Distal', 'Proximal')\n",
    "ap.run_de(method, PROTEINS, 'Distal', 'Middle')\n",
    "ap.run_de(method, PROTEINS, 'Proximal', 'Middle')\n",
    "\n",
    "ap.run_de(method, COMPOUNDS, 'Distal', 'Proximal')\n",
    "ap.run_de(method, COMPOUNDS, 'Distal', 'Middle')\n",
    "ap.run_de(method, COMPOUNDS, 'Proximal', 'Middle')"
   ]
  },
  {
   "cell_type": "code",
   "execution_count": 12,
   "metadata": {},
   "outputs": [
    {
     "name": "stderr",
     "output_type": "stream",
     "text": [
      "2021-02-17 10:38:25.694 | WARNING  | pyMultiOmics.analysis:run_de:41 - DE analysis for data_type=3 case=Distal control=Proximal already exists\n"
     ]
    }
   ],
   "source": [
    "ap.run_de(method, COMPOUNDS, 'Distal', 'Proximal')"
   ]
  },
  {
   "cell_type": "code",
   "execution_count": 13,
   "metadata": {},
   "outputs": [
    {
     "data": {
      "text/html": [
       "<div>\n",
       "<style scoped>\n",
       "    .dataframe tbody tr th:only-of-type {\n",
       "        vertical-align: middle;\n",
       "    }\n",
       "\n",
       "    .dataframe tbody tr th {\n",
       "        vertical-align: top;\n",
       "    }\n",
       "\n",
       "    .dataframe thead th {\n",
       "        text-align: right;\n",
       "    }\n",
       "</style>\n",
       "<table border=\"1\" class=\"dataframe\">\n",
       "  <thead>\n",
       "    <tr style=\"text-align: right;\">\n",
       "      <th></th>\n",
       "      <th>padj_Distal_vs_Proximal</th>\n",
       "      <th>FC_Distal_vs_Proximal</th>\n",
       "    </tr>\n",
       "  </thead>\n",
       "  <tbody>\n",
       "    <tr>\n",
       "      <th>ENSDARG00000000001</th>\n",
       "      <td>2.446040e-02</td>\n",
       "      <td>0.715686</td>\n",
       "    </tr>\n",
       "    <tr>\n",
       "      <th>ENSDARG00000000002</th>\n",
       "      <td>5.147844e-01</td>\n",
       "      <td>0.127781</td>\n",
       "    </tr>\n",
       "    <tr>\n",
       "      <th>ENSDARG00000000018</th>\n",
       "      <td>3.630210e-03</td>\n",
       "      <td>-0.620668</td>\n",
       "    </tr>\n",
       "    <tr>\n",
       "      <th>ENSDARG00000000019</th>\n",
       "      <td>4.935084e-02</td>\n",
       "      <td>0.349941</td>\n",
       "    </tr>\n",
       "    <tr>\n",
       "      <th>ENSDARG00000000068</th>\n",
       "      <td>3.961284e-01</td>\n",
       "      <td>-0.113797</td>\n",
       "    </tr>\n",
       "    <tr>\n",
       "      <th>ENSDARG00000000069</th>\n",
       "      <td>3.747644e-02</td>\n",
       "      <td>-0.296828</td>\n",
       "    </tr>\n",
       "    <tr>\n",
       "      <th>ENSDARG00000000086</th>\n",
       "      <td>2.716414e-02</td>\n",
       "      <td>-0.457724</td>\n",
       "    </tr>\n",
       "    <tr>\n",
       "      <th>ENSDARG00000000103</th>\n",
       "      <td>1.910610e-07</td>\n",
       "      <td>-1.543940</td>\n",
       "    </tr>\n",
       "    <tr>\n",
       "      <th>ENSDARG00000000142</th>\n",
       "      <td>8.461476e-03</td>\n",
       "      <td>0.354184</td>\n",
       "    </tr>\n",
       "    <tr>\n",
       "      <th>ENSDARG00000000151</th>\n",
       "      <td>2.412045e-01</td>\n",
       "      <td>0.112137</td>\n",
       "    </tr>\n",
       "  </tbody>\n",
       "</table>\n",
       "</div>"
      ],
      "text/plain": [
       "                    padj_Distal_vs_Proximal  FC_Distal_vs_Proximal\n",
       "ENSDARG00000000001             2.446040e-02               0.715686\n",
       "ENSDARG00000000002             5.147844e-01               0.127781\n",
       "ENSDARG00000000018             3.630210e-03              -0.620668\n",
       "ENSDARG00000000019             4.935084e-02               0.349941\n",
       "ENSDARG00000000068             3.961284e-01              -0.113797\n",
       "ENSDARG00000000069             3.747644e-02              -0.296828\n",
       "ENSDARG00000000086             2.716414e-02              -0.457724\n",
       "ENSDARG00000000103             1.910610e-07              -1.543940\n",
       "ENSDARG00000000142             8.461476e-03               0.354184\n",
       "ENSDARG00000000151             2.412045e-01               0.112137"
      ]
     },
     "execution_count": 13,
     "metadata": {},
     "output_type": "execute_result"
    }
   ],
   "source": [
    "df = ap.de_results(GENES, 'Distal', 'Proximal')\n",
    "df.head(10)"
   ]
  },
  {
   "cell_type": "markdown",
   "metadata": {},
   "source": [
    "## Query results"
   ]
  },
  {
   "cell_type": "markdown",
   "metadata": {},
   "source": [
    "Retrieve a single node"
   ]
  },
  {
   "cell_type": "code",
   "execution_count": 14,
   "metadata": {},
   "outputs": [
    {
     "data": {
      "text/html": [
       "<div>\n",
       "<style scoped>\n",
       "    .dataframe tbody tr th:only-of-type {\n",
       "        vertical-align: middle;\n",
       "    }\n",
       "\n",
       "    .dataframe tbody tr th {\n",
       "        vertical-align: top;\n",
       "    }\n",
       "\n",
       "    .dataframe thead th {\n",
       "        text-align: right;\n",
       "    }\n",
       "</style>\n",
       "<table border=\"1\" class=\"dataframe\">\n",
       "  <thead>\n",
       "    <tr style=\"text-align: right;\">\n",
       "      <th></th>\n",
       "      <th>display_name</th>\n",
       "      <th>data_type</th>\n",
       "      <th>observed</th>\n",
       "    </tr>\n",
       "    <tr>\n",
       "      <th>entity_id</th>\n",
       "      <th></th>\n",
       "      <th></th>\n",
       "      <th></th>\n",
       "    </tr>\n",
       "  </thead>\n",
       "  <tbody>\n",
       "    <tr>\n",
       "      <th>15366</th>\n",
       "      <td>Acetic acid</td>\n",
       "      <td>compounds</td>\n",
       "      <td>False</td>\n",
       "    </tr>\n",
       "  </tbody>\n",
       "</table>\n",
       "</div>"
      ],
      "text/plain": [
       "          display_name  data_type  observed\n",
       "entity_id                                  \n",
       "15366      Acetic acid  compounds     False"
      ]
     },
     "execution_count": 14,
     "metadata": {},
     "output_type": "execute_result"
    }
   ],
   "source": [
    "node_id = '15366'\n",
    "res = QueryBuilder(ap) \\\n",
    "        .add(Entity(node_id)) \\\n",
    "        .run()\n",
    "res"
   ]
  },
  {
   "cell_type": "markdown",
   "metadata": {},
   "source": [
    "Retrieve multiple nodes"
   ]
  },
  {
   "cell_type": "code",
   "execution_count": 15,
   "metadata": {},
   "outputs": [
    {
     "data": {
      "text/html": [
       "<div>\n",
       "<style scoped>\n",
       "    .dataframe tbody tr th:only-of-type {\n",
       "        vertical-align: middle;\n",
       "    }\n",
       "\n",
       "    .dataframe tbody tr th {\n",
       "        vertical-align: top;\n",
       "    }\n",
       "\n",
       "    .dataframe thead th {\n",
       "        text-align: right;\n",
       "    }\n",
       "</style>\n",
       "<table border=\"1\" class=\"dataframe\">\n",
       "  <thead>\n",
       "    <tr style=\"text-align: right;\">\n",
       "      <th></th>\n",
       "      <th>display_name</th>\n",
       "      <th>data_type</th>\n",
       "      <th>observed</th>\n",
       "    </tr>\n",
       "    <tr>\n",
       "      <th>entity_id</th>\n",
       "      <th></th>\n",
       "      <th></th>\n",
       "      <th></th>\n",
       "    </tr>\n",
       "  </thead>\n",
       "  <tbody>\n",
       "    <tr>\n",
       "      <th>15366</th>\n",
       "      <td>Acetic acid</td>\n",
       "      <td>compounds</td>\n",
       "      <td>False</td>\n",
       "    </tr>\n",
       "    <tr>\n",
       "      <th>ENSDARG00000037781</th>\n",
       "      <td>Acss2</td>\n",
       "      <td>genes</td>\n",
       "      <td>True</td>\n",
       "    </tr>\n",
       "    <tr>\n",
       "      <th>F1QAA7</th>\n",
       "      <td>F1QAA7</td>\n",
       "      <td>proteins</td>\n",
       "      <td>True</td>\n",
       "    </tr>\n",
       "  </tbody>\n",
       "</table>\n",
       "</div>"
      ],
      "text/plain": [
       "                   display_name  data_type  observed\n",
       "entity_id                                           \n",
       "15366               Acetic acid  compounds     False\n",
       "ENSDARG00000037781        Acss2      genes      True\n",
       "F1QAA7                   F1QAA7   proteins      True"
      ]
     },
     "execution_count": 15,
     "metadata": {},
     "output_type": "execute_result"
    }
   ],
   "source": [
    "node_id = ['15366', 'ENSDARG00000037781', 'F1QAA7']\n",
    "res = QueryBuilder(ap) \\\n",
    "        .add(Entity(node_id)) \\\n",
    "        .run()\n",
    "res"
   ]
  },
  {
   "cell_type": "markdown",
   "metadata": {},
   "source": [
    "Retrieve nodes connected to a single node"
   ]
  },
  {
   "cell_type": "code",
   "execution_count": 16,
   "metadata": {},
   "outputs": [
    {
     "data": {
      "text/html": [
       "<div>\n",
       "<style scoped>\n",
       "    .dataframe tbody tr th:only-of-type {\n",
       "        vertical-align: middle;\n",
       "    }\n",
       "\n",
       "    .dataframe tbody tr th {\n",
       "        vertical-align: top;\n",
       "    }\n",
       "\n",
       "    .dataframe thead th {\n",
       "        text-align: right;\n",
       "    }\n",
       "</style>\n",
       "<table border=\"1\" class=\"dataframe\">\n",
       "  <thead>\n",
       "    <tr style=\"text-align: right;\">\n",
       "      <th></th>\n",
       "      <th>display_name</th>\n",
       "      <th>data_type</th>\n",
       "      <th>observed</th>\n",
       "    </tr>\n",
       "    <tr>\n",
       "      <th>entity_id</th>\n",
       "      <th></th>\n",
       "      <th></th>\n",
       "      <th></th>\n",
       "    </tr>\n",
       "  </thead>\n",
       "  <tbody>\n",
       "    <tr>\n",
       "      <th>ENSDARG00000037781</th>\n",
       "      <td>Acss2</td>\n",
       "      <td>genes</td>\n",
       "      <td>True</td>\n",
       "    </tr>\n",
       "    <tr>\n",
       "      <th>16027</th>\n",
       "      <td>Adenosine 5-monophosphate</td>\n",
       "      <td>compounds</td>\n",
       "      <td>True</td>\n",
       "    </tr>\n",
       "    <tr>\n",
       "      <th>15351</th>\n",
       "      <td>Acetyl-coa</td>\n",
       "      <td>compounds</td>\n",
       "      <td>False</td>\n",
       "    </tr>\n",
       "    <tr>\n",
       "      <th>29888</th>\n",
       "      <td>Diphosphoric acid</td>\n",
       "      <td>compounds</td>\n",
       "      <td>False</td>\n",
       "    </tr>\n",
       "    <tr>\n",
       "      <th>15346</th>\n",
       "      <td>Coenzyme a</td>\n",
       "      <td>compounds</td>\n",
       "      <td>False</td>\n",
       "    </tr>\n",
       "    <tr>\n",
       "      <th>30616</th>\n",
       "      <td>Atp(4-)</td>\n",
       "      <td>compounds</td>\n",
       "      <td>False</td>\n",
       "    </tr>\n",
       "    <tr>\n",
       "      <th>15366</th>\n",
       "      <td>Acetic acid</td>\n",
       "      <td>compounds</td>\n",
       "      <td>False</td>\n",
       "    </tr>\n",
       "    <tr>\n",
       "      <th>R-DRE-71735</th>\n",
       "      <td>Acetate + coa + atp =&gt; acetyl-coa + amp + pyro...</td>\n",
       "      <td>reactions</td>\n",
       "      <td>None</td>\n",
       "    </tr>\n",
       "    <tr>\n",
       "      <th>R-DRE-71384</th>\n",
       "      <td>Ethanol oxidation</td>\n",
       "      <td>pathways</td>\n",
       "      <td>None</td>\n",
       "    </tr>\n",
       "  </tbody>\n",
       "</table>\n",
       "</div>"
      ],
      "text/plain": [
       "                                                         display_name  \\\n",
       "entity_id                                                               \n",
       "ENSDARG00000037781                                              Acss2   \n",
       "16027                                       Adenosine 5-monophosphate   \n",
       "15351                                                      Acetyl-coa   \n",
       "29888                                               Diphosphoric acid   \n",
       "15346                                                      Coenzyme a   \n",
       "30616                                                         Atp(4-)   \n",
       "15366                                                     Acetic acid   \n",
       "R-DRE-71735         Acetate + coa + atp => acetyl-coa + amp + pyro...   \n",
       "R-DRE-71384                                         Ethanol oxidation   \n",
       "\n",
       "                    data_type observed  \n",
       "entity_id                               \n",
       "ENSDARG00000037781      genes     True  \n",
       "16027               compounds     True  \n",
       "15351               compounds    False  \n",
       "29888               compounds    False  \n",
       "15346               compounds    False  \n",
       "30616               compounds    False  \n",
       "15366               compounds    False  \n",
       "R-DRE-71735         reactions     None  \n",
       "R-DRE-71384          pathways     None  "
      ]
     },
     "execution_count": 16,
     "metadata": {},
     "output_type": "execute_result"
    }
   ],
   "source": [
    "query_id = 'F1QAA7'\n",
    "res = QueryBuilder(ap) \\\n",
    "        .add(Entity(query_id)) \\\n",
    "        .add(Connected()) \\\n",
    "        .run()\n",
    "res"
   ]
  },
  {
   "cell_type": "markdown",
   "metadata": {},
   "source": [
    "Retrieve top-10 significantly changing genes"
   ]
  },
  {
   "cell_type": "code",
   "execution_count": 42,
   "metadata": {},
   "outputs": [],
   "source": [
    "case = 'Distal'\n",
    "control = 'Proximal'\n",
    "pval = 0.05\n",
    "fc_lte = -2\n",
    "fc_gte = 2\n",
    "N = 20"
   ]
  },
  {
   "cell_type": "code",
   "execution_count": 43,
   "metadata": {},
   "outputs": [
    {
     "data": {
      "text/html": [
       "<div>\n",
       "<style scoped>\n",
       "    .dataframe tbody tr th:only-of-type {\n",
       "        vertical-align: middle;\n",
       "    }\n",
       "\n",
       "    .dataframe tbody tr th {\n",
       "        vertical-align: top;\n",
       "    }\n",
       "\n",
       "    .dataframe thead th {\n",
       "        text-align: right;\n",
       "    }\n",
       "</style>\n",
       "<table border=\"1\" class=\"dataframe\">\n",
       "  <thead>\n",
       "    <tr style=\"text-align: right;\">\n",
       "      <th></th>\n",
       "      <th>display_name</th>\n",
       "      <th>data_type</th>\n",
       "      <th>observed</th>\n",
       "      <th>padj_Distal_vs_Proximal</th>\n",
       "      <th>FC_Distal_vs_Proximal</th>\n",
       "    </tr>\n",
       "  </thead>\n",
       "  <tbody>\n",
       "    <tr>\n",
       "      <th>ENSDARG00000045854</th>\n",
       "      <td>Fgf23</td>\n",
       "      <td>genes</td>\n",
       "      <td>True</td>\n",
       "      <td>3.569550e-10</td>\n",
       "      <td>24.000289</td>\n",
       "    </tr>\n",
       "    <tr>\n",
       "      <th>ENSDARG00000071091</th>\n",
       "      <td>Chrm3a</td>\n",
       "      <td>genes</td>\n",
       "      <td>True</td>\n",
       "      <td>3.307603e-11</td>\n",
       "      <td>22.486196</td>\n",
       "    </tr>\n",
       "    <tr>\n",
       "      <th>ENSDARG00000104259</th>\n",
       "      <td>Cabz01072885.1</td>\n",
       "      <td>genes</td>\n",
       "      <td>True</td>\n",
       "      <td>2.782933e-10</td>\n",
       "      <td>20.545646</td>\n",
       "    </tr>\n",
       "    <tr>\n",
       "      <th>ENSDARG00000005522</th>\n",
       "      <td>Galr1a</td>\n",
       "      <td>genes</td>\n",
       "      <td>True</td>\n",
       "      <td>2.091894e-09</td>\n",
       "      <td>20.531569</td>\n",
       "    </tr>\n",
       "    <tr>\n",
       "      <th>ENSDARG00000091254</th>\n",
       "      <td>Si:ch73-59p9.2</td>\n",
       "      <td>genes</td>\n",
       "      <td>True</td>\n",
       "      <td>3.736906e-10</td>\n",
       "      <td>19.689389</td>\n",
       "    </tr>\n",
       "    <tr>\n",
       "      <th>ENSDARG00000008541</th>\n",
       "      <td>Chia.4</td>\n",
       "      <td>genes</td>\n",
       "      <td>True</td>\n",
       "      <td>3.736906e-10</td>\n",
       "      <td>19.689389</td>\n",
       "    </tr>\n",
       "    <tr>\n",
       "      <th>ENSDARG00000093738</th>\n",
       "      <td>Pth1a</td>\n",
       "      <td>genes</td>\n",
       "      <td>True</td>\n",
       "      <td>3.736906e-10</td>\n",
       "      <td>19.689389</td>\n",
       "    </tr>\n",
       "    <tr>\n",
       "      <th>ENSDARG00000037946</th>\n",
       "      <td>Prl</td>\n",
       "      <td>genes</td>\n",
       "      <td>True</td>\n",
       "      <td>3.736906e-10</td>\n",
       "      <td>19.689389</td>\n",
       "    </tr>\n",
       "    <tr>\n",
       "      <th>ENSDARG00000036171</th>\n",
       "      <td>Rnasel3</td>\n",
       "      <td>genes</td>\n",
       "      <td>True</td>\n",
       "      <td>1.848146e-11</td>\n",
       "      <td>19.636782</td>\n",
       "    </tr>\n",
       "    <tr>\n",
       "      <th>ENSDARG00000026484</th>\n",
       "      <td>Rab15</td>\n",
       "      <td>genes</td>\n",
       "      <td>True</td>\n",
       "      <td>3.569550e-10</td>\n",
       "      <td>19.138412</td>\n",
       "    </tr>\n",
       "    <tr>\n",
       "      <th>ENSDARG00000102336</th>\n",
       "      <td>Slc5a7</td>\n",
       "      <td>genes</td>\n",
       "      <td>True</td>\n",
       "      <td>5.646605e-09</td>\n",
       "      <td>-21.542885</td>\n",
       "    </tr>\n",
       "    <tr>\n",
       "      <th>ENSDARG00000070038</th>\n",
       "      <td>Rbp2a</td>\n",
       "      <td>genes</td>\n",
       "      <td>True</td>\n",
       "      <td>1.821398e-10</td>\n",
       "      <td>-21.882546</td>\n",
       "    </tr>\n",
       "    <tr>\n",
       "      <th>ENSDARG00000067859</th>\n",
       "      <td>Scospondin</td>\n",
       "      <td>genes</td>\n",
       "      <td>True</td>\n",
       "      <td>1.625297e-10</td>\n",
       "      <td>-22.444017</td>\n",
       "    </tr>\n",
       "    <tr>\n",
       "      <th>ENSDARG00000008306</th>\n",
       "      <td>Rdh5</td>\n",
       "      <td>genes</td>\n",
       "      <td>True</td>\n",
       "      <td>7.680307e-11</td>\n",
       "      <td>-22.449311</td>\n",
       "    </tr>\n",
       "    <tr>\n",
       "      <th>ENSDARG00000100258</th>\n",
       "      <td>Si:dkeyp-104b3.2</td>\n",
       "      <td>genes</td>\n",
       "      <td>True</td>\n",
       "      <td>2.760891e-09</td>\n",
       "      <td>-22.482546</td>\n",
       "    </tr>\n",
       "    <tr>\n",
       "      <th>ENSDARG00000093089</th>\n",
       "      <td>Tac3a</td>\n",
       "      <td>genes</td>\n",
       "      <td>True</td>\n",
       "      <td>3.569550e-10</td>\n",
       "      <td>-22.875241</td>\n",
       "    </tr>\n",
       "    <tr>\n",
       "      <th>ENSDARG00000038894</th>\n",
       "      <td>Tmx3a</td>\n",
       "      <td>genes</td>\n",
       "      <td>True</td>\n",
       "      <td>4.745826e-10</td>\n",
       "      <td>-23.095898</td>\n",
       "    </tr>\n",
       "    <tr>\n",
       "      <th>ENSDARG00000039067</th>\n",
       "      <td>Srd5a2b</td>\n",
       "      <td>genes</td>\n",
       "      <td>True</td>\n",
       "      <td>6.493330e-11</td>\n",
       "      <td>-23.483296</td>\n",
       "    </tr>\n",
       "    <tr>\n",
       "      <th>ENSDARG00000076270</th>\n",
       "      <td>Adamts13</td>\n",
       "      <td>genes</td>\n",
       "      <td>True</td>\n",
       "      <td>6.923704e-11</td>\n",
       "      <td>-23.815791</td>\n",
       "    </tr>\n",
       "    <tr>\n",
       "      <th>ENSDARG00000025783</th>\n",
       "      <td>Si:ch211-125e6.11</td>\n",
       "      <td>genes</td>\n",
       "      <td>True</td>\n",
       "      <td>6.804488e-11</td>\n",
       "      <td>-26.987938</td>\n",
       "    </tr>\n",
       "  </tbody>\n",
       "</table>\n",
       "</div>"
      ],
      "text/plain": [
       "                         display_name data_type  observed  \\\n",
       "ENSDARG00000045854              Fgf23     genes      True   \n",
       "ENSDARG00000071091             Chrm3a     genes      True   \n",
       "ENSDARG00000104259     Cabz01072885.1     genes      True   \n",
       "ENSDARG00000005522             Galr1a     genes      True   \n",
       "ENSDARG00000091254     Si:ch73-59p9.2     genes      True   \n",
       "ENSDARG00000008541             Chia.4     genes      True   \n",
       "ENSDARG00000093738              Pth1a     genes      True   \n",
       "ENSDARG00000037946                Prl     genes      True   \n",
       "ENSDARG00000036171            Rnasel3     genes      True   \n",
       "ENSDARG00000026484              Rab15     genes      True   \n",
       "ENSDARG00000102336             Slc5a7     genes      True   \n",
       "ENSDARG00000070038              Rbp2a     genes      True   \n",
       "ENSDARG00000067859         Scospondin     genes      True   \n",
       "ENSDARG00000008306               Rdh5     genes      True   \n",
       "ENSDARG00000100258   Si:dkeyp-104b3.2     genes      True   \n",
       "ENSDARG00000093089              Tac3a     genes      True   \n",
       "ENSDARG00000038894              Tmx3a     genes      True   \n",
       "ENSDARG00000039067            Srd5a2b     genes      True   \n",
       "ENSDARG00000076270           Adamts13     genes      True   \n",
       "ENSDARG00000025783  Si:ch211-125e6.11     genes      True   \n",
       "\n",
       "                    padj_Distal_vs_Proximal  FC_Distal_vs_Proximal  \n",
       "ENSDARG00000045854             3.569550e-10              24.000289  \n",
       "ENSDARG00000071091             3.307603e-11              22.486196  \n",
       "ENSDARG00000104259             2.782933e-10              20.545646  \n",
       "ENSDARG00000005522             2.091894e-09              20.531569  \n",
       "ENSDARG00000091254             3.736906e-10              19.689389  \n",
       "ENSDARG00000008541             3.736906e-10              19.689389  \n",
       "ENSDARG00000093738             3.736906e-10              19.689389  \n",
       "ENSDARG00000037946             3.736906e-10              19.689389  \n",
       "ENSDARG00000036171             1.848146e-11              19.636782  \n",
       "ENSDARG00000026484             3.569550e-10              19.138412  \n",
       "ENSDARG00000102336             5.646605e-09             -21.542885  \n",
       "ENSDARG00000070038             1.821398e-10             -21.882546  \n",
       "ENSDARG00000067859             1.625297e-10             -22.444017  \n",
       "ENSDARG00000008306             7.680307e-11             -22.449311  \n",
       "ENSDARG00000100258             2.760891e-09             -22.482546  \n",
       "ENSDARG00000093089             3.569550e-10             -22.875241  \n",
       "ENSDARG00000038894             4.745826e-10             -23.095898  \n",
       "ENSDARG00000039067             6.493330e-11             -23.483296  \n",
       "ENSDARG00000076270             6.923704e-11             -23.815791  \n",
       "ENSDARG00000025783             6.804488e-11             -26.987938  "
      ]
     },
     "execution_count": 43,
     "metadata": {},
     "output_type": "execute_result"
    }
   ],
   "source": [
    "res = QueryBuilder(ap) \\\n",
    "        .add(Select(GENES)) \\\n",
    "        .add(SignificantDE(case, control, pval, fc_lte=fc_lte, fc_gte=fc_gte, N=N)) \\\n",
    "        .run()\n",
    "res"
   ]
  },
  {
   "cell_type": "markdown",
   "metadata": {},
   "source": [
    "Find the compounds that are connected to the DE genes above"
   ]
  },
  {
   "cell_type": "code",
   "execution_count": 44,
   "metadata": {},
   "outputs": [
    {
     "data": {
      "text/html": [
       "<div>\n",
       "<style scoped>\n",
       "    .dataframe tbody tr th:only-of-type {\n",
       "        vertical-align: middle;\n",
       "    }\n",
       "\n",
       "    .dataframe tbody tr th {\n",
       "        vertical-align: top;\n",
       "    }\n",
       "\n",
       "    .dataframe thead th {\n",
       "        text-align: right;\n",
       "    }\n",
       "</style>\n",
       "<table border=\"1\" class=\"dataframe\">\n",
       "  <thead>\n",
       "    <tr style=\"text-align: right;\">\n",
       "      <th></th>\n",
       "      <th>display_name</th>\n",
       "      <th>data_type</th>\n",
       "      <th>observed</th>\n",
       "    </tr>\n",
       "    <tr>\n",
       "      <th>entity_id</th>\n",
       "      <th></th>\n",
       "      <th></th>\n",
       "      <th></th>\n",
       "    </tr>\n",
       "  </thead>\n",
       "  <tbody>\n",
       "    <tr>\n",
       "      <th>78579</th>\n",
       "      <td>Aflatoxin b1 endo-cysteinylglycine conjugate</td>\n",
       "      <td>compounds</td>\n",
       "      <td>False</td>\n",
       "    </tr>\n",
       "    <tr>\n",
       "      <th>78581</th>\n",
       "      <td>Aflatoxin b1 endo glutathione conjugate</td>\n",
       "      <td>compounds</td>\n",
       "      <td>False</td>\n",
       "    </tr>\n",
       "    <tr>\n",
       "      <th>78587</th>\n",
       "      <td>Aflatoxin b1 exo glutathione conjugate</td>\n",
       "      <td>compounds</td>\n",
       "      <td>False</td>\n",
       "    </tr>\n",
       "    <tr>\n",
       "      <th>15377</th>\n",
       "      <td>Water</td>\n",
       "      <td>compounds</td>\n",
       "      <td>False</td>\n",
       "    </tr>\n",
       "    <tr>\n",
       "      <th>78584</th>\n",
       "      <td>Aflatoxin b1 exo-cysteinylglycine conjugate</td>\n",
       "      <td>compounds</td>\n",
       "      <td>False</td>\n",
       "    </tr>\n",
       "    <tr>\n",
       "      <th>29985</th>\n",
       "      <td>L-glutamate(1-)</td>\n",
       "      <td>compounds</td>\n",
       "      <td>False</td>\n",
       "    </tr>\n",
       "    <tr>\n",
       "      <th>16856</th>\n",
       "      <td>Glutathione</td>\n",
       "      <td>compounds</td>\n",
       "      <td>True</td>\n",
       "    </tr>\n",
       "    <tr>\n",
       "      <th>4047</th>\n",
       "      <td>L-cysteinylglycine</td>\n",
       "      <td>compounds</td>\n",
       "      <td>True</td>\n",
       "    </tr>\n",
       "    <tr>\n",
       "      <th>28666</th>\n",
       "      <td>Leukotriene d4</td>\n",
       "      <td>compounds</td>\n",
       "      <td>False</td>\n",
       "    </tr>\n",
       "    <tr>\n",
       "      <th>16978</th>\n",
       "      <td>Leukotriene c4</td>\n",
       "      <td>compounds</td>\n",
       "      <td>False</td>\n",
       "    </tr>\n",
       "    <tr>\n",
       "      <th>18009</th>\n",
       "      <td>Nadp(+)</td>\n",
       "      <td>compounds</td>\n",
       "      <td>False</td>\n",
       "    </tr>\n",
       "    <tr>\n",
       "      <th>17898</th>\n",
       "      <td>All-trans-retinal</td>\n",
       "      <td>compounds</td>\n",
       "      <td>False</td>\n",
       "    </tr>\n",
       "    <tr>\n",
       "      <th>17336</th>\n",
       "      <td>All-trans-retinol</td>\n",
       "      <td>compounds</td>\n",
       "      <td>False</td>\n",
       "    </tr>\n",
       "    <tr>\n",
       "      <th>15378</th>\n",
       "      <td>Hydron</td>\n",
       "      <td>compounds</td>\n",
       "      <td>False</td>\n",
       "    </tr>\n",
       "    <tr>\n",
       "      <th>16474</th>\n",
       "      <td>Nadph</td>\n",
       "      <td>compounds</td>\n",
       "      <td>False</td>\n",
       "    </tr>\n",
       "    <tr>\n",
       "      <th>70762</th>\n",
       "      <td>All-trans-retinyl linoleate</td>\n",
       "      <td>compounds</td>\n",
       "      <td>False</td>\n",
       "    </tr>\n",
       "    <tr>\n",
       "      <th>70761</th>\n",
       "      <td>All-trans-retinyl stearate</td>\n",
       "      <td>compounds</td>\n",
       "      <td>False</td>\n",
       "    </tr>\n",
       "    <tr>\n",
       "      <th>25667</th>\n",
       "      <td>Oleoyl group</td>\n",
       "      <td>compounds</td>\n",
       "      <td>False</td>\n",
       "    </tr>\n",
       "    <tr>\n",
       "      <th>70760</th>\n",
       "      <td>All-trans-retinyl oleate</td>\n",
       "      <td>compounds</td>\n",
       "      <td>False</td>\n",
       "    </tr>\n",
       "    <tr>\n",
       "      <th>32386</th>\n",
       "      <td>Linoleoyl group</td>\n",
       "      <td>compounds</td>\n",
       "      <td>False</td>\n",
       "    </tr>\n",
       "    <tr>\n",
       "      <th>17616</th>\n",
       "      <td>All-trans-retinyl palmitate</td>\n",
       "      <td>compounds</td>\n",
       "      <td>False</td>\n",
       "    </tr>\n",
       "    <tr>\n",
       "      <th>26753</th>\n",
       "      <td>Stearoyl group</td>\n",
       "      <td>compounds</td>\n",
       "      <td>False</td>\n",
       "    </tr>\n",
       "    <tr>\n",
       "      <th>45021</th>\n",
       "      <td>Palmitoyl group</td>\n",
       "      <td>compounds</td>\n",
       "      <td>False</td>\n",
       "    </tr>\n",
       "    <tr>\n",
       "      <th>15378</th>\n",
       "      <td>Hydron</td>\n",
       "      <td>compounds</td>\n",
       "      <td>False</td>\n",
       "    </tr>\n",
       "    <tr>\n",
       "      <th>18009</th>\n",
       "      <td>Nadp(+)</td>\n",
       "      <td>compounds</td>\n",
       "      <td>False</td>\n",
       "    </tr>\n",
       "    <tr>\n",
       "      <th>17347</th>\n",
       "      <td>Testosterone</td>\n",
       "      <td>compounds</td>\n",
       "      <td>False</td>\n",
       "    </tr>\n",
       "    <tr>\n",
       "      <th>16330</th>\n",
       "      <td>17beta-hydroxy-5alpha-androstan-3-one</td>\n",
       "      <td>compounds</td>\n",
       "      <td>False</td>\n",
       "    </tr>\n",
       "    <tr>\n",
       "      <th>16474</th>\n",
       "      <td>Nadph</td>\n",
       "      <td>compounds</td>\n",
       "      <td>False</td>\n",
       "    </tr>\n",
       "  </tbody>\n",
       "</table>\n",
       "</div>"
      ],
      "text/plain": [
       "                                           display_name  data_type  observed\n",
       "entity_id                                                                   \n",
       "78579      Aflatoxin b1 endo-cysteinylglycine conjugate  compounds     False\n",
       "78581           Aflatoxin b1 endo glutathione conjugate  compounds     False\n",
       "78587            Aflatoxin b1 exo glutathione conjugate  compounds     False\n",
       "15377                                             Water  compounds     False\n",
       "78584       Aflatoxin b1 exo-cysteinylglycine conjugate  compounds     False\n",
       "29985                                   L-glutamate(1-)  compounds     False\n",
       "16856                                       Glutathione  compounds      True\n",
       "4047                                 L-cysteinylglycine  compounds      True\n",
       "28666                                    Leukotriene d4  compounds     False\n",
       "16978                                    Leukotriene c4  compounds     False\n",
       "18009                                           Nadp(+)  compounds     False\n",
       "17898                                 All-trans-retinal  compounds     False\n",
       "17336                                 All-trans-retinol  compounds     False\n",
       "15378                                            Hydron  compounds     False\n",
       "16474                                             Nadph  compounds     False\n",
       "70762                       All-trans-retinyl linoleate  compounds     False\n",
       "70761                        All-trans-retinyl stearate  compounds     False\n",
       "25667                                      Oleoyl group  compounds     False\n",
       "70760                          All-trans-retinyl oleate  compounds     False\n",
       "32386                                   Linoleoyl group  compounds     False\n",
       "17616                       All-trans-retinyl palmitate  compounds     False\n",
       "26753                                    Stearoyl group  compounds     False\n",
       "45021                                   Palmitoyl group  compounds     False\n",
       "15378                                            Hydron  compounds     False\n",
       "18009                                           Nadp(+)  compounds     False\n",
       "17347                                      Testosterone  compounds     False\n",
       "16330             17beta-hydroxy-5alpha-androstan-3-one  compounds     False\n",
       "16474                                             Nadph  compounds     False"
      ]
     },
     "execution_count": 44,
     "metadata": {},
     "output_type": "execute_result"
    }
   ],
   "source": [
    "res = QueryBuilder(ap) \\\n",
    "        .add(Select(GENES)) \\\n",
    "        .add(SignificantDE(case, control, pval, fc_lte=fc_lte, fc_gte=fc_gte, N=N)) \\\n",
    "        .add(Connected(data_type=COMPOUNDS)) \\\n",
    "        .run()\n",
    "res"
   ]
  },
  {
   "cell_type": "markdown",
   "metadata": {},
   "source": [
    "Plot some heatmap using Plotly"
   ]
  },
  {
   "cell_type": "code",
   "execution_count": 45,
   "metadata": {},
   "outputs": [
    {
     "data": {
      "text/html": [
       "<div>\n",
       "<style scoped>\n",
       "    .dataframe tbody tr th:only-of-type {\n",
       "        vertical-align: middle;\n",
       "    }\n",
       "\n",
       "    .dataframe tbody tr th {\n",
       "        vertical-align: top;\n",
       "    }\n",
       "\n",
       "    .dataframe thead th {\n",
       "        text-align: right;\n",
       "    }\n",
       "</style>\n",
       "<table border=\"1\" class=\"dataframe\">\n",
       "  <thead>\n",
       "    <tr style=\"text-align: right;\">\n",
       "      <th></th>\n",
       "      <th>display_name</th>\n",
       "      <th>data_type</th>\n",
       "      <th>observed</th>\n",
       "      <th>padj_Distal_vs_Proximal</th>\n",
       "      <th>FC_Distal_vs_Proximal</th>\n",
       "    </tr>\n",
       "  </thead>\n",
       "  <tbody>\n",
       "    <tr>\n",
       "      <th>ENSDARG00000045854</th>\n",
       "      <td>Fgf23</td>\n",
       "      <td>genes</td>\n",
       "      <td>True</td>\n",
       "      <td>3.569550e-10</td>\n",
       "      <td>24.000289</td>\n",
       "    </tr>\n",
       "    <tr>\n",
       "      <th>ENSDARG00000071091</th>\n",
       "      <td>Chrm3a</td>\n",
       "      <td>genes</td>\n",
       "      <td>True</td>\n",
       "      <td>3.307603e-11</td>\n",
       "      <td>22.486196</td>\n",
       "    </tr>\n",
       "    <tr>\n",
       "      <th>ENSDARG00000104259</th>\n",
       "      <td>Cabz01072885.1</td>\n",
       "      <td>genes</td>\n",
       "      <td>True</td>\n",
       "      <td>2.782933e-10</td>\n",
       "      <td>20.545646</td>\n",
       "    </tr>\n",
       "    <tr>\n",
       "      <th>ENSDARG00000005522</th>\n",
       "      <td>Galr1a</td>\n",
       "      <td>genes</td>\n",
       "      <td>True</td>\n",
       "      <td>2.091894e-09</td>\n",
       "      <td>20.531569</td>\n",
       "    </tr>\n",
       "    <tr>\n",
       "      <th>ENSDARG00000091254</th>\n",
       "      <td>Si:ch73-59p9.2</td>\n",
       "      <td>genes</td>\n",
       "      <td>True</td>\n",
       "      <td>3.736906e-10</td>\n",
       "      <td>19.689389</td>\n",
       "    </tr>\n",
       "    <tr>\n",
       "      <th>ENSDARG00000008541</th>\n",
       "      <td>Chia.4</td>\n",
       "      <td>genes</td>\n",
       "      <td>True</td>\n",
       "      <td>3.736906e-10</td>\n",
       "      <td>19.689389</td>\n",
       "    </tr>\n",
       "    <tr>\n",
       "      <th>ENSDARG00000093738</th>\n",
       "      <td>Pth1a</td>\n",
       "      <td>genes</td>\n",
       "      <td>True</td>\n",
       "      <td>3.736906e-10</td>\n",
       "      <td>19.689389</td>\n",
       "    </tr>\n",
       "    <tr>\n",
       "      <th>ENSDARG00000037946</th>\n",
       "      <td>Prl</td>\n",
       "      <td>genes</td>\n",
       "      <td>True</td>\n",
       "      <td>3.736906e-10</td>\n",
       "      <td>19.689389</td>\n",
       "    </tr>\n",
       "    <tr>\n",
       "      <th>ENSDARG00000036171</th>\n",
       "      <td>Rnasel3</td>\n",
       "      <td>genes</td>\n",
       "      <td>True</td>\n",
       "      <td>1.848146e-11</td>\n",
       "      <td>19.636782</td>\n",
       "    </tr>\n",
       "    <tr>\n",
       "      <th>ENSDARG00000026484</th>\n",
       "      <td>Rab15</td>\n",
       "      <td>genes</td>\n",
       "      <td>True</td>\n",
       "      <td>3.569550e-10</td>\n",
       "      <td>19.138412</td>\n",
       "    </tr>\n",
       "    <tr>\n",
       "      <th>ENSDARG00000102336</th>\n",
       "      <td>Slc5a7</td>\n",
       "      <td>genes</td>\n",
       "      <td>True</td>\n",
       "      <td>5.646605e-09</td>\n",
       "      <td>-21.542885</td>\n",
       "    </tr>\n",
       "    <tr>\n",
       "      <th>ENSDARG00000070038</th>\n",
       "      <td>Rbp2a</td>\n",
       "      <td>genes</td>\n",
       "      <td>True</td>\n",
       "      <td>1.821398e-10</td>\n",
       "      <td>-21.882546</td>\n",
       "    </tr>\n",
       "    <tr>\n",
       "      <th>ENSDARG00000067859</th>\n",
       "      <td>Scospondin</td>\n",
       "      <td>genes</td>\n",
       "      <td>True</td>\n",
       "      <td>1.625297e-10</td>\n",
       "      <td>-22.444017</td>\n",
       "    </tr>\n",
       "    <tr>\n",
       "      <th>ENSDARG00000008306</th>\n",
       "      <td>Rdh5</td>\n",
       "      <td>genes</td>\n",
       "      <td>True</td>\n",
       "      <td>7.680307e-11</td>\n",
       "      <td>-22.449311</td>\n",
       "    </tr>\n",
       "    <tr>\n",
       "      <th>ENSDARG00000100258</th>\n",
       "      <td>Si:dkeyp-104b3.2</td>\n",
       "      <td>genes</td>\n",
       "      <td>True</td>\n",
       "      <td>2.760891e-09</td>\n",
       "      <td>-22.482546</td>\n",
       "    </tr>\n",
       "    <tr>\n",
       "      <th>ENSDARG00000093089</th>\n",
       "      <td>Tac3a</td>\n",
       "      <td>genes</td>\n",
       "      <td>True</td>\n",
       "      <td>3.569550e-10</td>\n",
       "      <td>-22.875241</td>\n",
       "    </tr>\n",
       "    <tr>\n",
       "      <th>ENSDARG00000038894</th>\n",
       "      <td>Tmx3a</td>\n",
       "      <td>genes</td>\n",
       "      <td>True</td>\n",
       "      <td>4.745826e-10</td>\n",
       "      <td>-23.095898</td>\n",
       "    </tr>\n",
       "    <tr>\n",
       "      <th>ENSDARG00000039067</th>\n",
       "      <td>Srd5a2b</td>\n",
       "      <td>genes</td>\n",
       "      <td>True</td>\n",
       "      <td>6.493330e-11</td>\n",
       "      <td>-23.483296</td>\n",
       "    </tr>\n",
       "    <tr>\n",
       "      <th>ENSDARG00000076270</th>\n",
       "      <td>Adamts13</td>\n",
       "      <td>genes</td>\n",
       "      <td>True</td>\n",
       "      <td>6.923704e-11</td>\n",
       "      <td>-23.815791</td>\n",
       "    </tr>\n",
       "    <tr>\n",
       "      <th>ENSDARG00000025783</th>\n",
       "      <td>Si:ch211-125e6.11</td>\n",
       "      <td>genes</td>\n",
       "      <td>True</td>\n",
       "      <td>6.804488e-11</td>\n",
       "      <td>-26.987938</td>\n",
       "    </tr>\n",
       "  </tbody>\n",
       "</table>\n",
       "</div>"
      ],
      "text/plain": [
       "                         display_name data_type  observed  \\\n",
       "ENSDARG00000045854              Fgf23     genes      True   \n",
       "ENSDARG00000071091             Chrm3a     genes      True   \n",
       "ENSDARG00000104259     Cabz01072885.1     genes      True   \n",
       "ENSDARG00000005522             Galr1a     genes      True   \n",
       "ENSDARG00000091254     Si:ch73-59p9.2     genes      True   \n",
       "ENSDARG00000008541             Chia.4     genes      True   \n",
       "ENSDARG00000093738              Pth1a     genes      True   \n",
       "ENSDARG00000037946                Prl     genes      True   \n",
       "ENSDARG00000036171            Rnasel3     genes      True   \n",
       "ENSDARG00000026484              Rab15     genes      True   \n",
       "ENSDARG00000102336             Slc5a7     genes      True   \n",
       "ENSDARG00000070038              Rbp2a     genes      True   \n",
       "ENSDARG00000067859         Scospondin     genes      True   \n",
       "ENSDARG00000008306               Rdh5     genes      True   \n",
       "ENSDARG00000100258   Si:dkeyp-104b3.2     genes      True   \n",
       "ENSDARG00000093089              Tac3a     genes      True   \n",
       "ENSDARG00000038894              Tmx3a     genes      True   \n",
       "ENSDARG00000039067            Srd5a2b     genes      True   \n",
       "ENSDARG00000076270           Adamts13     genes      True   \n",
       "ENSDARG00000025783  Si:ch211-125e6.11     genes      True   \n",
       "\n",
       "                    padj_Distal_vs_Proximal  FC_Distal_vs_Proximal  \n",
       "ENSDARG00000045854             3.569550e-10              24.000289  \n",
       "ENSDARG00000071091             3.307603e-11              22.486196  \n",
       "ENSDARG00000104259             2.782933e-10              20.545646  \n",
       "ENSDARG00000005522             2.091894e-09              20.531569  \n",
       "ENSDARG00000091254             3.736906e-10              19.689389  \n",
       "ENSDARG00000008541             3.736906e-10              19.689389  \n",
       "ENSDARG00000093738             3.736906e-10              19.689389  \n",
       "ENSDARG00000037946             3.736906e-10              19.689389  \n",
       "ENSDARG00000036171             1.848146e-11              19.636782  \n",
       "ENSDARG00000026484             3.569550e-10              19.138412  \n",
       "ENSDARG00000102336             5.646605e-09             -21.542885  \n",
       "ENSDARG00000070038             1.821398e-10             -21.882546  \n",
       "ENSDARG00000067859             1.625297e-10             -22.444017  \n",
       "ENSDARG00000008306             7.680307e-11             -22.449311  \n",
       "ENSDARG00000100258             2.760891e-09             -22.482546  \n",
       "ENSDARG00000093089             3.569550e-10             -22.875241  \n",
       "ENSDARG00000038894             4.745826e-10             -23.095898  \n",
       "ENSDARG00000039067             6.493330e-11             -23.483296  \n",
       "ENSDARG00000076270             6.923704e-11             -23.815791  \n",
       "ENSDARG00000025783             6.804488e-11             -26.987938  "
      ]
     },
     "execution_count": 45,
     "metadata": {},
     "output_type": "execute_result"
    }
   ],
   "source": [
    "res = QueryBuilder(ap) \\\n",
    "        .add(Select(GENES)) \\\n",
    "        .add(SignificantDE(case, control, pval, fc_lte=fc_lte, fc_gte=fc_gte, N=N)) \\\n",
    "        .run()\n",
    "res"
   ]
  },
  {
   "cell_type": "code",
   "execution_count": 46,
   "metadata": {},
   "outputs": [
    {
     "data": {
      "text/plain": [
       "['US-1584738',\n",
       " 'US-1584722',\n",
       " 'US-1584712',\n",
       " 'US-1584754',\n",
       " 'US-1584765',\n",
       " 'US-1584738',\n",
       " 'US-1584722',\n",
       " 'US-1584712',\n",
       " 'US-1584754',\n",
       " 'US-1584765']"
      ]
     },
     "execution_count": 46,
     "metadata": {},
     "output_type": "execute_result"
    }
   ],
   "source": [
    "case_group = design_df[design_df['group'] == case].index.values.tolist()\n",
    "control_group = design_df[design_df['group'] == case].index.values.tolist()\n",
    "selection = case_group + control_group\n",
    "selection"
   ]
  },
  {
   "cell_type": "code",
   "execution_count": 47,
   "metadata": {},
   "outputs": [],
   "source": [
    "data_type = GENES\n",
    "data_df, design_df = ap.mapping.get_dfs(data_type)\n",
    "df = data_df.loc[res.index.values]\n",
    "\n",
    "min_replace = SMALL\n",
    "wi = WebOmicsInference(df, design_df, data_type, min_value=min_replace)\n",
    "heatmap_df = wi.data_df[selection]"
   ]
  },
  {
   "cell_type": "code",
   "execution_count": 55,
   "metadata": {},
   "outputs": [
    {
     "data": {
      "application/vnd.plotly.v1+json": {
       "config": {
        "plotlyServerURL": "https://plot.ly"
       },
       "data": [
        {
         "coloraxis": "coloraxis",
         "hovertemplate": "x: %{x}<br>Identifier: %{y}<br>color: %{z}<extra></extra>",
         "name": "0",
         "type": "heatmap",
         "x": [
          "US-1584738",
          "US-1584722",
          "US-1584712",
          "US-1584754",
          "US-1584765",
          "US-1584738",
          "US-1584722",
          "US-1584712",
          "US-1584754",
          "US-1584765"
         ],
         "xaxis": "x",
         "y": [
          "ENSDARG00000045854",
          "ENSDARG00000071091",
          "ENSDARG00000104259",
          "ENSDARG00000005522",
          "ENSDARG00000091254",
          "ENSDARG00000008541",
          "ENSDARG00000093738",
          "ENSDARG00000037946",
          "ENSDARG00000036171",
          "ENSDARG00000026484",
          "ENSDARG00000102336",
          "ENSDARG00000070038",
          "ENSDARG00000067859",
          "ENSDARG00000008306",
          "ENSDARG00000100258",
          "ENSDARG00000093089",
          "ENSDARG00000038894",
          "ENSDARG00000039067",
          "ENSDARG00000076270",
          "ENSDARG00000025783"
         ],
         "yaxis": "y",
         "z": [
          [
           4.807354922057604,
           4.459431618637297,
           4.754887502163468,
           3,
           3.321928094887362,
           4.807354922057604,
           4.459431618637297,
           4.754887502163468,
           3,
           3.321928094887362
          ],
          [
           2.321928094887362,
           2,
           2.807354922057604,
           2.321928094887362,
           3.321928094887362,
           2.321928094887362,
           2,
           2.807354922057604,
           2.321928094887362,
           3.321928094887362
          ],
          [
           1.584962500721156,
           0.48542682717024166,
           0,
           1,
           0,
           1.584962500721156,
           0.48542682717024166,
           0,
           1,
           0
          ],
          [
           2.321928094887362,
           0,
           0,
           0.6780719051126377,
           0,
           2.321928094887362,
           0,
           0,
           0.6780719051126377,
           0
          ],
          [
           -0.7369655941662062,
           1,
           0,
           -0.7369655941662062,
           -0.7369655941662062,
           -0.7369655941662062,
           1,
           0,
           -0.7369655941662062,
           -0.7369655941662062
          ],
          [
           -0.7369655941662062,
           0,
           -0.7369655941662062,
           1,
           -0.7369655941662062,
           -0.7369655941662062,
           0,
           -0.7369655941662062,
           1,
           -0.7369655941662062
          ],
          [
           -0.7369655941662062,
           -0.7369655941662062,
           1,
           0,
           -0.7369655941662062,
           -0.7369655941662062,
           -0.7369655941662062,
           1,
           0,
           -0.7369655941662062
          ],
          [
           -0.7369655941662062,
           0,
           1,
           -0.7369655941662062,
           -0.7369655941662062,
           -0.7369655941662062,
           0,
           1,
           -0.7369655941662062,
           -0.7369655941662062
          ],
          [
           0,
           -0.7369655941662062,
           -0.7369655941662062,
           0,
           0,
           0,
           -0.7369655941662062,
           -0.7369655941662062,
           0,
           0
          ],
          [
           0,
           -1.3219280948873622,
           -1.3219280948873622,
           -1.3219280948873622,
           0,
           0,
           -1.3219280948873622,
           -1.3219280948873622,
           -1.3219280948873622,
           0
          ],
          [
           -19.931568569324174,
           -19.931568569324174,
           -19.931568569324174,
           -19.931568569324174,
           -19.931568569324174,
           -19.931568569324174,
           -19.931568569324174,
           -19.931568569324174,
           -19.931568569324174,
           -19.931568569324174
          ],
          [
           -19.931568569324174,
           -19.931568569324174,
           -19.931568569324174,
           -19.931568569324174,
           -19.931568569324174,
           -19.931568569324174,
           -19.931568569324174,
           -19.931568569324174,
           -19.931568569324174,
           -19.931568569324174
          ],
          [
           -19.931568569324174,
           -19.931568569324174,
           -19.931568569324174,
           -19.931568569324174,
           -19.931568569324174,
           -19.931568569324174,
           -19.931568569324174,
           -19.931568569324174,
           -19.931568569324174,
           -19.931568569324174
          ],
          [
           -19.931568569324174,
           -19.931568569324174,
           -19.931568569324174,
           -19.931568569324174,
           -19.931568569324174,
           -19.931568569324174,
           -19.931568569324174,
           -19.931568569324174,
           -19.931568569324174,
           -19.931568569324174
          ],
          [
           -19.931568569324174,
           -19.931568569324174,
           -19.931568569324174,
           -19.931568569324174,
           -19.931568569324174,
           -19.931568569324174,
           -19.931568569324174,
           -19.931568569324174,
           -19.931568569324174,
           -19.931568569324174
          ],
          [
           -19.931568569324174,
           -19.931568569324174,
           -19.931568569324174,
           -19.931568569324174,
           -19.931568569324174,
           -19.931568569324174,
           -19.931568569324174,
           -19.931568569324174,
           -19.931568569324174,
           -19.931568569324174
          ],
          [
           -19.931568569324174,
           -19.931568569324174,
           -19.931568569324174,
           -19.931568569324174,
           -19.931568569324174,
           -19.931568569324174,
           -19.931568569324174,
           -19.931568569324174,
           -19.931568569324174,
           -19.931568569324174
          ],
          [
           -19.931568569324174,
           -19.931568569324174,
           -19.931568569324174,
           -19.931568569324174,
           -19.931568569324174,
           -19.931568569324174,
           -19.931568569324174,
           -19.931568569324174,
           -19.931568569324174,
           -19.931568569324174
          ],
          [
           -19.931568569324174,
           -19.931568569324174,
           -19.931568569324174,
           -19.931568569324174,
           -19.931568569324174,
           -19.931568569324174,
           -19.931568569324174,
           -19.931568569324174,
           -19.931568569324174,
           -19.931568569324174
          ],
          [
           -19.931568569324174,
           -19.931568569324174,
           -19.931568569324174,
           -19.931568569324174,
           -19.931568569324174,
           -19.931568569324174,
           -19.931568569324174,
           -19.931568569324174,
           -19.931568569324174,
           -19.931568569324174
          ]
         ]
        }
       ],
       "layout": {
        "autosize": true,
        "coloraxis": {
         "colorscale": [
          [
           0,
           "#0d0887"
          ],
          [
           0.1111111111111111,
           "#46039f"
          ],
          [
           0.2222222222222222,
           "#7201a8"
          ],
          [
           0.3333333333333333,
           "#9c179e"
          ],
          [
           0.4444444444444444,
           "#bd3786"
          ],
          [
           0.5555555555555556,
           "#d8576b"
          ],
          [
           0.6666666666666666,
           "#ed7953"
          ],
          [
           0.7777777777777778,
           "#fb9f3a"
          ],
          [
           0.8888888888888888,
           "#fdca26"
          ],
          [
           1,
           "#f0f921"
          ]
         ]
        },
        "margin": {
         "t": 60
        },
        "template": {
         "data": {
          "bar": [
           {
            "error_x": {
             "color": "#2a3f5f"
            },
            "error_y": {
             "color": "#2a3f5f"
            },
            "marker": {
             "line": {
              "color": "#E5ECF6",
              "width": 0.5
             }
            },
            "type": "bar"
           }
          ],
          "barpolar": [
           {
            "marker": {
             "line": {
              "color": "#E5ECF6",
              "width": 0.5
             }
            },
            "type": "barpolar"
           }
          ],
          "carpet": [
           {
            "aaxis": {
             "endlinecolor": "#2a3f5f",
             "gridcolor": "white",
             "linecolor": "white",
             "minorgridcolor": "white",
             "startlinecolor": "#2a3f5f"
            },
            "baxis": {
             "endlinecolor": "#2a3f5f",
             "gridcolor": "white",
             "linecolor": "white",
             "minorgridcolor": "white",
             "startlinecolor": "#2a3f5f"
            },
            "type": "carpet"
           }
          ],
          "choropleth": [
           {
            "colorbar": {
             "outlinewidth": 0,
             "ticks": ""
            },
            "type": "choropleth"
           }
          ],
          "contour": [
           {
            "colorbar": {
             "outlinewidth": 0,
             "ticks": ""
            },
            "colorscale": [
             [
              0,
              "#0d0887"
             ],
             [
              0.1111111111111111,
              "#46039f"
             ],
             [
              0.2222222222222222,
              "#7201a8"
             ],
             [
              0.3333333333333333,
              "#9c179e"
             ],
             [
              0.4444444444444444,
              "#bd3786"
             ],
             [
              0.5555555555555556,
              "#d8576b"
             ],
             [
              0.6666666666666666,
              "#ed7953"
             ],
             [
              0.7777777777777778,
              "#fb9f3a"
             ],
             [
              0.8888888888888888,
              "#fdca26"
             ],
             [
              1,
              "#f0f921"
             ]
            ],
            "type": "contour"
           }
          ],
          "contourcarpet": [
           {
            "colorbar": {
             "outlinewidth": 0,
             "ticks": ""
            },
            "type": "contourcarpet"
           }
          ],
          "heatmap": [
           {
            "colorbar": {
             "outlinewidth": 0,
             "ticks": ""
            },
            "colorscale": [
             [
              0,
              "#0d0887"
             ],
             [
              0.1111111111111111,
              "#46039f"
             ],
             [
              0.2222222222222222,
              "#7201a8"
             ],
             [
              0.3333333333333333,
              "#9c179e"
             ],
             [
              0.4444444444444444,
              "#bd3786"
             ],
             [
              0.5555555555555556,
              "#d8576b"
             ],
             [
              0.6666666666666666,
              "#ed7953"
             ],
             [
              0.7777777777777778,
              "#fb9f3a"
             ],
             [
              0.8888888888888888,
              "#fdca26"
             ],
             [
              1,
              "#f0f921"
             ]
            ],
            "type": "heatmap"
           }
          ],
          "heatmapgl": [
           {
            "colorbar": {
             "outlinewidth": 0,
             "ticks": ""
            },
            "colorscale": [
             [
              0,
              "#0d0887"
             ],
             [
              0.1111111111111111,
              "#46039f"
             ],
             [
              0.2222222222222222,
              "#7201a8"
             ],
             [
              0.3333333333333333,
              "#9c179e"
             ],
             [
              0.4444444444444444,
              "#bd3786"
             ],
             [
              0.5555555555555556,
              "#d8576b"
             ],
             [
              0.6666666666666666,
              "#ed7953"
             ],
             [
              0.7777777777777778,
              "#fb9f3a"
             ],
             [
              0.8888888888888888,
              "#fdca26"
             ],
             [
              1,
              "#f0f921"
             ]
            ],
            "type": "heatmapgl"
           }
          ],
          "histogram": [
           {
            "marker": {
             "colorbar": {
              "outlinewidth": 0,
              "ticks": ""
             }
            },
            "type": "histogram"
           }
          ],
          "histogram2d": [
           {
            "colorbar": {
             "outlinewidth": 0,
             "ticks": ""
            },
            "colorscale": [
             [
              0,
              "#0d0887"
             ],
             [
              0.1111111111111111,
              "#46039f"
             ],
             [
              0.2222222222222222,
              "#7201a8"
             ],
             [
              0.3333333333333333,
              "#9c179e"
             ],
             [
              0.4444444444444444,
              "#bd3786"
             ],
             [
              0.5555555555555556,
              "#d8576b"
             ],
             [
              0.6666666666666666,
              "#ed7953"
             ],
             [
              0.7777777777777778,
              "#fb9f3a"
             ],
             [
              0.8888888888888888,
              "#fdca26"
             ],
             [
              1,
              "#f0f921"
             ]
            ],
            "type": "histogram2d"
           }
          ],
          "histogram2dcontour": [
           {
            "colorbar": {
             "outlinewidth": 0,
             "ticks": ""
            },
            "colorscale": [
             [
              0,
              "#0d0887"
             ],
             [
              0.1111111111111111,
              "#46039f"
             ],
             [
              0.2222222222222222,
              "#7201a8"
             ],
             [
              0.3333333333333333,
              "#9c179e"
             ],
             [
              0.4444444444444444,
              "#bd3786"
             ],
             [
              0.5555555555555556,
              "#d8576b"
             ],
             [
              0.6666666666666666,
              "#ed7953"
             ],
             [
              0.7777777777777778,
              "#fb9f3a"
             ],
             [
              0.8888888888888888,
              "#fdca26"
             ],
             [
              1,
              "#f0f921"
             ]
            ],
            "type": "histogram2dcontour"
           }
          ],
          "mesh3d": [
           {
            "colorbar": {
             "outlinewidth": 0,
             "ticks": ""
            },
            "type": "mesh3d"
           }
          ],
          "parcoords": [
           {
            "line": {
             "colorbar": {
              "outlinewidth": 0,
              "ticks": ""
             }
            },
            "type": "parcoords"
           }
          ],
          "pie": [
           {
            "automargin": true,
            "type": "pie"
           }
          ],
          "scatter": [
           {
            "marker": {
             "colorbar": {
              "outlinewidth": 0,
              "ticks": ""
             }
            },
            "type": "scatter"
           }
          ],
          "scatter3d": [
           {
            "line": {
             "colorbar": {
              "outlinewidth": 0,
              "ticks": ""
             }
            },
            "marker": {
             "colorbar": {
              "outlinewidth": 0,
              "ticks": ""
             }
            },
            "type": "scatter3d"
           }
          ],
          "scattercarpet": [
           {
            "marker": {
             "colorbar": {
              "outlinewidth": 0,
              "ticks": ""
             }
            },
            "type": "scattercarpet"
           }
          ],
          "scattergeo": [
           {
            "marker": {
             "colorbar": {
              "outlinewidth": 0,
              "ticks": ""
             }
            },
            "type": "scattergeo"
           }
          ],
          "scattergl": [
           {
            "marker": {
             "colorbar": {
              "outlinewidth": 0,
              "ticks": ""
             }
            },
            "type": "scattergl"
           }
          ],
          "scattermapbox": [
           {
            "marker": {
             "colorbar": {
              "outlinewidth": 0,
              "ticks": ""
             }
            },
            "type": "scattermapbox"
           }
          ],
          "scatterpolar": [
           {
            "marker": {
             "colorbar": {
              "outlinewidth": 0,
              "ticks": ""
             }
            },
            "type": "scatterpolar"
           }
          ],
          "scatterpolargl": [
           {
            "marker": {
             "colorbar": {
              "outlinewidth": 0,
              "ticks": ""
             }
            },
            "type": "scatterpolargl"
           }
          ],
          "scatterternary": [
           {
            "marker": {
             "colorbar": {
              "outlinewidth": 0,
              "ticks": ""
             }
            },
            "type": "scatterternary"
           }
          ],
          "surface": [
           {
            "colorbar": {
             "outlinewidth": 0,
             "ticks": ""
            },
            "colorscale": [
             [
              0,
              "#0d0887"
             ],
             [
              0.1111111111111111,
              "#46039f"
             ],
             [
              0.2222222222222222,
              "#7201a8"
             ],
             [
              0.3333333333333333,
              "#9c179e"
             ],
             [
              0.4444444444444444,
              "#bd3786"
             ],
             [
              0.5555555555555556,
              "#d8576b"
             ],
             [
              0.6666666666666666,
              "#ed7953"
             ],
             [
              0.7777777777777778,
              "#fb9f3a"
             ],
             [
              0.8888888888888888,
              "#fdca26"
             ],
             [
              1,
              "#f0f921"
             ]
            ],
            "type": "surface"
           }
          ],
          "table": [
           {
            "cells": {
             "fill": {
              "color": "#EBF0F8"
             },
             "line": {
              "color": "white"
             }
            },
            "header": {
             "fill": {
              "color": "#C8D4E3"
             },
             "line": {
              "color": "white"
             }
            },
            "type": "table"
           }
          ]
         },
         "layout": {
          "annotationdefaults": {
           "arrowcolor": "#2a3f5f",
           "arrowhead": 0,
           "arrowwidth": 1
          },
          "autotypenumbers": "strict",
          "coloraxis": {
           "colorbar": {
            "outlinewidth": 0,
            "ticks": ""
           }
          },
          "colorscale": {
           "diverging": [
            [
             0,
             "#8e0152"
            ],
            [
             0.1,
             "#c51b7d"
            ],
            [
             0.2,
             "#de77ae"
            ],
            [
             0.3,
             "#f1b6da"
            ],
            [
             0.4,
             "#fde0ef"
            ],
            [
             0.5,
             "#f7f7f7"
            ],
            [
             0.6,
             "#e6f5d0"
            ],
            [
             0.7,
             "#b8e186"
            ],
            [
             0.8,
             "#7fbc41"
            ],
            [
             0.9,
             "#4d9221"
            ],
            [
             1,
             "#276419"
            ]
           ],
           "sequential": [
            [
             0,
             "#0d0887"
            ],
            [
             0.1111111111111111,
             "#46039f"
            ],
            [
             0.2222222222222222,
             "#7201a8"
            ],
            [
             0.3333333333333333,
             "#9c179e"
            ],
            [
             0.4444444444444444,
             "#bd3786"
            ],
            [
             0.5555555555555556,
             "#d8576b"
            ],
            [
             0.6666666666666666,
             "#ed7953"
            ],
            [
             0.7777777777777778,
             "#fb9f3a"
            ],
            [
             0.8888888888888888,
             "#fdca26"
            ],
            [
             1,
             "#f0f921"
            ]
           ],
           "sequentialminus": [
            [
             0,
             "#0d0887"
            ],
            [
             0.1111111111111111,
             "#46039f"
            ],
            [
             0.2222222222222222,
             "#7201a8"
            ],
            [
             0.3333333333333333,
             "#9c179e"
            ],
            [
             0.4444444444444444,
             "#bd3786"
            ],
            [
             0.5555555555555556,
             "#d8576b"
            ],
            [
             0.6666666666666666,
             "#ed7953"
            ],
            [
             0.7777777777777778,
             "#fb9f3a"
            ],
            [
             0.8888888888888888,
             "#fdca26"
            ],
            [
             1,
             "#f0f921"
            ]
           ]
          },
          "colorway": [
           "#636efa",
           "#EF553B",
           "#00cc96",
           "#ab63fa",
           "#FFA15A",
           "#19d3f3",
           "#FF6692",
           "#B6E880",
           "#FF97FF",
           "#FECB52"
          ],
          "font": {
           "color": "#2a3f5f"
          },
          "geo": {
           "bgcolor": "white",
           "lakecolor": "white",
           "landcolor": "#E5ECF6",
           "showlakes": true,
           "showland": true,
           "subunitcolor": "white"
          },
          "hoverlabel": {
           "align": "left"
          },
          "hovermode": "closest",
          "mapbox": {
           "style": "light"
          },
          "paper_bgcolor": "white",
          "plot_bgcolor": "#E5ECF6",
          "polar": {
           "angularaxis": {
            "gridcolor": "white",
            "linecolor": "white",
            "ticks": ""
           },
           "bgcolor": "#E5ECF6",
           "radialaxis": {
            "gridcolor": "white",
            "linecolor": "white",
            "ticks": ""
           }
          },
          "scene": {
           "xaxis": {
            "backgroundcolor": "#E5ECF6",
            "gridcolor": "white",
            "gridwidth": 2,
            "linecolor": "white",
            "showbackground": true,
            "ticks": "",
            "zerolinecolor": "white"
           },
           "yaxis": {
            "backgroundcolor": "#E5ECF6",
            "gridcolor": "white",
            "gridwidth": 2,
            "linecolor": "white",
            "showbackground": true,
            "ticks": "",
            "zerolinecolor": "white"
           },
           "zaxis": {
            "backgroundcolor": "#E5ECF6",
            "gridcolor": "white",
            "gridwidth": 2,
            "linecolor": "white",
            "showbackground": true,
            "ticks": "",
            "zerolinecolor": "white"
           }
          },
          "shapedefaults": {
           "line": {
            "color": "#2a3f5f"
           }
          },
          "ternary": {
           "aaxis": {
            "gridcolor": "white",
            "linecolor": "white",
            "ticks": ""
           },
           "baxis": {
            "gridcolor": "white",
            "linecolor": "white",
            "ticks": ""
           },
           "bgcolor": "#E5ECF6",
           "caxis": {
            "gridcolor": "white",
            "linecolor": "white",
            "ticks": ""
           }
          },
          "title": {
           "x": 0.05
          },
          "xaxis": {
           "automargin": true,
           "gridcolor": "white",
           "linecolor": "white",
           "ticks": "",
           "title": {
            "standoff": 15
           },
           "zerolinecolor": "white",
           "zerolinewidth": 2
          },
          "yaxis": {
           "automargin": true,
           "gridcolor": "white",
           "linecolor": "white",
           "ticks": "",
           "title": {
            "standoff": 15
           },
           "zerolinecolor": "white",
           "zerolinewidth": 2
          }
         }
        },
        "xaxis": {
         "anchor": "y",
         "autorange": true,
         "constrain": "domain",
         "domain": [
          0.45911862527716185,
          0.5408813747228381
         ],
         "range": [
          -0.5,
          4.5
         ],
         "scaleanchor": "y",
         "type": "category"
        },
        "yaxis": {
         "anchor": "x",
         "autorange": true,
         "constrain": "domain",
         "domain": [
          0,
          1
         ],
         "range": [
          19.5,
          -0.5
         ],
         "title": {
          "text": "Identifier"
         },
         "type": "category"
        }
       }
      },
      "image/png": "[encoded data removed]",
      "text/html": [
       "<div>                            <div id=\"200a6bca-3a08-4852-a2ac-7bd7a4291c77\" class=\"plotly-graph-div\" style=\"height:525px; width:100%;\"></div>            <script type=\"text/javascript\">                require([\"plotly\"], function(Plotly) {                    window.PLOTLYENV=window.PLOTLYENV || {};                                    if (document.getElementById(\"200a6bca-3a08-4852-a2ac-7bd7a4291c77\")) {                    Plotly.newPlot(                        \"200a6bca-3a08-4852-a2ac-7bd7a4291c77\",                        [{\"coloraxis\": \"coloraxis\", \"hovertemplate\": \"x: %{x}<br>Identifier: %{y}<br>color: %{z}<extra></extra>\", \"name\": \"0\", \"type\": \"heatmap\", \"x\": [\"US-1584738\", \"US-1584722\", \"US-1584712\", \"US-1584754\", \"US-1584765\", \"US-1584738\", \"US-1584722\", \"US-1584712\", \"US-1584754\", \"US-1584765\"], \"xaxis\": \"x\", \"y\": [\"ENSDARG00000045854\", \"ENSDARG00000071091\", \"ENSDARG00000104259\", \"ENSDARG00000005522\", \"ENSDARG00000091254\", \"ENSDARG00000008541\", \"ENSDARG00000093738\", \"ENSDARG00000037946\", \"ENSDARG00000036171\", \"ENSDARG00000026484\", \"ENSDARG00000102336\", \"ENSDARG00000070038\", \"ENSDARG00000067859\", \"ENSDARG00000008306\", \"ENSDARG00000100258\", \"ENSDARG00000093089\", \"ENSDARG00000038894\", \"ENSDARG00000039067\", \"ENSDARG00000076270\", \"ENSDARG00000025783\"], \"yaxis\": \"y\", \"z\": [[4.807354922057604, 4.459431618637297, 4.754887502163468, 3.0, 3.321928094887362, 4.807354922057604, 4.459431618637297, 4.754887502163468, 3.0, 3.321928094887362], [2.321928094887362, 2.0, 2.807354922057604, 2.321928094887362, 3.321928094887362, 2.321928094887362, 2.0, 2.807354922057604, 2.321928094887362, 3.321928094887362], [1.584962500721156, 0.48542682717024166, 0.0, 1.0, 0.0, 1.584962500721156, 0.48542682717024166, 0.0, 1.0, 0.0], [2.321928094887362, 0.0, 0.0, 0.6780719051126377, 0.0, 2.321928094887362, 0.0, 0.0, 0.6780719051126377, 0.0], [-0.7369655941662062, 1.0, 0.0, -0.7369655941662062, -0.7369655941662062, -0.7369655941662062, 1.0, 0.0, -0.7369655941662062, -0.7369655941662062], [-0.7369655941662062, 0.0, -0.7369655941662062, 1.0, -0.7369655941662062, -0.7369655941662062, 0.0, -0.7369655941662062, 1.0, -0.7369655941662062], [-0.7369655941662062, -0.7369655941662062, 1.0, 0.0, -0.7369655941662062, -0.7369655941662062, -0.7369655941662062, 1.0, 0.0, -0.7369655941662062], [-0.7369655941662062, 0.0, 1.0, -0.7369655941662062, -0.7369655941662062, -0.7369655941662062, 0.0, 1.0, -0.7369655941662062, -0.7369655941662062], [0.0, -0.7369655941662062, -0.7369655941662062, 0.0, 0.0, 0.0, -0.7369655941662062, -0.7369655941662062, 0.0, 0.0], [0.0, -1.3219280948873622, -1.3219280948873622, -1.3219280948873622, 0.0, 0.0, -1.3219280948873622, -1.3219280948873622, -1.3219280948873622, 0.0], [-19.931568569324174, -19.931568569324174, -19.931568569324174, -19.931568569324174, -19.931568569324174, -19.931568569324174, -19.931568569324174, -19.931568569324174, -19.931568569324174, -19.931568569324174], [-19.931568569324174, -19.931568569324174, -19.931568569324174, -19.931568569324174, -19.931568569324174, -19.931568569324174, -19.931568569324174, -19.931568569324174, -19.931568569324174, -19.931568569324174], [-19.931568569324174, -19.931568569324174, -19.931568569324174, -19.931568569324174, -19.931568569324174, -19.931568569324174, -19.931568569324174, -19.931568569324174, -19.931568569324174, -19.931568569324174], [-19.931568569324174, -19.931568569324174, -19.931568569324174, -19.931568569324174, -19.931568569324174, -19.931568569324174, -19.931568569324174, -19.931568569324174, -19.931568569324174, -19.931568569324174], [-19.931568569324174, -19.931568569324174, -19.931568569324174, -19.931568569324174, -19.931568569324174, -19.931568569324174, -19.931568569324174, -19.931568569324174, -19.931568569324174, -19.931568569324174], [-19.931568569324174, -19.931568569324174, -19.931568569324174, -19.931568569324174, -19.931568569324174, -19.931568569324174, -19.931568569324174, -19.931568569324174, -19.931568569324174, -19.931568569324174], [-19.931568569324174, -19.931568569324174, -19.931568569324174, -19.931568569324174, -19.931568569324174, -19.931568569324174, -19.931568569324174, -19.931568569324174, -19.931568569324174, -19.931568569324174], [-19.931568569324174, -19.931568569324174, -19.931568569324174, -19.931568569324174, -19.931568569324174, -19.931568569324174, -19.931568569324174, -19.931568569324174, -19.931568569324174, -19.931568569324174], [-19.931568569324174, -19.931568569324174, -19.931568569324174, -19.931568569324174, -19.931568569324174, -19.931568569324174, -19.931568569324174, -19.931568569324174, -19.931568569324174, -19.931568569324174], [-19.931568569324174, -19.931568569324174, -19.931568569324174, -19.931568569324174, -19.931568569324174, -19.931568569324174, -19.931568569324174, -19.931568569324174, -19.931568569324174, -19.931568569324174]]}],                        {\"coloraxis\": {\"colorscale\": [[0.0, \"#0d0887\"], [0.1111111111111111, \"#46039f\"], [0.2222222222222222, \"#7201a8\"], [0.3333333333333333, \"#9c179e\"], [0.4444444444444444, \"#bd3786\"], [0.5555555555555556, \"#d8576b\"], [0.6666666666666666, \"#ed7953\"], [0.7777777777777778, \"#fb9f3a\"], [0.8888888888888888, \"#fdca26\"], [1.0, \"#f0f921\"]]}, \"margin\": {\"t\": 60}, \"template\": {\"data\": {\"bar\": [{\"error_x\": {\"color\": \"#2a3f5f\"}, \"error_y\": {\"color\": \"#2a3f5f\"}, \"marker\": {\"line\": {\"color\": \"#E5ECF6\", \"width\": 0.5}}, \"type\": \"bar\"}], \"barpolar\": [{\"marker\": {\"line\": {\"color\": \"#E5ECF6\", \"width\": 0.5}}, \"type\": \"barpolar\"}], \"carpet\": [{\"aaxis\": {\"endlinecolor\": \"#2a3f5f\", \"gridcolor\": \"white\", \"linecolor\": \"white\", \"minorgridcolor\": \"white\", \"startlinecolor\": \"#2a3f5f\"}, \"baxis\": {\"endlinecolor\": \"#2a3f5f\", \"gridcolor\": \"white\", \"linecolor\": \"white\", \"minorgridcolor\": \"white\", \"startlinecolor\": \"#2a3f5f\"}, \"type\": \"carpet\"}], \"choropleth\": [{\"colorbar\": {\"outlinewidth\": 0, \"ticks\": \"\"}, \"type\": \"choropleth\"}], \"contour\": [{\"colorbar\": {\"outlinewidth\": 0, \"ticks\": \"\"}, \"colorscale\": [[0.0, \"#0d0887\"], [0.1111111111111111, \"#46039f\"], [0.2222222222222222, \"#7201a8\"], [0.3333333333333333, \"#9c179e\"], [0.4444444444444444, \"#bd3786\"], [0.5555555555555556, \"#d8576b\"], [0.6666666666666666, \"#ed7953\"], [0.7777777777777778, \"#fb9f3a\"], [0.8888888888888888, \"#fdca26\"], [1.0, \"#f0f921\"]], \"type\": \"contour\"}], \"contourcarpet\": [{\"colorbar\": {\"outlinewidth\": 0, \"ticks\": \"\"}, \"type\": \"contourcarpet\"}], \"heatmap\": [{\"colorbar\": {\"outlinewidth\": 0, \"ticks\": \"\"}, \"colorscale\": [[0.0, \"#0d0887\"], [0.1111111111111111, \"#46039f\"], [0.2222222222222222, \"#7201a8\"], [0.3333333333333333, \"#9c179e\"], [0.4444444444444444, \"#bd3786\"], [0.5555555555555556, \"#d8576b\"], [0.6666666666666666, \"#ed7953\"], [0.7777777777777778, \"#fb9f3a\"], [0.8888888888888888, \"#fdca26\"], [1.0, \"#f0f921\"]], \"type\": \"heatmap\"}], \"heatmapgl\": [{\"colorbar\": {\"outlinewidth\": 0, \"ticks\": \"\"}, \"colorscale\": [[0.0, \"#0d0887\"], [0.1111111111111111, \"#46039f\"], [0.2222222222222222, \"#7201a8\"], [0.3333333333333333, \"#9c179e\"], [0.4444444444444444, \"#bd3786\"], [0.5555555555555556, \"#d8576b\"], [0.6666666666666666, \"#ed7953\"], [0.7777777777777778, \"#fb9f3a\"], [0.8888888888888888, \"#fdca26\"], [1.0, \"#f0f921\"]], \"type\": \"heatmapgl\"}], \"histogram\": [{\"marker\": {\"colorbar\": {\"outlinewidth\": 0, \"ticks\": \"\"}}, \"type\": \"histogram\"}], \"histogram2d\": [{\"colorbar\": {\"outlinewidth\": 0, \"ticks\": \"\"}, \"colorscale\": [[0.0, \"#0d0887\"], [0.1111111111111111, \"#46039f\"], [0.2222222222222222, \"#7201a8\"], [0.3333333333333333, \"#9c179e\"], [0.4444444444444444, \"#bd3786\"], [0.5555555555555556, \"#d8576b\"], [0.6666666666666666, \"#ed7953\"], [0.7777777777777778, \"#fb9f3a\"], [0.8888888888888888, \"#fdca26\"], [1.0, \"#f0f921\"]], \"type\": \"histogram2d\"}], \"histogram2dcontour\": [{\"colorbar\": {\"outlinewidth\": 0, \"ticks\": \"\"}, \"colorscale\": [[0.0, \"#0d0887\"], [0.1111111111111111, \"#46039f\"], [0.2222222222222222, \"#7201a8\"], [0.3333333333333333, \"#9c179e\"], [0.4444444444444444, \"#bd3786\"], [0.5555555555555556, \"#d8576b\"], [0.6666666666666666, \"#ed7953\"], [0.7777777777777778, \"#fb9f3a\"], [0.8888888888888888, \"#fdca26\"], [1.0, \"#f0f921\"]], \"type\": \"histogram2dcontour\"}], \"mesh3d\": [{\"colorbar\": {\"outlinewidth\": 0, \"ticks\": \"\"}, \"type\": \"mesh3d\"}], \"parcoords\": [{\"line\": {\"colorbar\": {\"outlinewidth\": 0, \"ticks\": \"\"}}, \"type\": \"parcoords\"}], \"pie\": [{\"automargin\": true, \"type\": \"pie\"}], \"scatter\": [{\"marker\": {\"colorbar\": {\"outlinewidth\": 0, \"ticks\": \"\"}}, \"type\": \"scatter\"}], \"scatter3d\": [{\"line\": {\"colorbar\": {\"outlinewidth\": 0, \"ticks\": \"\"}}, \"marker\": {\"colorbar\": {\"outlinewidth\": 0, \"ticks\": \"\"}}, \"type\": \"scatter3d\"}], \"scattercarpet\": [{\"marker\": {\"colorbar\": {\"outlinewidth\": 0, \"ticks\": \"\"}}, \"type\": \"scattercarpet\"}], \"scattergeo\": [{\"marker\": {\"colorbar\": {\"outlinewidth\": 0, \"ticks\": \"\"}}, \"type\": \"scattergeo\"}], \"scattergl\": [{\"marker\": {\"colorbar\": {\"outlinewidth\": 0, \"ticks\": \"\"}}, \"type\": \"scattergl\"}], \"scattermapbox\": [{\"marker\": {\"colorbar\": {\"outlinewidth\": 0, \"ticks\": \"\"}}, \"type\": \"scattermapbox\"}], \"scatterpolar\": [{\"marker\": {\"colorbar\": {\"outlinewidth\": 0, \"ticks\": \"\"}}, \"type\": \"scatterpolar\"}], \"scatterpolargl\": [{\"marker\": {\"colorbar\": {\"outlinewidth\": 0, \"ticks\": \"\"}}, \"type\": \"scatterpolargl\"}], \"scatterternary\": [{\"marker\": {\"colorbar\": {\"outlinewidth\": 0, \"ticks\": \"\"}}, \"type\": \"scatterternary\"}], \"surface\": [{\"colorbar\": {\"outlinewidth\": 0, \"ticks\": \"\"}, \"colorscale\": [[0.0, \"#0d0887\"], [0.1111111111111111, \"#46039f\"], [0.2222222222222222, \"#7201a8\"], [0.3333333333333333, \"#9c179e\"], [0.4444444444444444, \"#bd3786\"], [0.5555555555555556, \"#d8576b\"], [0.6666666666666666, \"#ed7953\"], [0.7777777777777778, \"#fb9f3a\"], [0.8888888888888888, \"#fdca26\"], [1.0, \"#f0f921\"]], \"type\": \"surface\"}], \"table\": [{\"cells\": {\"fill\": {\"color\": \"#EBF0F8\"}, \"line\": {\"color\": \"white\"}}, \"header\": {\"fill\": {\"color\": \"#C8D4E3\"}, \"line\": {\"color\": \"white\"}}, \"type\": \"table\"}]}, \"layout\": {\"annotationdefaults\": {\"arrowcolor\": \"#2a3f5f\", \"arrowhead\": 0, \"arrowwidth\": 1}, \"autotypenumbers\": \"strict\", \"coloraxis\": {\"colorbar\": {\"outlinewidth\": 0, \"ticks\": \"\"}}, \"colorscale\": {\"diverging\": [[0, \"#8e0152\"], [0.1, \"#c51b7d\"], [0.2, \"#de77ae\"], [0.3, \"#f1b6da\"], [0.4, \"#fde0ef\"], [0.5, \"#f7f7f7\"], [0.6, \"#e6f5d0\"], [0.7, \"#b8e186\"], [0.8, \"#7fbc41\"], [0.9, \"#4d9221\"], [1, \"#276419\"]], \"sequential\": [[0.0, \"#0d0887\"], [0.1111111111111111, \"#46039f\"], [0.2222222222222222, \"#7201a8\"], [0.3333333333333333, \"#9c179e\"], [0.4444444444444444, \"#bd3786\"], [0.5555555555555556, \"#d8576b\"], [0.6666666666666666, \"#ed7953\"], [0.7777777777777778, \"#fb9f3a\"], [0.8888888888888888, \"#fdca26\"], [1.0, \"#f0f921\"]], \"sequentialminus\": [[0.0, \"#0d0887\"], [0.1111111111111111, \"#46039f\"], [0.2222222222222222, \"#7201a8\"], [0.3333333333333333, \"#9c179e\"], [0.4444444444444444, \"#bd3786\"], [0.5555555555555556, \"#d8576b\"], [0.6666666666666666, \"#ed7953\"], [0.7777777777777778, \"#fb9f3a\"], [0.8888888888888888, \"#fdca26\"], [1.0, \"#f0f921\"]]}, \"colorway\": [\"#636efa\", \"#EF553B\", \"#00cc96\", \"#ab63fa\", \"#FFA15A\", \"#19d3f3\", \"#FF6692\", \"#B6E880\", \"#FF97FF\", \"#FECB52\"], \"font\": {\"color\": \"#2a3f5f\"}, \"geo\": {\"bgcolor\": \"white\", \"lakecolor\": \"white\", \"landcolor\": \"#E5ECF6\", \"showlakes\": true, \"showland\": true, \"subunitcolor\": \"white\"}, \"hoverlabel\": {\"align\": \"left\"}, \"hovermode\": \"closest\", \"mapbox\": {\"style\": \"light\"}, \"paper_bgcolor\": \"white\", \"plot_bgcolor\": \"#E5ECF6\", \"polar\": {\"angularaxis\": {\"gridcolor\": \"white\", \"linecolor\": \"white\", \"ticks\": \"\"}, \"bgcolor\": \"#E5ECF6\", \"radialaxis\": {\"gridcolor\": \"white\", \"linecolor\": \"white\", \"ticks\": \"\"}}, \"scene\": {\"xaxis\": {\"backgroundcolor\": \"#E5ECF6\", \"gridcolor\": \"white\", \"gridwidth\": 2, \"linecolor\": \"white\", \"showbackground\": true, \"ticks\": \"\", \"zerolinecolor\": \"white\"}, \"yaxis\": {\"backgroundcolor\": \"#E5ECF6\", \"gridcolor\": \"white\", \"gridwidth\": 2, \"linecolor\": \"white\", \"showbackground\": true, \"ticks\": \"\", \"zerolinecolor\": \"white\"}, \"zaxis\": {\"backgroundcolor\": \"#E5ECF6\", \"gridcolor\": \"white\", \"gridwidth\": 2, \"linecolor\": \"white\", \"showbackground\": true, \"ticks\": \"\", \"zerolinecolor\": \"white\"}}, \"shapedefaults\": {\"line\": {\"color\": \"#2a3f5f\"}}, \"ternary\": {\"aaxis\": {\"gridcolor\": \"white\", \"linecolor\": \"white\", \"ticks\": \"\"}, \"baxis\": {\"gridcolor\": \"white\", \"linecolor\": \"white\", \"ticks\": \"\"}, \"bgcolor\": \"#E5ECF6\", \"caxis\": {\"gridcolor\": \"white\", \"linecolor\": \"white\", \"ticks\": \"\"}}, \"title\": {\"x\": 0.05}, \"xaxis\": {\"automargin\": true, \"gridcolor\": \"white\", \"linecolor\": \"white\", \"ticks\": \"\", \"title\": {\"standoff\": 15}, \"zerolinecolor\": \"white\", \"zerolinewidth\": 2}, \"yaxis\": {\"automargin\": true, \"gridcolor\": \"white\", \"linecolor\": \"white\", \"ticks\": \"\", \"title\": {\"standoff\": 15}, \"zerolinecolor\": \"white\", \"zerolinewidth\": 2}}}, \"xaxis\": {\"anchor\": \"y\", \"constrain\": \"domain\", \"domain\": [0.0, 1.0], \"scaleanchor\": \"y\"}, \"yaxis\": {\"anchor\": \"x\", \"autorange\": \"reversed\", \"constrain\": \"domain\", \"domain\": [0.0, 1.0], \"title\": {\"text\": \"Identifier\"}}},                        {\"responsive\": true}                    ).then(function(){\n",
       "                            \n",
       "var gd = document.getElementById('200a6bca-3a08-4852-a2ac-7bd7a4291c77');\n",
       "var x = new MutationObserver(function (mutations, observer) {{\n",
       "        var display = window.getComputedStyle(gd).display;\n",
       "        if (!display || display === 'none') {{\n",
       "            console.log([gd, 'removed!']);\n",
       "            Plotly.purge(gd);\n",
       "            observer.disconnect();\n",
       "        }}\n",
       "}});\n",
       "\n",
       "// Listen for the removal of the full notebook cells\n",
       "var notebookContainer = gd.closest('#notebook-container');\n",
       "if (notebookContainer) {{\n",
       "    x.observe(notebookContainer, {childList: true});\n",
       "}}\n",
       "\n",
       "// Listen for the clearing of the current output cell\n",
       "var outputEl = gd.closest('.output');\n",
       "if (outputEl) {{\n",
       "    x.observe(outputEl, {childList: true});\n",
       "}}\n",
       "\n",
       "                        })                };                });            </script>        </div>"
      ]
     },
     "metadata": {},
     "output_type": "display_data"
    }
   ],
   "source": [
    "from plotly import express as px\n",
    "px.imshow(np.log2(heatmap_df))"
   ]
  },
  {
   "cell_type": "code",
   "execution_count": 58,
   "metadata": {},
   "outputs": [
    {
     "data": {
      "text/plain": [
       "US-1584738    28.0\n",
       "US-1584722    22.0\n",
       "US-1584712    27.0\n",
       "US-1584754     8.0\n",
       "US-1584765    10.0\n",
       "US-1584738    28.0\n",
       "US-1584722    22.0\n",
       "US-1584712    27.0\n",
       "US-1584754     8.0\n",
       "US-1584765    10.0\n",
       "Name: ENSDARG00000045854, dtype: float64"
      ]
     },
     "execution_count": 58,
     "metadata": {},
     "output_type": "execute_result"
    }
   ],
   "source": [
    "heatmap_df.loc['ENSDARG00000045854']"
   ]
  },
  {
   "cell_type": "code",
   "execution_count": 59,
   "metadata": {},
   "outputs": [
    {
     "data": {
      "text/plain": [
       "US-1584738    0.000001\n",
       "US-1584722    0.000001\n",
       "US-1584712    0.000001\n",
       "US-1584754    0.000001\n",
       "US-1584765    0.000001\n",
       "US-1584738    0.000001\n",
       "US-1584722    0.000001\n",
       "US-1584712    0.000001\n",
       "US-1584754    0.000001\n",
       "US-1584765    0.000001\n",
       "Name: ENSDARG00000025783, dtype: float64"
      ]
     },
     "execution_count": 59,
     "metadata": {},
     "output_type": "execute_result"
    }
   ],
   "source": [
    "heatmap_df.loc['ENSDARG00000025783']"
   ]
  }
 ],
 "metadata": {
  "kernelspec": {
   "display_name": "Python 3",
   "language": "python",
   "name": "python3"
  },
  "language_info": {
   "codemirror_mode": {
    "name": "ipython",
    "version": 3
   },
   "file_extension": ".py",
   "mimetype": "text/x-python",
   "name": "python",
   "nbconvert_exporter": "python",
   "pygments_lexer": "ipython3",
   "version": "3.7.3"
  }
 },
 "nbformat": 4,
 "nbformat_minor": 4
}
