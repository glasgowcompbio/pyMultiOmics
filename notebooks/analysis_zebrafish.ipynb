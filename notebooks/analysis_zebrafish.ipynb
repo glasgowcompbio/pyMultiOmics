{
 "cells": [
  {
   "cell_type": "code",
   "execution_count": 1,
   "metadata": {},
   "outputs": [],
   "source": [
    "%load_ext autoreload\n",
    "%autoreload 2\n",
    "\n",
    "%matplotlib inline"
   ]
  },
  {
   "cell_type": "code",
   "execution_count": 2,
   "metadata": {},
   "outputs": [],
   "source": [
    "import os, sys"
   ]
  },
  {
   "cell_type": "code",
   "execution_count": 3,
   "metadata": {},
   "outputs": [],
   "source": [
    "import pandas as pd\n",
    "from loguru import logger"
   ]
  },
  {
   "cell_type": "code",
   "execution_count": 4,
   "metadata": {},
   "outputs": [
    {
     "name": "stderr",
     "output_type": "stream",
     "text": [
      "2021-02-09 17:22:00.473 | INFO     | pyMultiOmics.reactome:get_neo4j_driver:24 - Created graph database driver for bolt://localhost:7687 (neo4j)\n"
     ]
    }
   ],
   "source": [
    "sys.path.append('..')\n",
    "\n",
    "from pyMultiOmics.constants import *\n",
    "from pyMultiOmics.mapping import Mapper\n",
    "from pyMultiOmics.common import set_log_level_info\n",
    "from pyMultiOmics.analysis import *\n",
    "from pyMultiOmics.query import *"
   ]
  },
  {
   "cell_type": "markdown",
   "metadata": {},
   "source": [
    "# Demonstration of pyMultiOmics"
   ]
  },
  {
   "cell_type": "markdown",
   "metadata": {},
   "source": [
    "## Load the processed Zebrafish data from [1]\n",
    "\n",
    "[1] [Rabinowitz, Jeremy S., et al. \"Transcriptomic, proteomic, and metabolomic landscape of positional memory in the caudal fin of zebrafish.\" Proceedings of the National Academy of Sciences 114.5 (2017): E717-E726.](https://www.pnas.org/content/114/5/E717.short)"
   ]
  },
  {
   "cell_type": "code",
   "execution_count": 5,
   "metadata": {},
   "outputs": [
    {
     "data": {
      "text/plain": [
       "'C:\\\\Users\\\\joewa\\\\Work\\\\git\\\\pyMultiOmics\\\\notebooks\\\\test_data\\\\zebrafish_data'"
      ]
     },
     "execution_count": 5,
     "metadata": {},
     "output_type": "execute_result"
    }
   ],
   "source": [
    "DATA_FOLDER = os.path.abspath(os.path.join('test_data', 'zebrafish_data'))\n",
    "DATA_FOLDER"
   ]
  },
  {
   "cell_type": "markdown",
   "metadata": {},
   "source": [
    "Read transcriptomics data (identified by their gene ids)"
   ]
  },
  {
   "cell_type": "code",
   "execution_count": 6,
   "metadata": {},
   "outputs": [],
   "source": [
    "gene_data = pd.read_csv(os.path.join(DATA_FOLDER, 'gene_data_combined.csv'), index_col='Identifier')\n",
    "gene_design = pd.read_csv(os.path.join(DATA_FOLDER, 'gene_design.csv'), index_col='sample')"
   ]
  },
  {
   "cell_type": "markdown",
   "metadata": {},
   "source": [
    "Read proteomics data"
   ]
  },
  {
   "cell_type": "code",
   "execution_count": 7,
   "metadata": {},
   "outputs": [],
   "source": [
    "protein_data = pd.read_csv(os.path.join(DATA_FOLDER, 'protein_data.csv'), index_col='Uniprot')\n",
    "protein_design = pd.read_csv(os.path.join(DATA_FOLDER, 'protein_design.csv'), index_col='sample')"
   ]
  },
  {
   "cell_type": "markdown",
   "metadata": {},
   "source": [
    "Read metabolomics data"
   ]
  },
  {
   "cell_type": "code",
   "execution_count": 8,
   "metadata": {},
   "outputs": [],
   "source": [
    "compound_data = pd.read_csv(os.path.join(DATA_FOLDER, 'compound_data_kegg.csv'), index_col='Identifier')\n",
    "compound_design = pd.read_csv(os.path.join(DATA_FOLDER, 'compound_design.csv'), index_col='sample')"
   ]
  },
  {
   "cell_type": "code",
   "execution_count": 9,
   "metadata": {},
   "outputs": [
    {
     "data": {
      "text/plain": [
       "1"
      ]
     },
     "execution_count": 9,
     "metadata": {},
     "output_type": "execute_result"
    }
   ],
   "source": [
    "set_log_level_info()"
   ]
  },
  {
   "cell_type": "markdown",
   "metadata": {},
   "source": [
    "## Create a mapping object"
   ]
  },
  {
   "cell_type": "markdown",
   "metadata": {},
   "source": [
    "The mapping object uses Reactome to map the different biological entities in the data:\n",
    "- Transcripts (or genes) are connected to the proteins they encode\n",
    "- Proteins and compounds are connected to reactions they're involved in\n",
    "- Reactions are connected to pathways"
   ]
  },
  {
   "cell_type": "code",
   "execution_count": 10,
   "metadata": {},
   "outputs": [
    {
     "name": "stderr",
     "output_type": "stream",
     "text": [
      "2021-02-09 17:22:01.813 | INFO     | pyMultiOmics.functions:reactome_mapping:72 - Mapping genes -> proteins\n",
      "2021-02-09 17:22:02.692 | INFO     | pyMultiOmics.functions:reactome_mapping:77 - Mapping proteins -> reactions\n",
      "2021-02-09 17:22:04.981 | INFO     | pyMultiOmics.functions:reactome_mapping:85 - Mapping compounds -> reactions\n",
      "2021-02-09 17:22:05.809 | INFO     | pyMultiOmics.functions:reactome_mapping:91 - Mapping reactions -> pathways\n",
      "2021-02-09 17:22:06.123 | INFO     | pyMultiOmics.functions:reactome_mapping:102 - Mapping reactions -> proteins\n",
      "2021-02-09 17:22:08.499 | INFO     | pyMultiOmics.functions:reactome_mapping:109 - Mapping reactions -> compounds\n",
      "2021-02-09 17:22:09.694 | INFO     | pyMultiOmics.functions:reactome_mapping:121 - Mapping proteins -> genes\n",
      "2021-02-09 17:22:25.341 | INFO     | pyMultiOmics.mapping:_add_nodes:166 - Processing nodes: genes\n",
      "2021-02-09 17:22:27.858 | INFO     | pyMultiOmics.mapping:_add_nodes:166 - Processing nodes: proteins\n",
      "2021-02-09 17:22:28.671 | INFO     | pyMultiOmics.mapping:_add_nodes:166 - Processing nodes: compounds\n",
      "2021-02-09 17:22:28.814 | INFO     | pyMultiOmics.mapping:_add_nodes:166 - Processing nodes: reactions\n",
      "2021-02-09 17:22:29.289 | INFO     | pyMultiOmics.mapping:_add_nodes:166 - Processing nodes: pathways\n",
      "2021-02-09 17:22:29.313 | INFO     | pyMultiOmics.mapping:_add_edges:214 - Processing edges: gene_proteins\n",
      "2021-02-09 17:22:29.858 | INFO     | pyMultiOmics.mapping:_add_edges:214 - Processing edges: protein_reactions\n",
      "2021-02-09 17:22:33.978 | INFO     | pyMultiOmics.mapping:_add_edges:214 - Processing edges: compound_reactions\n",
      "2021-02-09 17:22:35.228 | INFO     | pyMultiOmics.mapping:_add_edges:214 - Processing edges: reaction_pathways\n",
      "2021-02-09 17:22:35.720 | INFO     | pyMultiOmics.mapping:build:80 - Created a multi-omics network with 20412 nodes and 21551 edges\n",
      "2021-02-09 17:22:35.882 | INFO     | pyMultiOmics.mapping:build:81 - node_counts = {'Genomics': 8955, 'Transcriptomics': 0, 'Proteomics': 7931, 'Metabolomics': 1693, 'Reactions': 1585, 'Pathways': 248}\n"
     ]
    }
   ],
   "source": [
    "m = Mapper(DANIO_RERIO, metabolic_pathway_only=True) \\\n",
    "        .set_gene(gene_data, gene_design) \\\n",
    "        .set_protein(protein_data, protein_design) \\\n",
    "        .set_compound(compound_data, compound_design) \\\n",
    "        .build()"
   ]
  },
  {
   "cell_type": "markdown",
   "metadata": {},
   "source": [
    "## DE analysis"
   ]
  },
  {
   "cell_type": "code",
   "execution_count": 11,
   "metadata": {},
   "outputs": [],
   "source": [
    "data_type = GENES\n",
    "data_df, design_df = m.get_dfs(data_type)\n",
    "case = 'Distal'\n",
    "control = 'Proximal'"
   ]
  },
  {
   "cell_type": "code",
   "execution_count": 12,
   "metadata": {},
   "outputs": [
    {
     "name": "stderr",
     "output_type": "stream",
     "text": [
      "2021-02-09 17:22:36.120 | INFO     | pyMultiOmics.pipelines:run_ttest:120 - t-test case is Distal, control is Proximal\n"
     ]
    },
    {
     "data": {
      "text/html": [
       "<div>\n",
       "<style scoped>\n",
       "    .dataframe tbody tr th:only-of-type {\n",
       "        vertical-align: middle;\n",
       "    }\n",
       "\n",
       "    .dataframe tbody tr th {\n",
       "        vertical-align: top;\n",
       "    }\n",
       "\n",
       "    .dataframe thead th {\n",
       "        text-align: right;\n",
       "    }\n",
       "</style>\n",
       "<table border=\"1\" class=\"dataframe\">\n",
       "  <thead>\n",
       "    <tr style=\"text-align: right;\">\n",
       "      <th></th>\n",
       "      <th>padj</th>\n",
       "      <th>log2FoldChange</th>\n",
       "    </tr>\n",
       "  </thead>\n",
       "  <tbody>\n",
       "    <tr>\n",
       "      <th>ENSDARG00000000001</th>\n",
       "      <td>0.024460</td>\n",
       "      <td>0.715686</td>\n",
       "    </tr>\n",
       "    <tr>\n",
       "      <th>ENSDARG00000000002</th>\n",
       "      <td>0.514784</td>\n",
       "      <td>0.127781</td>\n",
       "    </tr>\n",
       "    <tr>\n",
       "      <th>ENSDARG00000000018</th>\n",
       "      <td>0.003630</td>\n",
       "      <td>-0.620668</td>\n",
       "    </tr>\n",
       "    <tr>\n",
       "      <th>ENSDARG00000000019</th>\n",
       "      <td>0.049351</td>\n",
       "      <td>0.349941</td>\n",
       "    </tr>\n",
       "    <tr>\n",
       "      <th>ENSDARG00000000068</th>\n",
       "      <td>0.396128</td>\n",
       "      <td>-0.113797</td>\n",
       "    </tr>\n",
       "    <tr>\n",
       "      <th>...</th>\n",
       "      <td>...</td>\n",
       "      <td>...</td>\n",
       "    </tr>\n",
       "    <tr>\n",
       "      <th>ENSDARG00000105304</th>\n",
       "      <td>1.000000</td>\n",
       "      <td>0.000000</td>\n",
       "    </tr>\n",
       "    <tr>\n",
       "      <th>ENSDARG00000105305</th>\n",
       "      <td>0.391027</td>\n",
       "      <td>0.253777</td>\n",
       "    </tr>\n",
       "    <tr>\n",
       "      <th>ENSDARG00000105306</th>\n",
       "      <td>0.628077</td>\n",
       "      <td>-0.350978</td>\n",
       "    </tr>\n",
       "    <tr>\n",
       "      <th>ENSDARG00000105307</th>\n",
       "      <td>0.170340</td>\n",
       "      <td>-0.998356</td>\n",
       "    </tr>\n",
       "    <tr>\n",
       "      <th>ENSDARG00000105308</th>\n",
       "      <td>0.010533</td>\n",
       "      <td>0.571196</td>\n",
       "    </tr>\n",
       "  </tbody>\n",
       "</table>\n",
       "<p>27566 rows × 2 columns</p>\n",
       "</div>"
      ],
      "text/plain": [
       "                        padj  log2FoldChange\n",
       "ENSDARG00000000001  0.024460        0.715686\n",
       "ENSDARG00000000002  0.514784        0.127781\n",
       "ENSDARG00000000018  0.003630       -0.620668\n",
       "ENSDARG00000000019  0.049351        0.349941\n",
       "ENSDARG00000000068  0.396128       -0.113797\n",
       "...                      ...             ...\n",
       "ENSDARG00000105304  1.000000        0.000000\n",
       "ENSDARG00000105305  0.391027        0.253777\n",
       "ENSDARG00000105306  0.628077       -0.350978\n",
       "ENSDARG00000105307  0.170340       -0.998356\n",
       "ENSDARG00000105308  0.010533        0.571196\n",
       "\n",
       "[27566 rows x 2 columns]"
      ]
     },
     "execution_count": 12,
     "metadata": {},
     "output_type": "execute_result"
    }
   ],
   "source": [
    "analysis = TTestAnalysis(data_df, design_df, data_type, case, control)\n",
    "analysis.run()"
   ]
  },
  {
   "cell_type": "code",
   "execution_count": 13,
   "metadata": {},
   "outputs": [],
   "source": [
    "# analysis = DESeq2Analysis(data_df, design_df, data_type, case, control)\n",
    "# analysis.run()"
   ]
  },
  {
   "cell_type": "code",
   "execution_count": 14,
   "metadata": {},
   "outputs": [],
   "source": [
    "# analysis = LimmaAnalysis(data_df, design_df, data_type, case, control)\n",
    "# analysis.run()"
   ]
  },
  {
   "cell_type": "markdown",
   "metadata": {},
   "source": [
    "Update the results back to graph"
   ]
  },
  {
   "cell_type": "code",
   "execution_count": null,
   "metadata": {},
   "outputs": [],
   "source": [
    "m.update(analysis)"
   ]
  },
  {
   "cell_type": "code",
   "execution_count": null,
   "metadata": {},
   "outputs": [],
   "source": [
    "np = NetworkPlot(m)\n",
    "np.plot()"
   ]
  },
  {
   "cell_type": "markdown",
   "metadata": {},
   "source": [
    "## Try various queries"
   ]
  },
  {
   "cell_type": "markdown",
   "metadata": {},
   "source": [
    "Retrieve a single node"
   ]
  },
  {
   "cell_type": "code",
   "execution_count": 19,
   "metadata": {},
   "outputs": [
    {
     "data": {
      "text/html": [
       "<div>\n",
       "<style scoped>\n",
       "    .dataframe tbody tr th:only-of-type {\n",
       "        vertical-align: middle;\n",
       "    }\n",
       "\n",
       "    .dataframe tbody tr th {\n",
       "        vertical-align: top;\n",
       "    }\n",
       "\n",
       "    .dataframe thead th {\n",
       "        text-align: right;\n",
       "    }\n",
       "</style>\n",
       "<table border=\"1\" class=\"dataframe\">\n",
       "  <thead>\n",
       "    <tr style=\"text-align: right;\">\n",
       "      <th></th>\n",
       "      <th>display_name</th>\n",
       "      <th>data_type</th>\n",
       "      <th>observed</th>\n",
       "    </tr>\n",
       "    <tr>\n",
       "      <th>entity_id</th>\n",
       "      <th></th>\n",
       "      <th></th>\n",
       "      <th></th>\n",
       "    </tr>\n",
       "  </thead>\n",
       "  <tbody>\n",
       "    <tr>\n",
       "      <th>15366</th>\n",
       "      <td>Acetic acid</td>\n",
       "      <td>compounds</td>\n",
       "      <td>False</td>\n",
       "    </tr>\n",
       "  </tbody>\n",
       "</table>\n",
       "</div>"
      ],
      "text/plain": [
       "          display_name  data_type  observed\n",
       "entity_id                                  \n",
       "15366      Acetic acid  compounds     False"
      ]
     },
     "execution_count": 19,
     "metadata": {},
     "output_type": "execute_result"
    }
   ],
   "source": [
    "node_id = '15366'\n",
    "res = QueryBuilder(m) \\\n",
    "        .add(SingleEntity(node_id)) \\\n",
    "        .run()\n",
    "res"
   ]
  },
  {
   "cell_type": "markdown",
   "metadata": {},
   "source": [
    "Retrieve nodes connected to a single node"
   ]
  },
  {
   "cell_type": "code",
   "execution_count": 28,
   "metadata": {},
   "outputs": [
    {
     "data": {
      "text/html": [
       "<div>\n",
       "<style scoped>\n",
       "    .dataframe tbody tr th:only-of-type {\n",
       "        vertical-align: middle;\n",
       "    }\n",
       "\n",
       "    .dataframe tbody tr th {\n",
       "        vertical-align: top;\n",
       "    }\n",
       "\n",
       "    .dataframe thead th {\n",
       "        text-align: right;\n",
       "    }\n",
       "</style>\n",
       "<table border=\"1\" class=\"dataframe\">\n",
       "  <thead>\n",
       "    <tr style=\"text-align: right;\">\n",
       "      <th></th>\n",
       "      <th>display_name</th>\n",
       "      <th>data_type</th>\n",
       "      <th>observed</th>\n",
       "    </tr>\n",
       "    <tr>\n",
       "      <th>entity_id</th>\n",
       "      <th></th>\n",
       "      <th></th>\n",
       "      <th></th>\n",
       "    </tr>\n",
       "  </thead>\n",
       "  <tbody>\n",
       "    <tr>\n",
       "      <th>ENSDARG00000037781</th>\n",
       "      <td>Acss2</td>\n",
       "      <td>genes</td>\n",
       "      <td>True</td>\n",
       "    </tr>\n",
       "    <tr>\n",
       "      <th>30616</th>\n",
       "      <td>Atp(4-)</td>\n",
       "      <td>compounds</td>\n",
       "      <td>False</td>\n",
       "    </tr>\n",
       "    <tr>\n",
       "      <th>29888</th>\n",
       "      <td>Diphosphoric acid</td>\n",
       "      <td>compounds</td>\n",
       "      <td>False</td>\n",
       "    </tr>\n",
       "    <tr>\n",
       "      <th>16027</th>\n",
       "      <td>Adenosine 5-monophosphate</td>\n",
       "      <td>compounds</td>\n",
       "      <td>True</td>\n",
       "    </tr>\n",
       "    <tr>\n",
       "      <th>15346</th>\n",
       "      <td>Coenzyme a</td>\n",
       "      <td>compounds</td>\n",
       "      <td>False</td>\n",
       "    </tr>\n",
       "    <tr>\n",
       "      <th>15366</th>\n",
       "      <td>Acetic acid</td>\n",
       "      <td>compounds</td>\n",
       "      <td>False</td>\n",
       "    </tr>\n",
       "    <tr>\n",
       "      <th>15351</th>\n",
       "      <td>Acetyl-coa</td>\n",
       "      <td>compounds</td>\n",
       "      <td>False</td>\n",
       "    </tr>\n",
       "    <tr>\n",
       "      <th>R-DRE-71735</th>\n",
       "      <td>Acetate + coa + atp =&gt; acetyl-coa + amp + pyro...</td>\n",
       "      <td>reactions</td>\n",
       "      <td>None</td>\n",
       "    </tr>\n",
       "    <tr>\n",
       "      <th>R-DRE-71384</th>\n",
       "      <td>Ethanol oxidation</td>\n",
       "      <td>pathways</td>\n",
       "      <td>None</td>\n",
       "    </tr>\n",
       "  </tbody>\n",
       "</table>\n",
       "</div>"
      ],
      "text/plain": [
       "                                                         display_name  \\\n",
       "entity_id                                                               \n",
       "ENSDARG00000037781                                              Acss2   \n",
       "30616                                                         Atp(4-)   \n",
       "29888                                               Diphosphoric acid   \n",
       "16027                                       Adenosine 5-monophosphate   \n",
       "15346                                                      Coenzyme a   \n",
       "15366                                                     Acetic acid   \n",
       "15351                                                      Acetyl-coa   \n",
       "R-DRE-71735         Acetate + coa + atp => acetyl-coa + amp + pyro...   \n",
       "R-DRE-71384                                         Ethanol oxidation   \n",
       "\n",
       "                    data_type observed  \n",
       "entity_id                               \n",
       "ENSDARG00000037781      genes     True  \n",
       "30616               compounds    False  \n",
       "29888               compounds    False  \n",
       "16027               compounds     True  \n",
       "15346               compounds    False  \n",
       "15366               compounds    False  \n",
       "15351               compounds    False  \n",
       "R-DRE-71735         reactions     None  \n",
       "R-DRE-71384          pathways     None  "
      ]
     },
     "execution_count": 28,
     "metadata": {},
     "output_type": "execute_result"
    }
   ],
   "source": [
    "query_id = 'F1QAA7'\n",
    "res = QueryBuilder(m) \\\n",
    "        .add(SingleEntity(query_id)) \\\n",
    "        .add(Connected()) \\\n",
    "        .run()\n",
    "res"
   ]
  },
  {
   "cell_type": "markdown",
   "metadata": {},
   "source": [
    "Retrieve compounds connected to the top-10 significantly changing genes in the Distal vs. Proximal comparison"
   ]
  },
  {
   "cell_type": "code",
   "execution_count": null,
   "metadata": {},
   "outputs": [],
   "source": [
    "case = 'Distal'\n",
    "control = 'Proximal'\n",
    "sort_col = 'FC_%s_%s' % (case, control)\n",
    "pval = 0.05\n",
    "top = 10\n",
    "\n",
    "res = QueryBuilder(mapping) \\\n",
    "        .add(Select(GENES)) \\\n",
    "        .add(Significant(case, control, th=pval)) \\\n",
    "        .add(TopN(top, sort_by=sort_col)) \\\n",
    "        .add(Connected(dest_type=COMPOUNDS, observed=True))\n",
    "        .run()"
   ]
  },
  {
   "cell_type": "markdown",
   "metadata": {},
   "source": [
    "Retrieve top-10 significantly changing genes and proteins in the Distal vs. Proximal comparisons, and show a heatmap for each"
   ]
  },
  {
   "cell_type": "code",
   "execution_count": null,
   "metadata": {},
   "outputs": [],
   "source": [
    "case = 'Distal'\n",
    "control = 'Proximal'\n",
    "sort_col = 'FC_%s_%s' % (case, control)\n",
    "pval = 0.05\n",
    "top = 10\n",
    "\n",
    "qb1 = QueryBuilder(mapping) \\\n",
    "        .add(Select(GENES)) \\\n",
    "        .add(Significant(case, control, th=pval)) \\\n",
    "        .add(TopN(top, sort_by=sort_col))\n",
    "\n",
    "qb2 = QueryBuilder(mapping) \\\n",
    "        .add(Select(PROTEINS)) \\\n",
    "        .add(Significant(case, control, th=pval)) \\\n",
    "        .add(TopN(top, sort_by=sort_col))\n",
    "\n",
    "res = QueryBuilder(mapping) \\\n",
    "        .add(Concat(qb1, qb2)) \\\n",
    "        .add(HeatMap()) \\\n",
    "        .run()"
   ]
  }
 ],
 "metadata": {
  "kernelspec": {
   "display_name": "Python 3",
   "language": "python",
   "name": "python3"
  },
  "language_info": {
   "codemirror_mode": {
    "name": "ipython",
    "version": 3
   },
   "file_extension": ".py",
   "mimetype": "text/x-python",
   "name": "python",
   "nbconvert_exporter": "python",
   "pygments_lexer": "ipython3",
   "version": "3.7.3"
  }
 },
 "nbformat": 4,
 "nbformat_minor": 4
}
