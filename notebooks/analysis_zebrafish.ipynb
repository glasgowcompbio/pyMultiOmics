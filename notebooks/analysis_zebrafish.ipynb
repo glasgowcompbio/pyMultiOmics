{
 "cells": [
  {
   "cell_type": "code",
   "execution_count": 1,
   "metadata": {},
   "outputs": [],
   "source": [
    "%load_ext autoreload\n",
    "%autoreload 2\n",
    "\n",
    "%matplotlib inline"
   ]
  },
  {
   "cell_type": "code",
   "execution_count": 2,
   "metadata": {},
   "outputs": [],
   "source": [
    "import os, sys"
   ]
  },
  {
   "cell_type": "code",
   "execution_count": 3,
   "metadata": {},
   "outputs": [],
   "source": [
    "import pandas as pd"
   ]
  },
  {
   "cell_type": "code",
   "execution_count": 16,
   "metadata": {},
   "outputs": [],
   "source": [
    "sys.path.append('..')\n",
    "\n",
    "from pyMultiOmics.constants import *\n",
    "from pyMultiOmics.mapping import Mapper\n",
    "from pyMultiOmics.common import set_log_level_info"
   ]
  },
  {
   "cell_type": "markdown",
   "metadata": {},
   "source": [
    "# Demonstration of pyMultiOmics"
   ]
  },
  {
   "cell_type": "markdown",
   "metadata": {},
   "source": [
    "## Load the processed Zebrafish data from [1]\n",
    "\n",
    "[1] [Rabinowitz, Jeremy S., et al. \"Transcriptomic, proteomic, and metabolomic landscape of positional memory in the caudal fin of zebrafish.\" Proceedings of the National Academy of Sciences 114.5 (2017): E717-E726.](https://www.pnas.org/content/114/5/E717.short)"
   ]
  },
  {
   "cell_type": "code",
   "execution_count": 5,
   "metadata": {},
   "outputs": [
    {
     "data": {
      "text/plain": [
       "'C:\\\\Users\\\\joewa\\\\Work\\\\git\\\\pyMultiOmics\\\\notebooks\\\\test_data\\\\zebrafish_data'"
      ]
     },
     "execution_count": 5,
     "metadata": {},
     "output_type": "execute_result"
    }
   ],
   "source": [
    "DATA_FOLDER = os.path.abspath(os.path.join('test_data', 'zebrafish_data'))\n",
    "DATA_FOLDER"
   ]
  },
  {
   "cell_type": "markdown",
   "metadata": {},
   "source": [
    "Read transcriptomics data (identified by their gene ids)"
   ]
  },
  {
   "cell_type": "code",
   "execution_count": 6,
   "metadata": {},
   "outputs": [],
   "source": [
    "gene_data = pd.read_csv(os.path.join(DATA_FOLDER, 'gene_data_combined.csv'), index_col='Identifier')\n",
    "gene_design = pd.read_csv(os.path.join(DATA_FOLDER, 'gene_design.csv'), index_col='sample')"
   ]
  },
  {
   "cell_type": "markdown",
   "metadata": {},
   "source": [
    "Read proteomics data"
   ]
  },
  {
   "cell_type": "code",
   "execution_count": 7,
   "metadata": {},
   "outputs": [],
   "source": [
    "protein_data = pd.read_csv(os.path.join(DATA_FOLDER, 'protein_data.csv'), index_col='Uniprot')\n",
    "protein_design = pd.read_csv(os.path.join(DATA_FOLDER, 'protein_design.csv'), index_col='sample')"
   ]
  },
  {
   "cell_type": "markdown",
   "metadata": {},
   "source": [
    "Read metabolomics data"
   ]
  },
  {
   "cell_type": "code",
   "execution_count": 8,
   "metadata": {},
   "outputs": [],
   "source": [
    "compound_data = pd.read_csv(os.path.join(DATA_FOLDER, 'compound_data_kegg.csv'), index_col='Identifier')\n",
    "compound_design = pd.read_csv(os.path.join(DATA_FOLDER, 'compound_design.csv'), index_col='sample')"
   ]
  },
  {
   "cell_type": "code",
   "execution_count": 9,
   "metadata": {},
   "outputs": [
    {
     "data": {
      "text/plain": [
       "1"
      ]
     },
     "execution_count": 9,
     "metadata": {},
     "output_type": "execute_result"
    }
   ],
   "source": [
    "set_log_level_info()"
   ]
  },
  {
   "cell_type": "markdown",
   "metadata": {},
   "source": [
    "## Create a mapping object"
   ]
  },
  {
   "cell_type": "markdown",
   "metadata": {},
   "source": [
    "The mapping object uses Reactome to map the different biological entities in the data:\n",
    "- Transcripts (or genes) are connected to the proteins they encode\n",
    "- Proteins and compounds are connected to reactions they're involved in\n",
    "- Reactions are connected to pathways"
   ]
  },
  {
   "cell_type": "code",
   "execution_count": 10,
   "metadata": {},
   "outputs": [
    {
     "name": "stderr",
     "output_type": "stream",
     "text": [
      "2021-02-05 17:08:47.305 | INFO     | pyMultiOmics.functions:reactome_mapping:72 - Mapping genes -> proteins\n",
      "2021-02-05 17:08:50.533 | INFO     | pyMultiOmics.functions:reactome_mapping:77 - Mapping proteins -> reactions\n",
      "2021-02-05 17:08:59.331 | INFO     | pyMultiOmics.functions:reactome_mapping:85 - Mapping compounds -> reactions\n",
      "2021-02-05 17:09:01.313 | INFO     | pyMultiOmics.functions:reactome_mapping:91 - Mapping reactions -> pathways\n",
      "2021-02-05 17:09:02.344 | INFO     | pyMultiOmics.functions:reactome_mapping:102 - Mapping reactions -> proteins\n",
      "2021-02-05 17:09:11.304 | INFO     | pyMultiOmics.functions:reactome_mapping:109 - Mapping reactions -> compounds\n",
      "2021-02-05 17:09:16.367 | INFO     | pyMultiOmics.functions:reactome_mapping:121 - Mapping proteins -> genes\n",
      "2021-02-05 17:09:55.424 | INFO     | pyMultiOmics.mapping:_add_nodes:206 - Processing nodes: genes\n",
      "2021-02-05 17:10:02.229 | INFO     | pyMultiOmics.mapping:_add_nodes:206 - Processing nodes: proteins\n",
      "2021-02-05 17:10:04.455 | INFO     | pyMultiOmics.mapping:_add_nodes:206 - Processing nodes: compounds\n",
      "2021-02-05 17:10:04.882 | INFO     | pyMultiOmics.mapping:_add_nodes:206 - Processing nodes: reactions\n",
      "2021-02-05 17:10:06.054 | INFO     | pyMultiOmics.mapping:_add_nodes:206 - Processing nodes: pathways\n",
      "2021-02-05 17:10:06.128 | INFO     | pyMultiOmics.mapping:_add_edges:254 - Processing edges: gene_proteins\n",
      "2021-02-05 17:10:07.752 | INFO     | pyMultiOmics.mapping:_add_edges:254 - Processing edges: protein_reactions\n",
      "2021-02-05 17:10:18.385 | INFO     | pyMultiOmics.mapping:_add_edges:254 - Processing edges: compound_reactions\n",
      "2021-02-05 17:10:21.206 | INFO     | pyMultiOmics.mapping:_add_edges:254 - Processing edges: reaction_pathways\n",
      "2021-02-05 17:10:21.908 | INFO     | pyMultiOmics.mapping:build:66 - Created a multi-omics network with 20412 nodes and 21551 edges\n",
      "2021-02-05 17:10:22.026 | INFO     | pyMultiOmics.mapping:build:67 - node_counts = {'Genomics': 8955, 'Transcriptomics': 0, 'Proteomics': 7931, 'Metabolomics': 1693, 'Reactions': 1585, 'Pathways': 248}\n"
     ]
    }
   ],
   "source": [
    "m = Mapper(DANIO_RERIO, metabolic_pathway_only=True) \\\n",
    "        .set_gene(gene_data, gene_design) \\\n",
    "        .set_protein(protein_data, protein_design) \\\n",
    "        .set_compound(compound_data, compound_design) \\\n",
    "        .build()"
   ]
  },
  {
   "cell_type": "markdown",
   "metadata": {},
   "source": [
    "## DE analysis"
   ]
  },
  {
   "cell_type": "markdown",
   "metadata": {},
   "source": [
    "Run t-test"
   ]
  },
  {
   "cell_type": "code",
   "execution_count": 11,
   "metadata": {},
   "outputs": [],
   "source": [
    "from pyMultiOmics.pipelines import *"
   ]
  },
  {
   "cell_type": "code",
   "execution_count": 20,
   "metadata": {},
   "outputs": [],
   "source": [
    "data_type = GENOMICS\n",
    "min_replace = SMALL\n",
    "\n",
    "data_df = m.gene_df\n",
    "design_df = m.gene_design\n",
    "\n",
    "case = 'Distal'\n",
    "control = 'Proximal'"
   ]
  },
  {
   "cell_type": "code",
   "execution_count": 21,
   "metadata": {},
   "outputs": [
    {
     "name": "stderr",
     "output_type": "stream",
     "text": [
      "2021-02-05 17:15:43.305 | INFO     | pyMultiOmics.pipelines:run_ttest:120 - t-test case is Distal, control is Proximal\n"
     ]
    }
   ],
   "source": [
    "wi = WebOmicsInference(data_df, design_df, data_type, min_value=min_replace)\n",
    "result_df = wi.run_ttest(case, control)"
   ]
  },
  {
   "cell_type": "code",
   "execution_count": 22,
   "metadata": {},
   "outputs": [
    {
     "data": {
      "text/html": [
       "<div>\n",
       "<style scoped>\n",
       "    .dataframe tbody tr th:only-of-type {\n",
       "        vertical-align: middle;\n",
       "    }\n",
       "\n",
       "    .dataframe tbody tr th {\n",
       "        vertical-align: top;\n",
       "    }\n",
       "\n",
       "    .dataframe thead th {\n",
       "        text-align: right;\n",
       "    }\n",
       "</style>\n",
       "<table border=\"1\" class=\"dataframe\">\n",
       "  <thead>\n",
       "    <tr style=\"text-align: right;\">\n",
       "      <th></th>\n",
       "      <th>padj</th>\n",
       "      <th>log2FoldChange</th>\n",
       "    </tr>\n",
       "  </thead>\n",
       "  <tbody>\n",
       "    <tr>\n",
       "      <th>ENSDARG00000000001</th>\n",
       "      <td>0.024460</td>\n",
       "      <td>0.715686</td>\n",
       "    </tr>\n",
       "    <tr>\n",
       "      <th>ENSDARG00000000002</th>\n",
       "      <td>0.514784</td>\n",
       "      <td>0.127781</td>\n",
       "    </tr>\n",
       "    <tr>\n",
       "      <th>ENSDARG00000000018</th>\n",
       "      <td>0.003630</td>\n",
       "      <td>-0.620668</td>\n",
       "    </tr>\n",
       "    <tr>\n",
       "      <th>ENSDARG00000000019</th>\n",
       "      <td>0.049351</td>\n",
       "      <td>0.349941</td>\n",
       "    </tr>\n",
       "    <tr>\n",
       "      <th>ENSDARG00000000068</th>\n",
       "      <td>0.396128</td>\n",
       "      <td>-0.113797</td>\n",
       "    </tr>\n",
       "    <tr>\n",
       "      <th>...</th>\n",
       "      <td>...</td>\n",
       "      <td>...</td>\n",
       "    </tr>\n",
       "    <tr>\n",
       "      <th>ENSDARG00000105304</th>\n",
       "      <td>1.000000</td>\n",
       "      <td>0.000000</td>\n",
       "    </tr>\n",
       "    <tr>\n",
       "      <th>ENSDARG00000105305</th>\n",
       "      <td>0.391027</td>\n",
       "      <td>0.253777</td>\n",
       "    </tr>\n",
       "    <tr>\n",
       "      <th>ENSDARG00000105306</th>\n",
       "      <td>0.628077</td>\n",
       "      <td>-0.350978</td>\n",
       "    </tr>\n",
       "    <tr>\n",
       "      <th>ENSDARG00000105307</th>\n",
       "      <td>0.170340</td>\n",
       "      <td>-0.998356</td>\n",
       "    </tr>\n",
       "    <tr>\n",
       "      <th>ENSDARG00000105308</th>\n",
       "      <td>0.010533</td>\n",
       "      <td>0.571196</td>\n",
       "    </tr>\n",
       "  </tbody>\n",
       "</table>\n",
       "<p>27566 rows × 2 columns</p>\n",
       "</div>"
      ],
      "text/plain": [
       "                        padj  log2FoldChange\n",
       "ENSDARG00000000001  0.024460        0.715686\n",
       "ENSDARG00000000002  0.514784        0.127781\n",
       "ENSDARG00000000018  0.003630       -0.620668\n",
       "ENSDARG00000000019  0.049351        0.349941\n",
       "ENSDARG00000000068  0.396128       -0.113797\n",
       "...                      ...             ...\n",
       "ENSDARG00000105304  1.000000        0.000000\n",
       "ENSDARG00000105305  0.391027        0.253777\n",
       "ENSDARG00000105306  0.628077       -0.350978\n",
       "ENSDARG00000105307  0.170340       -0.998356\n",
       "ENSDARG00000105308  0.010533        0.571196\n",
       "\n",
       "[27566 rows x 2 columns]"
      ]
     },
     "execution_count": 22,
     "metadata": {},
     "output_type": "execute_result"
    }
   ],
   "source": [
    "result_df"
   ]
  },
  {
   "cell_type": "markdown",
   "metadata": {},
   "source": [
    "Update the results back to graph"
   ]
  },
  {
   "cell_type": "code",
   "execution_count": 23,
   "metadata": {},
   "outputs": [
    {
     "data": {
      "text/plain": [
       "'t-test: Distal_vs_Proximal'"
      ]
     },
     "execution_count": 23,
     "metadata": {},
     "output_type": "execute_result"
    }
   ],
   "source": [
    "display_name = 't-test: %s_vs_%s' % (case, control)\n",
    "display_name"
   ]
  },
  {
   "cell_type": "code",
   "execution_count": null,
   "metadata": {},
   "outputs": [],
   "source": []
  }
 ],
 "metadata": {
  "kernelspec": {
   "display_name": "Python 3",
   "language": "python",
   "name": "python3"
  },
  "language_info": {
   "codemirror_mode": {
    "name": "ipython",
    "version": 3
   },
   "file_extension": ".py",
   "mimetype": "text/x-python",
   "name": "python",
   "nbconvert_exporter": "python",
   "pygments_lexer": "ipython3",
   "version": "3.7.3"
  }
 },
 "nbformat": 4,
 "nbformat_minor": 4
}
