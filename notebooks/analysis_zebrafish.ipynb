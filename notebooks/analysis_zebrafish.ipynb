{
 "cells": [
  {
   "cell_type": "code",
   "execution_count": 1,
   "metadata": {},
   "outputs": [],
   "source": [
    "%load_ext autoreload\n",
    "%autoreload 2\n",
    "\n",
    "%matplotlib inline"
   ]
  },
  {
   "cell_type": "code",
   "execution_count": 2,
   "metadata": {},
   "outputs": [],
   "source": [
    "import os, sys"
   ]
  },
  {
   "cell_type": "code",
   "execution_count": 3,
   "metadata": {},
   "outputs": [],
   "source": [
    "import pandas as pd\n",
    "from loguru import logger"
   ]
  },
  {
   "cell_type": "code",
   "execution_count": 4,
   "metadata": {},
   "outputs": [
    {
     "name": "stderr",
     "output_type": "stream",
     "text": [
      "2021-02-16 22:56:33.761 | INFO     | pyMultiOmics.reactome:get_neo4j_driver:24 - Created graph database driver for bolt://localhost:7687 (neo4j)\n"
     ]
    }
   ],
   "source": [
    "sys.path.append('..')\n",
    "\n",
    "from pyMultiOmics.constants import *\n",
    "from pyMultiOmics.mapping import Mapper\n",
    "from pyMultiOmics.common import set_log_level_info\n",
    "from pyMultiOmics.analysis import *\n",
    "from pyMultiOmics.query import *\n",
    "from pyMultiOmics.pipelines import *"
   ]
  },
  {
   "cell_type": "markdown",
   "metadata": {},
   "source": [
    "# Demonstration of pyMultiOmics"
   ]
  },
  {
   "cell_type": "markdown",
   "metadata": {},
   "source": [
    "## Load the processed Zebrafish data from [1]\n",
    "\n",
    "[1] [Rabinowitz, Jeremy S., et al. \"Transcriptomic, proteomic, and metabolomic landscape of positional memory in the caudal fin of zebrafish.\" Proceedings of the National Academy of Sciences 114.5 (2017): E717-E726.](https://www.pnas.org/content/114/5/E717.short)"
   ]
  },
  {
   "cell_type": "code",
   "execution_count": 5,
   "metadata": {},
   "outputs": [
    {
     "data": {
      "text/plain": [
       "'C:\\\\Users\\\\joewa\\\\Work\\\\git\\\\pyMultiOmics\\\\notebooks\\\\test_data\\\\zebrafish_data'"
      ]
     },
     "execution_count": 5,
     "metadata": {},
     "output_type": "execute_result"
    }
   ],
   "source": [
    "DATA_FOLDER = os.path.abspath(os.path.join('test_data', 'zebrafish_data'))\n",
    "DATA_FOLDER"
   ]
  },
  {
   "cell_type": "markdown",
   "metadata": {},
   "source": [
    "Read transcriptomics data (identified by their gene ids)"
   ]
  },
  {
   "cell_type": "code",
   "execution_count": 6,
   "metadata": {},
   "outputs": [],
   "source": [
    "gene_data = pd.read_csv(os.path.join(DATA_FOLDER, 'gene_data_combined.csv'), index_col='Identifier')\n",
    "gene_design = pd.read_csv(os.path.join(DATA_FOLDER, 'gene_design.csv'), index_col='sample')"
   ]
  },
  {
   "cell_type": "markdown",
   "metadata": {},
   "source": [
    "Read proteomics data"
   ]
  },
  {
   "cell_type": "code",
   "execution_count": 7,
   "metadata": {},
   "outputs": [],
   "source": [
    "protein_data = pd.read_csv(os.path.join(DATA_FOLDER, 'protein_data.csv'), index_col='Uniprot')\n",
    "protein_design = pd.read_csv(os.path.join(DATA_FOLDER, 'protein_design.csv'), index_col='sample')"
   ]
  },
  {
   "cell_type": "markdown",
   "metadata": {},
   "source": [
    "Read metabolomics data"
   ]
  },
  {
   "cell_type": "code",
   "execution_count": 8,
   "metadata": {},
   "outputs": [],
   "source": [
    "compound_data = pd.read_csv(os.path.join(DATA_FOLDER, 'compound_data_kegg.csv'), index_col='Identifier')\n",
    "compound_design = pd.read_csv(os.path.join(DATA_FOLDER, 'compound_design.csv'), index_col='sample')"
   ]
  },
  {
   "cell_type": "code",
   "execution_count": 9,
   "metadata": {},
   "outputs": [
    {
     "data": {
      "text/plain": [
       "1"
      ]
     },
     "execution_count": 9,
     "metadata": {},
     "output_type": "execute_result"
    }
   ],
   "source": [
    "set_log_level_info()"
   ]
  },
  {
   "cell_type": "markdown",
   "metadata": {},
   "source": [
    "## Create a mapping object"
   ]
  },
  {
   "cell_type": "markdown",
   "metadata": {},
   "source": [
    "The mapping object uses Reactome to map the different biological entities in the data:\n",
    "- Transcripts (or genes) are connected to the proteins they encode\n",
    "- Proteins and compounds are connected to reactions they're involved in\n",
    "- Reactions are connected to pathways"
   ]
  },
  {
   "cell_type": "code",
   "execution_count": 10,
   "metadata": {},
   "outputs": [
    {
     "name": "stderr",
     "output_type": "stream",
     "text": [
      "2021-02-16 22:56:34.778 | INFO     | pyMultiOmics.functions:reactome_mapping:72 - Mapping genes -> proteins\n",
      "2021-02-16 22:56:35.545 | INFO     | pyMultiOmics.functions:reactome_mapping:77 - Mapping proteins -> reactions\n",
      "2021-02-16 22:56:37.618 | INFO     | pyMultiOmics.functions:reactome_mapping:85 - Mapping compounds -> reactions\n",
      "2021-02-16 22:56:38.408 | INFO     | pyMultiOmics.functions:reactome_mapping:91 - Mapping reactions -> pathways\n",
      "2021-02-16 22:56:38.730 | INFO     | pyMultiOmics.functions:reactome_mapping:102 - Mapping reactions -> proteins\n",
      "2021-02-16 22:56:40.954 | INFO     | pyMultiOmics.functions:reactome_mapping:109 - Mapping reactions -> compounds\n",
      "2021-02-16 22:56:42.179 | INFO     | pyMultiOmics.functions:reactome_mapping:121 - Mapping proteins -> genes\n",
      "2021-02-16 22:56:58.192 | INFO     | pyMultiOmics.mapping:_add_nodes:181 - Processing nodes: genes\n",
      "2021-02-16 22:57:00.523 | INFO     | pyMultiOmics.mapping:_add_nodes:181 - Processing nodes: proteins\n",
      "2021-02-16 22:57:01.379 | INFO     | pyMultiOmics.mapping:_add_nodes:181 - Processing nodes: compounds\n",
      "2021-02-16 22:57:01.532 | INFO     | pyMultiOmics.mapping:_add_nodes:181 - Processing nodes: reactions\n",
      "2021-02-16 22:57:01.988 | INFO     | pyMultiOmics.mapping:_add_nodes:181 - Processing nodes: pathways\n",
      "2021-02-16 22:57:02.006 | INFO     | pyMultiOmics.mapping:_add_edges:229 - Processing edges: gene_proteins\n",
      "2021-02-16 22:57:02.524 | INFO     | pyMultiOmics.mapping:_add_edges:229 - Processing edges: protein_reactions\n",
      "2021-02-16 22:57:06.068 | INFO     | pyMultiOmics.mapping:_add_edges:229 - Processing edges: compound_reactions\n",
      "2021-02-16 22:57:07.145 | INFO     | pyMultiOmics.mapping:_add_edges:229 - Processing edges: reaction_pathways\n",
      "2021-02-16 22:57:07.602 | INFO     | pyMultiOmics.mapping:build:81 - Created a multi-omics network with 20412 nodes and 21551 edges\n",
      "2021-02-16 22:57:07.753 | INFO     | pyMultiOmics.mapping:build:82 - node_counts = {'Genomics': 8955, 'Transcriptomics': 0, 'Proteomics': 7931, 'Metabolomics': 1693, 'Reactions': 1585, 'Pathways': 248}\n"
     ]
    }
   ],
   "source": [
    "m = Mapper(DANIO_RERIO, metabolic_pathway_only=True) \\\n",
    "        .set_gene(gene_data, gene_design) \\\n",
    "        .set_protein(protein_data, protein_design) \\\n",
    "        .set_compound(compound_data, compound_design) \\\n",
    "        .build()"
   ]
  },
  {
   "cell_type": "markdown",
   "metadata": {},
   "source": [
    "## DE analysis"
   ]
  },
  {
   "cell_type": "code",
   "execution_count": 11,
   "metadata": {},
   "outputs": [
    {
     "name": "stderr",
     "output_type": "stream",
     "text": [
      "2021-02-16 22:57:07.914 | INFO     | pyMultiOmics.pipelines:run_ttest:120 - t-test case is Distal, control is Proximal\n",
      "2021-02-16 22:57:20.867 | INFO     | pyMultiOmics.pipelines:run_ttest:120 - t-test case is Distal, control is Middle\n",
      "2021-02-16 22:57:33.921 | INFO     | pyMultiOmics.pipelines:run_ttest:120 - t-test case is Proximal, control is Middle\n",
      "2021-02-16 22:57:47.381 | INFO     | pyMultiOmics.pipelines:run_ttest:120 - t-test case is Distal, control is Proximal\n",
      "2021-02-16 22:57:48.779 | INFO     | pyMultiOmics.pipelines:run_ttest:120 - t-test case is Distal, control is Middle\n",
      "2021-02-16 22:57:50.157 | INFO     | pyMultiOmics.pipelines:run_ttest:120 - t-test case is Proximal, control is Middle\n",
      "2021-02-16 22:57:51.612 | INFO     | pyMultiOmics.pipelines:run_ttest:120 - t-test case is Distal, control is Proximal\n",
      "2021-02-16 22:57:51.705 | INFO     | pyMultiOmics.pipelines:run_ttest:120 - t-test case is Distal, control is Middle\n",
      "2021-02-16 22:57:51.798 | INFO     | pyMultiOmics.pipelines:run_ttest:120 - t-test case is Proximal, control is Middle\n"
     ]
    }
   ],
   "source": [
    "method = INFERENCE_T_TEST\n",
    "ap = AnalysisPipeline(m)\n",
    "\n",
    "ap.run_de(method, GENES, 'Distal', 'Proximal')\n",
    "ap.run_de(method, GENES, 'Distal', 'Middle')\n",
    "ap.run_de(method, GENES, 'Proximal', 'Middle')\n",
    "\n",
    "ap.run_de(method, PROTEINS, 'Distal', 'Proximal')\n",
    "ap.run_de(method, PROTEINS, 'Distal', 'Middle')\n",
    "ap.run_de(method, PROTEINS, 'Proximal', 'Middle')\n",
    "\n",
    "ap.run_de(method, COMPOUNDS, 'Distal', 'Proximal')\n",
    "ap.run_de(method, COMPOUNDS, 'Distal', 'Middle')\n",
    "ap.run_de(method, COMPOUNDS, 'Proximal', 'Middle')"
   ]
  },
  {
   "cell_type": "code",
   "execution_count": 12,
   "metadata": {},
   "outputs": [
    {
     "name": "stderr",
     "output_type": "stream",
     "text": [
      "2021-02-16 22:57:51.983 | WARNING  | pyMultiOmics.analysis:run_de:41 - DE analysis for data_type=3 case=Distal control=Proximal already exists\n"
     ]
    }
   ],
   "source": [
    "ap.run_de(method, COMPOUNDS, 'Distal', 'Proximal')"
   ]
  },
  {
   "cell_type": "code",
   "execution_count": 13,
   "metadata": {},
   "outputs": [
    {
     "data": {
      "text/html": [
       "<div>\n",
       "<style scoped>\n",
       "    .dataframe tbody tr th:only-of-type {\n",
       "        vertical-align: middle;\n",
       "    }\n",
       "\n",
       "    .dataframe tbody tr th {\n",
       "        vertical-align: top;\n",
       "    }\n",
       "\n",
       "    .dataframe thead th {\n",
       "        text-align: right;\n",
       "    }\n",
       "</style>\n",
       "<table border=\"1\" class=\"dataframe\">\n",
       "  <thead>\n",
       "    <tr style=\"text-align: right;\">\n",
       "      <th></th>\n",
       "      <th>padj_Distal_vs_Proximal</th>\n",
       "      <th>FC_Distal_vs_Proximal</th>\n",
       "    </tr>\n",
       "  </thead>\n",
       "  <tbody>\n",
       "    <tr>\n",
       "      <th>ENSDARG00000000001</th>\n",
       "      <td>2.446040e-02</td>\n",
       "      <td>0.715686</td>\n",
       "    </tr>\n",
       "    <tr>\n",
       "      <th>ENSDARG00000000002</th>\n",
       "      <td>5.147844e-01</td>\n",
       "      <td>0.127781</td>\n",
       "    </tr>\n",
       "    <tr>\n",
       "      <th>ENSDARG00000000018</th>\n",
       "      <td>3.630210e-03</td>\n",
       "      <td>-0.620668</td>\n",
       "    </tr>\n",
       "    <tr>\n",
       "      <th>ENSDARG00000000019</th>\n",
       "      <td>4.935084e-02</td>\n",
       "      <td>0.349941</td>\n",
       "    </tr>\n",
       "    <tr>\n",
       "      <th>ENSDARG00000000068</th>\n",
       "      <td>3.961284e-01</td>\n",
       "      <td>-0.113797</td>\n",
       "    </tr>\n",
       "    <tr>\n",
       "      <th>ENSDARG00000000069</th>\n",
       "      <td>3.747644e-02</td>\n",
       "      <td>-0.296828</td>\n",
       "    </tr>\n",
       "    <tr>\n",
       "      <th>ENSDARG00000000086</th>\n",
       "      <td>2.716414e-02</td>\n",
       "      <td>-0.457724</td>\n",
       "    </tr>\n",
       "    <tr>\n",
       "      <th>ENSDARG00000000103</th>\n",
       "      <td>1.910610e-07</td>\n",
       "      <td>-1.543940</td>\n",
       "    </tr>\n",
       "    <tr>\n",
       "      <th>ENSDARG00000000142</th>\n",
       "      <td>8.461476e-03</td>\n",
       "      <td>0.354184</td>\n",
       "    </tr>\n",
       "    <tr>\n",
       "      <th>ENSDARG00000000151</th>\n",
       "      <td>2.412045e-01</td>\n",
       "      <td>0.112137</td>\n",
       "    </tr>\n",
       "  </tbody>\n",
       "</table>\n",
       "</div>"
      ],
      "text/plain": [
       "                    padj_Distal_vs_Proximal  FC_Distal_vs_Proximal\n",
       "ENSDARG00000000001             2.446040e-02               0.715686\n",
       "ENSDARG00000000002             5.147844e-01               0.127781\n",
       "ENSDARG00000000018             3.630210e-03              -0.620668\n",
       "ENSDARG00000000019             4.935084e-02               0.349941\n",
       "ENSDARG00000000068             3.961284e-01              -0.113797\n",
       "ENSDARG00000000069             3.747644e-02              -0.296828\n",
       "ENSDARG00000000086             2.716414e-02              -0.457724\n",
       "ENSDARG00000000103             1.910610e-07              -1.543940\n",
       "ENSDARG00000000142             8.461476e-03               0.354184\n",
       "ENSDARG00000000151             2.412045e-01               0.112137"
      ]
     },
     "execution_count": 13,
     "metadata": {},
     "output_type": "execute_result"
    }
   ],
   "source": [
    "df = ap.de_results(GENES, 'Distal', 'Proximal')\n",
    "df.head(10)"
   ]
  },
  {
   "cell_type": "markdown",
   "metadata": {},
   "source": [
    "## Query results"
   ]
  },
  {
   "cell_type": "markdown",
   "metadata": {},
   "source": [
    "Retrieve a single node"
   ]
  },
  {
   "cell_type": "code",
   "execution_count": 14,
   "metadata": {},
   "outputs": [
    {
     "data": {
      "text/html": [
       "<div>\n",
       "<style scoped>\n",
       "    .dataframe tbody tr th:only-of-type {\n",
       "        vertical-align: middle;\n",
       "    }\n",
       "\n",
       "    .dataframe tbody tr th {\n",
       "        vertical-align: top;\n",
       "    }\n",
       "\n",
       "    .dataframe thead th {\n",
       "        text-align: right;\n",
       "    }\n",
       "</style>\n",
       "<table border=\"1\" class=\"dataframe\">\n",
       "  <thead>\n",
       "    <tr style=\"text-align: right;\">\n",
       "      <th></th>\n",
       "      <th>display_name</th>\n",
       "      <th>data_type</th>\n",
       "      <th>observed</th>\n",
       "    </tr>\n",
       "    <tr>\n",
       "      <th>entity_id</th>\n",
       "      <th></th>\n",
       "      <th></th>\n",
       "      <th></th>\n",
       "    </tr>\n",
       "  </thead>\n",
       "  <tbody>\n",
       "    <tr>\n",
       "      <th>15366</th>\n",
       "      <td>Acetic acid</td>\n",
       "      <td>compounds</td>\n",
       "      <td>False</td>\n",
       "    </tr>\n",
       "  </tbody>\n",
       "</table>\n",
       "</div>"
      ],
      "text/plain": [
       "          display_name  data_type  observed\n",
       "entity_id                                  \n",
       "15366      Acetic acid  compounds     False"
      ]
     },
     "execution_count": 14,
     "metadata": {},
     "output_type": "execute_result"
    }
   ],
   "source": [
    "node_id = '15366'\n",
    "res = QueryBuilder(ap) \\\n",
    "        .add(Entity(node_id)) \\\n",
    "        .run()\n",
    "res"
   ]
  },
  {
   "cell_type": "markdown",
   "metadata": {},
   "source": [
    "Retrieve multiple nodes"
   ]
  },
  {
   "cell_type": "code",
   "execution_count": 15,
   "metadata": {},
   "outputs": [
    {
     "data": {
      "text/html": [
       "<div>\n",
       "<style scoped>\n",
       "    .dataframe tbody tr th:only-of-type {\n",
       "        vertical-align: middle;\n",
       "    }\n",
       "\n",
       "    .dataframe tbody tr th {\n",
       "        vertical-align: top;\n",
       "    }\n",
       "\n",
       "    .dataframe thead th {\n",
       "        text-align: right;\n",
       "    }\n",
       "</style>\n",
       "<table border=\"1\" class=\"dataframe\">\n",
       "  <thead>\n",
       "    <tr style=\"text-align: right;\">\n",
       "      <th></th>\n",
       "      <th>display_name</th>\n",
       "      <th>data_type</th>\n",
       "      <th>observed</th>\n",
       "    </tr>\n",
       "    <tr>\n",
       "      <th>entity_id</th>\n",
       "      <th></th>\n",
       "      <th></th>\n",
       "      <th></th>\n",
       "    </tr>\n",
       "  </thead>\n",
       "  <tbody>\n",
       "    <tr>\n",
       "      <th>15366</th>\n",
       "      <td>Acetic acid</td>\n",
       "      <td>compounds</td>\n",
       "      <td>False</td>\n",
       "    </tr>\n",
       "    <tr>\n",
       "      <th>ENSDARG00000037781</th>\n",
       "      <td>Acss2</td>\n",
       "      <td>genes</td>\n",
       "      <td>True</td>\n",
       "    </tr>\n",
       "    <tr>\n",
       "      <th>F1QAA7</th>\n",
       "      <td>F1QAA7</td>\n",
       "      <td>proteins</td>\n",
       "      <td>True</td>\n",
       "    </tr>\n",
       "  </tbody>\n",
       "</table>\n",
       "</div>"
      ],
      "text/plain": [
       "                   display_name  data_type  observed\n",
       "entity_id                                           \n",
       "15366               Acetic acid  compounds     False\n",
       "ENSDARG00000037781        Acss2      genes      True\n",
       "F1QAA7                   F1QAA7   proteins      True"
      ]
     },
     "execution_count": 15,
     "metadata": {},
     "output_type": "execute_result"
    }
   ],
   "source": [
    "node_id = ['15366', 'ENSDARG00000037781', 'F1QAA7']\n",
    "res = QueryBuilder(ap) \\\n",
    "        .add(Entity(node_id)) \\\n",
    "        .run()\n",
    "res"
   ]
  },
  {
   "cell_type": "markdown",
   "metadata": {},
   "source": [
    "Retrieve nodes connected to a single node"
   ]
  },
  {
   "cell_type": "code",
   "execution_count": 16,
   "metadata": {},
   "outputs": [
    {
     "data": {
      "text/html": [
       "<div>\n",
       "<style scoped>\n",
       "    .dataframe tbody tr th:only-of-type {\n",
       "        vertical-align: middle;\n",
       "    }\n",
       "\n",
       "    .dataframe tbody tr th {\n",
       "        vertical-align: top;\n",
       "    }\n",
       "\n",
       "    .dataframe thead th {\n",
       "        text-align: right;\n",
       "    }\n",
       "</style>\n",
       "<table border=\"1\" class=\"dataframe\">\n",
       "  <thead>\n",
       "    <tr style=\"text-align: right;\">\n",
       "      <th></th>\n",
       "      <th>display_name</th>\n",
       "      <th>data_type</th>\n",
       "      <th>observed</th>\n",
       "    </tr>\n",
       "    <tr>\n",
       "      <th>entity_id</th>\n",
       "      <th></th>\n",
       "      <th></th>\n",
       "      <th></th>\n",
       "    </tr>\n",
       "  </thead>\n",
       "  <tbody>\n",
       "    <tr>\n",
       "      <th>ENSDARG00000037781</th>\n",
       "      <td>Acss2</td>\n",
       "      <td>genes</td>\n",
       "      <td>True</td>\n",
       "    </tr>\n",
       "    <tr>\n",
       "      <th>15346</th>\n",
       "      <td>Coenzyme a</td>\n",
       "      <td>compounds</td>\n",
       "      <td>False</td>\n",
       "    </tr>\n",
       "    <tr>\n",
       "      <th>16027</th>\n",
       "      <td>Adenosine 5-monophosphate</td>\n",
       "      <td>compounds</td>\n",
       "      <td>True</td>\n",
       "    </tr>\n",
       "    <tr>\n",
       "      <th>15351</th>\n",
       "      <td>Acetyl-coa</td>\n",
       "      <td>compounds</td>\n",
       "      <td>False</td>\n",
       "    </tr>\n",
       "    <tr>\n",
       "      <th>15366</th>\n",
       "      <td>Acetic acid</td>\n",
       "      <td>compounds</td>\n",
       "      <td>False</td>\n",
       "    </tr>\n",
       "    <tr>\n",
       "      <th>29888</th>\n",
       "      <td>Diphosphoric acid</td>\n",
       "      <td>compounds</td>\n",
       "      <td>False</td>\n",
       "    </tr>\n",
       "    <tr>\n",
       "      <th>30616</th>\n",
       "      <td>Atp(4-)</td>\n",
       "      <td>compounds</td>\n",
       "      <td>False</td>\n",
       "    </tr>\n",
       "    <tr>\n",
       "      <th>R-DRE-71735</th>\n",
       "      <td>Acetate + coa + atp =&gt; acetyl-coa + amp + pyro...</td>\n",
       "      <td>reactions</td>\n",
       "      <td>None</td>\n",
       "    </tr>\n",
       "    <tr>\n",
       "      <th>R-DRE-71384</th>\n",
       "      <td>Ethanol oxidation</td>\n",
       "      <td>pathways</td>\n",
       "      <td>None</td>\n",
       "    </tr>\n",
       "  </tbody>\n",
       "</table>\n",
       "</div>"
      ],
      "text/plain": [
       "                                                         display_name  \\\n",
       "entity_id                                                               \n",
       "ENSDARG00000037781                                              Acss2   \n",
       "15346                                                      Coenzyme a   \n",
       "16027                                       Adenosine 5-monophosphate   \n",
       "15351                                                      Acetyl-coa   \n",
       "15366                                                     Acetic acid   \n",
       "29888                                               Diphosphoric acid   \n",
       "30616                                                         Atp(4-)   \n",
       "R-DRE-71735         Acetate + coa + atp => acetyl-coa + amp + pyro...   \n",
       "R-DRE-71384                                         Ethanol oxidation   \n",
       "\n",
       "                    data_type observed  \n",
       "entity_id                               \n",
       "ENSDARG00000037781      genes     True  \n",
       "15346               compounds    False  \n",
       "16027               compounds     True  \n",
       "15351               compounds    False  \n",
       "15366               compounds    False  \n",
       "29888               compounds    False  \n",
       "30616               compounds    False  \n",
       "R-DRE-71735         reactions     None  \n",
       "R-DRE-71384          pathways     None  "
      ]
     },
     "execution_count": 16,
     "metadata": {},
     "output_type": "execute_result"
    }
   ],
   "source": [
    "query_id = 'F1QAA7'\n",
    "res = QueryBuilder(ap) \\\n",
    "        .add(Entity(query_id)) \\\n",
    "        .add(Connected()) \\\n",
    "        .run()\n",
    "res"
   ]
  },
  {
   "cell_type": "markdown",
   "metadata": {},
   "source": [
    "Retrieve top-10 significantly changing genes"
   ]
  },
  {
   "cell_type": "code",
   "execution_count": 18,
   "metadata": {},
   "outputs": [],
   "source": [
    "case = 'Distal'\n",
    "control = 'Proximal'\n",
    "pval = 0.05\n",
    "fc_lte = -2\n",
    "fc_gte = 2\n",
    "N = 10"
   ]
  },
  {
   "cell_type": "code",
   "execution_count": 19,
   "metadata": {},
   "outputs": [
    {
     "data": {
      "text/html": [
       "<div>\n",
       "<style scoped>\n",
       "    .dataframe tbody tr th:only-of-type {\n",
       "        vertical-align: middle;\n",
       "    }\n",
       "\n",
       "    .dataframe tbody tr th {\n",
       "        vertical-align: top;\n",
       "    }\n",
       "\n",
       "    .dataframe thead th {\n",
       "        text-align: right;\n",
       "    }\n",
       "</style>\n",
       "<table border=\"1\" class=\"dataframe\">\n",
       "  <thead>\n",
       "    <tr style=\"text-align: right;\">\n",
       "      <th></th>\n",
       "      <th>display_name</th>\n",
       "      <th>data_type</th>\n",
       "      <th>observed</th>\n",
       "      <th>padj_Distal_vs_Proximal</th>\n",
       "      <th>FC_Distal_vs_Proximal</th>\n",
       "    </tr>\n",
       "  </thead>\n",
       "  <tbody>\n",
       "    <tr>\n",
       "      <th>ENSDARG00000045854</th>\n",
       "      <td>Fgf23</td>\n",
       "      <td>genes</td>\n",
       "      <td>True</td>\n",
       "      <td>3.569550e-10</td>\n",
       "      <td>24.000289</td>\n",
       "    </tr>\n",
       "    <tr>\n",
       "      <th>ENSDARG00000071091</th>\n",
       "      <td>Chrm3a</td>\n",
       "      <td>genes</td>\n",
       "      <td>True</td>\n",
       "      <td>3.307603e-11</td>\n",
       "      <td>22.486196</td>\n",
       "    </tr>\n",
       "    <tr>\n",
       "      <th>ENSDARG00000104259</th>\n",
       "      <td>Cabz01072885.1</td>\n",
       "      <td>genes</td>\n",
       "      <td>True</td>\n",
       "      <td>2.782933e-10</td>\n",
       "      <td>20.545646</td>\n",
       "    </tr>\n",
       "    <tr>\n",
       "      <th>ENSDARG00000005522</th>\n",
       "      <td>Galr1a</td>\n",
       "      <td>genes</td>\n",
       "      <td>True</td>\n",
       "      <td>2.091894e-09</td>\n",
       "      <td>20.531569</td>\n",
       "    </tr>\n",
       "    <tr>\n",
       "      <th>ENSDARG00000091254</th>\n",
       "      <td>Si:ch73-59p9.2</td>\n",
       "      <td>genes</td>\n",
       "      <td>True</td>\n",
       "      <td>3.736906e-10</td>\n",
       "      <td>19.689389</td>\n",
       "    </tr>\n",
       "    <tr>\n",
       "      <th>ENSDARG00000093089</th>\n",
       "      <td>Tac3a</td>\n",
       "      <td>genes</td>\n",
       "      <td>True</td>\n",
       "      <td>3.569550e-10</td>\n",
       "      <td>-22.875241</td>\n",
       "    </tr>\n",
       "    <tr>\n",
       "      <th>ENSDARG00000038894</th>\n",
       "      <td>Tmx3a</td>\n",
       "      <td>genes</td>\n",
       "      <td>True</td>\n",
       "      <td>4.745826e-10</td>\n",
       "      <td>-23.095898</td>\n",
       "    </tr>\n",
       "    <tr>\n",
       "      <th>ENSDARG00000039067</th>\n",
       "      <td>Srd5a2b</td>\n",
       "      <td>genes</td>\n",
       "      <td>True</td>\n",
       "      <td>6.493330e-11</td>\n",
       "      <td>-23.483296</td>\n",
       "    </tr>\n",
       "    <tr>\n",
       "      <th>ENSDARG00000076270</th>\n",
       "      <td>Adamts13</td>\n",
       "      <td>genes</td>\n",
       "      <td>True</td>\n",
       "      <td>6.923704e-11</td>\n",
       "      <td>-23.815791</td>\n",
       "    </tr>\n",
       "    <tr>\n",
       "      <th>ENSDARG00000025783</th>\n",
       "      <td>Si:ch211-125e6.11</td>\n",
       "      <td>genes</td>\n",
       "      <td>True</td>\n",
       "      <td>6.804488e-11</td>\n",
       "      <td>-26.987938</td>\n",
       "    </tr>\n",
       "  </tbody>\n",
       "</table>\n",
       "</div>"
      ],
      "text/plain": [
       "                         display_name data_type  observed  \\\n",
       "ENSDARG00000045854              Fgf23     genes      True   \n",
       "ENSDARG00000071091             Chrm3a     genes      True   \n",
       "ENSDARG00000104259     Cabz01072885.1     genes      True   \n",
       "ENSDARG00000005522             Galr1a     genes      True   \n",
       "ENSDARG00000091254     Si:ch73-59p9.2     genes      True   \n",
       "ENSDARG00000093089              Tac3a     genes      True   \n",
       "ENSDARG00000038894              Tmx3a     genes      True   \n",
       "ENSDARG00000039067            Srd5a2b     genes      True   \n",
       "ENSDARG00000076270           Adamts13     genes      True   \n",
       "ENSDARG00000025783  Si:ch211-125e6.11     genes      True   \n",
       "\n",
       "                    padj_Distal_vs_Proximal  FC_Distal_vs_Proximal  \n",
       "ENSDARG00000045854             3.569550e-10              24.000289  \n",
       "ENSDARG00000071091             3.307603e-11              22.486196  \n",
       "ENSDARG00000104259             2.782933e-10              20.545646  \n",
       "ENSDARG00000005522             2.091894e-09              20.531569  \n",
       "ENSDARG00000091254             3.736906e-10              19.689389  \n",
       "ENSDARG00000093089             3.569550e-10             -22.875241  \n",
       "ENSDARG00000038894             4.745826e-10             -23.095898  \n",
       "ENSDARG00000039067             6.493330e-11             -23.483296  \n",
       "ENSDARG00000076270             6.923704e-11             -23.815791  \n",
       "ENSDARG00000025783             6.804488e-11             -26.987938  "
      ]
     },
     "execution_count": 19,
     "metadata": {},
     "output_type": "execute_result"
    }
   ],
   "source": [
    "res = QueryBuilder(ap) \\\n",
    "        .add(Select(GENES)) \\\n",
    "        .add(SignificantDE(case, control, pval, fc_lte=fc_lte, fc_gte=fc_gte, N=N)) \\\n",
    "        .run()\n",
    "res"
   ]
  },
  {
   "cell_type": "markdown",
   "metadata": {},
   "source": [
    "Plot some heatmap using Plotly"
   ]
  },
  {
   "cell_type": "code",
   "execution_count": 20,
   "metadata": {},
   "outputs": [],
   "source": [
    "# res = QueryBuilder(ap) \\\n",
    "#         .add(Select(GENES)) \\\n",
    "#         .add(SignificantDE(case, control, pval, fc_lte=fc_lte, fc_gte=fc_gte, N=N)) \\\n",
    "#         .add(Heatmap())"
   ]
  },
  {
   "cell_type": "markdown",
   "metadata": {},
   "source": [
    "Find the compounds that are connected to the DE genes above"
   ]
  },
  {
   "cell_type": "code",
   "execution_count": 21,
   "metadata": {},
   "outputs": [
    {
     "data": {
      "text/html": [
       "<div>\n",
       "<style scoped>\n",
       "    .dataframe tbody tr th:only-of-type {\n",
       "        vertical-align: middle;\n",
       "    }\n",
       "\n",
       "    .dataframe tbody tr th {\n",
       "        vertical-align: top;\n",
       "    }\n",
       "\n",
       "    .dataframe thead th {\n",
       "        text-align: right;\n",
       "    }\n",
       "</style>\n",
       "<table border=\"1\" class=\"dataframe\">\n",
       "  <thead>\n",
       "    <tr style=\"text-align: right;\">\n",
       "      <th></th>\n",
       "      <th>display_name</th>\n",
       "      <th>data_type</th>\n",
       "      <th>observed</th>\n",
       "    </tr>\n",
       "    <tr>\n",
       "      <th>entity_id</th>\n",
       "      <th></th>\n",
       "      <th></th>\n",
       "      <th></th>\n",
       "    </tr>\n",
       "  </thead>\n",
       "  <tbody>\n",
       "    <tr>\n",
       "      <th>78584</th>\n",
       "      <td>Aflatoxin b1 exo-cysteinylglycine conjugate</td>\n",
       "      <td>compounds</td>\n",
       "      <td>False</td>\n",
       "    </tr>\n",
       "    <tr>\n",
       "      <th>15377</th>\n",
       "      <td>Water</td>\n",
       "      <td>compounds</td>\n",
       "      <td>False</td>\n",
       "    </tr>\n",
       "    <tr>\n",
       "      <th>29985</th>\n",
       "      <td>L-glutamate(1-)</td>\n",
       "      <td>compounds</td>\n",
       "      <td>False</td>\n",
       "    </tr>\n",
       "    <tr>\n",
       "      <th>78587</th>\n",
       "      <td>Aflatoxin b1 exo glutathione conjugate</td>\n",
       "      <td>compounds</td>\n",
       "      <td>False</td>\n",
       "    </tr>\n",
       "    <tr>\n",
       "      <th>78579</th>\n",
       "      <td>Aflatoxin b1 endo-cysteinylglycine conjugate</td>\n",
       "      <td>compounds</td>\n",
       "      <td>False</td>\n",
       "    </tr>\n",
       "    <tr>\n",
       "      <th>78581</th>\n",
       "      <td>Aflatoxin b1 endo glutathione conjugate</td>\n",
       "      <td>compounds</td>\n",
       "      <td>False</td>\n",
       "    </tr>\n",
       "    <tr>\n",
       "      <th>28666</th>\n",
       "      <td>Leukotriene d4</td>\n",
       "      <td>compounds</td>\n",
       "      <td>False</td>\n",
       "    </tr>\n",
       "    <tr>\n",
       "      <th>16978</th>\n",
       "      <td>Leukotriene c4</td>\n",
       "      <td>compounds</td>\n",
       "      <td>False</td>\n",
       "    </tr>\n",
       "    <tr>\n",
       "      <th>4047</th>\n",
       "      <td>L-cysteinylglycine</td>\n",
       "      <td>compounds</td>\n",
       "      <td>True</td>\n",
       "    </tr>\n",
       "    <tr>\n",
       "      <th>16856</th>\n",
       "      <td>Glutathione</td>\n",
       "      <td>compounds</td>\n",
       "      <td>True</td>\n",
       "    </tr>\n",
       "    <tr>\n",
       "      <th>18009</th>\n",
       "      <td>Nadp(+)</td>\n",
       "      <td>compounds</td>\n",
       "      <td>False</td>\n",
       "    </tr>\n",
       "    <tr>\n",
       "      <th>15378</th>\n",
       "      <td>Hydron</td>\n",
       "      <td>compounds</td>\n",
       "      <td>False</td>\n",
       "    </tr>\n",
       "    <tr>\n",
       "      <th>17347</th>\n",
       "      <td>Testosterone</td>\n",
       "      <td>compounds</td>\n",
       "      <td>False</td>\n",
       "    </tr>\n",
       "    <tr>\n",
       "      <th>16474</th>\n",
       "      <td>Nadph</td>\n",
       "      <td>compounds</td>\n",
       "      <td>False</td>\n",
       "    </tr>\n",
       "    <tr>\n",
       "      <th>16330</th>\n",
       "      <td>17beta-hydroxy-5alpha-androstan-3-one</td>\n",
       "      <td>compounds</td>\n",
       "      <td>False</td>\n",
       "    </tr>\n",
       "  </tbody>\n",
       "</table>\n",
       "</div>"
      ],
      "text/plain": [
       "                                           display_name  data_type  observed\n",
       "entity_id                                                                   \n",
       "78584       Aflatoxin b1 exo-cysteinylglycine conjugate  compounds     False\n",
       "15377                                             Water  compounds     False\n",
       "29985                                   L-glutamate(1-)  compounds     False\n",
       "78587            Aflatoxin b1 exo glutathione conjugate  compounds     False\n",
       "78579      Aflatoxin b1 endo-cysteinylglycine conjugate  compounds     False\n",
       "78581           Aflatoxin b1 endo glutathione conjugate  compounds     False\n",
       "28666                                    Leukotriene d4  compounds     False\n",
       "16978                                    Leukotriene c4  compounds     False\n",
       "4047                                 L-cysteinylglycine  compounds      True\n",
       "16856                                       Glutathione  compounds      True\n",
       "18009                                           Nadp(+)  compounds     False\n",
       "15378                                            Hydron  compounds     False\n",
       "17347                                      Testosterone  compounds     False\n",
       "16474                                             Nadph  compounds     False\n",
       "16330             17beta-hydroxy-5alpha-androstan-3-one  compounds     False"
      ]
     },
     "execution_count": 21,
     "metadata": {},
     "output_type": "execute_result"
    }
   ],
   "source": [
    "res = QueryBuilder(ap) \\\n",
    "        .add(Select(GENES)) \\\n",
    "        .add(SignificantDE(case, control, pval, fc_lte=fc_lte, fc_gte=fc_gte, N=N)) \\\n",
    "        .add(Connected(data_type=COMPOUNDS)) \\\n",
    "        .run()\n",
    "res"
   ]
  }
 ],
 "metadata": {
  "kernelspec": {
   "display_name": "Python 3",
   "language": "python",
   "name": "python3"
  },
  "language_info": {
   "codemirror_mode": {
    "name": "ipython",
    "version": 3
   },
   "file_extension": ".py",
   "mimetype": "text/x-python",
   "name": "python",
   "nbconvert_exporter": "python",
   "pygments_lexer": "ipython3",
   "version": "3.7.3"
  }
 },
 "nbformat": 4,
 "nbformat_minor": 4
}
