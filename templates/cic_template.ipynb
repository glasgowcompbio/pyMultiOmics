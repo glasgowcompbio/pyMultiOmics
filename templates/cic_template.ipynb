{
 "cells": [
  {
   "cell_type": "code",
   "execution_count": null,
   "metadata": {
    "tags": []
   },
   "outputs": [],
   "source": [
    "%load_ext autoreload\n",
    "%autoreload 2\n",
    "\n",
    "%matplotlib inline"
   ]
  },
  {
   "cell_type": "code",
   "execution_count": null,
   "metadata": {},
   "outputs": [],
   "source": [
    "import os\n",
    "import sys\n",
    "sys.path.append('..')"
   ]
  },
  {
   "cell_type": "code",
   "execution_count": null,
   "metadata": {},
   "outputs": [],
   "source": [
    "import pandas as pd"
   ]
  },
  {
   "cell_type": "code",
   "execution_count": null,
   "metadata": {},
   "outputs": [],
   "source": [
    "from pyMultiOmics.common import set_log_level_warning\n",
    "_ = set_log_level_warning()"
   ]
  },
  {
   "cell_type": "code",
   "execution_count": null,
   "metadata": {},
   "outputs": [],
   "source": [
    "from pyMultiOmics.loader import load_affinity_data\n",
    "from pyMultiOmics.base import SingleOmicsData, MultiOmicsData\n",
    "from pyMultiOmics.constants import CIC_COMPOUNDS, INFERENCE_T_TEST\n",
    "from pyMultiOmics.analysis import AnalysisPipeline"
   ]
  },
  {
   "cell_type": "markdown",
   "metadata": {
    "tags": []
   },
   "source": [
    "# Analysis of CiC Affinity Biomarkers Data"
   ]
  },
  {
   "cell_type": "markdown",
   "metadata": {},
   "source": [
    "The CiC data was loaded from the Excel file specified below."
   ]
  },
  {
   "cell_type": "code",
   "execution_count": null,
   "metadata": {
    "tags": [
     "parameters"
    ]
   },
   "outputs": [],
   "source": [
    "# This cell is tagged 'parameters'\n",
    "file_name = None"
   ]
  },
  {
   "cell_type": "code",
   "execution_count": null,
   "metadata": {},
   "outputs": [],
   "source": [
    "file_name = '/Users/joewandy/Library/CloudStorage/OneDrive-UniversityofGlasgow/CiC_Affinity_Biomarkers/data_group_clustering.xlsx'"
   ]
  },
  {
   "cell_type": "code",
   "execution_count": null,
   "metadata": {
    "tags": []
   },
   "outputs": [],
   "source": [
    "print(file_name)"
   ]
  },
  {
   "cell_type": "code",
   "execution_count": null,
   "metadata": {},
   "outputs": [],
   "source": [
    "data_df, sample_metadata_df, feature_metadata_df = load_affinity_data(file_name)"
   ]
  },
  {
   "cell_type": "markdown",
   "metadata": {},
   "source": [
    "For data pre-processing, analytes are filtered such that those below the Limit of Detection and found in less than 10% of the samples are removed. The remaining missing values are replaced by a small number (1E-6). The following are characteristics of the data. "
   ]
  },
  {
   "cell_type": "code",
   "execution_count": null,
   "metadata": {},
   "outputs": [],
   "source": [
    "print('Number of analytes =', data_df.shape[0])\n",
    "print('Number of samples =', data_df.shape[1])\n",
    "print('Groups =', sample_metadata_df['group'].unique().tolist())"
   ]
  },
  {
   "cell_type": "code",
   "execution_count": null,
   "metadata": {},
   "outputs": [],
   "source": [
    "cic_data = SingleOmicsData(CIC_COMPOUNDS, data_df, sample_metadata_df, feature_annot_df=feature_metadata_df)\n",
    "mo = MultiOmicsData()\n",
    "mo.add_data([cic_data])"
   ]
  },
  {
   "cell_type": "markdown",
   "metadata": {},
   "source": [
    "## Data Processing"
   ]
  },
  {
   "cell_type": "markdown",
   "metadata": {},
   "source": [
    "Unless specified otherwise in the parameter file, log transformation followed by minmax scaling was applied. Below is the heatmap of the data after pre-processing."
   ]
  },
  {
   "cell_type": "code",
   "execution_count": null,
   "metadata": {
    "tags": [
     "parameters"
    ]
   },
   "outputs": [],
   "source": [
    "# This cell is tagged 'parameters'\n",
    "normalise = 'minmax'\n",
    "log = True"
   ]
  },
  {
   "cell_type": "code",
   "execution_count": null,
   "metadata": {},
   "outputs": [],
   "source": [
    "dtype = CIC_COMPOUNDS\n",
    "return_fig = True\n",
    "\n",
    "ap = AnalysisPipeline(mo, None)\n",
    "_ = ap.heatmap(dtype, normalise=normalise, log=log, return_fig=return_fig, show_ticks=False)"
   ]
  },
  {
   "cell_type": "markdown",
   "metadata": {},
   "source": [
    "## Clustering Using k-means"
   ]
  },
  {
   "cell_type": "markdown",
   "metadata": {},
   "source": [
    "K-means clustering is used to identify clusters that are similar to each other. The elbow (silhouette) method is used to automatically pick the best K (number of clusters). This is reported below."
   ]
  },
  {
   "cell_type": "code",
   "execution_count": null,
   "metadata": {},
   "outputs": [],
   "source": [
    "cluster_labels, centroids, silhouette_scores = ap.cluster(dtype, normalise=normalise, log=log, return_fig=return_fig)"
   ]
  },
  {
   "cell_type": "markdown",
   "metadata": {},
   "source": [
    "## Principal Component Analysis (PCA)"
   ]
  },
  {
   "cell_type": "markdown",
   "metadata": {},
   "source": [
    "The plot below shows the PCA projection of samples, coloured by their cluster labels. Different shapes separate samples in different groups."
   ]
  },
  {
   "cell_type": "code",
   "execution_count": null,
   "metadata": {},
   "outputs": [],
   "source": [
    "_, design_df = ap.multi_omics_data.get_dfs(dtype)\n",
    "pc1, pc2 = ap.PCA(dtype, normalise=normalise, log=log, n_components=5, style=design_df['group'], hue=cluster_labels, return_fig=return_fig)"
   ]
  },
  {
   "cell_type": "markdown",
   "metadata": {},
   "source": [
    "## Case-vs-control Analysis"
   ]
  },
  {
   "cell_type": "markdown",
   "metadata": {},
   "source": [
    "Here we perform case-control analysis. T-tests were performed to compare the means of the case vs control groups specified below, with corrections for multiple tests using the Benjamini-Hochberg method to controls the False Discovery Rate (FDR)."
   ]
  },
  {
   "cell_type": "code",
   "execution_count": null,
   "metadata": {
    "tags": [
     "parameters"
    ]
   },
   "outputs": [],
   "source": [
    "# This cell is tagged 'parameters'\n",
    "case_group = 'disease'\n",
    "control_group = 'control'"
   ]
  },
  {
   "cell_type": "code",
   "execution_count": null,
   "metadata": {},
   "outputs": [],
   "source": [
    "de_method = INFERENCE_T_TEST\n",
    "ap.run_de(de_method, dtype, case_group, control_group)\n",
    "de_df = ap.get_de_results(dtype, case_group, control_group, de_method)"
   ]
  },
  {
   "cell_type": "markdown",
   "metadata": {},
   "source": [
    "### Volcano Plot"
   ]
  },
  {
   "cell_type": "markdown",
   "metadata": {},
   "source": [
    "The following shows volcano plot from running T-tests. By default, a threshold of 0.05 was used for the p-value. Analytes were filtered for outliers using the interquartile range (IQR) method, where the IQR is a measure of the spread of the fold change (FC) values. The IQR was calculated by finding the difference between the 75th percentile and the 25th percentile of the FC values. Lower and upper bounds were then defined as 1.5 times the IQR below the 25th percentile and above the 75th percentile, respectively. Any analytes with FC values outside of these bounds were filtered out as outliers. The top-10 analytes having the largest and smallest fold changes that are also significantly different in the case and control groups are annotated in the volcano plot."
   ]
  },
  {
   "cell_type": "code",
   "execution_count": null,
   "metadata": {},
   "outputs": [],
   "source": [
    "p_value_colname = 'padj_%s_vs_%s' % (case_group, control_group)\n",
    "fc_colname = 'FC_%s_vs_%s' % (case_group, control_group)"
   ]
  },
  {
   "cell_type": "code",
   "execution_count": null,
   "metadata": {
    "tags": [
     "parameters"
    ]
   },
   "outputs": [],
   "source": [
    "# This cell is tagged 'parameters'\n",
    "p_value_thresh = 0.05\n",
    "fc_iqr_thresh = 1.5\n",
    "top_n = 10"
   ]
  },
  {
   "cell_type": "code",
   "execution_count": null,
   "metadata": {},
   "outputs": [],
   "source": [
    "ap.volcano(de_df, p_value_colname, p_value_thresh, fc_colname, fc_iqr_thresh=fc_iqr_thresh, top_n=top_n)"
   ]
  },
  {
   "cell_type": "markdown",
   "metadata": {},
   "source": [
    "### b. Significantly-changing Analytes Ordered by Fold Changes (Descending)"
   ]
  },
  {
   "cell_type": "markdown",
   "metadata": {},
   "source": [
    "The following is a list of significantly-changing analytes sorted by their fold changes in descending order."
   ]
  },
  {
   "cell_type": "code",
   "execution_count": null,
   "metadata": {},
   "outputs": [],
   "source": [
    "fc_sort_order = 'desc'\n",
    "sorted_df_asc = ap.de_sort_and_filter(de_df, p_value_colname, p_value_thresh, fc_colname, \n",
    "                                      fc_sort_order=fc_sort_order, top_n=top_n, fc_iqr_thresh=fc_iqr_thresh)"
   ]
  },
  {
   "cell_type": "code",
   "execution_count": null,
   "metadata": {},
   "outputs": [],
   "source": [
    "merged_df = pd.merge(cic_data.feature_annot_df[['Analyte Class', 'Analyte Name']], sorted_df_asc, left_index=True, right_index=True, how='inner')\n",
    "merged_df"
   ]
  },
  {
   "cell_type": "markdown",
   "metadata": {},
   "source": [
    "### c. Significantly-changing Analytes Ordered by Fold Changes (Ascending)"
   ]
  },
  {
   "cell_type": "markdown",
   "metadata": {},
   "source": [
    "The following is a list of significantly-changing analytes sorted by their fold changes in ascending order."
   ]
  },
  {
   "cell_type": "code",
   "execution_count": null,
   "metadata": {},
   "outputs": [],
   "source": [
    "fc_sort_order = 'asc'\n",
    "sorted_df_desc = ap.de_sort_and_filter(de_df, p_value_colname, p_value_thresh, fc_colname, \n",
    "                                      fc_sort_order=fc_sort_order, top_n=top_n, fc_iqr_thresh=fc_iqr_thresh)"
   ]
  },
  {
   "cell_type": "code",
   "execution_count": null,
   "metadata": {},
   "outputs": [],
   "source": [
    "merged_df = pd.merge(cic_data.feature_annot_df[['Analyte Class', 'Analyte Name']], sorted_df_desc, left_index=True, right_index=True, how='inner')\n",
    "merged_df"
   ]
  }
 ],
 "metadata": {
  "kernelspec": {
   "display_name": "Python 3 (ipykernel)",
   "language": "python",
   "name": "python3"
  },
  "language_info": {
   "codemirror_mode": {
    "name": "ipython",
    "version": 3
   },
   "file_extension": ".py",
   "mimetype": "text/x-python",
   "name": "python",
   "nbconvert_exporter": "python",
   "pygments_lexer": "ipython3",
   "version": "3.10.1"
  }
 },
 "nbformat": 4,
 "nbformat_minor": 4
}
